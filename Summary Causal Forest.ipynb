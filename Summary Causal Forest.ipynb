{
 "cells": [
  {
   "cell_type": "markdown",
   "id": "b1824afb",
   "metadata": {},
   "source": [
    "## Lecture Notes (Causal Forest)\n",
    "The splitting subsample is used to perform the splits and thus grow the tree. The estimating subsample is then used to make the predictions. That is, all observations in the estimating subsample are dropped down the previously-grown tree until it falls into a terminal node. The prediction of the treatment effects is then given by the difference in the average outcomes between the treated and the untreated observations of the estimating subsample in the terminal nodes. \n",
    "\n",
    "A typical regression tree might split the data by asking, “What variable and value would reduce the mean squared error the most if we made a split at that value of that variable?” In doing so, the typical tree predicts $𝑌$.\n",
    "\n",
    "We are interested in the treatment effect for an individual, though. The problem here is that we cannot observe this—remember, someone is only assigned to one of the conditions. What do we do instead? We get the difference in $𝑌$\n",
    "between the treatment and control conditions within a leaf of the tree, and we call that the treatment effect. The causal tree uses splitting criteria that explicitly balances the two things we are trying to do: first, finding where treatment effects most differ, and second, estimating the treatment effects accurately. Thus, the tree is “causal” because it is fit by asking the data, “Where can we make a split that will produce the biggest difference in treatment effects across leaves, but still give us an accurate estimate of the treatment effect?”\n",
    "\n",
    "**Formally:**\n",
    "\n",
    "For each sample observe the triple $\\left(Y_{i}^{\\mathrm{obs}}, X_{i}, W_{i}\\right)$. For a sample $\\mathcal{S}$ let $\\mathcal{S}_{\\text {treat }}$ and $\\mathcal{S}_{\\text {control }}$ denote the subsamples of treated and control units, respectively, with cardinality $N_{\\text {treat }}$ and $N_{\\text {control }}$ respectively, and let $p=N_{\\text {treat }} / N$ be the share of treated units. The concept of a tree remains the same as in before. Given a tree (partition) $\\Pi$, define for all $x$ and both treatment levels $w$ the population average outcome\n",
    "\n",
    "$$\n",
    "\\mu(w, x ; \\Pi) \\equiv \\mathbb{E}\\left[Y_{i}(w) \\mid X_{i} \\in \\ell(x ; \\Pi)\\right]\n",
    "$$\n",
    "\n",
    "and the average causal effect\n",
    "\n",
    "$$\n",
    "\\tau(x ; \\Pi) \\equiv \\mathbb{E}\\left[Y_{i}(1)-Y_{i}(0) \\mid X_{i} \\in \\ell(x ; \\Pi)\\right]=\\mu(1, x ; \\Pi)-\\mu(0, x ; \\Pi).\n",
    "$$\n",
    "\n",
    "The estimated counterparts are\n",
    "\n",
    "$$\n",
    "\\begin{aligned}\n",
    "\\hat{\\mu}(w, x ; \\mathcal{S}, \\Pi) & \\equiv \\frac{1}{\\#\\left(\\left\\{i \\in \\mathcal{S}_{w}: X_{i} \\in \\ell(x ; \\Pi)\\right\\}\\right)} \\sum_{i \\in S_{w}: X_{i} \\in \\ell(x ; \\Pi)} Y_{i}^{\\mathrm{obs}} \\\\\n",
    "\\text{ and }\\quad \\hat{\\tau}(x ; \\mathcal{S}, \\Pi) & \\equiv \\hat{\\mu}(1, x ; \\mathcal{S}, \\Pi)-\\hat{\\mu}(0, x ; \\mathcal{S}, \\Pi).\n",
    "\\end{aligned}\n",
    "$$"
   ]
  },
  {
   "cell_type": "markdown",
   "id": "19b3cdc3",
   "metadata": {},
   "source": [
    "**Extensions to causal trees:**\n",
    "\n",
    "- causal random forests\n",
    "- inference for causal trees and causal random forests\n",
    "- local linear random forests"
   ]
  },
  {
   "cell_type": "code",
   "execution_count": null,
   "id": "399bbaa0",
   "metadata": {},
   "outputs": [],
   "source": []
  },
  {
   "cell_type": "markdown",
   "id": "d58171c2",
   "metadata": {},
   "source": [
    "## Introduction to Statistical Learning\n",
    "\n",
    "### Lab: Decision Trees"
   ]
  },
  {
   "cell_type": "code",
   "execution_count": 13,
   "id": "940cf8d9",
   "metadata": {},
   "outputs": [
    {
     "data": {
      "text/html": [
       "<table>\n",
       "<thead><tr><th scope=col>Sales</th><th scope=col>CompPrice</th><th scope=col>Income</th><th scope=col>Advertising</th><th scope=col>Population</th><th scope=col>Price</th><th scope=col>ShelveLoc</th><th scope=col>Age</th><th scope=col>Education</th><th scope=col>Urban</th><th scope=col>US</th><th scope=col>High</th></tr></thead>\n",
       "<tbody>\n",
       "\t<tr><td> 9.50 </td><td>138   </td><td> 73   </td><td>11    </td><td>276   </td><td>120   </td><td>Bad   </td><td>42    </td><td>17    </td><td>Yes   </td><td>Yes   </td><td> Yes  </td></tr>\n",
       "\t<tr><td>11.22 </td><td>111   </td><td> 48   </td><td>16    </td><td>260   </td><td> 83   </td><td>Good  </td><td>65    </td><td>10    </td><td>Yes   </td><td>Yes   </td><td> Yes  </td></tr>\n",
       "\t<tr><td>10.06 </td><td>113   </td><td> 35   </td><td>10    </td><td>269   </td><td> 80   </td><td>Medium</td><td>59    </td><td>12    </td><td>Yes   </td><td>Yes   </td><td> Yes  </td></tr>\n",
       "\t<tr><td> 7.40 </td><td>117   </td><td>100   </td><td> 4    </td><td>466   </td><td> 97   </td><td>Medium</td><td>55    </td><td>14    </td><td>Yes   </td><td>Yes   </td><td> No   </td></tr>\n",
       "\t<tr><td> 4.15 </td><td>141   </td><td> 64   </td><td> 3    </td><td>340   </td><td>128   </td><td>Bad   </td><td>38    </td><td>13    </td><td>Yes   </td><td>No    </td><td> No   </td></tr>\n",
       "\t<tr><td>10.81 </td><td>124   </td><td>113   </td><td>13    </td><td>501   </td><td> 72   </td><td>Bad   </td><td>78    </td><td>16    </td><td>No    </td><td>Yes   </td><td> Yes  </td></tr>\n",
       "</tbody>\n",
       "</table>\n"
      ],
      "text/latex": [
       "\\begin{tabular}{r|llllllllllll}\n",
       " Sales & CompPrice & Income & Advertising & Population & Price & ShelveLoc & Age & Education & Urban & US & High\\\\\n",
       "\\hline\n",
       "\t  9.50  & 138    &  73    & 11     & 276    & 120    & Bad    & 42     & 17     & Yes    & Yes    &  Yes  \\\\\n",
       "\t 11.22  & 111    &  48    & 16     & 260    &  83    & Good   & 65     & 10     & Yes    & Yes    &  Yes  \\\\\n",
       "\t 10.06  & 113    &  35    & 10     & 269    &  80    & Medium & 59     & 12     & Yes    & Yes    &  Yes  \\\\\n",
       "\t  7.40  & 117    & 100    &  4     & 466    &  97    & Medium & 55     & 14     & Yes    & Yes    &  No   \\\\\n",
       "\t  4.15  & 141    &  64    &  3     & 340    & 128    & Bad    & 38     & 13     & Yes    & No     &  No   \\\\\n",
       "\t 10.81  & 124    & 113    & 13     & 501    &  72    & Bad    & 78     & 16     & No     & Yes    &  Yes  \\\\\n",
       "\\end{tabular}\n"
      ],
      "text/markdown": [
       "\n",
       "| Sales | CompPrice | Income | Advertising | Population | Price | ShelveLoc | Age | Education | Urban | US | High |\n",
       "|---|---|---|---|---|---|---|---|---|---|---|---|\n",
       "|  9.50  | 138    |  73    | 11     | 276    | 120    | Bad    | 42     | 17     | Yes    | Yes    |  Yes   |\n",
       "| 11.22  | 111    |  48    | 16     | 260    |  83    | Good   | 65     | 10     | Yes    | Yes    |  Yes   |\n",
       "| 10.06  | 113    |  35    | 10     | 269    |  80    | Medium | 59     | 12     | Yes    | Yes    |  Yes   |\n",
       "|  7.40  | 117    | 100    |  4     | 466    |  97    | Medium | 55     | 14     | Yes    | Yes    |  No    |\n",
       "|  4.15  | 141    |  64    |  3     | 340    | 128    | Bad    | 38     | 13     | Yes    | No     |  No    |\n",
       "| 10.81  | 124    | 113    | 13     | 501    |  72    | Bad    | 78     | 16     | No     | Yes    |  Yes   |\n",
       "\n"
      ],
      "text/plain": [
       "  Sales CompPrice Income Advertising Population Price ShelveLoc Age Education\n",
       "1  9.50 138        73    11          276        120   Bad       42  17       \n",
       "2 11.22 111        48    16          260         83   Good      65  10       \n",
       "3 10.06 113        35    10          269         80   Medium    59  12       \n",
       "4  7.40 117       100     4          466         97   Medium    55  14       \n",
       "5  4.15 141        64     3          340        128   Bad       38  13       \n",
       "6 10.81 124       113    13          501         72   Bad       78  16       \n",
       "  Urban US  High \n",
       "1 Yes   Yes  Yes \n",
       "2 Yes   Yes  Yes \n",
       "3 Yes   Yes  Yes \n",
       "4 Yes   Yes  No  \n",
       "5 Yes   No   No  \n",
       "6 No    Yes  Yes "
      ]
     },
     "metadata": {},
     "output_type": "display_data"
    }
   ],
   "source": [
    "library(tree)\n",
    "library(ISLR)\n",
    "suppressMessages(attach(Carseats))\n",
    "High <- ifelse (Sales <= 8,\" No\",\" Yes \")\n",
    "Carseats <- data.frame(Carseats ,High)\n",
    "head(Carseats)"
   ]
  },
  {
   "cell_type": "code",
   "execution_count": 17,
   "id": "d0829630",
   "metadata": {},
   "outputs": [],
   "source": [
    "### Building a True on \"High\" using all variables but(!) \"Sales\"\n",
    "tree.carseats <- tree(High∼.-Sales ,Carseats)"
   ]
  },
  {
   "cell_type": "code",
   "execution_count": 18,
   "id": "1f89ac39",
   "metadata": {},
   "outputs": [
    {
     "data": {
      "text/plain": [
       "\n",
       "Classification tree:\n",
       "tree(formula = High ~ . - Sales, data = Carseats)\n",
       "Variables actually used in tree construction:\n",
       "[1] \"ShelveLoc\"   \"Price\"       \"Income\"      \"CompPrice\"   \"Population\" \n",
       "[6] \"Advertising\" \"Age\"         \"US\"         \n",
       "Number of terminal nodes:  27 \n",
       "Residual mean deviance:  0.4575 = 170.7 / 373 \n",
       "Misclassification error rate: 0.09 = 36 / 400 "
      ]
     },
     "metadata": {},
     "output_type": "display_data"
    }
   ],
   "source": [
    "summary(tree.carseats)\n",
    "### Misclassification error rate (=training error rate) = 9%"
   ]
  },
  {
   "cell_type": "code",
   "execution_count": 24,
   "id": "ee58f835",
   "metadata": {
    "scrolled": false
   },
   "outputs": [
    {
     "data": {
      "image/png": "[encoded data removed]",
      "text/plain": [
       "plot without title"
      ]
     },
     "metadata": {},
     "output_type": "display_data"
    }
   ],
   "source": [
    "plot(tree.carseats)\n",
    "text(tree.carseats ,pretty =0)"
   ]
  },
  {
   "cell_type": "markdown",
   "id": "2bad65b8",
   "metadata": {},
   "source": [
    "\"In order to properly evaluate the performance of a classification tree on\n",
    "these data, we must estimate the test error rather than simply computing\n",
    "the training error. We split the observations into a training set and a test\n",
    "set, build the tree using the training set, and evaluate its performance on\n",
    "the test data.\""
   ]
  },
  {
   "cell_type": "code",
   "execution_count": 28,
   "id": "d33dc1e5",
   "metadata": {},
   "outputs": [],
   "source": [
    "set.seed (2)\n",
    "train <- sample(1:nrow(Carseats),200)\n",
    "Carseats.test <- Carseats[-train,]\n",
    "High.test <- High[-train]"
   ]
  },
  {
   "cell_type": "code",
   "execution_count": 29,
   "id": "38bb193e",
   "metadata": {},
   "outputs": [
    {
     "data": {
      "text/plain": [
       "         High.test\n",
       "tree.pred  No  Yes \n",
       "     No   104    33\n",
       "     Yes   13    50"
      ]
     },
     "metadata": {},
     "output_type": "display_data"
    }
   ],
   "source": [
    "tree.carseats <- tree(High∼.-Sales ,Carseats ,subset =train)\n",
    "tree.pred <- predict (tree.carseats ,Carseats.test ,type =\"class\") ### \"class\" must be specified for classification output\n",
    "table(tree.pred ,High.test)"
   ]
  },
  {
   "cell_type": "code",
   "execution_count": null,
   "id": "62f581b6",
   "metadata": {},
   "outputs": [],
   "source": []
  },
  {
   "cell_type": "markdown",
   "id": "c66a95a9",
   "metadata": {},
   "source": [
    "## 8.3.3 Bagging and Random Forests"
   ]
  },
  {
   "cell_type": "code",
   "execution_count": 37,
   "id": "db528e91",
   "metadata": {},
   "outputs": [],
   "source": [
    "library(randomForest)\n",
    "library (MASS)"
   ]
  },
  {
   "cell_type": "code",
   "execution_count": 39,
   "id": "338396b5",
   "metadata": {},
   "outputs": [
    {
     "data": {
      "text/html": [
       "19.4326815316711"
      ],
      "text/latex": [
       "19.4326815316711"
      ],
      "text/markdown": [
       "19.4326815316711"
      ],
      "text/plain": [
       "[1] 19.43268"
      ]
     },
     "metadata": {},
     "output_type": "display_data"
    }
   ],
   "source": [
    "set.seed (1)\n",
    "train = sample(1:nrow(Boston), nrow(Boston)/2)\n",
    "boston.test=Boston[-train ,\"medv\"]\n",
    "\n",
    "rf.boston <- randomForest(medv∼.\n",
    "                          ,data=Boston \n",
    "                          ,subset=train \n",
    "                          ,mtry=6                   # number of trees in the forest\n",
    "                          ,importance =TRUE)\n",
    "yhat.rf <- predict (rf.boston ,newdata =Boston[-train,])\n",
    "mean((yhat.rf - boston.test)^2)"
   ]
  },
  {
   "cell_type": "markdown",
   "id": "e5fbee49",
   "metadata": {},
   "source": [
    "Two measures of variable importance are reported. The former is based\n",
    "upon the mean decrease of accuracy in predictions on the out of bag samples\n",
    "when a given variable is excluded from the model. The latter is a measure\n",
    "of the total decrease in node impurity that results from splits over that\n",
    "variable, averaged over all trees"
   ]
  },
  {
   "cell_type": "code",
   "execution_count": 41,
   "id": "0ad8ef93",
   "metadata": {},
   "outputs": [
    {
     "data": {
      "text/html": [
       "<table>\n",
       "<thead><tr><th></th><th scope=col>%IncMSE</th><th scope=col>IncNodePurity</th></tr></thead>\n",
       "<tbody>\n",
       "\t<tr><th scope=row>crim</th><td>16.830544 </td><td>1108.32195</td></tr>\n",
       "\t<tr><th scope=row>zn</th><td> 3.753590 </td><td>  98.71828</td></tr>\n",
       "\t<tr><th scope=row>indus</th><td> 5.227791 </td><td> 661.61409</td></tr>\n",
       "\t<tr><th scope=row>chas</th><td> 0.633767 </td><td>  38.60089</td></tr>\n",
       "\t<tr><th scope=row>nox</th><td>13.987390 </td><td> 868.27085</td></tr>\n",
       "\t<tr><th scope=row>rm</th><td>32.636009 </td><td>7824.38145</td></tr>\n",
       "\t<tr><th scope=row>age</th><td>16.289102 </td><td> 588.78611</td></tr>\n",
       "\t<tr><th scope=row>dis</th><td>10.644205 </td><td> 740.85676</td></tr>\n",
       "\t<tr><th scope=row>rad</th><td> 2.452597 </td><td>  88.61603</td></tr>\n",
       "\t<tr><th scope=row>tax</th><td> 9.526572 </td><td> 390.41449</td></tr>\n",
       "\t<tr><th scope=row>ptratio</th><td> 8.892724 </td><td> 915.74482</td></tr>\n",
       "\t<tr><th scope=row>black</th><td> 8.201708 </td><td> 291.14557</td></tr>\n",
       "\t<tr><th scope=row>lstat</th><td>26.710245 </td><td>5735.52710</td></tr>\n",
       "</tbody>\n",
       "</table>\n"
      ],
      "text/latex": [
       "\\begin{tabular}{r|ll}\n",
       "  & \\%IncMSE & IncNodePurity\\\\\n",
       "\\hline\n",
       "\tcrim & 16.830544  & 1108.32195\\\\\n",
       "\tzn &  3.753590  &   98.71828\\\\\n",
       "\tindus &  5.227791  &  661.61409\\\\\n",
       "\tchas &  0.633767  &   38.60089\\\\\n",
       "\tnox & 13.987390  &  868.27085\\\\\n",
       "\trm & 32.636009  & 7824.38145\\\\\n",
       "\tage & 16.289102  &  588.78611\\\\\n",
       "\tdis & 10.644205  &  740.85676\\\\\n",
       "\trad &  2.452597  &   88.61603\\\\\n",
       "\ttax &  9.526572  &  390.41449\\\\\n",
       "\tptratio &  8.892724  &  915.74482\\\\\n",
       "\tblack &  8.201708  &  291.14557\\\\\n",
       "\tlstat & 26.710245  & 5735.52710\\\\\n",
       "\\end{tabular}\n"
      ],
      "text/markdown": [
       "\n",
       "| <!--/--> | %IncMSE | IncNodePurity |\n",
       "|---|---|---|\n",
       "| crim | 16.830544  | 1108.32195 |\n",
       "| zn |  3.753590  |   98.71828 |\n",
       "| indus |  5.227791  |  661.61409 |\n",
       "| chas |  0.633767  |   38.60089 |\n",
       "| nox | 13.987390  |  868.27085 |\n",
       "| rm | 32.636009  | 7824.38145 |\n",
       "| age | 16.289102  |  588.78611 |\n",
       "| dis | 10.644205  |  740.85676 |\n",
       "| rad |  2.452597  |   88.61603 |\n",
       "| tax |  9.526572  |  390.41449 |\n",
       "| ptratio |  8.892724  |  915.74482 |\n",
       "| black |  8.201708  |  291.14557 |\n",
       "| lstat | 26.710245  | 5735.52710 |\n",
       "\n"
      ],
      "text/plain": [
       "        %IncMSE   IncNodePurity\n",
       "crim    16.830544 1108.32195   \n",
       "zn       3.753590   98.71828   \n",
       "indus    5.227791  661.61409   \n",
       "chas     0.633767   38.60089   \n",
       "nox     13.987390  868.27085   \n",
       "rm      32.636009 7824.38145   \n",
       "age     16.289102  588.78611   \n",
       "dis     10.644205  740.85676   \n",
       "rad      2.452597   88.61603   \n",
       "tax      9.526572  390.41449   \n",
       "ptratio  8.892724  915.74482   \n",
       "black    8.201708  291.14557   \n",
       "lstat   26.710245 5735.52710   "
      ]
     },
     "metadata": {},
     "output_type": "display_data"
    }
   ],
   "source": [
    "importance(rf.boston)"
   ]
  },
  {
   "cell_type": "markdown",
   "id": "c6d35833",
   "metadata": {},
   "source": [
    "The results indicate that across all of the trees considered in the random\n",
    "forest, the wealth level of the community (lstat) and the house size (rm)\n",
    "are by far the two most important variables."
   ]
  },
  {
   "cell_type": "code",
   "execution_count": 42,
   "id": "8bb6cfc2",
   "metadata": {},
   "outputs": [
    {
     "data": {
      "image/png": "[encoded data removed]",
      "text/plain": [
       "plot without title"
      ]
     },
     "metadata": {},
     "output_type": "display_data"
    }
   ],
   "source": [
    "varImpPlot(rf.boston)"
   ]
  },
  {
   "cell_type": "markdown",
   "id": "a116a4b4",
   "metadata": {},
   "source": [
    "## Causal Forest (grf package examples)"
   ]
  },
  {
   "cell_type": "code",
   "execution_count": 54,
   "id": "81daaddf",
   "metadata": {},
   "outputs": [],
   "source": [
    "n <- 100\n",
    "p <- 10\n",
    "X <- matrix(rnorm(n * p), n, p)     # 100x10 random X matrix\n",
    "W <- rbinom(n, 1, 0.5)              # random treatment assignment variable (0,1)\n",
    "Y <- pmax(X[, 1], 0) * W + X[, 2] + pmin(X[, 3], 0) + rnorm(n)  # pmax(X[, 1], 0): returns the maximum of X[,1] and 0"
   ]
  },
  {
   "cell_type": "code",
   "execution_count": 83,
   "id": "ae19dbb6",
   "metadata": {},
   "outputs": [
    {
     "data": {
      "text/html": [
       "0.252984334908733"
      ],
      "text/latex": [
       "0.252984334908733"
      ],
      "text/markdown": [
       "0.252984334908733"
      ],
      "text/plain": [
       "[1] 0.2529843"
      ]
     },
     "metadata": {},
     "output_type": "display_data"
    }
   ],
   "source": [
    "#### True ATE\n",
    "\n",
    "mean(pmax(X[, 1], 0) * W)"
   ]
  },
  {
   "cell_type": "code",
   "execution_count": 58,
   "id": "ac00ff1e",
   "metadata": {},
   "outputs": [
    {
     "data": {
      "text/plain": [
       "GRF forest object of type causal_forest \n",
       "Number of trees: 2000 \n",
       "Number of training samples: 100 \n",
       "Variable importance: \n",
       "    1     2     3     4     5     6     7     8     9    10 \n",
       "0.067 0.052 0.051 0.109 0.080 0.086 0.062 0.058 0.043 0.094 "
      ]
     },
     "metadata": {},
     "output_type": "display_data"
    }
   ],
   "source": [
    "##### Causal Forest\n",
    "c.forest <- causal_forest(X, Y, W)\n",
    "c.forest"
   ]
  },
  {
   "cell_type": "code",
   "execution_count": 79,
   "id": "2480cc74",
   "metadata": {},
   "outputs": [],
   "source": [
    "#### Predict using the forest\n",
    "\n",
    "X.test <- matrix(0, 100, p)\n",
    "X.test[, 1] <- seq(-2, 2, length.out = 100)\n",
    "c.pred <- predict(c.forest, X.test)"
   ]
  },
  {
   "cell_type": "code",
   "execution_count": 78,
   "id": "a09613c7",
   "metadata": {},
   "outputs": [],
   "source": [
    "#### Predict on out-of-bag training samples.\n",
    "\n",
    "c.pred2 <- predict(c.forest)"
   ]
  },
  {
   "cell_type": "code",
   "execution_count": 80,
   "id": "09365470",
   "metadata": {},
   "outputs": [
    {
     "data": {
      "text/html": [
       "<dl class=dl-horizontal>\n",
       "\t<dt>estimate</dt>\n",
       "\t\t<dd>0.747444207717903</dd>\n",
       "\t<dt>std.err</dt>\n",
       "\t\t<dd>0.257252711663983</dd>\n",
       "</dl>\n"
      ],
      "text/latex": [
       "\\begin{description*}\n",
       "\\item[estimate] 0.747444207717903\n",
       "\\item[std.err] 0.257252711663983\n",
       "\\end{description*}\n"
      ],
      "text/markdown": [
       "estimate\n",
       ":   0.747444207717903std.err\n",
       ":   0.257252711663983\n",
       "\n"
      ],
      "text/plain": [
       " estimate   std.err \n",
       "0.7474442 0.2572527 "
      ]
     },
     "metadata": {},
     "output_type": "display_data"
    }
   ],
   "source": [
    "average_treatment_effect(c.forest, target.sample = \"all\")"
   ]
  },
  {
   "cell_type": "code",
   "execution_count": 86,
   "id": "865434ca",
   "metadata": {},
   "outputs": [
    {
     "data": {
      "text/html": [
       "<dl class=dl-horizontal>\n",
       "\t<dt>estimate</dt>\n",
       "\t\t<dd>0.738222905276974</dd>\n",
       "\t<dt>std.err</dt>\n",
       "\t\t<dd>0.262223825406708</dd>\n",
       "</dl>\n"
      ],
      "text/latex": [
       "\\begin{description*}\n",
       "\\item[estimate] 0.738222905276974\n",
       "\\item[std.err] 0.262223825406708\n",
       "\\end{description*}\n"
      ],
      "text/markdown": [
       "estimate\n",
       ":   0.738222905276974std.err\n",
       ":   0.262223825406708\n",
       "\n"
      ],
      "text/plain": [
       " estimate   std.err \n",
       "0.7382229 0.2622238 "
      ]
     },
     "metadata": {},
     "output_type": "display_data"
    }
   ],
   "source": [
    "average_treatment_effect(c.forest, target.sample = \"treated\")"
   ]
  },
  {
   "cell_type": "code",
   "execution_count": 96,
   "id": "4caa1dcf",
   "metadata": {},
   "outputs": [],
   "source": [
    "library(class)"
   ]
  },
  {
   "cell_type": "code",
   "execution_count": 104,
   "id": "0af01883",
   "metadata": {},
   "outputs": [
    {
     "data": {
      "text/html": [
       "<ol class=list-inline>\n",
       "\t<li>100</li>\n",
       "\t<li>1</li>\n",
       "</ol>\n"
      ],
      "text/latex": [
       "\\begin{enumerate*}\n",
       "\\item 100\n",
       "\\item 1\n",
       "\\end{enumerate*}\n"
      ],
      "text/markdown": [
       "1. 100\n",
       "2. 1\n",
       "\n",
       "\n"
      ],
      "text/plain": [
       "[1] 100   1"
      ]
     },
     "metadata": {},
     "output_type": "display_data"
    }
   ],
   "source": [
    "Y <- as.matrix(Y)\n",
    "dim(Y)"
   ]
  },
  {
   "cell_type": "code",
   "execution_count": 110,
   "id": "49a1827d",
   "metadata": {},
   "outputs": [
    {
     "data": {
      "text/html": [
       "<ol class=list-inline>\n",
       "\t<li>100</li>\n",
       "\t<li>1</li>\n",
       "</ol>\n"
      ],
      "text/latex": [
       "\\begin{enumerate*}\n",
       "\\item 100\n",
       "\\item 1\n",
       "\\end{enumerate*}\n"
      ],
      "text/markdown": [
       "1. 100\n",
       "2. 1\n",
       "\n",
       "\n"
      ],
      "text/plain": [
       "[1] 100   1"
      ]
     },
     "metadata": {},
     "output_type": "display_data"
    }
   ],
   "source": [
    "W <- as.matrix(W)\n",
    "dim(W)"
   ]
  },
  {
   "cell_type": "code",
   "execution_count": 112,
   "id": "9be1f191",
   "metadata": {},
   "outputs": [
    {
     "data": {
      "text/html": [
       "<ol class=list-inline>\n",
       "\t<li>100</li>\n",
       "\t<li>10</li>\n",
       "</ol>\n"
      ],
      "text/latex": [
       "\\begin{enumerate*}\n",
       "\\item 100\n",
       "\\item 10\n",
       "\\end{enumerate*}\n"
      ],
      "text/markdown": [
       "1. 100\n",
       "2. 10\n",
       "\n",
       "\n"
      ],
      "text/plain": [
       "[1] 100  10"
      ]
     },
     "metadata": {},
     "output_type": "display_data"
    }
   ],
   "source": [
    "dim(X)"
   ]
  },
  {
   "cell_type": "code",
   "execution_count": 109,
   "id": "96b8ab87",
   "metadata": {},
   "outputs": [
    {
     "ename": "ERROR",
     "evalue": "Error in dim(data) <- dim: ungültiges erstes Argument\n",
     "output_type": "error",
     "traceback": [
      "Error in dim(data) <- dim: ungültiges erstes Argument\nTraceback:\n",
      "1. knn(Y ~ X + W, X, X.test, k = 5)",
      "2. as.matrix(train)",
      "3. as.matrix.default(train)",
      "4. array(x, c(length(x), 1L), if (!is.null(names(x))) list(names(x), \n .     NULL) else NULL)"
     ]
    }
   ],
   "source": [
    "nn5 <- knn(Y ~ X + W,X,X.test,k=5)"
   ]
  },
  {
   "cell_type": "code",
   "execution_count": null,
   "id": "c7bcae79",
   "metadata": {},
   "outputs": [],
   "source": []
  },
  {
   "cell_type": "code",
   "execution_count": 98,
   "id": "f261a91c",
   "metadata": {},
   "outputs": [
    {
     "data": {
      "text/plain": [
       "\n",
       "Call:\n",
       "lm(formula = Y ~ W + X)\n",
       "\n",
       "Coefficients:\n",
       "(Intercept)            W           X1           X2           X3           X4  \n",
       "  -0.430854     0.532815     0.298002     0.813201     0.450430     0.052990  \n",
       "         X5           X6           X7           X8           X9          X10  \n",
       "  -0.003465     0.065096     0.039813     0.061295     0.030652     0.002744  \n"
      ]
     },
     "metadata": {},
     "output_type": "display_data"
    }
   ],
   "source": [
    "lm(Y~W+X)"
   ]
  },
  {
   "cell_type": "code",
   "execution_count": null,
   "id": "ae40c50a",
   "metadata": {},
   "outputs": [],
   "source": []
  },
  {
   "cell_type": "code",
   "execution_count": null,
   "id": "528e2fce",
   "metadata": {},
   "outputs": [],
   "source": [
    "#install.packages(tidyverse)"
   ]
  },
  {
   "cell_type": "code",
   "execution_count": 2,
   "id": "1be42668",
   "metadata": {},
   "outputs": [],
   "source": [
    "suppressMessages(library(ggplot2))\n",
    "suppressMessages(library(tidyverse))\n",
    "suppressMessages(library(grf))         \n",
    "suppressMessages(library(estimatr))"
   ]
  },
  {
   "cell_type": "code",
   "execution_count": 3,
   "id": "ed937529",
   "metadata": {},
   "outputs": [],
   "source": [
    "# Generate data.\n",
    "n <- 2000\n",
    "p <- 10\n",
    "X <- matrix(rnorm(n * p), n, p)\n",
    "X.test <- matrix(0, 101, p)\n",
    "X.test[, 1] <- seq(-2, 2, length.out = 101)"
   ]
  },
  {
   "cell_type": "markdown",
   "id": "20b1a784",
   "metadata": {},
   "source": [
    "## Causal Forest Example\n",
    "\n",
    "[Link to Description of grf package](https://grf-labs.github.io/grf/reference/causal_forest.html)"
   ]
  },
  {
   "cell_type": "code",
   "execution_count": 9,
   "id": "27245a7e",
   "metadata": {},
   "outputs": [],
   "source": [
    "# \\donttest{\n",
    "# Train a causal forest.\n",
    "n <- 500\n",
    "p <- 10\n",
    "X <- matrix(rnorm(n * p), n, p)\n",
    "W <- rbinom(n, 1, 0.5)\n",
    "Y <- pmax(X[, 1], 0) * W + X[, 2] + pmin(X[, 3], 0) + rnorm(n)\n",
    "c.forest <- causal_forest(X, Y, W)\n",
    "\n",
    "# Predict using the forest.\n",
    "X.test <- matrix(0, 101, p)\n",
    "X.test[, 1] <- seq(-2, 2, length.out = 101)\n",
    "c.pred <- predict(c.forest, X.test)\n",
    "\n",
    "# Predict on out-of-bag training samples.\n",
    "c.pred <- predict(c.forest)\n",
    "\n",
    "# Predict with confidence intervals; growing more trees is now recommended.\n",
    "c.forest <- causal_forest(X, Y, W, num.trees = 4000)\n",
    "c.pred <- predict(c.forest, X.test, estimate.variance = TRUE)\n",
    "\n",
    "# In some examples, pre-fitting models for Y and W separately may\n",
    "# be helpful (e.g., if different models use different covariates).\n",
    "# In some applications, one may even want to get Y.hat and W.hat\n",
    "# using a completely different method (e.g., boosting).\n",
    "n <- 2000\n",
    "p <- 20\n",
    "X <- matrix(rnorm(n * p), n, p)\n",
    "TAU <- 1 / (1 + exp(-X[, 3]))\n",
    "W <- rbinom(n, 1, 1 / (1 + exp(-X[, 1] - X[, 2])))\n",
    "Y <- pmax(X[, 2] + X[, 3], 0) + rowMeans(X[, 4:6]) / 2 + W * TAU + rnorm(n)\n",
    "\n",
    "forest.W <- regression_forest(X, W, tune.parameters = \"all\")\n",
    "W.hat <- predict(forest.W)$predictions\n",
    "\n",
    "forest.Y <- regression_forest(X, Y, tune.parameters = \"all\")\n",
    "Y.hat <- predict(forest.Y)$predictions\n",
    "\n",
    "forest.Y.varimp <- variable_importance(forest.Y)\n",
    "\n",
    "# Note: Forests may have a hard time when trained on very few variables\n",
    "# (e.g., ncol(X) = 1, 2, or 3). We recommend not being too aggressive\n",
    "# in selection.\n",
    "selected.vars <- which(forest.Y.varimp / mean(forest.Y.varimp) > 0.2)\n",
    "\n",
    "tau.forest <- causal_forest(X[, selected.vars], Y, W,\n",
    "  W.hat = W.hat, Y.hat = Y.hat,\n",
    "  tune.parameters = \"all\"\n",
    ")\n",
    "tau.hat <- predict(tau.forest)$predictions\n",
    "# }"
   ]
  },
  {
   "cell_type": "code",
   "execution_count": 8,
   "id": "58f62150",
   "metadata": {
    "scrolled": false
   },
   "outputs": [
    {
     "data": {
      "image/png": "[encoded data removed]",
      "text/plain": [
       "Plot with title \"Histogram of tau.hat.oob$predictions\""
      ]
     },
     "metadata": {},
     "output_type": "display_data"
    },
    {
     "data": {
      "text/html": [
       "<dl class=dl-horizontal>\n",
       "\t<dt>estimate</dt>\n",
       "\t\t<dd>0.384893597705925</dd>\n",
       "\t<dt>std.err</dt>\n",
       "\t\t<dd>0.0477192450780965</dd>\n",
       "</dl>\n"
      ],
      "text/latex": [
       "\\begin{description*}\n",
       "\\item[estimate] 0.384893597705925\n",
       "\\item[std.err] 0.0477192450780965\n",
       "\\end{description*}\n"
      ],
      "text/markdown": [
       "estimate\n",
       ":   0.384893597705925std.err\n",
       ":   0.0477192450780965\n",
       "\n"
      ],
      "text/plain": [
       "  estimate    std.err \n",
       "0.38489360 0.04771925 "
      ]
     },
     "metadata": {},
     "output_type": "display_data"
    },
    {
     "data": {
      "text/html": [
       "<dl class=dl-horizontal>\n",
       "\t<dt>estimate</dt>\n",
       "\t\t<dd>0.434861934780762</dd>\n",
       "\t<dt>std.err</dt>\n",
       "\t\t<dd>0.048172548817848</dd>\n",
       "</dl>\n"
      ],
      "text/latex": [
       "\\begin{description*}\n",
       "\\item[estimate] 0.434861934780762\n",
       "\\item[std.err] 0.048172548817848\n",
       "\\end{description*}\n"
      ],
      "text/markdown": [
       "estimate\n",
       ":   0.434861934780762std.err\n",
       ":   0.048172548817848\n",
       "\n"
      ],
      "text/plain": [
       "  estimate    std.err \n",
       "0.43486193 0.04817255 "
      ]
     },
     "metadata": {},
     "output_type": "display_data"
    },
    {
     "data": {
      "image/png": "[encoded data removed]",
      "text/plain": [
       "plot without title"
      ]
     },
     "metadata": {},
     "output_type": "display_data"
    },
    {
     "data": {
      "text/plain": [
       "\n",
       "Best linear fit using forest predictions (on held-out data)\n",
       "as well as the mean forest prediction as regressors, along\n",
       "with one-sided heteroskedasticity-robust (HC3) SEs:\n",
       "\n",
       "                               Estimate Std. Error t value    Pr(>t)    \n",
       "mean.forest.prediction         1.011007   0.075029 13.4750 < 2.2e-16 ***\n",
       "differential.forest.prediction 0.681677   0.212508  3.2078 0.0006741 ***\n",
       "---\n",
       "Signif. codes:  0 '***' 0.001 '**' 0.01 '*' 0.05 '.' 0.1 ' ' 1\n"
      ]
     },
     "metadata": {},
     "output_type": "display_data"
    },
    {
     "data": {
      "image/png": "[encoded data removed]",
      "text/plain": [
       "plot without title"
      ]
     },
     "metadata": {},
     "output_type": "display_data"
    }
   ],
   "source": [
    "# Generate data.\n",
    "n <- 2000\n",
    "p <- 10\n",
    "X <- matrix(rnorm(n * p), n, p)\n",
    "X.test <- matrix(0, 101, p)\n",
    "X.test[, 1] <- seq(-2, 2, length.out = 101)\n",
    "\n",
    "# Train a causal forest.\n",
    "W <- rbinom(n, 1, 0.4 + 0.2 * (X[, 1] > 0))\n",
    "Y <- pmax(X[, 1], 0) * W + X[, 2] + pmin(X[, 3], 0) + rnorm(n)\n",
    "tau.forest <- causal_forest(X, Y, W)\n",
    "\n",
    "# Estimate treatment effects for the training data using out-of-bag prediction.\n",
    "tau.hat.oob <- predict(tau.forest)\n",
    "hist(tau.hat.oob$predictions)\n",
    "\n",
    "# Estimate treatment effects for the test sample.\n",
    "tau.hat <- predict(tau.forest, X.test)\n",
    "plot(X.test[, 1], tau.hat$predictions, ylim = range(tau.hat$predictions, 0, 2), xlab = \"x\", ylab = \"tau\", type = \"l\")\n",
    "lines(X.test[, 1], pmax(0, X.test[, 1]), col = 2, lty = 2)\n",
    "\n",
    "# Estimate the conditional average treatment effect on the full sample (CATE).\n",
    "average_treatment_effect(tau.forest, target.sample = \"all\")\n",
    "\n",
    "# Estimate the conditional average treatment effect on the treated sample (CATT).\n",
    "average_treatment_effect(tau.forest, target.sample = \"treated\")\n",
    "\n",
    "# Add confidence intervals for heterogeneous treatment effects; growing more trees is now recommended.\n",
    "tau.forest <- causal_forest(X, Y, W, num.trees = 4000)\n",
    "tau.hat <- predict(tau.forest, X.test, estimate.variance = TRUE)\n",
    "sigma.hat <- sqrt(tau.hat$variance.estimates)\n",
    "plot(X.test[, 1], tau.hat$predictions, ylim = range(tau.hat$predictions + 1.96 * sigma.hat, tau.hat$predictions - 1.96 * sigma.hat, 0, 2), xlab = \"x\", ylab = \"tau\", type = \"l\")\n",
    "lines(X.test[, 1], tau.hat$predictions + 1.96 * sigma.hat, col = 1, lty = 2)\n",
    "lines(X.test[, 1], tau.hat$predictions - 1.96 * sigma.hat, col = 1, lty = 2)\n",
    "lines(X.test[, 1], pmax(0, X.test[, 1]), col = 2, lty = 1)\n",
    "\n",
    "# In some examples, pre-fitting models for Y and W separately may\n",
    "# be helpful (e.g., if different models use different covariates).\n",
    "# In some applications, one may even want to get Y.hat and W.hat\n",
    "# using a completely different method (e.g., boosting).\n",
    "\n",
    "# Generate new data.\n",
    "n <- 4000\n",
    "p <- 20\n",
    "X <- matrix(rnorm(n * p), n, p)\n",
    "TAU <- 1 / (1 + exp(-X[, 3]))\n",
    "W <- rbinom(n, 1, 1 / (1 + exp(-X[, 1] - X[, 2])))\n",
    "Y <- pmax(X[, 2] + X[, 3], 0) + rowMeans(X[, 4:6]) / 2 + W * TAU + rnorm(n)\n",
    "\n",
    "forest.W <- regression_forest(X, W, tune.parameters = \"all\")\n",
    "W.hat <- predict(forest.W)$predictions\n",
    "\n",
    "forest.Y <- regression_forest(X, Y, tune.parameters = \"all\")\n",
    "Y.hat <- predict(forest.Y)$predictions\n",
    "\n",
    "forest.Y.varimp <- variable_importance(forest.Y)\n",
    "\n",
    "# Note: Forests may have a hard time when trained on very few variables\n",
    "# (e.g., ncol(X) = 1, 2, or 3). We recommend not being too aggressive\n",
    "# in selection.\n",
    "selected.vars <- which(forest.Y.varimp / mean(forest.Y.varimp) > 0.2)\n",
    "\n",
    "tau.forest <- causal_forest(X[, selected.vars], Y, W,\n",
    "                            W.hat = W.hat, Y.hat = Y.hat,\n",
    "                            tune.parameters = \"all\")\n",
    "\n",
    "# Check whether causal forest predictions are well calibrated.\n",
    "test_calibration(tau.forest)"
   ]
  },
  {
   "cell_type": "markdown",
   "id": "70b1e845",
   "metadata": {},
   "source": []
  },
  {
   "cell_type": "markdown",
   "id": "dbc2cef6",
   "metadata": {},
   "source": [
    "# Treatment effects using matching estimators\n",
    "**Wager, Athey (2019): Estimation and Inference of Heterogeneous Treatment Effects using Random Forests**\n",
    "\n",
    "## 2.1 Treatment Estimation with Unconfoundedness\n",
    "\n",
    "we then posit the existence of potential outcomes $Y^{(1)}_i$ and $Y^{(0)}_i$ corresponding respectively to\n",
    "the response the i-th subject would have experienced with and without the treatment, and define the treatment effect at x as $\\tau(x) = E[Y^{(1)}_i - Y^{(0)}_i | X_i = x] $.\n",
    "\n",
    "Our goal is to estimate this function $\\tau(x)$. The main difficulty is that we can only ever observe one of the two potential outcomes $Y^{(0)}_i$ or $Y^{(1)}_i$ for a given training example, and so cannot directly train machine learning method on differences of the form $Y^{(0)}_i - Y^{(1)}_i$.\n",
    "\n",
    "In general, we cannot estimate $\\tau(x)$ simply from the observed data $(Xi; Yi; Wi)$ without further restrictions on the data generating distribution. A standard way to make progress is to assume unconfoundedness [Rosenbaum and Rubin, 1983], i.e., that the treatment assignment $W_i$ is independent of the potential outcomes for $Y_i$ conditional on $X_i$:(...).\n",
    "\n",
    "The motivation behind this unconfoundedness is that, given continuity assumptions, it effectively implies that we can treat nearby observations in x-space as having come from a randomized experiment; thus, nearest-neighbor matching and other local methods will in general be consistent for $\\tau(x)$."
   ]
  },
  {
   "cell_type": "markdown",
   "id": "3b38af88",
   "metadata": {},
   "source": [
    "## 2.2 From Regression Trees to Causal Trees and Forests\n",
    "\n",
    "At a high level, trees and forests can be thought of as nearest neighbor methods with an\n",
    "adaptive neighborhood metric. Given a test point x, classical methods such as k-nearest\n",
    "neighbors seek the k closest points to x according to some pre-speci\f",
    "ed distance measure,\n",
    "e.g., Euclidean distance. In contrast, tree-based methods also seek to \f",
    "nd training examples\n",
    "that are close to x, but now closeness is de\f",
    "ned with respect to a decision tree, and the\n",
    "closest points to x are those that fall in the same leaf as it. The advantage of trees is that\n",
    "their leaves can be narrower along the directions where the signal is changing fast and wider\n",
    "along the other directions, potentially leading a to a substantial increase in power when the\n",
    "dimension of the feature space is even moderately large."
   ]
  },
  {
   "cell_type": "markdown",
   "id": "25e29c8f",
   "metadata": {},
   "source": [
    "## How to check for Heterogeneous Treatment Effects?\n",
    "\n",
    "**Figure 2**: Histogram of out-of-bag CATE estimates from a causal forest trained as in Algorithm 1.\n",
    "\n",
    "As seen in Figure 2, the causal forest CATE estimates obviously exhibit variation; but this does not\n",
    "automatically imply that ^\u001c",
    " (􀀀i)(Xi) is a better estimate of \u001c",
    " (Xi) than the overall average treatment\n",
    "e\u000b",
    "ect estimate ^\u001c",
    " from (8).\n",
    "\n",
    "A first, simple approach to testing for heterogeneity involves grouping observations according\n",
    "to whether their out-of-bag CATE estimates are above or below the median CATE estimate, and\n",
    "then estimating average treatment e\u000b",
    "ects in these two subgroups separately using the doubly robust\n",
    "approach (8). This procedure is somewhat heuristic, as the \\high\" and \\low\" subgroups are not\n",
    "independent of the scoresb􀀀\n",
    "i used to estimate the within-group e\u000b",
    "ects; however, the subgroup de\f",
    "nition\n",
    "does not directly depend on the outcomes or treatments (Yi;Wi) themselves, and it appears that this\n",
    "approach can provide at least qualitative insights about the strength of heterogeneity.\n",
    "\n",
    "We also try a second test for heterogeneity, motivated by the \\best linear predictor\" method of\n",
    "Chernozhukov, Demirer, Duo, and Fernandez-Val (2018b), that seeks to \f",
    "t the CATE as a linear\n",
    "function of the the out-of-bag causal forest estimates ^\u001c",
    " (􀀀i)(Xi).\n",
    "\n",
    "Thus, at\n",
    "least if we insist on cluster-robust inference, any treatment heterogeneity that may be present appears\n",
    "to be relatively weak, and causal forests do not identify subgroups with e\u000b",
    "ects that obviously stand out.\n",
    "\n",
    "**Both \"methods\" test for general treatment heterogeneity. If the researcher has some more specific hypotheses in the context of her research question, then other following procedures might work better in order to detect heterogeneity!!!**\n",
    "\n",
    "**Figure 3**: Panel (a) plots students' CATE estimates against school-level mindset X1.\n",
    "\n",
    "**We can graphically check for treatment heterogeneity by plotting the treatment effects grouped by the values of a chosen variable** In figure 3 (a) these are the values of the Variable X1!\n",
    "\n",
    "**Last possible check**: $variable importance$ function, to see if a possible variable explaining heterogeneity was important in split taking during the forest building process!"
   ]
  }
 ],
 "metadata": {
  "kernelspec": {
   "display_name": "R",
   "language": "R",
   "name": "ir"
  },
  "language_info": {
   "codemirror_mode": "r",
   "file_extension": ".r",
   "mimetype": "text/x-r-source",
   "name": "R",
   "pygments_lexer": "r",
   "version": "3.6.1"
  }
 },
 "nbformat": 4,
 "nbformat_minor": 5
}
