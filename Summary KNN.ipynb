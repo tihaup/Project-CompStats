{
 "cells": [
  {
   "cell_type": "code",
   "execution_count": 2,
   "id": "f4bff32d",
   "metadata": {},
   "outputs": [],
   "source": [
    "library(class)"
   ]
  },
  {
   "cell_type": "markdown",
   "id": "b066f7d5",
   "metadata": {},
   "source": [
    "## Mixtape Chapter 5.3.6"
   ]
  },
  {
   "cell_type": "markdown",
   "id": "e92af921",
   "metadata": {},
   "source": [
    "### 5.3.6 Nearest-neighbor matching\n",
    "\n",
    "An alternative, very popular approach to inverse probability weighting is matching on the propensity score. This is often done by finding a couple of units with comparable propensity scores from the control unit donor pool within some ad hoc chosen radius distance of the treated unit’s own propensity score. The researcher then averages the outcomes and then assigns that average as an imputation to the original treated unit as a proxy for the potential outcome under counterfactual control. Then effort is made to enforce common support through trimming.\n",
    "\n",
    "But this method has been criticized by King and Nielsen (2019). The King and Nielsen (2019) critique is not of the propensity score itself. For instance, the critique does not apply to stratification based on the propensity score (Rosenbaum and Rubin 1983), regression adjustment or inverse probability weighting. The problem is only focused on nearest-neighbor matching and is related to the forced balance through trimming as well as myriad other common research choices made in the course of the project that together ultimately amplify bias. King and Nielsen (2019) write: “The more balanced the data, or the more balance it becomes by trimming some of the observations through matching, the more likely propensity score matching will degrade inferences” (p.1).\n",
    "\n",
    "Nevertheless, nearest-neighbor matching, along with inverse probability weighting, is perhaps the most common method for estimating a propensity score model. Nearest-neighbor matching using the propensity score pairs each treatment unit i\n",
    "with one or more comparable control group units j, where comparability is measured in terms of distance to the nearest propensity score. This control group unit’s outcome is then plugged into a matched sample. Once we have the matched sample, we can calculate the $ATT$ as $ATT = 1/N_T \\times (Y_i−Y_i(j))$\n",
    "\n",
    "where $Y_i(j)$ is the matched control group unit to $i$. We will focus on the ATT because of the problems with overlap that we discussed earlier."
   ]
  },
  {
   "cell_type": "markdown",
   "id": "7b655c6b",
   "metadata": {},
   "source": [
    "\"I chose to match using five nearest neighbors. Nearest neighbors, in other words, will find the five nearest units in the control group, where “nearest” is measured as closest on the propensity score itself. Unlike covariate matching, distance here is straightforward because of the dimension reduction afforded by the propensity score. We then average actual outcome, and match that average outcome to each treatment unit. Once we have that, we subtract each unit’s matched control from its treatment value, and then divide by NT, the number of treatment units.\""
   ]
  },
  {
   "cell_type": "code",
   "execution_count": null,
   "id": "08565bf9",
   "metadata": {
    "scrolled": true
   },
   "outputs": [],
   "source": []
  },
  {
   "cell_type": "code",
   "execution_count": null,
   "id": "0b572dbd",
   "metadata": {},
   "outputs": [],
   "source": []
  },
  {
   "cell_type": "code",
   "execution_count": 17,
   "id": "7a88c41c",
   "metadata": {},
   "outputs": [
    {
     "name": "stderr",
     "output_type": "stream",
     "text": [
      "Warning message:\n",
      "\"package 'MatchIt' was built under R version 3.6.3\""
     ]
    },
    {
     "ename": "ERROR",
     "evalue": "Error: package or namespace load failed for 'MatchIt' in loadNamespace(j <- i[[1L]], c(lib.loc, .libPaths()), versionCheck = vI[[j]]):\n namespace 'Rcpp' 1.0.1 is already loaded, but >= 1.0.5 is required\n",
     "output_type": "error",
     "traceback": [
      "Error: package or namespace load failed for 'MatchIt' in loadNamespace(j <- i[[1L]], c(lib.loc, .libPaths()), versionCheck = vI[[j]]):\n namespace 'Rcpp' 1.0.1 is already loaded, but >= 1.0.5 is required\nTraceback:\n",
      "1. library(MatchIt)",
      "2. tryCatch({\n .     attr(package, \"LibPath\") <- which.lib.loc\n .     ns <- loadNamespace(package, lib.loc)\n .     env <- attachNamespace(ns, pos = pos, deps, exclude, include.only)\n . }, error = function(e) {\n .     P <- if (!is.null(cc <- conditionCall(e))) \n .         paste(\" in\", deparse(cc)[1L])\n .     else \"\"\n .     msg <- gettextf(\"package or namespace load failed for %s%s:\\n %s\", \n .         sQuote(package), P, conditionMessage(e))\n .     if (logical.return) \n .         message(paste(\"Error:\", msg), domain = NA)\n .     else stop(msg, call. = FALSE, domain = NA)\n . })",
      "3. tryCatchList(expr, classes, parentenv, handlers)",
      "4. tryCatchOne(expr, names, parentenv, handlers[[1L]])",
      "5. value[[3L]](cond)",
      "6. stop(msg, call. = FALSE, domain = NA)"
     ]
    }
   ],
   "source": [
    "library(MatchIt)\n",
    "library(Zelig)\n",
    "\n",
    "m_out <- matchit(treat ~ age + agesq + agecube + educ +\n",
    "                 educsq + marr + nodegree +\n",
    "                 black + hisp + re74 + re75 + u74 + u75 + interaction1,\n",
    "                 data = nsw_dw_cpscontrol, method = \"nearest\", \n",
    "                 distance = \"logit\", ratio =5)\n",
    "\n",
    "m_data <- match.data(m_out)\n",
    "\n",
    "z_out <- zelig(re78 ~ treat + age + agesq + agecube + educ +\n",
    "               educsq + marr + nodegree +\n",
    "               black + hisp + re74 + re75 + u74 + u75 + interaction1, \n",
    "               model = \"ls\", data = m_data)\n",
    "\n",
    "x_out <- setx(z_out, treat = 0)\n",
    "x1_out <- setx(z_out, treat = 1)\n",
    "\n",
    "s_out <- sim(z_out, x = x_out, x1 = x1_out)\n",
    "\n",
    "summary(s_out)"
   ]
  },
  {
   "cell_type": "code",
   "execution_count": null,
   "id": "8b8f1e27",
   "metadata": {},
   "outputs": [],
   "source": []
  }
 ],
 "metadata": {
  "kernelspec": {
   "display_name": "R",
   "language": "R",
   "name": "ir"
  },
  "language_info": {
   "codemirror_mode": "r",
   "file_extension": ".r",
   "mimetype": "text/x-r-source",
   "name": "R",
   "pygments_lexer": "r",
   "version": "3.6.1"
  }
 },
 "nbformat": 4,
 "nbformat_minor": 5
}
