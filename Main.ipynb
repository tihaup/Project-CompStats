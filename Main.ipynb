{
 "cells": [
  {
   "cell_type": "markdown",
   "id": "46e16727",
   "metadata": {},
   "source": [
    "# Final Project CompStats | Timo Haupt | SoSe 2021\n",
    "\n",
    "---\n",
    "\n",
    "# Comparison of Causal Forests and K-Nearest-Neighbour Matching in Identifying Heterogeneous Treatment Effects\n",
    "\n",
    "---"
   ]
  },
  {
   "cell_type": "markdown",
   "id": "59bb2ddf",
   "metadata": {},
   "source": [
    "**Importing Packages:**"
   ]
  },
  {
   "cell_type": "code",
   "execution_count": 2,
   "id": "89a0afae",
   "metadata": {},
   "outputs": [],
   "source": [
    "suppressMessages(library(grf))\n",
    "suppressMessages(library(FNN))\n",
    "suppressMessages(library(MASS))"
   ]
  },
  {
   "cell_type": "markdown",
   "id": "e42c2b22",
   "metadata": {},
   "source": [
    "## Structure\n",
    "\n",
    "[**1.) Theoretical Discussion**](#theory)\n",
    "   * [Causal Forests](#cf)\n",
    "   * [K-Nearest-Neighbour Matching](#knn)\n",
    "   * ?Treatment Estimation using Matching Methods?\n",
    "    \n",
    "[**2.) Simulation Study**](#simulation)\n",
    "   * [Data Generating Process (Treatment Effect Heterogeneity)](#dgp)\n",
    "   * [Variations](#simstudy)\n",
    "\n",
    "**3.) Application**\n",
    "   * Data: Farbmacher\n",
    "   * Replication of Paper\n",
    "   * Extension with Causal KNN and Comparison\n",
    "\n",
    "**4.) Conclusion**\n",
    "\n",
    "[**5.) References**](#references)"
   ]
  },
  {
   "cell_type": "markdown",
   "id": "f454cb94",
   "metadata": {},
   "source": [
    "## 1.) Theoretical Discussion<a id=\"theory\"></a>\n",
    "\n",
    "This first section introduces the two analyzed estimation methods, Causal Forest and Causal KNN, and describes how treatment estimation is conducted. The main problem in settings covering causality and inference is the missing counterfactual. Particularly in estimating treatment effects it's only possible to observe an individual with treatment, $Y_i^{(1)}$, or without treatment, $Y_i^{(0)}$, but never both. Therefore, we are in the Potential Outcome Framework where we \"posit the existence of potential outcomes $Y_i^{(1)}$ and $Y_i^{(0)}$ corresponding respectively to\n",
    "the response the $i$-th subject would have experienced with and without the treatment\" (Athey/Wager, 2015).\n",
    "\n",
    "Both introduced methods, Causal Forest and Causal KNN, try to find these potential outcomes by some sort of matching algorithm in order to estimate the treatment effect \n",
    "$$\\tau(x) = \\mathbb{E}\\left[Y_i^{(1)} - Y_i^{(0)} \\mid X_i = x\\right] $$\n",
    "\n",
    "One essential assumption we need to impose in order to theoretically justify both methods is unconfoundedness, i.e. \"treatment assignment $W_i$ is independent of the potential outcomes for $Y_i$ conditional on $X_i$\" (Athey & Wager 2015).\n",
    "\n",
    "$$\\left \\{Y_i^{(1)}, Y_i^{(0)} \\right \\} \\perp\\!\\!\\!\\perp W_i \\mid X_i $$\n",
    "\n",
    "The idea is that, if unconfoundedness holds, \"we can treat nearby observations in x-space as having come from a\n",
    "randomized experiment; thus, nearest-neighbor matching and other local methods will in general be consistent for $\\tau(x)$\" (Athey & Wager 2015)."
   ]
  },
  {
   "cell_type": "markdown",
   "id": "8ec4f3e6",
   "metadata": {},
   "source": [
    "### Causal Forests\n",
    "\n",
    "**From Trees to Forests**\n",
    "\n",
    "Causal Trees are very similiar to Random Trees. \n",
    "\n",
    "**Treatment Effect Estimation with CF**\n",
    "\n",
    "\n",
    "Let's take some $x \\in R_k$ where $R_k$ is some leaf of the Causal Forest and define $N_k(w)$ as the number of observations in the leaf $R_k$ with treatment status $w \\in \\{0,1\\}$. The Conditional Average Treatment Effect is then estimated \"based on the mean difference between the outcome levels of the treated and untreated units\" which are in the same leaf $R_k$ by \n",
    "\n",
    "$$ \\hat{\\tau}(x) = \\hat{\\tau}_{R_k} = \\frac{1}{N_k(1)} \\sum_{i \\in R_k(1)} Y_i-\\frac{1}{N_k(0)} \\sum_{i \\in R_k(0)} Y_i  $$\n",
    "So, the Causal Forest does some sort of matching by recursively partitioning the predictor space and then matching treated and untreated observations that have fallen in the same leaf (see e.g. Hitsch & Misra 2018 and Athey & Wager 2015).\n",
    "\n",
    "**Honest Splitting Rule**\n",
    "\n",
    "Athey & Wager (2019b) Chapter 2.4\n",
    "\n",
    "**Advantage of CF**\n",
    "\n",
    "\"At a high level, trees and forests can be thought of as nearest neighbor methods with an\n",
    "adaptive neighborhood metric. Given a test point x, classical methods such as k-nearest\n",
    "neighbors seek the k closest points to x according to some pre-speci\f",
    "ed distance measure,\n",
    "e.g., Euclidean distance. In contrast, tree-based methods also seek to \f",
    "nd training examples\n",
    "that are close to x, but now closeness is de\f",
    "ned with respect to a decision tree, and the\n",
    "closest points to x are those that fall in the same leaf as it. The advantage of trees is that\n",
    "their leaves can be narrower along the directions where the signal is changing fast and wider\n",
    "along the other directions, potentially leading a to a substantial increase in power when the\n",
    "dimension of the feature space is even moderately large.\" (Athey & Wager 2015)\n",
    "\n",
    "\"When estimating a random forest, we provide the algorithm with the set of features and the\n",
    "treatment indicator, Wi. Specifying the interactions between Xi and Wi is not be necessary\n",
    "because random forests, a non-parametric estimation method, in principle should be able to\n",
    "automatically detect any relevant interactions.\" (Farbmacher et al.)\n",
    "#### GRF package\n"
   ]
  },
  {
   "cell_type": "code",
   "execution_count": null,
   "id": "9336f2e7",
   "metadata": {},
   "outputs": [],
   "source": []
  },
  {
   "cell_type": "markdown",
   "id": "ce5e3a05",
   "metadata": {},
   "source": [
    "### Causal KNN\n",
    "\n",
    "\n",
    "**Siehe Hitsch, Misra!**"
   ]
  },
  {
   "cell_type": "code",
   "execution_count": null,
   "id": "043a3d87",
   "metadata": {},
   "outputs": [],
   "source": []
  },
  {
   "cell_type": "markdown",
   "id": "fb4c88d1",
   "metadata": {},
   "source": [
    "## 2.) Simulation Study<a id=\"simulation\"></a>"
   ]
  },
  {
   "cell_type": "markdown",
   "id": "33145bab",
   "metadata": {},
   "source": [
    "### Data Generating Process<a id=\"dgp\"></a>"
   ]
  },
  {
   "cell_type": "markdown",
   "id": "de094601",
   "metadata": {},
   "source": [
    "**Performance Measure**\n",
    "\n",
    "Eventhough the counterfactuals are never observed in real life data, we can take advantage of the data generating process in simulation studies where we explicitely calculate the true treatment effect for each observation. Therefore, as Athey & Wager (2015) proposed we can use the $MSE_{\\tau}$ as a performance measure in this simulation study in order to compare between methods and different treatment settings. I calculated the Mean Squared Error of the treatment effect as follows\n",
    "$$\n",
    "MSE_{\\tau} \\equiv \\frac{1}{\\#\\left(\\mathcal{S}^{\\mathrm{te}}\\right)} \\sum_{i \\in \\mathcal{S}^{\\mathrm{te}}}{\\left(\\tau_{i}-\\hat{\\tau}\\left(X_{i} ; \\mathcal{S}^{\\mathrm{est}}, \\Pi\\right)\\right)^{2}}\n",
    "$$\n",
    ", where $ \\mathcal{S}^{\\mathrm{est}} $ is the subsample that was used to estimate the treatment effects within the leafs\n",
    ", $\\mathcal{S}^{\\mathrm{te}}$ is the test sample that was used to construct the causal tree\n",
    "and $\\Pi$ is the partition of the causal tree.\n",
    "The notations of $\\mathcal{S}^{\\mathrm{est}}$ and $\\mathcal{S}^{\\mathrm{te}}$ are consistent with the honest splitting rule described in the first section. Note that the $MSE_{\\tau}$ used in my simulation study differs slightly from the one in the Athey and Imbens (2015) paper. They subtract $\\mathbb{E}[\\tau_i^2]$, but as they noted \"it does not affect how the criterion ranks estimators\", since $\\tau_i$ is not a Random Variable. "
   ]
  },
  {
   "cell_type": "markdown",
   "id": "24d78392",
   "metadata": {},
   "source": [
    "# Creating a Single DGP Function"
   ]
  },
  {
   "cell_type": "code",
   "execution_count": null,
   "id": "511425ec",
   "metadata": {},
   "outputs": [],
   "source": [
    "dgp_ <- function(p,N,case) { \n",
    "    \n",
    "    X <- matrix(rnorm(n=N*p,0,1), N, p)\n",
    "\n",
    "    W <- sample(c(0,1), N, replace = TRUE, prob = c(0.5, 0.5))\n",
    "\n",
    "    b_vec <- seq(0.5,1,length.out = p)\n",
    "    \n",
    "    #### true treatment effect \n",
    "    if (case == \"case1\"){\n",
    "        t <- 0.2\n",
    "    }\n",
    "    \n",
    "    Y <- X %*% b_vec + t*W + rnorm(N,0,0.1)\n",
    "    df <- data.frame(Y,W,t,X)\n",
    "    \n",
    "    return(df)\n",
    "}"
   ]
  },
  {
   "cell_type": "code",
   "execution_count": null,
   "id": "be8ad03e",
   "metadata": {},
   "outputs": [],
   "source": []
  },
  {
   "cell_type": "code",
   "execution_count": null,
   "id": "ad94c742",
   "metadata": {},
   "outputs": [],
   "source": []
  },
  {
   "cell_type": "markdown",
   "id": "2661b0bd",
   "metadata": {},
   "source": [
    "### Variations<a id=\"simstudy\"></a>"
   ]
  },
  {
   "cell_type": "markdown",
   "id": "559f2112",
   "metadata": {},
   "source": [
    "### Case 1 - Basic Set Up\n",
    "\n",
    "\n",
    "$$X_{i,1}, ..., X_{i,10} \\sim \\mathcal{N}(0,1)$$\n",
    "\n",
    "$$\\beta \\in [0.5,1]^{10}$$\n",
    "\n",
    "$$Prob(W_i=1) =0.5$$\n",
    "\n",
    "$$\\tau = 0.2 $$\n",
    "\n",
    "$$Y_i = X \\beta + \\tau* W_i + \\epsilon_i $$\n",
    "\n",
    "$$\\epsilon_i \\sim \\mathcal{N}(0,\\,0.1)$$\n",
    "\n",
    "**Description & Result**\n",
    "\n",
    "In the Basic Set Up 10 regressors drawn from a Standard Normal Distrubtion are considered where all $\\beta$ are evenly divided between 0.5 and 1. Furthermore, the probability of being assigned to treatment is fixed at 50% for all observations and there is only one treatment effect $\\tau$ independent of individuals' characteristics.\n",
    "It can be observed that the higher the number of observations, the smaller the Mean Squared Error. This holds for all successive applications. Even in the basic set up the Causal Forest performs way better than 10- and 20-Nearest-Neighbors. This holds also true for almost all applications and that's why I focus more on the comparison between the different settings. Furthermore, considering more matched neighbors always decreases $MSE_{\\tau}$ which is consistent with the results of Athey and Wager (2015). "
   ]
  },
  {
   "cell_type": "code",
   "execution_count": 3,
   "id": "17f880f2",
   "metadata": {},
   "outputs": [],
   "source": [
    "dgp1 <- function(p,N) { \n",
    "    \n",
    "    X <- matrix(rnorm(n=N*p,0,1), N, p)\n",
    "\n",
    "    W <- sample(c(0,1), N, replace = TRUE, prob = c(0.5, 0.5))\n",
    "\n",
    "    b_vec <- seq(0.5,1,length.out = p)\n",
    "    \n",
    "    #### true treatment effect \n",
    "    t <- 0.2\n",
    "    \n",
    "    Y <- X %*% b_vec + t*W + rnorm(N,0,0.1)\n",
    "    df <- data.frame(Y,W,t,X)\n",
    "    \n",
    "    return(df)\n",
    "}"
   ]
  },
  {
   "cell_type": "code",
   "execution_count": 151,
   "id": "a7328bd0",
   "metadata": {
    "scrolled": true
   },
   "outputs": [
    {
     "data": {
      "text/html": [
       "<table>\n",
       "<thead><tr><th scope=col>Method</th><th scope=col>N = 100</th><th scope=col>N = 150</th><th scope=col>N = 250</th><th scope=col>N = 500</th></tr></thead>\n",
       "<tbody>\n",
       "\t<tr><td>Causal Forest</td><td>0.213        </td><td>0.117        </td><td>0.090        </td><td>0.073        </td></tr>\n",
       "\t<tr><td>KNN-10       </td><td>0.757        </td><td>0.700        </td><td>0.609        </td><td>0.531        </td></tr>\n",
       "\t<tr><td>KNN-20       </td><td>0.452        </td><td>0.404        </td><td>0.356        </td><td>0.304        </td></tr>\n",
       "</tbody>\n",
       "</table>\n"
      ],
      "text/latex": [
       "\\begin{tabular}{r|lllll}\n",
       " Method & N = 100 & N = 150 & N = 250 & N = 500\\\\\n",
       "\\hline\n",
       "\t Causal Forest & 0.213         & 0.117         & 0.090         & 0.073        \\\\\n",
       "\t KNN-10        & 0.757         & 0.700         & 0.609         & 0.531        \\\\\n",
       "\t KNN-20        & 0.452         & 0.404         & 0.356         & 0.304        \\\\\n",
       "\\end{tabular}\n"
      ],
      "text/markdown": [
       "\n",
       "| Method | N = 100 | N = 150 | N = 250 | N = 500 |\n",
       "|---|---|---|---|---|\n",
       "| Causal Forest | 0.213         | 0.117         | 0.090         | 0.073         |\n",
       "| KNN-10        | 0.757         | 0.700         | 0.609         | 0.531         |\n",
       "| KNN-20        | 0.452         | 0.404         | 0.356         | 0.304         |\n",
       "\n"
      ],
      "text/plain": [
       "  Method        N = 100 N = 150 N = 250 N = 500\n",
       "1 Causal Forest 0.213   0.117   0.090   0.073  \n",
       "2 KNN-10        0.757   0.700   0.609   0.531  \n",
       "3 KNN-20        0.452   0.404   0.356   0.304  "
      ]
     },
     "metadata": {},
     "output_type": "display_data"
    }
   ],
   "source": [
    "simstudy(p=10,numsim=100,dgp1)"
   ]
  },
  {
   "cell_type": "markdown",
   "id": "41a5784e",
   "metadata": {},
   "source": [
    "### Case 2 - Introducing Simple Treatment Heterogeneity\n",
    "\n",
    "$$\\tau(x) = 0.1 + 0.1*\\mathbb{1}(x_1 > 0) + 0.1*\\mathbb{1}(x_2 > 0)$$\n",
    "\n",
    "\n",
    "**Description & Result**\n",
    "\n",
    "The second simulation introduces some simple treatment effect heterogeneity, that is treatment effect increases if an individual has positive values in its' $X_1$ and $X_2$ characteristics respectively. Each positive value increases the magnitude by the mean treatment effect of 0.1. \n",
    "As can be seen in the table below, the Mean Squared Errors almost don't differ from the previous case with homogeneous treatment effects. This result is quite remarkable and shows that both methods are quite good in matching observations with a simple heterogeneity structure. It should be noted that Powers et al. (2017) find some striking differences between Scenarios 1 and 2 in their paper which come closest to my simulations 1 and 2. One reason might be that Powers et al. (2017) draw their regressors mixed from Standard Normal and Bernoulli distributions. \n",
    "\n",
    "* **Macht es Sinn, dass mit konstantem Treatment Effect der MSE schlechter ist, als mit heterogenem?** Zitat finden: Causal Forest splittet nach dem Kriterium, dass die Streuung der Treatment Effekte möglichst groß ist."
   ]
  },
  {
   "cell_type": "code",
   "execution_count": 4,
   "id": "aed0d4ce",
   "metadata": {},
   "outputs": [],
   "source": [
    "dgp2 <- function(p,N) { \n",
    "    \n",
    "    X <- matrix(rnorm(n=N*p,0,1), N, p)\n",
    "\n",
    "    W <- sample(c(0,1), N, replace = TRUE, prob = c(0.5, 0.5))\n",
    "\n",
    "    b_vec <- seq(0.5,1,length.out = p)\n",
    "    \n",
    "    #### true treatment effect \n",
    "    t <- 0.1 + 0.1*ifelse(X[,1] > 0, 1, 0) +  0.1*ifelse(X[,2] > 0, 1, 0)\n",
    "    \n",
    "    Y <- X %*% b_vec + t*W + rnorm(N,0,0.1)\n",
    "    df <- data.frame(Y,W,t,X)\n",
    "    \n",
    "    return(df)\n",
    "}"
   ]
  },
  {
   "cell_type": "code",
   "execution_count": 153,
   "id": "4f83cb9f",
   "metadata": {},
   "outputs": [
    {
     "data": {
      "text/html": [
       "<table>\n",
       "<thead><tr><th scope=col>Method</th><th scope=col>N = 100</th><th scope=col>N = 150</th><th scope=col>N = 250</th><th scope=col>N = 500</th></tr></thead>\n",
       "<tbody>\n",
       "\t<tr><td>Causal Forest</td><td>0.246        </td><td>0.136        </td><td>0.110        </td><td>0.073        </td></tr>\n",
       "\t<tr><td>KNN-10       </td><td>0.740        </td><td>0.664        </td><td>0.598        </td><td>0.541        </td></tr>\n",
       "\t<tr><td>KNN-20       </td><td>0.446        </td><td>0.391        </td><td>0.342        </td><td>0.310        </td></tr>\n",
       "</tbody>\n",
       "</table>\n"
      ],
      "text/latex": [
       "\\begin{tabular}{r|lllll}\n",
       " Method & N = 100 & N = 150 & N = 250 & N = 500\\\\\n",
       "\\hline\n",
       "\t Causal Forest & 0.246         & 0.136         & 0.110         & 0.073        \\\\\n",
       "\t KNN-10        & 0.740         & 0.664         & 0.598         & 0.541        \\\\\n",
       "\t KNN-20        & 0.446         & 0.391         & 0.342         & 0.310        \\\\\n",
       "\\end{tabular}\n"
      ],
      "text/markdown": [
       "\n",
       "| Method | N = 100 | N = 150 | N = 250 | N = 500 |\n",
       "|---|---|---|---|---|\n",
       "| Causal Forest | 0.246         | 0.136         | 0.110         | 0.073         |\n",
       "| KNN-10        | 0.740         | 0.664         | 0.598         | 0.541         |\n",
       "| KNN-20        | 0.446         | 0.391         | 0.342         | 0.310         |\n",
       "\n"
      ],
      "text/plain": [
       "  Method        N = 100 N = 150 N = 250 N = 500\n",
       "1 Causal Forest 0.246   0.136   0.110   0.073  \n",
       "2 KNN-10        0.740   0.664   0.598   0.541  \n",
       "3 KNN-20        0.446   0.391   0.342   0.310  "
      ]
     },
     "metadata": {},
     "output_type": "display_data"
    }
   ],
   "source": [
    "simstudy(p=10,numsim=100,dgp2)"
   ]
  },
  {
   "cell_type": "code",
   "execution_count": 31,
   "id": "7f37cbe0",
   "metadata": {
    "scrolled": false
   },
   "outputs": [
    {
     "data": {
      "image/png": "[encoded data removed]",
      "text/plain": [
       "Plot with title \"Causal Forest - Monte Carlo Results\""
      ]
     },
     "metadata": {},
     "output_type": "display_data"
    }
   ],
   "source": [
    "CF_simstudy(p=10,N=500,numsim=10,dgp2)"
   ]
  },
  {
   "cell_type": "markdown",
   "id": "a8ab2ea2",
   "metadata": {},
   "source": [
    "### Case 3 - Treatment Heterogeneity \n",
    "\n",
    "\n",
    "$$\\tau(x) = 0.1 + \\mathbb{1}(x_1 > 0)*x_1 + \\mathbb{1}(x_2 > 0)*x_2$$\n",
    "\n",
    "**Description & Result**\n",
    "\n",
    "In this scenario magnitude of treatment depends on the values of $X_1$ and $X_2$. So, treatment effect is even heterogeneous within $X_1$ and $X_2$. Higher positive values of these variables imply a higher treatment effect.\n",
    "Since this specification implies a higher degree of variation in individual treatment effects, it is obvious that the Mean Squared Errors are much higher compared to the previous scenario. "
   ]
  },
  {
   "cell_type": "code",
   "execution_count": 32,
   "id": "802cf1df",
   "metadata": {},
   "outputs": [],
   "source": [
    "dgp3 <- function(p,N) { \n",
    "    \n",
    "    X <- matrix(rnorm(n=N*p,0,1), N, p)\n",
    "\n",
    "    W <- sample(c(0,1), N, replace = TRUE, prob = c(0.5, 0.5))\n",
    "\n",
    "    b_vec <- seq(0.5,1,length.out = p)\n",
    "    \n",
    "    #### true treatment effect \n",
    "    t <- 0.1 + X[,1]*ifelse(X[,1] > 0, 1, 0) +  X[,2]*ifelse(X[,2] > 0, 1, 0) \n",
    "    \n",
    "    Y <- X %*% b_vec + t*W + rnorm(N,0,0.1)\n",
    "    df <- data.frame(Y,W,t,X)\n",
    "    \n",
    "    return(df)\n",
    "}"
   ]
  },
  {
   "cell_type": "code",
   "execution_count": 155,
   "id": "670e16bb",
   "metadata": {
    "scrolled": true
   },
   "outputs": [
    {
     "data": {
      "text/html": [
       "<table>\n",
       "<thead><tr><th scope=col>Method</th><th scope=col>N = 100</th><th scope=col>N = 150</th><th scope=col>N = 250</th><th scope=col>N = 500</th></tr></thead>\n",
       "<tbody>\n",
       "\t<tr><td>Causal Forest</td><td>0.847        </td><td>0.695        </td><td>0.565        </td><td>0.371        </td></tr>\n",
       "\t<tr><td>KNN-10       </td><td>1.201        </td><td>1.125        </td><td>0.982        </td><td>0.822        </td></tr>\n",
       "\t<tr><td>KNN-20       </td><td>0.934        </td><td>0.864        </td><td>0.752        </td><td>0.627        </td></tr>\n",
       "</tbody>\n",
       "</table>\n"
      ],
      "text/latex": [
       "\\begin{tabular}{r|lllll}\n",
       " Method & N = 100 & N = 150 & N = 250 & N = 500\\\\\n",
       "\\hline\n",
       "\t Causal Forest & 0.847         & 0.695         & 0.565         & 0.371        \\\\\n",
       "\t KNN-10        & 1.201         & 1.125         & 0.982         & 0.822        \\\\\n",
       "\t KNN-20        & 0.934         & 0.864         & 0.752         & 0.627        \\\\\n",
       "\\end{tabular}\n"
      ],
      "text/markdown": [
       "\n",
       "| Method | N = 100 | N = 150 | N = 250 | N = 500 |\n",
       "|---|---|---|---|---|\n",
       "| Causal Forest | 0.847         | 0.695         | 0.565         | 0.371         |\n",
       "| KNN-10        | 1.201         | 1.125         | 0.982         | 0.822         |\n",
       "| KNN-20        | 0.934         | 0.864         | 0.752         | 0.627         |\n",
       "\n"
      ],
      "text/plain": [
       "  Method        N = 100 N = 150 N = 250 N = 500\n",
       "1 Causal Forest 0.847   0.695   0.565   0.371  \n",
       "2 KNN-10        1.201   1.125   0.982   0.822  \n",
       "3 KNN-20        0.934   0.864   0.752   0.627  "
      ]
     },
     "metadata": {},
     "output_type": "display_data"
    }
   ],
   "source": [
    "simstudy(p=10,numsim=100,dgp3)"
   ]
  },
  {
   "cell_type": "code",
   "execution_count": 33,
   "id": "97810c98",
   "metadata": {},
   "outputs": [
    {
     "data": {
      "image/png": "[encoded data removed]",
      "text/plain": [
       "Plot with title \"Causal Forest - Monte Carlo Results\""
      ]
     },
     "metadata": {},
     "output_type": "display_data"
    }
   ],
   "source": [
    "CF_simstudy(p=10,N=500,numsim=10,dgp3)"
   ]
  },
  {
   "cell_type": "markdown",
   "id": "8ea4b4c0",
   "metadata": {},
   "source": [
    "### Case 4 - Treatment Heterogeneity depends on more regressors\n",
    "\n",
    "$$\\tau(x) = 0.1 + \\sum_{i=1}^{4} \\mathbb{1}(x_i > 0)*x_i $$\n",
    "\n",
    "**Description & Result**\n",
    "\n",
    "Here the individual treatment effect depends on a larger amount of regressors, that is on four rather than on only two regressors. Also, the magnitude of the effect depends on the values of the $X_i$ characteristics. Adding two more regressors to the treatment effect implies another decrease in performance. These results are consistent with the ones from Table S1 (Appendix) in Athey and Imbens (2015), where Design 2 and 3 are similiar to the scenarios considered here in Case 3 and 4. \n",
    "Interesting is that now KNN with 20 matched neighbors performs pretty well relative to the Causal Forest."
   ]
  },
  {
   "cell_type": "code",
   "execution_count": 34,
   "id": "e30c274e",
   "metadata": {},
   "outputs": [],
   "source": [
    "dgp4 <- function(p,N) { \n",
    "    \n",
    "    X <- matrix(rnorm(n=N*p,0,1), N, p)\n",
    "\n",
    "    W <- sample(c(0,1), N, replace = TRUE, prob = c(0.5, 0.5))\n",
    "\n",
    "    b_vec <- seq(0.5,1,length.out = p)\n",
    "    \n",
    "    #### true treatment effect \n",
    "    t <- 0.1 + X[,1]*ifelse(X[,1] > 0, 1, 0) +  X[,2]*ifelse(X[,2] > 0, 1, 0) + X[,3]*ifelse(X[,3] > 0, 1, 0) + X[,4]*ifelse(X[,4] > 0, 1, 0)\n",
    "    \n",
    "    Y <- X %*% b_vec + t*W + rnorm(N,0,0.1)\n",
    "    df <- data.frame(Y,W,t,X)\n",
    "    \n",
    "    return(df)\n",
    "}"
   ]
  },
  {
   "cell_type": "code",
   "execution_count": 157,
   "id": "ffdd1c04",
   "metadata": {},
   "outputs": [
    {
     "data": {
      "text/html": [
       "<table>\n",
       "<thead><tr><th scope=col>Method</th><th scope=col>N = 100</th><th scope=col>N = 150</th><th scope=col>N = 250</th><th scope=col>N = 500</th></tr></thead>\n",
       "<tbody>\n",
       "\t<tr><td>Causal Forest</td><td>1.487        </td><td>1.309        </td><td>1.066        </td><td>0.788        </td></tr>\n",
       "\t<tr><td>KNN-10       </td><td>1.704        </td><td>1.573        </td><td>1.370        </td><td>1.184        </td></tr>\n",
       "\t<tr><td>KNN-20       </td><td>1.498        </td><td>1.342        </td><td>1.178        </td><td>1.001        </td></tr>\n",
       "</tbody>\n",
       "</table>\n"
      ],
      "text/latex": [
       "\\begin{tabular}{r|lllll}\n",
       " Method & N = 100 & N = 150 & N = 250 & N = 500\\\\\n",
       "\\hline\n",
       "\t Causal Forest & 1.487         & 1.309         & 1.066         & 0.788        \\\\\n",
       "\t KNN-10        & 1.704         & 1.573         & 1.370         & 1.184        \\\\\n",
       "\t KNN-20        & 1.498         & 1.342         & 1.178         & 1.001        \\\\\n",
       "\\end{tabular}\n"
      ],
      "text/markdown": [
       "\n",
       "| Method | N = 100 | N = 150 | N = 250 | N = 500 |\n",
       "|---|---|---|---|---|\n",
       "| Causal Forest | 1.487         | 1.309         | 1.066         | 0.788         |\n",
       "| KNN-10        | 1.704         | 1.573         | 1.370         | 1.184         |\n",
       "| KNN-20        | 1.498         | 1.342         | 1.178         | 1.001         |\n",
       "\n"
      ],
      "text/plain": [
       "  Method        N = 100 N = 150 N = 250 N = 500\n",
       "1 Causal Forest 1.487   1.309   1.066   0.788  \n",
       "2 KNN-10        1.704   1.573   1.370   1.184  \n",
       "3 KNN-20        1.498   1.342   1.178   1.001  "
      ]
     },
     "metadata": {},
     "output_type": "display_data"
    }
   ],
   "source": [
    "simstudy(p=10,numsim=100,dgp4)"
   ]
  },
  {
   "cell_type": "code",
   "execution_count": 35,
   "id": "594d9fed",
   "metadata": {},
   "outputs": [
    {
     "data": {
      "image/png": "[encoded data removed]",
      "text/plain": [
       "Plot with title \"Causal Forest - Monte Carlo Results\""
      ]
     },
     "metadata": {},
     "output_type": "display_data"
    }
   ],
   "source": [
    "CF_simstudy(p=10,N=500,numsim=10,dgp4)"
   ]
  },
  {
   "cell_type": "markdown",
   "id": "3e0e0eb9",
   "metadata": {},
   "source": [
    "## Case 5.1 und 5.2 rausnehmen\n",
    "\n",
    "## Dafür: Introduce Higher Degree Polynomials and Interactions\n",
    "\n",
    "\"When estimating a random forest, we provide the algorithm with the set of features and the\n",
    "treatment indicator, Wi. Specifying the interactions between Xi and Wi is not be necessary\n",
    "because random forests, a non-parametric estimation method, in principle should be able to\n",
    "automatically detect any relevant interactions.\" (Hitsch & Misra 2018)"
   ]
  },
  {
   "cell_type": "code",
   "execution_count": 44,
   "id": "ae0eb73f",
   "metadata": {},
   "outputs": [],
   "source": [
    "dgp53 <- function(p,N) { \n",
    "    \n",
    "    X <- matrix(rnorm(n=N*p,0,1), N, p)\n",
    "    X[,p-1] <- X[,1]^2\n",
    "    X[,p] <- X[,2]^2\n",
    "\n",
    "    W <- sample(c(0,1), N, replace = TRUE, prob = c(0.5, 0.5))\n",
    "\n",
    "    b_vec <- seq(0.5,1,length.out = p)\n",
    "    \n",
    "    #### true treatment effect \n",
    "    t <- 0.1 + 0.1*ifelse(X[,1] > 0, 1, 0) +  0.1*ifelse(X[,2] > 0, 1, 0)\n",
    "    \n",
    "    Y <- X %*% b_vec + t*W + rnorm(N,0,0.1)\n",
    "    df <- data.frame(Y,W,t,X)\n",
    "    \n",
    "    return(df)\n",
    "}"
   ]
  },
  {
   "cell_type": "code",
   "execution_count": 45,
   "id": "4f6de5b6",
   "metadata": {},
   "outputs": [
    {
     "data": {
      "text/html": [
       "<table>\n",
       "<thead><tr><th scope=col>Method</th><th scope=col>N = 100</th><th scope=col>N = 150</th><th scope=col>N = 250</th><th scope=col>N = 500</th></tr></thead>\n",
       "<tbody>\n",
       "\t<tr><td>Causal Forest</td><td>0.277        </td><td>0.170        </td><td>0.107        </td><td>0.070        </td></tr>\n",
       "\t<tr><td>KNN-10       </td><td>0.778        </td><td>0.660        </td><td>0.650        </td><td>0.544        </td></tr>\n",
       "\t<tr><td>KNN-20       </td><td>0.430        </td><td>0.379        </td><td>0.370        </td><td>0.318        </td></tr>\n",
       "</tbody>\n",
       "</table>\n"
      ],
      "text/latex": [
       "\\begin{tabular}{r|lllll}\n",
       " Method & N = 100 & N = 150 & N = 250 & N = 500\\\\\n",
       "\\hline\n",
       "\t Causal Forest & 0.277         & 0.170         & 0.107         & 0.070        \\\\\n",
       "\t KNN-10        & 0.778         & 0.660         & 0.650         & 0.544        \\\\\n",
       "\t KNN-20        & 0.430         & 0.379         & 0.370         & 0.318        \\\\\n",
       "\\end{tabular}\n"
      ],
      "text/markdown": [
       "\n",
       "| Method | N = 100 | N = 150 | N = 250 | N = 500 |\n",
       "|---|---|---|---|---|\n",
       "| Causal Forest | 0.277         | 0.170         | 0.107         | 0.070         |\n",
       "| KNN-10        | 0.778         | 0.660         | 0.650         | 0.544         |\n",
       "| KNN-20        | 0.430         | 0.379         | 0.370         | 0.318         |\n",
       "\n"
      ],
      "text/plain": [
       "  Method        N = 100 N = 150 N = 250 N = 500\n",
       "1 Causal Forest 0.277   0.170   0.107   0.070  \n",
       "2 KNN-10        0.778   0.660   0.650   0.544  \n",
       "3 KNN-20        0.430   0.379   0.370   0.318  "
      ]
     },
     "metadata": {},
     "output_type": "display_data"
    }
   ],
   "source": [
    "simstudy(p=10,numsim=100,dgp53)"
   ]
  },
  {
   "cell_type": "code",
   "execution_count": null,
   "id": "a934d69a",
   "metadata": {},
   "outputs": [],
   "source": [
    "dgp54 <- function(p,N) { \n",
    "    \n",
    "    X <- matrix(rnorm(n=N*p,0,1), N, p)\n",
    "    X[,p-1] <- X[,1]^2\n",
    "    X[,p] <- X[,1]^3\n",
    "\n",
    "    W <- sample(c(0,1), N, replace = TRUE, prob = c(0.5, 0.5))\n",
    "\n",
    "    b_vec <- seq(0.5,1,length.out = p)\n",
    "    \n",
    "    #### true treatment effect \n",
    "    t <- 0.1 + 0.1*ifelse(X[,1] > 0, 1, 0) +  0.1*ifelse(X[,2] > 0, 1, 0)\n",
    "    \n",
    "    Y <- X %*% b_vec + t*W + rnorm(N,0,0.1)\n",
    "    df <- data.frame(Y,W,t,X)\n",
    "    \n",
    "    return(df)\n",
    "}"
   ]
  },
  {
   "cell_type": "code",
   "execution_count": null,
   "id": "626f952c",
   "metadata": {},
   "outputs": [],
   "source": [
    "simstudy(p=10,numsim=100,dgp54)"
   ]
  },
  {
   "cell_type": "code",
   "execution_count": null,
   "id": "325a834e",
   "metadata": {},
   "outputs": [],
   "source": [
    "dgp55 <- function(p,N) { \n",
    "    \n",
    "    X <- matrix(rnorm(n=N*p,0,1), N, p)\n",
    "    X[,2] <- X[,1]^2\n",
    "    #X[,p] <- X[,2]^3\n",
    "\n",
    "    W <- sample(c(0,1), N, replace = TRUE, prob = c(0.5, 0.5))\n",
    "\n",
    "    b_vec <- seq(0.5,1,length.out = p)\n",
    "    \n",
    "    #### true treatment effect \n",
    "    t <- 0.1 + 0.1*ifelse(X[,1] > 0, 1, 0) +  0.1*ifelse(X[,2] > 0, 1, 0)\n",
    "    \n",
    "    Y <- X %*% b_vec + t*W + rnorm(N,0,0.1)\n",
    "    df <- data.frame(Y,W,t,X)\n",
    "    \n",
    "    return(df)\n",
    "}"
   ]
  },
  {
   "cell_type": "code",
   "execution_count": null,
   "id": "0361b8f1",
   "metadata": {},
   "outputs": [],
   "source": [
    "simstudy(p=10,numsim=100,dgp55)"
   ]
  },
  {
   "cell_type": "code",
   "execution_count": null,
   "id": "5bbbf67b",
   "metadata": {},
   "outputs": [],
   "source": []
  },
  {
   "cell_type": "markdown",
   "id": "cf675910",
   "metadata": {},
   "source": [
    "### Case 5.1 - Treatment Heterogeneity depends on interactions of covariates\n",
    "\n",
    "$$\\tau(x) = 0.2 + x_1*x_2 $$\n",
    "\n",
    "In Case 5.1 a simple interaction term is introduced in $\\tau(x)$. \n",
    "Since $X$ are standard normal distributed, around half of the draws from $X_1$ and $X_2$ are negative. Therefore, we encounter a lot of variation in the treatment effect, which doesn't lead to an improved performance compared to Case 2 and 3. "
   ]
  },
  {
   "cell_type": "code",
   "execution_count": 37,
   "id": "71151b5f",
   "metadata": {},
   "outputs": [],
   "source": [
    "dgp5 <- function(p,N) { \n",
    "    \n",
    "    X <- matrix(rnorm(n=N*p,0,1), N, p)\n",
    "\n",
    "    W <- sample(c(0,1), N, replace = TRUE, prob = c(0.5, 0.5))\n",
    "\n",
    "    b_vec <- seq(0.5,1,length.out = p)\n",
    "    \n",
    "    #### true treatment effect \n",
    "    t <- 0.2 + X[,1]*X[,2]\n",
    "    \n",
    "    Y <- X %*% b_vec + t*W + rnorm(N,0,0.1)\n",
    "    df <- data.frame(Y,W,t,X)\n",
    "    \n",
    "    return(df)\n",
    "}"
   ]
  },
  {
   "cell_type": "code",
   "execution_count": 43,
   "id": "bb7fd488",
   "metadata": {
    "scrolled": false
   },
   "outputs": [
    {
     "data": {
      "text/html": [
       "<table>\n",
       "<thead><tr><th scope=col>Method</th><th scope=col>N = 100</th><th scope=col>N = 150</th><th scope=col>N = 250</th><th scope=col>N = 500</th></tr></thead>\n",
       "<tbody>\n",
       "\t<tr><td>Causal Forest</td><td>1.220        </td><td>1.176        </td><td>1.099        </td><td>0.979        </td></tr>\n",
       "\t<tr><td>KNN-10       </td><td>1.606        </td><td>1.426        </td><td>1.296        </td><td>1.142        </td></tr>\n",
       "\t<tr><td>KNN-20       </td><td>1.409        </td><td>1.283        </td><td>1.147        </td><td>1.009        </td></tr>\n",
       "</tbody>\n",
       "</table>\n"
      ],
      "text/latex": [
       "\\begin{tabular}{r|lllll}\n",
       " Method & N = 100 & N = 150 & N = 250 & N = 500\\\\\n",
       "\\hline\n",
       "\t Causal Forest & 1.220         & 1.176         & 1.099         & 0.979        \\\\\n",
       "\t KNN-10        & 1.606         & 1.426         & 1.296         & 1.142        \\\\\n",
       "\t KNN-20        & 1.409         & 1.283         & 1.147         & 1.009        \\\\\n",
       "\\end{tabular}\n"
      ],
      "text/markdown": [
       "\n",
       "| Method | N = 100 | N = 150 | N = 250 | N = 500 |\n",
       "|---|---|---|---|---|\n",
       "| Causal Forest | 1.220         | 1.176         | 1.099         | 0.979         |\n",
       "| KNN-10        | 1.606         | 1.426         | 1.296         | 1.142         |\n",
       "| KNN-20        | 1.409         | 1.283         | 1.147         | 1.009         |\n",
       "\n"
      ],
      "text/plain": [
       "  Method        N = 100 N = 150 N = 250 N = 500\n",
       "1 Causal Forest 1.220   1.176   1.099   0.979  \n",
       "2 KNN-10        1.606   1.426   1.296   1.142  \n",
       "3 KNN-20        1.409   1.283   1.147   1.009  "
      ]
     },
     "metadata": {},
     "output_type": "display_data"
    }
   ],
   "source": [
    "simstudy(p=10,numsim=100,dgp5)"
   ]
  },
  {
   "cell_type": "markdown",
   "id": "31751c81",
   "metadata": {},
   "source": [
    "### Case 5.2 - Treatment Heterogeneity depends on interactions of covariates\n",
    "\n",
    "$$ \\tau(x) = 0.2+ \\mid x_1 * x_2 \\mid $$"
   ]
  },
  {
   "cell_type": "code",
   "execution_count": 41,
   "id": "309541cc",
   "metadata": {},
   "outputs": [],
   "source": [
    "dgp52 <- function(p,N) { \n",
    "    \n",
    "    X <- matrix(rnorm(n=N*p,0,1), N, p)\n",
    "\n",
    "    W <- sample(c(0,1), N, replace = TRUE, prob = c(0.5, 0.5))\n",
    "\n",
    "    b_vec <- seq(0.5,1,length.out = p)\n",
    "    \n",
    "    #### true treatment effect \n",
    "    t <- 0.2 + abs(X[,1]*X[,2])  #*ifelse(X[,1] > 0, 1, 0))\n",
    "    \n",
    "    Y <- X %*% b_vec + t*W + rnorm(N,0,0.1)\n",
    "    df <- data.frame(Y,W,t,X)\n",
    "    \n",
    "    return(df)\n",
    "}"
   ]
  },
  {
   "cell_type": "code",
   "execution_count": 178,
   "id": "8691244c",
   "metadata": {},
   "outputs": [
    {
     "data": {
      "text/html": [
       "<table>\n",
       "<thead><tr><th scope=col>Method</th><th scope=col>N = 100</th><th scope=col>N = 150</th><th scope=col>N = 250</th><th scope=col>N = 500</th></tr></thead>\n",
       "<tbody>\n",
       "\t<tr><td>Causal Forest</td><td>0.766        </td><td>0.720        </td><td>0.615        </td><td>0.551        </td></tr>\n",
       "\t<tr><td>KNN-10       </td><td>1.245        </td><td>1.204        </td><td>1.061        </td><td>0.983        </td></tr>\n",
       "\t<tr><td>KNN-20       </td><td>0.972        </td><td>0.961        </td><td>0.851        </td><td>0.805        </td></tr>\n",
       "</tbody>\n",
       "</table>\n"
      ],
      "text/latex": [
       "\\begin{tabular}{r|lllll}\n",
       " Method & N = 100 & N = 150 & N = 250 & N = 500\\\\\n",
       "\\hline\n",
       "\t Causal Forest & 0.766         & 0.720         & 0.615         & 0.551        \\\\\n",
       "\t KNN-10        & 1.245         & 1.204         & 1.061         & 0.983        \\\\\n",
       "\t KNN-20        & 0.972         & 0.961         & 0.851         & 0.805        \\\\\n",
       "\\end{tabular}\n"
      ],
      "text/markdown": [
       "\n",
       "| Method | N = 100 | N = 150 | N = 250 | N = 500 |\n",
       "|---|---|---|---|---|\n",
       "| Causal Forest | 0.766         | 0.720         | 0.615         | 0.551         |\n",
       "| KNN-10        | 1.245         | 1.204         | 1.061         | 0.983         |\n",
       "| KNN-20        | 0.972         | 0.961         | 0.851         | 0.805         |\n",
       "\n"
      ],
      "text/plain": [
       "  Method        N = 100 N = 150 N = 250 N = 500\n",
       "1 Causal Forest 0.766   0.720   0.615   0.551  \n",
       "2 KNN-10        1.245   1.204   1.061   0.983  \n",
       "3 KNN-20        0.972   0.961   0.851   0.805  "
      ]
     },
     "metadata": {},
     "output_type": "display_data"
    }
   ],
   "source": [
    "simstudy(p=10,numsim=100,dgp52)"
   ]
  },
  {
   "cell_type": "markdown",
   "id": "1cdbc65e",
   "metadata": {},
   "source": [
    "### Case 6 - Simple Treatment Heterogeneity and Correlation between some regressors\n",
    "\n"
   ]
  },
  {
   "cell_type": "markdown",
   "id": "8d396650",
   "metadata": {},
   "source": [
    "### Case 6.1 - Treatment Heterogeneity and Correlation between some regressors\n",
    "\n",
    "$$ \\sigma_j^2 = 1 \\qquad \\forall j = \\{1,...,10\\}$$\n",
    "\n",
    "$$ \\rho_{j,k} = 0.5 \\qquad \\forall j,k = \\{1,...,10\\} \\quad s.t. \\quad j \\ne k  $$\n",
    "\n",
    "$$\\tau(x) = 0.1 + 0.1*\\mathbb{1}(x_1 > 0) + 0.1*\\mathbb{1}(x_2 > 0) \\qquad (1)$$\n",
    "\n",
    "$$\\tau(x) = 0.1 + \\mathbb{1}(x_1 > 0)*x_1 + \\mathbb{1}(x_2 > 0)*x_2 \\qquad (2)$$"
   ]
  },
  {
   "cell_type": "code",
   "execution_count": 193,
   "id": "7ceb4bac",
   "metadata": {},
   "outputs": [],
   "source": [
    "#### dgp6\n",
    "\n",
    "#### dgp65"
   ]
  },
  {
   "cell_type": "markdown",
   "id": "277c41cb",
   "metadata": {},
   "source": [
    "### Case 6.2 - Treatment Heterogeneity and Correlation between some regressors\n",
    "\n",
    "$$ \\sigma_j^2 = 1 \\qquad \\forall j = \\{1,...,10\\}$$\n",
    "\n",
    "$$ \\rho_{1,2} = 0.9$$\n",
    "\n",
    "$$ \\rho_{j,k} = 0 \\qquad \\forall j,k = \\{3,4,...,10\\} \\quad s.t. \\quad j \\ne k  $$\n",
    "\n",
    "$$\\tau(x) = 0.1 + 0.1*\\mathbb{1}(x_1 > 0) + 0.1*\\mathbb{1}(x_2 > 0) \\qquad (1)$$\n",
    "\n",
    "$$\\tau(x) = 0.1 + \\mathbb{1}(x_1 > 0)*x_1 + \\mathbb{1}(x_2 > 0)*x_2 \\qquad (2)$$"
   ]
  },
  {
   "cell_type": "code",
   "execution_count": 194,
   "id": "bf5af1c6",
   "metadata": {},
   "outputs": [],
   "source": [
    "#### dgp62\n",
    "\n",
    "#### dgp66"
   ]
  },
  {
   "cell_type": "markdown",
   "id": "096b2ba4",
   "metadata": {},
   "source": [
    "### Case 6.3 - Treatment Heterogeneity and Correlation between some regressors\n",
    "\n",
    "$$ \\sigma_j^2 = 1 \\qquad \\forall j = \\{1,...,10\\}$$\n",
    "\n",
    "$$ \\rho_{1,2} = 0.9$$\n",
    "\n",
    "$$ \\rho_{j,k} = 0.5 \\qquad \\forall j,k = \\{5,7,9\\} \\quad s.t. \\quad j \\ne k  $$\n",
    "\n",
    "$$ \\rho_{j,k} = 0 \\qquad \\forall j,k = \\{3,4,6,8,10\\} \\quad s.t. \\quad j \\ne k  $$\n",
    "\n",
    "$$\\tau(x) = 0.1 + 0.1*\\mathbb{1}(x_1 > 0) + 0.1*\\mathbb{1}(x_2 > 0) \\qquad (1)$$\n",
    "\n",
    "$$\\tau(x) = 0.1 + \\mathbb{1}(x_1 > 0)*x_1 + \\mathbb{1}(x_2 > 0)*x_2 \\qquad (2)$$"
   ]
  },
  {
   "cell_type": "code",
   "execution_count": 195,
   "id": "afad2372",
   "metadata": {},
   "outputs": [],
   "source": [
    "#### dgp63\n",
    "\n",
    "#### dgp67"
   ]
  },
  {
   "cell_type": "code",
   "execution_count": 192,
   "id": "21ba4a11",
   "metadata": {},
   "outputs": [],
   "source": [
    "dgp6 <- function(p,N) { \n",
    "    \n",
    "    mu <- rep(0,p)\n",
    "    Sigma <- 1\n",
    "    sigma1 <- matrix(rep(0.5),3,3)\n",
    "    for (i in 1:3){\n",
    "        sigma1[i,i] <- Sigma\n",
    "    }\n",
    "    \n",
    "    sigma <- diag(Sigma, p, p)\n",
    "\n",
    "    \n",
    "    X <- mvrnorm(N, mu, sigma)\n",
    "\n",
    "    W <- sample(c(0,1), N, replace = TRUE, prob = c(0.5, 0.5))\n",
    "\n",
    "    b_vec <- seq(0.5,1,length.out = p)\n",
    "    \n",
    "    #### true treatment effect \n",
    "    t <- 0.1 + 0.1*ifelse(X[,1] > 0, 1, 0) +  0.1*ifelse(X[,2] > 0, 1, 0)\n",
    "    \n",
    "    Y <- X %*% b_vec + t*W + rnorm(N,0,0.1)\n",
    "    df <- data.frame(Y,W,t,X)\n",
    "    \n",
    "    return(df)\n",
    "}"
   ]
  },
  {
   "cell_type": "markdown",
   "id": "afb47c88",
   "metadata": {},
   "source": [
    "$ \\sigma_j^2 = 1 \\qquad \\forall j = \\{1,...,10\\}$\n",
    "\n",
    "$\\rho_{1,2} = 0.9 $\n",
    "\n",
    "$\\rho_{1,5} = 0.5 $\n",
    "\n",
    "$\\rho_{2,5} = 0.5 $\n",
    "\n",
    "$ \\rho_{j,k} = 0 \\qquad \\forall j,k = \\{3,4,6,...,10\\} \\quad s.t. \\quad j \\ne k  $"
   ]
  },
  {
   "cell_type": "code",
   "execution_count": 190,
   "id": "6ebce51d",
   "metadata": {},
   "outputs": [],
   "source": [
    "dgp63 <- function(p,N) { \n",
    "    \n",
    "    mu <- rep(0,p)\n",
    "    Sigma <- 1\n",
    "    sigma <- diag(Sigma, p, p)\n",
    "    sigma[1,2] <- 0.9\n",
    "    sigma[2,1] <- 0.9\n",
    "    sigma[7,5] <- 0.5\n",
    "    sigma[5,7] <- 0.5\n",
    "    sigma[9,5] <- 0.5\n",
    "    sigma[5,9] <- 0.5\n",
    "    sigma[9,7] <- 0.5\n",
    "    sigma[7,9] <- 0.5\n",
    "    \n",
    "    X <- mvrnorm(N, mu, sigma)\n",
    "\n",
    "    W <- sample(c(0,1), N, replace = TRUE, prob = c(0.5, 0.5))\n",
    "\n",
    "    b_vec <- seq(0.5,1,length.out = p)\n",
    "    \n",
    "    #### true treatment effect \n",
    "    t <- 0.1 + 0.1*ifelse(X[,1] > 0, 1, 0) +  0.1*ifelse(X[,2] > 0, 1, 0)\n",
    "    \n",
    "    Y <- X %*% b_vec + t*W + rnorm(N,0,0.1)\n",
    "    df <- data.frame(Y,W,t,X)\n",
    "    \n",
    "    return(df)\n",
    "}"
   ]
  },
  {
   "cell_type": "markdown",
   "id": "89251949",
   "metadata": {},
   "source": [
    "$ \\sigma_j^2 = 1 \\qquad \\forall j = \\{1,...,10\\}$\n",
    "\n",
    "$\\rho_{1,2} = 0.9 $\n",
    "\n",
    "\n",
    "$ \\rho_{j,k} = 0 \\qquad \\forall j,k = \\{3,4,5,...,10\\} \\quad s.t. \\quad j \\ne k  $"
   ]
  },
  {
   "cell_type": "code",
   "execution_count": 164,
   "id": "43c85349",
   "metadata": {},
   "outputs": [],
   "source": [
    "dgp62 <- function(p,N) { \n",
    "    \n",
    "    mu <- rep(0,p)\n",
    "    Sigma <- 1\n",
    "    sigma <- diag(Sigma, p, p)\n",
    "    sigma[1,2] <- 0.9\n",
    "    sigma[2,1] <- 0.9\n",
    "    \n",
    "    X <- mvrnorm(N, mu, sigma)\n",
    "\n",
    "    W <- sample(c(0,1), N, replace = TRUE, prob = c(0.5, 0.5))\n",
    "\n",
    "    b_vec <- seq(0.5,1,length.out = p)\n",
    "    \n",
    "    #### true treatment effect \n",
    "    t <- 0.1 + 0.1*ifelse(X[,1] > 0, 1, 0) +  0.1*ifelse(X[,2] > 0, 1, 0)\n",
    "    \n",
    "    Y <- X %*% b_vec + t*W + rnorm(N,0,0.1)\n",
    "    df <- data.frame(Y,W,t,X)\n",
    "    \n",
    "    return(df)\n",
    "}"
   ]
  },
  {
   "cell_type": "markdown",
   "id": "4cf843a7",
   "metadata": {},
   "source": [
    "$ \\sigma_j^2 = 1 \\qquad \\forall j = \\{1,...,10\\}$\n",
    "\n",
    "$\\rho_{1,2} = - 0.9 $\n",
    "\n",
    "\n",
    "$ \\rho_{j,k} = 0 \\qquad \\forall j,k = \\{3,4,5,...,10\\} \\quad s.t. \\quad j \\ne k  $"
   ]
  },
  {
   "cell_type": "code",
   "execution_count": 165,
   "id": "b48105ae",
   "metadata": {},
   "outputs": [],
   "source": [
    "dgp64 <- function(p,N) { \n",
    "    \n",
    "    mu <- rep(0,p)\n",
    "    Sigma <- 1\n",
    "    sigma <- diag(Sigma, p, p)\n",
    "    sigma[1,2] <- -0.9\n",
    "    sigma[2,1] <- -0.9\n",
    "    \n",
    "    X <- mvrnorm(N, mu, sigma)\n",
    "\n",
    "    W <- sample(c(0,1), N, replace = TRUE, prob = c(0.5, 0.5))\n",
    "\n",
    "    b_vec <- seq(0.5,1,length.out = p)\n",
    "    \n",
    "    #### true treatment effect \n",
    "    t <- 0.1 + 0.1*ifelse(X[,1] > 0, 1, 0) +  0.1*ifelse(X[,2] > 0, 1, 0)\n",
    "    \n",
    "    Y <- X %*% b_vec + t*W + rnorm(N,0,0.1)\n",
    "    df <- data.frame(Y,W,t,X)\n",
    "    \n",
    "    return(df)\n",
    "}"
   ]
  },
  {
   "cell_type": "code",
   "execution_count": 166,
   "id": "d51d6326",
   "metadata": {},
   "outputs": [
    {
     "data": {
      "text/html": [
       "<table>\n",
       "<thead><tr><th scope=col>Method</th><th scope=col>N = 100</th><th scope=col>N = 150</th><th scope=col>N = 250</th><th scope=col>N = 500</th></tr></thead>\n",
       "<tbody>\n",
       "\t<tr><td>Causal Forest</td><td>0.172        </td><td>0.175        </td><td>0.104        </td><td>0.068        </td></tr>\n",
       "\t<tr><td>KNN-10       </td><td>0.705        </td><td>0.680        </td><td>0.614        </td><td>0.545        </td></tr>\n",
       "\t<tr><td>KNN-20       </td><td>0.401        </td><td>0.394        </td><td>0.353        </td><td>0.315        </td></tr>\n",
       "</tbody>\n",
       "</table>\n"
      ],
      "text/latex": [
       "\\begin{tabular}{r|lllll}\n",
       " Method & N = 100 & N = 150 & N = 250 & N = 500\\\\\n",
       "\\hline\n",
       "\t Causal Forest & 0.172         & 0.175         & 0.104         & 0.068        \\\\\n",
       "\t KNN-10        & 0.705         & 0.680         & 0.614         & 0.545        \\\\\n",
       "\t KNN-20        & 0.401         & 0.394         & 0.353         & 0.315        \\\\\n",
       "\\end{tabular}\n"
      ],
      "text/markdown": [
       "\n",
       "| Method | N = 100 | N = 150 | N = 250 | N = 500 |\n",
       "|---|---|---|---|---|\n",
       "| Causal Forest | 0.172         | 0.175         | 0.104         | 0.068         |\n",
       "| KNN-10        | 0.705         | 0.680         | 0.614         | 0.545         |\n",
       "| KNN-20        | 0.401         | 0.394         | 0.353         | 0.315         |\n",
       "\n"
      ],
      "text/plain": [
       "  Method        N = 100 N = 150 N = 250 N = 500\n",
       "1 Causal Forest 0.172   0.175   0.104   0.068  \n",
       "2 KNN-10        0.705   0.680   0.614   0.545  \n",
       "3 KNN-20        0.401   0.394   0.353   0.315  "
      ]
     },
     "metadata": {},
     "output_type": "display_data"
    }
   ],
   "source": [
    "#### moderate correlation of all regressors\n",
    "\n",
    "simstudy(p=10,numsim=100,dgp6)"
   ]
  },
  {
   "cell_type": "code",
   "execution_count": 167,
   "id": "c4bd10da",
   "metadata": {},
   "outputs": [
    {
     "data": {
      "text/html": [
       "<table>\n",
       "<thead><tr><th scope=col>Method</th><th scope=col>N = 100</th><th scope=col>N = 150</th><th scope=col>N = 250</th><th scope=col>N = 500</th></tr></thead>\n",
       "<tbody>\n",
       "\t<tr><td>Causal Forest</td><td>0.240        </td><td>0.142        </td><td>0.143        </td><td>0.076        </td></tr>\n",
       "\t<tr><td>KNN-10       </td><td>0.752        </td><td>0.721        </td><td>0.678        </td><td>0.542        </td></tr>\n",
       "\t<tr><td>KNN-20       </td><td>0.451        </td><td>0.417        </td><td>0.410        </td><td>0.314        </td></tr>\n",
       "</tbody>\n",
       "</table>\n"
      ],
      "text/latex": [
       "\\begin{tabular}{r|lllll}\n",
       " Method & N = 100 & N = 150 & N = 250 & N = 500\\\\\n",
       "\\hline\n",
       "\t Causal Forest & 0.240         & 0.142         & 0.143         & 0.076        \\\\\n",
       "\t KNN-10        & 0.752         & 0.721         & 0.678         & 0.542        \\\\\n",
       "\t KNN-20        & 0.451         & 0.417         & 0.410         & 0.314        \\\\\n",
       "\\end{tabular}\n"
      ],
      "text/markdown": [
       "\n",
       "| Method | N = 100 | N = 150 | N = 250 | N = 500 |\n",
       "|---|---|---|---|---|\n",
       "| Causal Forest | 0.240         | 0.142         | 0.143         | 0.076         |\n",
       "| KNN-10        | 0.752         | 0.721         | 0.678         | 0.542         |\n",
       "| KNN-20        | 0.451         | 0.417         | 0.410         | 0.314         |\n",
       "\n"
      ],
      "text/plain": [
       "  Method        N = 100 N = 150 N = 250 N = 500\n",
       "1 Causal Forest 0.240   0.142   0.143   0.076  \n",
       "2 KNN-10        0.752   0.721   0.678   0.542  \n",
       "3 KNN-20        0.451   0.417   0.410   0.314  "
      ]
     },
     "metadata": {},
     "output_type": "display_data"
    }
   ],
   "source": [
    "#### high POSITIVE correlation between variables that affect treatment heterogeneity\n",
    "\n",
    "simstudy(p=10,numsim=100,dgp62)"
   ]
  },
  {
   "cell_type": "code",
   "execution_count": 168,
   "id": "d74ae80d",
   "metadata": {},
   "outputs": [
    {
     "data": {
      "text/html": [
       "<table>\n",
       "<thead><tr><th scope=col>Method</th><th scope=col>N = 100</th><th scope=col>N = 150</th><th scope=col>N = 250</th><th scope=col>N = 500</th></tr></thead>\n",
       "<tbody>\n",
       "\t<tr><td>Causal Forest</td><td>0.212        </td><td>0.135        </td><td>0.095        </td><td>0.054        </td></tr>\n",
       "\t<tr><td>KNN-10       </td><td>0.701        </td><td>0.627        </td><td>0.554        </td><td>0.490        </td></tr>\n",
       "\t<tr><td>KNN-20       </td><td>0.419        </td><td>0.360        </td><td>0.321        </td><td>0.283        </td></tr>\n",
       "</tbody>\n",
       "</table>\n"
      ],
      "text/latex": [
       "\\begin{tabular}{r|lllll}\n",
       " Method & N = 100 & N = 150 & N = 250 & N = 500\\\\\n",
       "\\hline\n",
       "\t Causal Forest & 0.212         & 0.135         & 0.095         & 0.054        \\\\\n",
       "\t KNN-10        & 0.701         & 0.627         & 0.554         & 0.490        \\\\\n",
       "\t KNN-20        & 0.419         & 0.360         & 0.321         & 0.283        \\\\\n",
       "\\end{tabular}\n"
      ],
      "text/markdown": [
       "\n",
       "| Method | N = 100 | N = 150 | N = 250 | N = 500 |\n",
       "|---|---|---|---|---|\n",
       "| Causal Forest | 0.212         | 0.135         | 0.095         | 0.054         |\n",
       "| KNN-10        | 0.701         | 0.627         | 0.554         | 0.490         |\n",
       "| KNN-20        | 0.419         | 0.360         | 0.321         | 0.283         |\n",
       "\n"
      ],
      "text/plain": [
       "  Method        N = 100 N = 150 N = 250 N = 500\n",
       "1 Causal Forest 0.212   0.135   0.095   0.054  \n",
       "2 KNN-10        0.701   0.627   0.554   0.490  \n",
       "3 KNN-20        0.419   0.360   0.321   0.283  "
      ]
     },
     "metadata": {},
     "output_type": "display_data"
    }
   ],
   "source": [
    "#### high NEGATIVE correlation between variables that affect treatment heterogeneity\n",
    "\n",
    "simstudy(p=10,numsim=100,dgp64)"
   ]
  },
  {
   "cell_type": "code",
   "execution_count": 191,
   "id": "abb8421a",
   "metadata": {},
   "outputs": [
    {
     "data": {
      "text/html": [
       "<table>\n",
       "<thead><tr><th scope=col>Method</th><th scope=col>N = 100</th><th scope=col>N = 150</th><th scope=col>N = 250</th><th scope=col>N = 500</th></tr></thead>\n",
       "<tbody>\n",
       "\t<tr><td>Causal Forest</td><td>0.260        </td><td>0.171        </td><td>0.110        </td><td>0.077        </td></tr>\n",
       "\t<tr><td>KNN-10       </td><td>0.882        </td><td>0.795        </td><td>0.705        </td><td>0.580        </td></tr>\n",
       "\t<tr><td>KNN-20       </td><td>0.551        </td><td>0.489        </td><td>0.444        </td><td>0.348        </td></tr>\n",
       "</tbody>\n",
       "</table>\n"
      ],
      "text/latex": [
       "\\begin{tabular}{r|lllll}\n",
       " Method & N = 100 & N = 150 & N = 250 & N = 500\\\\\n",
       "\\hline\n",
       "\t Causal Forest & 0.260         & 0.171         & 0.110         & 0.077        \\\\\n",
       "\t KNN-10        & 0.882         & 0.795         & 0.705         & 0.580        \\\\\n",
       "\t KNN-20        & 0.551         & 0.489         & 0.444         & 0.348        \\\\\n",
       "\\end{tabular}\n"
      ],
      "text/markdown": [
       "\n",
       "| Method | N = 100 | N = 150 | N = 250 | N = 500 |\n",
       "|---|---|---|---|---|\n",
       "| Causal Forest | 0.260         | 0.171         | 0.110         | 0.077         |\n",
       "| KNN-10        | 0.882         | 0.795         | 0.705         | 0.580         |\n",
       "| KNN-20        | 0.551         | 0.489         | 0.444         | 0.348         |\n",
       "\n"
      ],
      "text/plain": [
       "  Method        N = 100 N = 150 N = 250 N = 500\n",
       "1 Causal Forest 0.260   0.171   0.110   0.077  \n",
       "2 KNN-10        0.882   0.795   0.705   0.580  \n",
       "3 KNN-20        0.551   0.489   0.444   0.348  "
      ]
     },
     "metadata": {},
     "output_type": "display_data"
    }
   ],
   "source": [
    "#### high correlation between variables that affect treatment heterogeneity \n",
    "#### AND \n",
    "#### moderate correlation between regressors 5,7 and 9\n",
    "\n",
    "simstudy(p=10,numsim=100,dgp63)"
   ]
  },
  {
   "cell_type": "code",
   "execution_count": 170,
   "id": "109a8aa1",
   "metadata": {
    "scrolled": true
   },
   "outputs": [
    {
     "data": {
      "text/html": [
       "<table>\n",
       "<thead><tr><th scope=col>Method</th><th scope=col>N = 100</th><th scope=col>N = 150</th><th scope=col>N = 250</th><th scope=col>N = 500</th></tr></thead>\n",
       "<tbody>\n",
       "\t<tr><td>Causal Forest</td><td>0.269        </td><td>0.152        </td><td>0.111        </td><td>0.085        </td></tr>\n",
       "\t<tr><td>KNN-10       </td><td>0.846        </td><td>0.703        </td><td>0.665        </td><td>0.556        </td></tr>\n",
       "\t<tr><td>KNN-20       </td><td>0.532        </td><td>0.421        </td><td>0.404        </td><td>0.328        </td></tr>\n",
       "</tbody>\n",
       "</table>\n"
      ],
      "text/latex": [
       "\\begin{tabular}{r|lllll}\n",
       " Method & N = 100 & N = 150 & N = 250 & N = 500\\\\\n",
       "\\hline\n",
       "\t Causal Forest & 0.269         & 0.152         & 0.111         & 0.085        \\\\\n",
       "\t KNN-10        & 0.846         & 0.703         & 0.665         & 0.556        \\\\\n",
       "\t KNN-20        & 0.532         & 0.421         & 0.404         & 0.328        \\\\\n",
       "\\end{tabular}\n"
      ],
      "text/markdown": [
       "\n",
       "| Method | N = 100 | N = 150 | N = 250 | N = 500 |\n",
       "|---|---|---|---|---|\n",
       "| Causal Forest | 0.269         | 0.152         | 0.111         | 0.085         |\n",
       "| KNN-10        | 0.846         | 0.703         | 0.665         | 0.556         |\n",
       "| KNN-20        | 0.532         | 0.421         | 0.404         | 0.328         |\n",
       "\n"
      ],
      "text/plain": [
       "  Method        N = 100 N = 150 N = 250 N = 500\n",
       "1 Causal Forest 0.269   0.152   0.111   0.085  \n",
       "2 KNN-10        0.846   0.703   0.665   0.556  \n",
       "3 KNN-20        0.532   0.421   0.404   0.328  "
      ]
     },
     "metadata": {},
     "output_type": "display_data"
    }
   ],
   "source": [
    "#### high correlation between variables that affect treatment heterogeneity \n",
    "#### AND \n",
    "#### moderate correlation between regressors 5,7,9\n",
    "\n",
    "simstudy(p=10,numsim=100,dgp63)"
   ]
  },
  {
   "cell_type": "code",
   "execution_count": 179,
   "id": "7a729ffe",
   "metadata": {},
   "outputs": [],
   "source": [
    "dgp65 <- function(p,N) { \n",
    "    \n",
    "    mu <- rep(0,p)\n",
    "    Sigma <- 1\n",
    "    sigma1 <- matrix(rep(0.5),3,3)\n",
    "    for (i in 1:3){\n",
    "        sigma1[i,i] <- Sigma\n",
    "    }\n",
    "    \n",
    "    sigma <- diag(Sigma, p, p)\n",
    "    #sigma[1,2] <- 0.9\n",
    "    #sigma[2,1] <- 0.9\n",
    "    \n",
    "    X <- mvrnorm(N, mu, sigma)\n",
    "\n",
    "    W <- sample(c(0,1), N, replace = TRUE, prob = c(0.5, 0.5))\n",
    "\n",
    "    b_vec <- seq(0.5,1,length.out = p)\n",
    "    \n",
    "    #### true treatment effect \n",
    "    t <- 0.1 + X[,1]*ifelse(X[,1] > 0, 1, 0) +  X[,2]*ifelse(X[,2] > 0, 1, 0)\n",
    "    \n",
    "    Y <- X %*% b_vec + t*W + rnorm(N,0,0.1)\n",
    "    df <- data.frame(Y,W,t,X)\n",
    "    \n",
    "    return(df)\n",
    "}"
   ]
  },
  {
   "cell_type": "code",
   "execution_count": 180,
   "id": "02dd5b24",
   "metadata": {},
   "outputs": [
    {
     "data": {
      "text/html": [
       "<table>\n",
       "<thead><tr><th scope=col>Method</th><th scope=col>N = 100</th><th scope=col>N = 150</th><th scope=col>N = 250</th><th scope=col>N = 500</th></tr></thead>\n",
       "<tbody>\n",
       "\t<tr><td>Causal Forest</td><td>0.875        </td><td>0.677        </td><td>0.555        </td><td>0.391        </td></tr>\n",
       "\t<tr><td>KNN-10       </td><td>1.144        </td><td>1.035        </td><td>0.955        </td><td>0.835        </td></tr>\n",
       "\t<tr><td>KNN-20       </td><td>0.910        </td><td>0.792        </td><td>0.730        </td><td>0.635        </td></tr>\n",
       "</tbody>\n",
       "</table>\n"
      ],
      "text/latex": [
       "\\begin{tabular}{r|lllll}\n",
       " Method & N = 100 & N = 150 & N = 250 & N = 500\\\\\n",
       "\\hline\n",
       "\t Causal Forest & 0.875         & 0.677         & 0.555         & 0.391        \\\\\n",
       "\t KNN-10        & 1.144         & 1.035         & 0.955         & 0.835        \\\\\n",
       "\t KNN-20        & 0.910         & 0.792         & 0.730         & 0.635        \\\\\n",
       "\\end{tabular}\n"
      ],
      "text/markdown": [
       "\n",
       "| Method | N = 100 | N = 150 | N = 250 | N = 500 |\n",
       "|---|---|---|---|---|\n",
       "| Causal Forest | 0.875         | 0.677         | 0.555         | 0.391         |\n",
       "| KNN-10        | 1.144         | 1.035         | 0.955         | 0.835         |\n",
       "| KNN-20        | 0.910         | 0.792         | 0.730         | 0.635         |\n",
       "\n"
      ],
      "text/plain": [
       "  Method        N = 100 N = 150 N = 250 N = 500\n",
       "1 Causal Forest 0.875   0.677   0.555   0.391  \n",
       "2 KNN-10        1.144   1.035   0.955   0.835  \n",
       "3 KNN-20        0.910   0.792   0.730   0.635  "
      ]
     },
     "metadata": {},
     "output_type": "display_data"
    }
   ],
   "source": [
    "#### Comparison to case 3\n",
    "\n",
    "simstudy(p=10,numsim=100,dgp65)"
   ]
  },
  {
   "cell_type": "code",
   "execution_count": 187,
   "id": "bab85a61",
   "metadata": {},
   "outputs": [],
   "source": [
    "dgp66 <- function(p,N) { \n",
    "    \n",
    "    mu <- rep(0,p)\n",
    "    Sigma <- 1\n",
    "    sigma <- diag(Sigma, p, p)\n",
    "    sigma[1,2] <- 0.9\n",
    "    sigma[2,1] <- 0.9\n",
    "    \n",
    "    X <- mvrnorm(N, mu, sigma)\n",
    "\n",
    "    W <- sample(c(0,1), N, replace = TRUE, prob = c(0.5, 0.5))\n",
    "\n",
    "    b_vec <- seq(0.5,1,length.out = p)\n",
    "    \n",
    "    #### true treatment effect \n",
    "    t <- 0.1 + X[,1]*ifelse(X[,1] > 0, 1, 0) +  X[,2]*ifelse(X[,2] > 0, 1, 0)\n",
    "    \n",
    "    Y <- X %*% b_vec + t*W + rnorm(N,0,0.1)\n",
    "    df <- data.frame(Y,W,t,X)\n",
    "    \n",
    "    return(df)\n",
    "}"
   ]
  },
  {
   "cell_type": "code",
   "execution_count": 189,
   "id": "f74590da",
   "metadata": {},
   "outputs": [
    {
     "data": {
      "text/html": [
       "<table>\n",
       "<thead><tr><th scope=col>Method</th><th scope=col>N = 100</th><th scope=col>N = 150</th><th scope=col>N = 250</th><th scope=col>N = 500</th></tr></thead>\n",
       "<tbody>\n",
       "\t<tr><td>Causal Forest</td><td>1.250        </td><td>0.897        </td><td>0.548        </td><td>0.308        </td></tr>\n",
       "\t<tr><td>KNN-10       </td><td>1.337        </td><td>1.195        </td><td>1.037        </td><td>0.838        </td></tr>\n",
       "\t<tr><td>KNN-20       </td><td>1.180        </td><td>1.022        </td><td>0.838        </td><td>0.666        </td></tr>\n",
       "</tbody>\n",
       "</table>\n"
      ],
      "text/latex": [
       "\\begin{tabular}{r|lllll}\n",
       " Method & N = 100 & N = 150 & N = 250 & N = 500\\\\\n",
       "\\hline\n",
       "\t Causal Forest & 1.250         & 0.897         & 0.548         & 0.308        \\\\\n",
       "\t KNN-10        & 1.337         & 1.195         & 1.037         & 0.838        \\\\\n",
       "\t KNN-20        & 1.180         & 1.022         & 0.838         & 0.666        \\\\\n",
       "\\end{tabular}\n"
      ],
      "text/markdown": [
       "\n",
       "| Method | N = 100 | N = 150 | N = 250 | N = 500 |\n",
       "|---|---|---|---|---|\n",
       "| Causal Forest | 1.250         | 0.897         | 0.548         | 0.308         |\n",
       "| KNN-10        | 1.337         | 1.195         | 1.037         | 0.838         |\n",
       "| KNN-20        | 1.180         | 1.022         | 0.838         | 0.666         |\n",
       "\n"
      ],
      "text/plain": [
       "  Method        N = 100 N = 150 N = 250 N = 500\n",
       "1 Causal Forest 1.250   0.897   0.548   0.308  \n",
       "2 KNN-10        1.337   1.195   1.037   0.838  \n",
       "3 KNN-20        1.180   1.022   0.838   0.666  "
      ]
     },
     "metadata": {},
     "output_type": "display_data"
    }
   ],
   "source": [
    "#### Comparison to case 3\n",
    "\n",
    "simstudy(p=10,numsim=100,dgp66)"
   ]
  },
  {
   "cell_type": "code",
   "execution_count": 188,
   "id": "dcabf71a",
   "metadata": {},
   "outputs": [],
   "source": [
    "dgp67 <- function(p,N) { \n",
    "    \n",
    "    mu <- rep(0,p)\n",
    "    Sigma <- 1\n",
    "    sigma <- diag(Sigma, p, p)\n",
    "    sigma[1,2] <- 0.9\n",
    "    sigma[2,1] <- 0.9\n",
    "    sigma[7,5] <- 0.5\n",
    "    sigma[5,7] <- 0.5\n",
    "    sigma[9,5] <- 0.5\n",
    "    sigma[5,9] <- 0.5\n",
    "    sigma[9,7] <- 0.5\n",
    "    sigma[7,9] <- 0.5\n",
    "    \n",
    "    X <- mvrnorm(N, mu, sigma)\n",
    "\n",
    "    W <- sample(c(0,1), N, replace = TRUE, prob = c(0.5, 0.5))\n",
    "\n",
    "    b_vec <- seq(0.5,1,length.out = p)\n",
    "    \n",
    "    #### true treatment effect \n",
    "    t <- 0.1 + X[,1]*ifelse(X[,1] > 0, 1, 0) +  X[,2]*ifelse(X[,2] > 0, 1, 0)\n",
    "    \n",
    "    Y <- X %*% b_vec + t*W + rnorm(N,0,0.1)\n",
    "    df <- data.frame(Y,W,t,X)\n",
    "    \n",
    "    return(df)\n",
    "}"
   ]
  },
  {
   "cell_type": "code",
   "execution_count": 184,
   "id": "d58b93a7",
   "metadata": {},
   "outputs": [
    {
     "data": {
      "text/html": [
       "<table>\n",
       "<thead><tr><th scope=col>Method</th><th scope=col>N = 100</th><th scope=col>N = 150</th><th scope=col>N = 250</th><th scope=col>N = 500</th></tr></thead>\n",
       "<tbody>\n",
       "\t<tr><td>Causal Forest</td><td>1.217        </td><td>0.927        </td><td>0.570        </td><td>0.305        </td></tr>\n",
       "\t<tr><td>KNN-10       </td><td>1.374        </td><td>1.225        </td><td>1.055        </td><td>0.862        </td></tr>\n",
       "\t<tr><td>KNN-20       </td><td>1.193        </td><td>1.027        </td><td>0.855        </td><td>0.675        </td></tr>\n",
       "</tbody>\n",
       "</table>\n"
      ],
      "text/latex": [
       "\\begin{tabular}{r|lllll}\n",
       " Method & N = 100 & N = 150 & N = 250 & N = 500\\\\\n",
       "\\hline\n",
       "\t Causal Forest & 1.217         & 0.927         & 0.570         & 0.305        \\\\\n",
       "\t KNN-10        & 1.374         & 1.225         & 1.055         & 0.862        \\\\\n",
       "\t KNN-20        & 1.193         & 1.027         & 0.855         & 0.675        \\\\\n",
       "\\end{tabular}\n"
      ],
      "text/markdown": [
       "\n",
       "| Method | N = 100 | N = 150 | N = 250 | N = 500 |\n",
       "|---|---|---|---|---|\n",
       "| Causal Forest | 1.217         | 0.927         | 0.570         | 0.305         |\n",
       "| KNN-10        | 1.374         | 1.225         | 1.055         | 0.862         |\n",
       "| KNN-20        | 1.193         | 1.027         | 0.855         | 0.675         |\n",
       "\n"
      ],
      "text/plain": [
       "  Method        N = 100 N = 150 N = 250 N = 500\n",
       "1 Causal Forest 1.217   0.927   0.570   0.305  \n",
       "2 KNN-10        1.374   1.225   1.055   0.862  \n",
       "3 KNN-20        1.193   1.027   0.855   0.675  "
      ]
     },
     "metadata": {},
     "output_type": "display_data"
    }
   ],
   "source": [
    "#### Comparison to case 3\n",
    "\n",
    "simstudy(p=10,numsim=100,dgp67)"
   ]
  },
  {
   "cell_type": "code",
   "execution_count": 186,
   "id": "24675adc",
   "metadata": {},
   "outputs": [
    {
     "data": {
      "text/html": [
       "<table>\n",
       "<thead><tr><th scope=col>Method</th><th scope=col>N = 100</th><th scope=col>N = 150</th><th scope=col>N = 250</th><th scope=col>N = 500</th></tr></thead>\n",
       "<tbody>\n",
       "\t<tr><td>Causal Forest</td><td>1.300        </td><td>1.005        </td><td>0.587        </td><td>0.306        </td></tr>\n",
       "\t<tr><td>KNN-10       </td><td>1.481        </td><td>1.271        </td><td>1.057        </td><td>0.898        </td></tr>\n",
       "\t<tr><td>KNN-20       </td><td>1.283        </td><td>1.085        </td><td>0.862        </td><td>0.705        </td></tr>\n",
       "</tbody>\n",
       "</table>\n"
      ],
      "text/latex": [
       "\\begin{tabular}{r|lllll}\n",
       " Method & N = 100 & N = 150 & N = 250 & N = 500\\\\\n",
       "\\hline\n",
       "\t Causal Forest & 1.300         & 1.005         & 0.587         & 0.306        \\\\\n",
       "\t KNN-10        & 1.481         & 1.271         & 1.057         & 0.898        \\\\\n",
       "\t KNN-20        & 1.283         & 1.085         & 0.862         & 0.705        \\\\\n",
       "\\end{tabular}\n"
      ],
      "text/markdown": [
       "\n",
       "| Method | N = 100 | N = 150 | N = 250 | N = 500 |\n",
       "|---|---|---|---|---|\n",
       "| Causal Forest | 1.300         | 1.005         | 0.587         | 0.306         |\n",
       "| KNN-10        | 1.481         | 1.271         | 1.057         | 0.898         |\n",
       "| KNN-20        | 1.283         | 1.085         | 0.862         | 0.705         |\n",
       "\n"
      ],
      "text/plain": [
       "  Method        N = 100 N = 150 N = 250 N = 500\n",
       "1 Causal Forest 1.300   1.005   0.587   0.306  \n",
       "2 KNN-10        1.481   1.271   1.057   0.898  \n",
       "3 KNN-20        1.283   1.085   0.862   0.705  "
      ]
     },
     "metadata": {},
     "output_type": "display_data"
    }
   ],
   "source": [
    "#### Comparison to case 3\n",
    "\n",
    "simstudy(p=10,numsim=100,dgp66)"
   ]
  },
  {
   "cell_type": "markdown",
   "id": "f4696c70",
   "metadata": {},
   "source": [
    "### Case 7.1 - Simple Treatment Heterogeneity and only a few regressors influence $Y$\n",
    "\n",
    "$$\\tau(x) = 0.1 + 0.1*\\mathbb{1}(x_1 > 0) + 0.1*\\mathbb{1}(x_2 > 0)$$\n",
    "\n",
    "$$\\beta_4, ..., \\beta_{10} = 0$$\n",
    "\n",
    "* Basically Case 9 with fewer regressors!"
   ]
  },
  {
   "cell_type": "code",
   "execution_count": 171,
   "id": "3a08709c",
   "metadata": {},
   "outputs": [],
   "source": [
    "dgp7 <- function(p,N) { \n",
    "    \n",
    "    X <- matrix(rnorm(n=N*p,0,1), N, p)\n",
    "\n",
    "    W <- sample(c(0,1), N, replace = TRUE, prob = c(0.5, 0.5))\n",
    "\n",
    "    b_vec <- seq(0.5,1,length.out = p)\n",
    "    b_vec[4:p] <- 0\n",
    "    \n",
    "    #### true treatment effect \n",
    "    t <- 0.1 + 0.1*ifelse(X[,1] > 0, 1, 0) +  0.1*ifelse(X[,2] > 0, 1, 0)\n",
    "    \n",
    "    Y <- X %*% b_vec + t*W + rnorm(N,0,0.1)\n",
    "    df <- data.frame(Y,W,t,X)\n",
    "    \n",
    "    return(df)\n",
    "}"
   ]
  },
  {
   "cell_type": "code",
   "execution_count": 172,
   "id": "1ed436e0",
   "metadata": {},
   "outputs": [
    {
     "data": {
      "text/html": [
       "<table>\n",
       "<thead><tr><th scope=col>Method</th><th scope=col>N = 100</th><th scope=col>N = 150</th><th scope=col>N = 250</th><th scope=col>N = 500</th></tr></thead>\n",
       "<tbody>\n",
       "\t<tr><td>Causal Forest</td><td>0.042        </td><td>0.033        </td><td>0.025        </td><td>0.008        </td></tr>\n",
       "\t<tr><td>KNN-10       </td><td>0.124        </td><td>0.111        </td><td>0.105        </td><td>0.091        </td></tr>\n",
       "\t<tr><td>KNN-20       </td><td>0.075        </td><td>0.065        </td><td>0.064        </td><td>0.053        </td></tr>\n",
       "</tbody>\n",
       "</table>\n"
      ],
      "text/latex": [
       "\\begin{tabular}{r|lllll}\n",
       " Method & N = 100 & N = 150 & N = 250 & N = 500\\\\\n",
       "\\hline\n",
       "\t Causal Forest & 0.042         & 0.033         & 0.025         & 0.008        \\\\\n",
       "\t KNN-10        & 0.124         & 0.111         & 0.105         & 0.091        \\\\\n",
       "\t KNN-20        & 0.075         & 0.065         & 0.064         & 0.053        \\\\\n",
       "\\end{tabular}\n"
      ],
      "text/markdown": [
       "\n",
       "| Method | N = 100 | N = 150 | N = 250 | N = 500 |\n",
       "|---|---|---|---|---|\n",
       "| Causal Forest | 0.042         | 0.033         | 0.025         | 0.008         |\n",
       "| KNN-10        | 0.124         | 0.111         | 0.105         | 0.091         |\n",
       "| KNN-20        | 0.075         | 0.065         | 0.064         | 0.053         |\n",
       "\n"
      ],
      "text/plain": [
       "  Method        N = 100 N = 150 N = 250 N = 500\n",
       "1 Causal Forest 0.042   0.033   0.025   0.008  \n",
       "2 KNN-10        0.124   0.111   0.105   0.091  \n",
       "3 KNN-20        0.075   0.065   0.064   0.053  "
      ]
     },
     "metadata": {},
     "output_type": "display_data"
    }
   ],
   "source": [
    "simstudy(p=10,numsim=100,dgp7)"
   ]
  },
  {
   "cell_type": "markdown",
   "id": "ffc675ca",
   "metadata": {},
   "source": [
    "### Case 7.2 - Simple Treatment Heterogeneity and only a few regressors influence $Y$\n",
    "\n",
    "$$\\tau(x) = 0.1 + 0.1*\\mathbb{1}(x_1 > 0) + 0.1*\\mathbb{1}(x_2 > 0)$$\n",
    "\n",
    "$$\\beta_1, \\beta_2 = 0$$\n",
    "\n",
    "* **Now:** Two regressors influence treatment heterogeneity, but don't not influence $Y$!"
   ]
  },
  {
   "cell_type": "code",
   "execution_count": 173,
   "id": "9a5e3fd0",
   "metadata": {},
   "outputs": [],
   "source": [
    "dgp72 <- function(p,N) { \n",
    "    \n",
    "    X <- matrix(rnorm(n=N*p,0,1), N, p)\n",
    "\n",
    "    W <- sample(c(0,1), N, replace = TRUE, prob = c(0.5, 0.5))\n",
    "\n",
    "    b_vec <- seq(0.5,1,length.out = p)\n",
    "    #b_vec[5:p] <- 0\n",
    "    b_vec[1:2] <- 0\n",
    "    \n",
    "    #### true treatment effect \n",
    "    t <- 0.1 + 0.1*ifelse(X[,1] > 0, 1, 0) +  0.1*ifelse(X[,2] > 0, 1, 0)\n",
    "    \n",
    "    Y <- X %*% b_vec + t*W + rnorm(N,0,0.1)\n",
    "    df <- data.frame(Y,W,t,X)\n",
    "    \n",
    "    return(df)\n",
    "}"
   ]
  },
  {
   "cell_type": "code",
   "execution_count": 174,
   "id": "8bd187d6",
   "metadata": {},
   "outputs": [
    {
     "data": {
      "text/html": [
       "<table>\n",
       "<thead><tr><th scope=col>Method</th><th scope=col>N = 100</th><th scope=col>N = 150</th><th scope=col>N = 250</th><th scope=col>N = 500</th></tr></thead>\n",
       "<tbody>\n",
       "\t<tr><td>Causal Forest</td><td>0.205        </td><td>0.149        </td><td>0.107        </td><td>0.064        </td></tr>\n",
       "\t<tr><td>KNN-10       </td><td>0.697        </td><td>0.605        </td><td>0.556        </td><td>0.482        </td></tr>\n",
       "\t<tr><td>KNN-20       </td><td>0.416        </td><td>0.356        </td><td>0.317        </td><td>0.279        </td></tr>\n",
       "</tbody>\n",
       "</table>\n"
      ],
      "text/latex": [
       "\\begin{tabular}{r|lllll}\n",
       " Method & N = 100 & N = 150 & N = 250 & N = 500\\\\\n",
       "\\hline\n",
       "\t Causal Forest & 0.205         & 0.149         & 0.107         & 0.064        \\\\\n",
       "\t KNN-10        & 0.697         & 0.605         & 0.556         & 0.482        \\\\\n",
       "\t KNN-20        & 0.416         & 0.356         & 0.317         & 0.279        \\\\\n",
       "\\end{tabular}\n"
      ],
      "text/markdown": [
       "\n",
       "| Method | N = 100 | N = 150 | N = 250 | N = 500 |\n",
       "|---|---|---|---|---|\n",
       "| Causal Forest | 0.205         | 0.149         | 0.107         | 0.064         |\n",
       "| KNN-10        | 0.697         | 0.605         | 0.556         | 0.482         |\n",
       "| KNN-20        | 0.416         | 0.356         | 0.317         | 0.279         |\n",
       "\n"
      ],
      "text/plain": [
       "  Method        N = 100 N = 150 N = 250 N = 500\n",
       "1 Causal Forest 0.205   0.149   0.107   0.064  \n",
       "2 KNN-10        0.697   0.605   0.556   0.482  \n",
       "3 KNN-20        0.416   0.356   0.317   0.279  "
      ]
     },
     "metadata": {},
     "output_type": "display_data"
    }
   ],
   "source": [
    "simstudy(p=10,numsim=100,dgp72)"
   ]
  },
  {
   "cell_type": "markdown",
   "id": "d0366b6f",
   "metadata": {},
   "source": [
    "### Case 8 - Treatment Probability depends on $X$\n",
    "\n",
    "$$Prob(W_i = 1 \\mid X_1>0) = 0.75 $$\n",
    "\n",
    "$$Prob(W_i = 1 \\mid X_1<0) = 0.25 $$\n",
    "\n",
    "$$\\tau(x) = 0.1 + 0.1*\\mathbb{1}(x_1 > 0) + 0.1*\\mathbb{1}(x_2 > 0)$$\n",
    "\n",
    "**Description & Result**\n",
    "\n",
    "Before Marginal Treatment Probability has been fixed at 0.5 for all individuals. In this scenario Selection Bias will be introduced. Those individuals profiting more from Treatment, i.e. individuals with positive values in the $X_1$ characteristic, are more likely to be assigned to Treatment. Treatment probability for $X_1 > 0$ is 0.75, whereas Treatment Probability for $X_1 < 0$ is only 0.25. We see a slight increase in $MSE_{\\tau}$ compared to Case 2 for 100 and 150 observations, but both methods perform relatively worse for 500 observations, indicating that the performance with selection bias cannot quite keep up in large scale samples."
   ]
  },
  {
   "cell_type": "code",
   "execution_count": 16,
   "id": "fc0872eb",
   "metadata": {},
   "outputs": [],
   "source": [
    "dgp8 <- function(p,N) { \n",
    "    \n",
    "    X <- matrix(rnorm(n=N*p,0,1), N, p)\n",
    "\n",
    "    W <- ifelse(X[,1] > 0, sample(c(0,1), N, replace = TRUE, prob = c(0.25, 0.75))\n",
    "                ,sample(c(0,1), N, replace = TRUE, prob = c(0.75, 0.25)))\n",
    "\n",
    "    b_vec <- seq(0.5,1,length.out = p)\n",
    "    \n",
    "    #### true treatment effect \n",
    "    t <- 0.1 + 0.1*ifelse(X[,1] > 0, 1, 0) +  0.1*ifelse(X[,2] > 0, 1, 0)\n",
    "    \n",
    "    Y <- X %*% b_vec + t*W + rnorm(N,0,0.1)\n",
    "    df <- data.frame(Y,W,t,X)\n",
    "    \n",
    "    return(df)\n",
    "}"
   ]
  },
  {
   "cell_type": "code",
   "execution_count": 17,
   "id": "902d3207",
   "metadata": {},
   "outputs": [
    {
     "data": {
      "text/html": [
       "<table>\n",
       "<thead><tr><th scope=col>Method</th><th scope=col>N = 100</th><th scope=col>N = 150</th><th scope=col>N = 250</th><th scope=col>N = 500</th></tr></thead>\n",
       "<tbody>\n",
       "\t<tr><td>Causal Forest</td><td>0.328        </td><td>0.336        </td><td>0.281        </td><td>0.205        </td></tr>\n",
       "\t<tr><td>KNN-10       </td><td>0.842        </td><td>0.779        </td><td>0.718        </td><td>0.606        </td></tr>\n",
       "\t<tr><td>KNN-20       </td><td>0.551        </td><td>0.523        </td><td>0.481        </td><td>0.387        </td></tr>\n",
       "</tbody>\n",
       "</table>\n"
      ],
      "text/latex": [
       "\\begin{tabular}{r|lllll}\n",
       " Method & N = 100 & N = 150 & N = 250 & N = 500\\\\\n",
       "\\hline\n",
       "\t Causal Forest & 0.328         & 0.336         & 0.281         & 0.205        \\\\\n",
       "\t KNN-10        & 0.842         & 0.779         & 0.718         & 0.606        \\\\\n",
       "\t KNN-20        & 0.551         & 0.523         & 0.481         & 0.387        \\\\\n",
       "\\end{tabular}\n"
      ],
      "text/markdown": [
       "\n",
       "| Method | N = 100 | N = 150 | N = 250 | N = 500 |\n",
       "|---|---|---|---|---|\n",
       "| Causal Forest | 0.328         | 0.336         | 0.281         | 0.205         |\n",
       "| KNN-10        | 0.842         | 0.779         | 0.718         | 0.606         |\n",
       "| KNN-20        | 0.551         | 0.523         | 0.481         | 0.387         |\n",
       "\n"
      ],
      "text/plain": [
       "  Method        N = 100 N = 150 N = 250 N = 500\n",
       "1 Causal Forest 0.328   0.336   0.281   0.205  \n",
       "2 KNN-10        0.842   0.779   0.718   0.606  \n",
       "3 KNN-20        0.551   0.523   0.481   0.387  "
      ]
     },
     "metadata": {},
     "output_type": "display_data"
    }
   ],
   "source": [
    "simstudy(p=10,numsim=100,dgp8)"
   ]
  },
  {
   "cell_type": "code",
   "execution_count": null,
   "id": "d51af2bb",
   "metadata": {},
   "outputs": [],
   "source": []
  },
  {
   "cell_type": "markdown",
   "id": "05944f2d",
   "metadata": {},
   "source": [
    "### Case 9 - Simple Treatment Heterogeneity and number of regressors\n",
    "\n",
    "$$\\tau(x) = 0.1 + 0.1*\\mathbb{1}(x_1 > 0) + 0.1*\\mathbb{1}(x_2 > 0)$$\n",
    "\n",
    "\n",
    "$$ p \\in \\{4,10,20,50,100\\}$$\n",
    "\n",
    "**Description & Result**\n",
    "\n",
    "In this final scenario performance with a different number of regressors is compared. Number of regressors is varied between 4 and 100. This comparison is interesting in applications where the researcher might have a dataset containing a lot of different characteristics. \n",
    "\n",
    "I find that the overall performance decreases if more regressors are added. An interesting finding is that the KNN methods can't really improve their performance over the number of observations, whereas Causal Forest signficantly decreases $MSE_{\\tau}$ going from 100 to 500 observations. So, even if one has a high dimensional data set, this simulation study shows that if the number of observations is quite large the Causal Forest will perform quite well. THe relatively well performance of the Causal Forest in high dimensional space can be explained theoretically by it's variable selection feature. By training the trees with only the most \"important\" variables, only a couple variables will be selected by the Causal Tree overall. On the other hand, KNN tries to find the closest neighbors in the Euclidean Space and is therefore not reducing dimensionality. \n",
    "\n",
    "* Economic Setting: Higher Dimensional Datasets, Purpose?\n",
    "\n",
    "* **Warum wird die Treatment Vorhersage schlechter je mehr Regressoren verwendet werden???**\n",
    "\n",
    "* **Intuition**\n",
    "\n",
    "* CF auch im high dimensional space better, since it performs a kind of variable selection, by training the trees with only the most important variables!\n",
    "\n",
    "* no big increase in MSE going from 50 to 100 regressors. Good sign for Application purposes!"
   ]
  },
  {
   "cell_type": "code",
   "execution_count": 16,
   "id": "add9b790",
   "metadata": {},
   "outputs": [],
   "source": [
    "dgp2 <- function(p,N) { \n",
    "    \n",
    "    X <- matrix(rnorm(n=N*p,0,1), N, p)\n",
    "\n",
    "    W <- sample(c(0,1), N, replace = TRUE, prob = c(0.5, 0.5))\n",
    "\n",
    "    b_vec <- seq(0.5,1,length.out = p)\n",
    "    \n",
    "    #### true treatment effect \n",
    "    t <- 0.1 + 0.1*ifelse(X[,1] > 0, 1, 0) +  0.1*ifelse(X[,2] > 0, 1, 0)\n",
    "    \n",
    "    Y <- X %*% b_vec + t*W + rnorm(N,0,0.1)\n",
    "    df <- data.frame(Y,W,t,X)\n",
    "    \n",
    "    return(df)\n",
    "}"
   ]
  },
  {
   "cell_type": "code",
   "execution_count": 17,
   "id": "76f63507",
   "metadata": {},
   "outputs": [
    {
     "data": {
      "text/html": [
       "<table>\n",
       "<thead><tr><th scope=col>Method</th><th scope=col>N = 100</th><th scope=col>N = 150</th><th scope=col>N = 250</th><th scope=col>N = 500</th></tr></thead>\n",
       "<tbody>\n",
       "\t<tr><td>Causal Forest</td><td>0.097        </td><td>0.064        </td><td>0.052        </td><td>0.040        </td></tr>\n",
       "\t<tr><td>KNN-10       </td><td>0.213        </td><td>0.184        </td><td>0.144        </td><td>0.108        </td></tr>\n",
       "\t<tr><td>KNN-20       </td><td>0.148        </td><td>0.129        </td><td>0.097        </td><td>0.073        </td></tr>\n",
       "</tbody>\n",
       "</table>\n"
      ],
      "text/latex": [
       "\\begin{tabular}{r|lllll}\n",
       " Method & N = 100 & N = 150 & N = 250 & N = 500\\\\\n",
       "\\hline\n",
       "\t Causal Forest & 0.097         & 0.064         & 0.052         & 0.040        \\\\\n",
       "\t KNN-10        & 0.213         & 0.184         & 0.144         & 0.108        \\\\\n",
       "\t KNN-20        & 0.148         & 0.129         & 0.097         & 0.073        \\\\\n",
       "\\end{tabular}\n"
      ],
      "text/markdown": [
       "\n",
       "| Method | N = 100 | N = 150 | N = 250 | N = 500 |\n",
       "|---|---|---|---|---|\n",
       "| Causal Forest | 0.097         | 0.064         | 0.052         | 0.040         |\n",
       "| KNN-10        | 0.213         | 0.184         | 0.144         | 0.108         |\n",
       "| KNN-20        | 0.148         | 0.129         | 0.097         | 0.073         |\n",
       "\n"
      ],
      "text/plain": [
       "  Method        N = 100 N = 150 N = 250 N = 500\n",
       "1 Causal Forest 0.097   0.064   0.052   0.040  \n",
       "2 KNN-10        0.213   0.184   0.144   0.108  \n",
       "3 KNN-20        0.148   0.129   0.097   0.073  "
      ]
     },
     "metadata": {},
     "output_type": "display_data"
    }
   ],
   "source": [
    "simstudy(p=4,numsim=100,dgp2)"
   ]
  },
  {
   "cell_type": "code",
   "execution_count": 18,
   "id": "f49a4e4a",
   "metadata": {},
   "outputs": [
    {
     "data": {
      "text/html": [
       "<table>\n",
       "<thead><tr><th scope=col>Method</th><th scope=col>N = 100</th><th scope=col>N = 150</th><th scope=col>N = 250</th><th scope=col>N = 500</th></tr></thead>\n",
       "<tbody>\n",
       "\t<tr><td>Causal Forest</td><td>0.206        </td><td>0.112        </td><td>0.109        </td><td>0.073        </td></tr>\n",
       "\t<tr><td>KNN-10       </td><td>0.722        </td><td>0.667        </td><td>0.628        </td><td>0.545        </td></tr>\n",
       "\t<tr><td>KNN-20       </td><td>0.426        </td><td>0.381        </td><td>0.367        </td><td>0.317        </td></tr>\n",
       "</tbody>\n",
       "</table>\n"
      ],
      "text/latex": [
       "\\begin{tabular}{r|lllll}\n",
       " Method & N = 100 & N = 150 & N = 250 & N = 500\\\\\n",
       "\\hline\n",
       "\t Causal Forest & 0.206         & 0.112         & 0.109         & 0.073        \\\\\n",
       "\t KNN-10        & 0.722         & 0.667         & 0.628         & 0.545        \\\\\n",
       "\t KNN-20        & 0.426         & 0.381         & 0.367         & 0.317        \\\\\n",
       "\\end{tabular}\n"
      ],
      "text/markdown": [
       "\n",
       "| Method | N = 100 | N = 150 | N = 250 | N = 500 |\n",
       "|---|---|---|---|---|\n",
       "| Causal Forest | 0.206         | 0.112         | 0.109         | 0.073         |\n",
       "| KNN-10        | 0.722         | 0.667         | 0.628         | 0.545         |\n",
       "| KNN-20        | 0.426         | 0.381         | 0.367         | 0.317         |\n",
       "\n"
      ],
      "text/plain": [
       "  Method        N = 100 N = 150 N = 250 N = 500\n",
       "1 Causal Forest 0.206   0.112   0.109   0.073  \n",
       "2 KNN-10        0.722   0.667   0.628   0.545  \n",
       "3 KNN-20        0.426   0.381   0.367   0.317  "
      ]
     },
     "metadata": {},
     "output_type": "display_data"
    }
   ],
   "source": [
    "simstudy(p=10,numsim=100,dgp2)"
   ]
  },
  {
   "cell_type": "code",
   "execution_count": 20,
   "id": "f2c4c765",
   "metadata": {},
   "outputs": [
    {
     "data": {
      "text/html": [
       "<table>\n",
       "<thead><tr><th scope=col>Method</th><th scope=col>N = 100</th><th scope=col>N = 150</th><th scope=col>N = 250</th><th scope=col>N = 500</th></tr></thead>\n",
       "<tbody>\n",
       "\t<tr><td>Causal Forest</td><td>0.387        </td><td>0.307        </td><td>0.219        </td><td>0.119        </td></tr>\n",
       "\t<tr><td>KNN-10       </td><td>1.709        </td><td>1.729        </td><td>1.563        </td><td>1.399        </td></tr>\n",
       "\t<tr><td>KNN-20       </td><td>0.970        </td><td>0.979        </td><td>0.865        </td><td>0.759        </td></tr>\n",
       "</tbody>\n",
       "</table>\n"
      ],
      "text/latex": [
       "\\begin{tabular}{r|lllll}\n",
       " Method & N = 100 & N = 150 & N = 250 & N = 500\\\\\n",
       "\\hline\n",
       "\t Causal Forest & 0.387         & 0.307         & 0.219         & 0.119        \\\\\n",
       "\t KNN-10        & 1.709         & 1.729         & 1.563         & 1.399        \\\\\n",
       "\t KNN-20        & 0.970         & 0.979         & 0.865         & 0.759        \\\\\n",
       "\\end{tabular}\n"
      ],
      "text/markdown": [
       "\n",
       "| Method | N = 100 | N = 150 | N = 250 | N = 500 |\n",
       "|---|---|---|---|---|\n",
       "| Causal Forest | 0.387         | 0.307         | 0.219         | 0.119         |\n",
       "| KNN-10        | 1.709         | 1.729         | 1.563         | 1.399         |\n",
       "| KNN-20        | 0.970         | 0.979         | 0.865         | 0.759         |\n",
       "\n"
      ],
      "text/plain": [
       "  Method        N = 100 N = 150 N = 250 N = 500\n",
       "1 Causal Forest 0.387   0.307   0.219   0.119  \n",
       "2 KNN-10        1.709   1.729   1.563   1.399  \n",
       "3 KNN-20        0.970   0.979   0.865   0.759  "
      ]
     },
     "metadata": {},
     "output_type": "display_data"
    }
   ],
   "source": [
    "simstudy(p=20,numsim=100,dgp2)"
   ]
  },
  {
   "cell_type": "code",
   "execution_count": 21,
   "id": "e992f90e",
   "metadata": {},
   "outputs": [
    {
     "data": {
      "text/html": [
       "<table>\n",
       "<thead><tr><th scope=col>Method</th><th scope=col>N = 100</th><th scope=col>N = 150</th><th scope=col>N = 250</th><th scope=col>N = 500</th></tr></thead>\n",
       "<tbody>\n",
       "\t<tr><td>Causal Forest</td><td>1.177        </td><td>0.653        </td><td>0.624        </td><td>0.326        </td></tr>\n",
       "\t<tr><td>KNN-10       </td><td>4.800        </td><td>4.698        </td><td>4.695        </td><td>4.433        </td></tr>\n",
       "\t<tr><td>KNN-20       </td><td>2.656        </td><td>2.410        </td><td>2.450        </td><td>2.338        </td></tr>\n",
       "</tbody>\n",
       "</table>\n"
      ],
      "text/latex": [
       "\\begin{tabular}{r|lllll}\n",
       " Method & N = 100 & N = 150 & N = 250 & N = 500\\\\\n",
       "\\hline\n",
       "\t Causal Forest & 1.177         & 0.653         & 0.624         & 0.326        \\\\\n",
       "\t KNN-10        & 4.800         & 4.698         & 4.695         & 4.433        \\\\\n",
       "\t KNN-20        & 2.656         & 2.410         & 2.450         & 2.338        \\\\\n",
       "\\end{tabular}\n"
      ],
      "text/markdown": [
       "\n",
       "| Method | N = 100 | N = 150 | N = 250 | N = 500 |\n",
       "|---|---|---|---|---|\n",
       "| Causal Forest | 1.177         | 0.653         | 0.624         | 0.326         |\n",
       "| KNN-10        | 4.800         | 4.698         | 4.695         | 4.433         |\n",
       "| KNN-20        | 2.656         | 2.410         | 2.450         | 2.338         |\n",
       "\n"
      ],
      "text/plain": [
       "  Method        N = 100 N = 150 N = 250 N = 500\n",
       "1 Causal Forest 1.177   0.653   0.624   0.326  \n",
       "2 KNN-10        4.800   4.698   4.695   4.433  \n",
       "3 KNN-20        2.656   2.410   2.450   2.338  "
      ]
     },
     "metadata": {},
     "output_type": "display_data"
    }
   ],
   "source": [
    "simstudy(p=50,numsim=100,dgp2)"
   ]
  },
  {
   "cell_type": "code",
   "execution_count": 22,
   "id": "fdcb9b11",
   "metadata": {},
   "outputs": [
    {
     "data": {
      "text/html": [
       "<table>\n",
       "<thead><tr><th scope=col>Method</th><th scope=col>N = 100</th><th scope=col>N = 150</th><th scope=col>N = 250</th><th scope=col>N = 500</th></tr></thead>\n",
       "<tbody>\n",
       "\t<tr><td>Causal Forest</td><td> 2.918       </td><td> 1.463       </td><td>0.836        </td><td>0.471        </td></tr>\n",
       "\t<tr><td>KNN-10       </td><td>11.126       </td><td>10.151       </td><td>9.820        </td><td>9.592        </td></tr>\n",
       "\t<tr><td>KNN-20       </td><td> 5.892       </td><td> 5.184       </td><td>4.990        </td><td>4.898        </td></tr>\n",
       "</tbody>\n",
       "</table>\n"
      ],
      "text/latex": [
       "\\begin{tabular}{r|lllll}\n",
       " Method & N = 100 & N = 150 & N = 250 & N = 500\\\\\n",
       "\\hline\n",
       "\t Causal Forest &  2.918        &  1.463        & 0.836         & 0.471        \\\\\n",
       "\t KNN-10        & 11.126        & 10.151        & 9.820         & 9.592        \\\\\n",
       "\t KNN-20        &  5.892        &  5.184        & 4.990         & 4.898        \\\\\n",
       "\\end{tabular}\n"
      ],
      "text/markdown": [
       "\n",
       "| Method | N = 100 | N = 150 | N = 250 | N = 500 |\n",
       "|---|---|---|---|---|\n",
       "| Causal Forest |  2.918        |  1.463        | 0.836         | 0.471         |\n",
       "| KNN-10        | 11.126        | 10.151        | 9.820         | 9.592         |\n",
       "| KNN-20        |  5.892        |  5.184        | 4.990         | 4.898         |\n",
       "\n"
      ],
      "text/plain": [
       "  Method        N = 100 N = 150 N = 250 N = 500\n",
       "1 Causal Forest  2.918   1.463  0.836   0.471  \n",
       "2 KNN-10        11.126  10.151  9.820   9.592  \n",
       "3 KNN-20         5.892   5.184  4.990   4.898  "
      ]
     },
     "metadata": {},
     "output_type": "display_data"
    }
   ],
   "source": [
    "simstudy(p=100,numsim=100,dgp2)"
   ]
  },
  {
   "cell_type": "markdown",
   "id": "7d01df2b",
   "metadata": {},
   "source": [
    "### Output-Functions"
   ]
  },
  {
   "cell_type": "code",
   "execution_count": 7,
   "id": "c0c01726",
   "metadata": {},
   "outputs": [],
   "source": [
    "cf_selectmedian <- function(df){\n",
    "    Y <- df$Y\n",
    "    W <- df$W\n",
    "    X <- df[,-(1:3)]\n",
    "    \n",
    "    ### Untrainted CF\n",
    "    cf_pilot <- causal_forest(X, Y, W)   #, num.trees = 5000)\n",
    "    var_imp <- variable_importance(cf_pilot) \n",
    "    select_index <- which(var_imp >= median(var_imp))\n",
    "    #cat(\"The most important Variables are\", select_index, \"\\n\")\n",
    "    \n",
    "    ### Trained CF\n",
    "    cf <- causal_forest(X[, select_index], Y, W)\n",
    "    tau_hat <- predict(cf)$predictions\n",
    "    df[\"treat\"] = tau_hat\n",
    "    \n",
    "    return(df)\n",
    "}"
   ]
  },
  {
   "cell_type": "code",
   "execution_count": 8,
   "id": "d10c1f09",
   "metadata": {},
   "outputs": [],
   "source": [
    "cf_select5 <- function(df){\n",
    "    Y <- df$Y\n",
    "    W <- df$W\n",
    "    X <- df[,-(1:3)]\n",
    "    \n",
    "    ### Untrainted CF\n",
    "    cf_pilot <- causal_forest(X, Y, W)   #, num.trees = 5000)\n",
    "    var_imp <- variable_importance(cf_pilot) \n",
    "    select_index <- which(var_imp > sort(var_imp)[5])\n",
    "    #cat(\"The most important Variables are\", select_index, \"\\n\")\n",
    "    \n",
    "    ### Trained CF\n",
    "    cf <- causal_forest(X[, select_index], Y, W)\n",
    "    tau_hat <- predict(cf)$predictions\n",
    "    df[\"treat\"] = tau_hat\n",
    "    \n",
    "    return(df)\n",
    "}"
   ]
  },
  {
   "cell_type": "code",
   "execution_count": null,
   "id": "a35b48a0",
   "metadata": {},
   "outputs": [],
   "source": []
  },
  {
   "cell_type": "code",
   "execution_count": null,
   "id": "4bc85710",
   "metadata": {},
   "outputs": [],
   "source": []
  },
  {
   "cell_type": "code",
   "execution_count": 10,
   "id": "c149185b",
   "metadata": {},
   "outputs": [],
   "source": [
    "#### KNN-function\n",
    "\n",
    "get_knnval <- function(k,df){\n",
    "    \n",
    "    #### Importing Data\n",
    "    \n",
    "    #### Brauchen wir df_train und df_test????\n",
    "    df_train <- df\n",
    "    rownames(df_train) <- 1:nrow(df_train)\n",
    "    \n",
    "    #### Splitting into Treated and Untreated Training Dataset\n",
    "    df_t <- df_train[which(df_train$W == 1),]\n",
    "    df_c <- df_train[which(df_train$W == 0),]\n",
    "\n",
    "    drop_cols <- c(\"Y\", \"W\", \"t\")\n",
    "    \n",
    "    #### calculate indices of k treated/untreated nearest neighbours\n",
    "    treated_nn <- get.knnx(df_t[, !(names(df_t) %in% drop_cols)],                \n",
    "                          query = df_train[, !(names(df_train) %in% drop_cols)], \n",
    "                          k = k)\n",
    "    treated_nn <- data.frame(treated_nn$nn.index)\n",
    "\n",
    "    untreated_nn <- get.knnx(df_c[, !(names(df_c) %in% drop_cols)],              \n",
    "                          query = df_train[, !(names(df_train) %in% drop_cols)], \n",
    "                          k = k)\n",
    "    untreated_nn <- data.frame(untreated_nn$nn.index)\n",
    "\n",
    "    #### replacing index values\n",
    "    treated_nn <- sapply(treated_nn, FUN = function(x){\n",
    "                        df_t$Y[x]\n",
    "                })\n",
    "    \n",
    "    untreated_nn <- sapply(untreated_nn, FUN = function(x){\n",
    "                        df_c$Y[x]\n",
    "                })\n",
    "\n",
    "\n",
    "    #### Save \"Potential Outcomes W/o Treatment in dataset\": Y1 and Y0\n",
    "    for (i in 1:nrow(df_train)){\n",
    "        df_train$Y1[i] <- mean(treated_nn[i,])\n",
    "        df_train$Y0[i] <- mean(untreated_nn[i,])\n",
    "        df_train$treat <- df_train$Y1 - df_train$Y0\n",
    "    }\n",
    "    \n",
    "    return(df_train)\n",
    "\n",
    "}"
   ]
  },
  {
   "cell_type": "markdown",
   "id": "0ec0d25a",
   "metadata": {},
   "source": [
    "### Set Up Simulation Study (Causal Forest)"
   ]
  },
  {
   "cell_type": "code",
   "execution_count": 11,
   "id": "5e1d1e8e",
   "metadata": {},
   "outputs": [],
   "source": [
    "CF_sim_MSE <- function(p,N,numsim,dgp){\n",
    "    \n",
    "    #### Container for MSE values each round\n",
    "    MSE <- c()\n",
    "    \n",
    "    for (i in 1:numsim){\n",
    "    \n",
    "        #### DGP\n",
    "        data <- dgp(p,N)\n",
    "        \n",
    "        #### Causal Forest Values\n",
    "        cfval <- cf_select5(data)\n",
    "        \n",
    "        #### MSE for individual treatment effects\n",
    "        MSE[i] <- mean((cfval$t - cfval$treat)^2)\n",
    "    }\n",
    "    \n",
    "    return(mean(MSE))\n",
    "} "
   ]
  },
  {
   "cell_type": "code",
   "execution_count": 27,
   "id": "264cd83c",
   "metadata": {},
   "outputs": [],
   "source": [
    "CF_simstudy <- function(p,N,numsim,dgp){\n",
    "    \n",
    "    #### containers for group_by means\n",
    "    X1_0 <- c()\n",
    "    X1_1 <- c()\n",
    "    \n",
    "    X2_0 <- c()\n",
    "    X2_1 <- c()\n",
    "    \n",
    "    for (i in 1:numsim){\n",
    "    \n",
    "        #### DGP\n",
    "        data <- dgp(p,N)\n",
    "        \n",
    "        #### Causal Forest Values\n",
    "        cfval <- cf_selectmedian(data)\n",
    "        \n",
    "        #### Save group_by treatment effect means\n",
    "        X1_0[i] <- mean(cfval$treat[cfval$X1 <= 0])\n",
    "        X1_1[i] <- mean(cfval$treat[cfval$X1 > 0])\n",
    "        \n",
    "        X2_0[i] <- mean(cfval$treat[cfval$X2 <= 0])\n",
    "        X2_1[i] <- mean(cfval$treat[cfval$X1 > 0])\n",
    "    }\n",
    "    cf <- cbind(X1_0,X1_1,X2_0,X2_1)\n",
    "    \n",
    "    boxplot(cf[,1],cf[,2],cf[,3],cf[,4]\n",
    "            #, xlab = \"X1 < 0.5 | X1 > 0.5 | X2 < 0.5 | X2 > 0.5\"\n",
    "            ,names = c(\"X1 < 0\",\"X1 > 0\",\"X2 < 0\",\"X2 > 0\")\n",
    "            , ylab = \"Estimated CATE\"\n",
    "            , main = \"Causal Forest - Monte Carlo Results\")\n",
    "}               "
   ]
  },
  {
   "cell_type": "markdown",
   "id": "60abac68",
   "metadata": {},
   "source": [
    "### Set Up Simulation Study (KNN)"
   ]
  },
  {
   "cell_type": "code",
   "execution_count": 13,
   "id": "0e448002",
   "metadata": {},
   "outputs": [],
   "source": [
    "knn_sim_MSE <- function(k,p,N,numsim,dgp){\n",
    "    \n",
    "    #### Container for MSE each round\n",
    "    MSE <- c()\n",
    "    for (i in 1:numsim){\n",
    "    \n",
    "        #### DGP\n",
    "        data <- dgp(p,N)\n",
    "        \n",
    "        #### KNN-values\n",
    "        knnval <- get_knnval(k,data)\n",
    "        \n",
    "        #### MSE for individual treatment effects\n",
    "        MSE[i] <- mean((knnval$t - knnval$treat)^2)   \n",
    "    }\n",
    "    \n",
    "    return(mean(MSE))\n",
    "    \n",
    "}"
   ]
  },
  {
   "cell_type": "code",
   "execution_count": 14,
   "id": "f608fc1b",
   "metadata": {},
   "outputs": [],
   "source": [
    "knn_simstudy <- function(k,p,N,numsim,dgp){\n",
    "    \n",
    "    #### containers for group_by means\n",
    "    X1_0 <- c()\n",
    "    X1_1 <- c()\n",
    "    \n",
    "    X2_0 <- c()\n",
    "    X2_1 <- c()\n",
    "    \n",
    "    for (i in 1:numsim){\n",
    "    \n",
    "        #### DGP\n",
    "        data <- dgp(p,N)\n",
    "        \n",
    "        #### KNN-values\n",
    "        knnval <- get_knnval(k,data)\n",
    "        \n",
    "        #### Save group_by treatment effect means\n",
    "        X1_0[i] <- aggregate(treat ~ round(X1), knnval, mean)[1,2]\n",
    "        X1_1[i] <- aggregate(treat ~ round(X1), knnval, mean)[2,2]\n",
    "        \n",
    "        X2_0[i] <- aggregate(treat ~ round(X2), knnval, mean)[1,2]\n",
    "        X2_1[i] <- aggregate(treat ~ round(X2), knnval, mean)[2,2]    \n",
    "    }\n",
    "    \n",
    "    knn <- cbind(X1_0,X1_1,X2_0,X2_1)\n",
    "    boxplot(knn[,1],knn[,2],knn[,3],knn[,4]\n",
    "            #, xlab = \"X1 < 0.5 | X1 > 0.5 | X2 < 0.5 | X2 > 0.5\"\n",
    "            ,names = c(\"X1 < 0.5\",\"X1 > 0.5\",\"X2 < 0.5\",\"X2 > 0.5\")\n",
    "            , ylab = \"Estimated CATE\"\n",
    "            , main = \"KNN - Monte Carlo Results\")\n",
    "}"
   ]
  },
  {
   "cell_type": "markdown",
   "id": "cecf0d63",
   "metadata": {},
   "source": [
    "## Simulation Study (Table Output)"
   ]
  },
  {
   "cell_type": "code",
   "execution_count": 15,
   "id": "59406e1a",
   "metadata": {},
   "outputs": [],
   "source": [
    "simstudy <- function(p,numsim,dgp){\n",
    "    \n",
    "    MSE_cf <- c()\n",
    "    MSE_10nn <- c()\n",
    "    MSE_20nn <- c()    \n",
    "    \n",
    "    x <- 0\n",
    "    \n",
    "    for (n in c(100,150,250,500)){\n",
    "        \n",
    "        x <- x + 1\n",
    "        \n",
    "        MSE1_cf <- c()\n",
    "        MSE1_10nn <- c()\n",
    "        MSE1_20nn <- c()    \n",
    "        \n",
    "        for (i in 1:numsim){\n",
    "    \n",
    "            #### DGP\n",
    "            data <- dgp(p,N=n)\n",
    "        \n",
    "            #### Get Treatment Values\n",
    "            cfval <- cf_selectmedian(data)\n",
    "            knnval10 <- get_knnval(10,data)\n",
    "            knnval20 <- get_knnval(20,data)\n",
    "        \n",
    "            #### MSE for individual treatment effects\n",
    "            MSE1_cf[i] <- mean((cfval$t - cfval$treat)^2)\n",
    "            MSE1_10nn[i] <- mean((knnval10$t - knnval10$treat)^2)\n",
    "            MSE1_20nn[i] <- mean((knnval20$t - knnval20$treat)^2)\n",
    "        }\n",
    "        MSE_cf[x] <- mean(MSE1_cf)\n",
    "        MSE_10nn[x] <- mean(MSE1_10nn)\n",
    "        MSE_20nn[x] <- mean(MSE1_20nn)\n",
    "    }\n",
    "    MSE <- cbind(MSE_cf, MSE_10nn, MSE_20nn)\n",
    "    \n",
    "    output <- data.frame(output <- data.frame(\"Method\" = c(\"Causal Forest\", \"KNN-10\", \"KNN-20\"), \n",
    "                                              \"100\" = c(round(MSE[1,],3)),\n",
    "                                              \"X150\" = c(round(MSE[2,],3)),\n",
    "                                              \"X250\" = c(round(MSE[3,],3)),\n",
    "                                              \"X500\" = c(round(MSE[4,],3))\n",
    "                                             ))\n",
    "    colnames(output)[2:5] <- c(\"N = 100\", \"N = 150\", \"N = 250\", \"N = 500\")\n",
    "    rownames(output) <- NULL\n",
    "    return(output)\n",
    "}"
   ]
  },
  {
   "cell_type": "code",
   "execution_count": 25,
   "id": "7a8e3df8",
   "metadata": {},
   "outputs": [
    {
     "data": {
      "image/png": "[encoded data removed]",
      "text/plain": [
       "Plot with title \"KNN - Monte Carlo Results\""
      ]
     },
     "metadata": {},
     "output_type": "display_data"
    }
   ],
   "source": [
    "knn_simstudy(10,20,500,10,dgp.1)"
   ]
  },
  {
   "cell_type": "code",
   "execution_count": 22,
   "id": "fa728505",
   "metadata": {
    "scrolled": false
   },
   "outputs": [
    {
     "data": {
      "image/png": "[encoded data removed]",
      "text/plain": [
       "Plot with title \"Causal Forest - Monte Carlo Results\""
      ]
     },
     "metadata": {},
     "output_type": "display_data"
    }
   ],
   "source": [
    "CF_simstudy(20,500,10,dgp.1)"
   ]
  },
  {
   "cell_type": "markdown",
   "id": "bdd32571",
   "metadata": {},
   "source": [
    "## Plotting a causal forest"
   ]
  },
  {
   "cell_type": "code",
   "execution_count": 149,
   "id": "6830b3e3",
   "metadata": {},
   "outputs": [
    {
     "ename": "ERROR",
     "evalue": "Error in library(\"rpart.plot\"): there is no package called 'rpart.plot'\n",
     "output_type": "error",
     "traceback": [
      "Error in library(\"rpart.plot\"): there is no package called 'rpart.plot'\nTraceback:\n",
      "1. library(\"rpart.plot\")"
     ]
    }
   ],
   "source": [
    "library(\"rpart.plot\")"
   ]
  },
  {
   "cell_type": "code",
   "execution_count": null,
   "id": "ca1de7ab",
   "metadata": {},
   "outputs": [],
   "source": [
    "rpart.plot(\n",
    "  x=ct_pruned,        # Pruned tree\n",
    "  type=3,             # Draw separate split labels for the left and right directions\n",
    "  fallen=TRUE,        # Position the leaf nodes at the bottom of the graph\n",
    "  leaf.round=1,       # Rounding of the corners of the leaf node boxes\n",
    "  extra=100,          # Display the percentage of observations in the node\n",
    "  branch=.1,          # Shape of the branch lines\n",
    "  box.palette=\"RdBu\") "
   ]
  },
  {
   "cell_type": "markdown",
   "id": "e662a159",
   "metadata": {},
   "source": [
    "## References <a id=\"references\"></a>\n",
    "\n",
    "* **Athey & Imbens (2015).** [Recursive partitioning for heterogeneous causal effects](https://www.pnas.org/content/113/27/7353). Colloquium Paper.\n",
    "\n",
    "\n",
    "* **Athey & Wager (2019a).** [Estimating Treatment Effects with Causal Forests: An Application](https://www.gsb.stanford.edu/faculty-research/working-papers/estimating-treatment-effects-causal-forests-application). Working Paper No. 3786. \n",
    "\n",
    "\n",
    "* **Athey & Wager (2015).** [Estimation and Inference of Heterogeneous Treatment Effects using Random Forests](https://arxiv.org/abs/1510.04342). \n",
    "\n",
    "\n",
    "* **Farbmacher, Kögel & Spindler (2019).** [Heterogeneous Effects of Poverty on Cognition](https://www.mpisoc.mpg.de/en/social-policy-mea/publications/detail/publication/heterogeneous-effects-of-poverty-on-cognition/). MEA Discussion Paper (06-2019).\n",
    "\n",
    "\n",
    "* **Hitsch & Misra (2018).** [Heterogeneous Treatment Effects and Optimal Targeting Policy Evaluation](https://papers.ssrn.com/sol3/papers.cfm?abstract_id=3111957). Randomized Social Experiments eJournal (2018).\n",
    "\n",
    "\n",
    "* **Powers, Qian, Jung, Schuler, Shah, Hastie & Tibshirani (2017).** [Some methods for heterogeneous treatment effect estimation in high-dimensions](https://web.stanford.edu/~hastie/Papers/PM_Powers_SIM.pdf).Stat Med. 2018 May 20;37(11):1767-1787. "
   ]
  }
 ],
 "metadata": {
  "kernelspec": {
   "display_name": "R",
   "language": "R",
   "name": "ir"
  },
  "language_info": {
   "codemirror_mode": "r",
   "file_extension": ".r",
   "mimetype": "text/x-r-source",
   "name": "R",
   "pygments_lexer": "r",
   "version": "3.6.1"
  }
 },
 "nbformat": 4,
 "nbformat_minor": 5
}
