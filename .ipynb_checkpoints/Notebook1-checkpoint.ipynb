{
 "cells": [
  {
   "cell_type": "markdown",
   "metadata": {},
   "source": [
    "# Final Project in CompStats"
   ]
  },
  {
   "cell_type": "code",
   "execution_count": 13,
   "metadata": {},
   "outputs": [
    {
     "name": "stdout",
     "output_type": "stream",
     "text": [
      "package 'MASS' successfully unpacked and MD5 sums checked\n",
      "\n",
      "The downloaded binary packages are in\n",
      "\tC:\\Users\\Timo\\AppData\\Local\\Temp\\RtmpSekH63\\downloaded_packages\n"
     ]
    }
   ],
   "source": [
    "#install.packages(\"tidyverse\")\n",
    "#install.packages(\"randomForest\")\n",
    "install.packages(\"MASS\")"
   ]
  },
  {
   "cell_type": "code",
   "execution_count": 4,
   "metadata": {},
   "outputs": [
    {
     "data": {
      "text/html": [
       "'C:/Users/Timo/Desktop/Master Economics/2021 SoSe/Computational Statistics/Final Project/Project-CompStats'"
      ],
      "text/latex": [
       "'C:/Users/Timo/Desktop/Master Economics/2021 SoSe/Computational Statistics/Final Project/Project-CompStats'"
      ],
      "text/markdown": [
       "'C:/Users/Timo/Desktop/Master Economics/2021 SoSe/Computational Statistics/Final Project/Project-CompStats'"
      ],
      "text/plain": [
       "[1] \"C:/Users/Timo/Desktop/Master Economics/2021 SoSe/Computational Statistics/Final Project/Project-CompStats\""
      ]
     },
     "metadata": {},
     "output_type": "display_data"
    }
   ],
   "source": [
    "getwd()"
   ]
  },
  {
   "cell_type": "code",
   "execution_count": 15,
   "metadata": {
    "scrolled": true
   },
   "outputs": [],
   "source": [
    "#library(tidyverse)\n",
    "suppressMessages(library(randomForest))\n",
    "suppressMessages(library(ggplot2))"
   ]
  }
 ],
 "metadata": {
  "kernelspec": {
   "display_name": "R",
   "language": "R",
   "name": "ir"
  },
  "language_info": {
   "codemirror_mode": "r",
   "file_extension": ".r",
   "mimetype": "text/x-r-source",
   "name": "R",
   "pygments_lexer": "r",
   "version": "3.6.1"
  }
 },
 "nbformat": 4,
 "nbformat_minor": 2
}
