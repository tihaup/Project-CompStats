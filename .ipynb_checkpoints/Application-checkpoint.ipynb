{
 "cells": [
  {
   "cell_type": "code",
   "execution_count": 2,
   "id": "27a02197",
   "metadata": {},
   "outputs": [],
   "source": [
    "library(foreign)\n",
    "library(grf)\n",
    "library(dplyr)"
   ]
  },
  {
   "cell_type": "markdown",
   "id": "38405575",
   "metadata": {},
   "source": [
    "**Description Data & Jobmarket Program**\n",
    "\n",
    "**Description of findings by LaLonde and Deijihba**\n",
    "\n",
    "**Problem (Selection Bias) with previously used methods**\n",
    "\n",
    "**Advantage of this Matching method compared to Propensity Score Matching**\n",
    "\n",
    "\n",
    "\n",
    "Mixtape, LaLonde, Deijihba!!!"
   ]
  },
  {
   "cell_type": "code",
   "execution_count": 95,
   "id": "951dc4cd",
   "metadata": {},
   "outputs": [
    {
     "data": {
      "text/html": [
       "<ol class=list-inline>\n",
       "\t<li>722</li>\n",
       "\t<li>10</li>\n",
       "</ol>\n"
      ],
      "text/latex": [
       "\\begin{enumerate*}\n",
       "\\item 722\n",
       "\\item 10\n",
       "\\end{enumerate*}\n"
      ],
      "text/markdown": [
       "1. 722\n",
       "2. 10\n",
       "\n",
       "\n"
      ],
      "text/plain": [
       "[1] 722  10"
      ]
     },
     "metadata": {},
     "output_type": "display_data"
    }
   ],
   "source": [
    "data <- read.dta(\"nsw.dta\")\n",
    "dim(data)"
   ]
  },
  {
   "cell_type": "code",
   "execution_count": 89,
   "id": "6b9205bb",
   "metadata": {},
   "outputs": [
    {
     "data": {
      "text/html": [
       "<table>\n",
       "<thead><tr><th scope=col>data_id</th><th scope=col>treat</th><th scope=col>age</th><th scope=col>education</th><th scope=col>black</th><th scope=col>hispanic</th><th scope=col>married</th><th scope=col>nodegree</th><th scope=col>re75</th><th scope=col>re78</th></tr></thead>\n",
       "<tbody>\n",
       "\t<tr><td>Lalonde Sample</td><td>1             </td><td>37            </td><td>11            </td><td>1             </td><td>0             </td><td>1             </td><td>1             </td><td>0             </td><td> 9930.0459    </td></tr>\n",
       "\t<tr><td>Lalonde Sample</td><td>1             </td><td>22            </td><td> 9            </td><td>0             </td><td>1             </td><td>0             </td><td>1             </td><td>0             </td><td> 3595.8940    </td></tr>\n",
       "\t<tr><td>Lalonde Sample</td><td>1             </td><td>30            </td><td>12            </td><td>1             </td><td>0             </td><td>0             </td><td>0             </td><td>0             </td><td>24909.4492    </td></tr>\n",
       "\t<tr><td>Lalonde Sample</td><td>1             </td><td>27            </td><td>11            </td><td>1             </td><td>0             </td><td>0             </td><td>1             </td><td>0             </td><td> 7506.1460    </td></tr>\n",
       "\t<tr><td>Lalonde Sample</td><td>1             </td><td>33            </td><td> 8            </td><td>1             </td><td>0             </td><td>0             </td><td>1             </td><td>0             </td><td>  289.7899    </td></tr>\n",
       "\t<tr><td>Lalonde Sample</td><td>1             </td><td>22            </td><td> 9            </td><td>1             </td><td>0             </td><td>0             </td><td>1             </td><td>0             </td><td> 4056.4939    </td></tr>\n",
       "</tbody>\n",
       "</table>\n"
      ],
      "text/latex": [
       "\\begin{tabular}{r|llllllllll}\n",
       " data\\_id & treat & age & education & black & hispanic & married & nodegree & re75 & re78\\\\\n",
       "\\hline\n",
       "\t Lalonde Sample & 1              & 37             & 11             & 1              & 0              & 1              & 1              & 0              &  9930.0459    \\\\\n",
       "\t Lalonde Sample & 1              & 22             &  9             & 0              & 1              & 0              & 1              & 0              &  3595.8940    \\\\\n",
       "\t Lalonde Sample & 1              & 30             & 12             & 1              & 0              & 0              & 0              & 0              & 24909.4492    \\\\\n",
       "\t Lalonde Sample & 1              & 27             & 11             & 1              & 0              & 0              & 1              & 0              &  7506.1460    \\\\\n",
       "\t Lalonde Sample & 1              & 33             &  8             & 1              & 0              & 0              & 1              & 0              &   289.7899    \\\\\n",
       "\t Lalonde Sample & 1              & 22             &  9             & 1              & 0              & 0              & 1              & 0              &  4056.4939    \\\\\n",
       "\\end{tabular}\n"
      ],
      "text/markdown": [
       "\n",
       "| data_id | treat | age | education | black | hispanic | married | nodegree | re75 | re78 |\n",
       "|---|---|---|---|---|---|---|---|---|---|\n",
       "| Lalonde Sample | 1              | 37             | 11             | 1              | 0              | 1              | 1              | 0              |  9930.0459     |\n",
       "| Lalonde Sample | 1              | 22             |  9             | 0              | 1              | 0              | 1              | 0              |  3595.8940     |\n",
       "| Lalonde Sample | 1              | 30             | 12             | 1              | 0              | 0              | 0              | 0              | 24909.4492     |\n",
       "| Lalonde Sample | 1              | 27             | 11             | 1              | 0              | 0              | 1              | 0              |  7506.1460     |\n",
       "| Lalonde Sample | 1              | 33             |  8             | 1              | 0              | 0              | 1              | 0              |   289.7899     |\n",
       "| Lalonde Sample | 1              | 22             |  9             | 1              | 0              | 0              | 1              | 0              |  4056.4939     |\n",
       "\n"
      ],
      "text/plain": [
       "  data_id        treat age education black hispanic married nodegree re75\n",
       "1 Lalonde Sample 1     37  11        1     0        1       1        0   \n",
       "2 Lalonde Sample 1     22   9        0     1        0       1        0   \n",
       "3 Lalonde Sample 1     30  12        1     0        0       0        0   \n",
       "4 Lalonde Sample 1     27  11        1     0        0       1        0   \n",
       "5 Lalonde Sample 1     33   8        1     0        0       1        0   \n",
       "6 Lalonde Sample 1     22   9        1     0        0       1        0   \n",
       "  re78      \n",
       "1  9930.0459\n",
       "2  3595.8940\n",
       "3 24909.4492\n",
       "4  7506.1460\n",
       "5   289.7899\n",
       "6  4056.4939"
      ]
     },
     "metadata": {},
     "output_type": "display_data"
    }
   ],
   "source": [
    "head(data)"
   ]
  },
  {
   "cell_type": "markdown",
   "id": "cc9168da",
   "metadata": {},
   "source": [
    "## Causal Forest Estimations"
   ]
  },
  {
   "cell_type": "code",
   "execution_count": 96,
   "id": "ebfb03ff",
   "metadata": {},
   "outputs": [
    {
     "data": {
      "text/html": [
       "<table>\n",
       "<thead><tr><th scope=col>data_id</th><th scope=col>treat</th><th scope=col>age</th><th scope=col>education</th><th scope=col>black</th><th scope=col>hispanic</th><th scope=col>married</th><th scope=col>nodegree</th><th scope=col>re75</th><th scope=col>re78</th></tr></thead>\n",
       "<tbody>\n",
       "\t<tr><td>Lalonde Sample</td><td>1             </td><td>37            </td><td>11            </td><td>1             </td><td>0             </td><td>1             </td><td>1             </td><td>0             </td><td> 9930.0459    </td></tr>\n",
       "\t<tr><td>Lalonde Sample</td><td>1             </td><td>22            </td><td> 9            </td><td>0             </td><td>1             </td><td>0             </td><td>1             </td><td>0             </td><td> 3595.8940    </td></tr>\n",
       "\t<tr><td>Lalonde Sample</td><td>1             </td><td>30            </td><td>12            </td><td>1             </td><td>0             </td><td>0             </td><td>0             </td><td>0             </td><td>24909.4492    </td></tr>\n",
       "\t<tr><td>Lalonde Sample</td><td>1             </td><td>27            </td><td>11            </td><td>1             </td><td>0             </td><td>0             </td><td>1             </td><td>0             </td><td> 7506.1460    </td></tr>\n",
       "\t<tr><td>Lalonde Sample</td><td>1             </td><td>33            </td><td> 8            </td><td>1             </td><td>0             </td><td>0             </td><td>1             </td><td>0             </td><td>  289.7899    </td></tr>\n",
       "\t<tr><td>Lalonde Sample</td><td>1             </td><td>22            </td><td> 9            </td><td>1             </td><td>0             </td><td>0             </td><td>1             </td><td>0             </td><td> 4056.4939    </td></tr>\n",
       "</tbody>\n",
       "</table>\n"
      ],
      "text/latex": [
       "\\begin{tabular}{r|llllllllll}\n",
       " data\\_id & treat & age & education & black & hispanic & married & nodegree & re75 & re78\\\\\n",
       "\\hline\n",
       "\t Lalonde Sample & 1              & 37             & 11             & 1              & 0              & 1              & 1              & 0              &  9930.0459    \\\\\n",
       "\t Lalonde Sample & 1              & 22             &  9             & 0              & 1              & 0              & 1              & 0              &  3595.8940    \\\\\n",
       "\t Lalonde Sample & 1              & 30             & 12             & 1              & 0              & 0              & 0              & 0              & 24909.4492    \\\\\n",
       "\t Lalonde Sample & 1              & 27             & 11             & 1              & 0              & 0              & 1              & 0              &  7506.1460    \\\\\n",
       "\t Lalonde Sample & 1              & 33             &  8             & 1              & 0              & 0              & 1              & 0              &   289.7899    \\\\\n",
       "\t Lalonde Sample & 1              & 22             &  9             & 1              & 0              & 0              & 1              & 0              &  4056.4939    \\\\\n",
       "\\end{tabular}\n"
      ],
      "text/markdown": [
       "\n",
       "| data_id | treat | age | education | black | hispanic | married | nodegree | re75 | re78 |\n",
       "|---|---|---|---|---|---|---|---|---|---|\n",
       "| Lalonde Sample | 1              | 37             | 11             | 1              | 0              | 1              | 1              | 0              |  9930.0459     |\n",
       "| Lalonde Sample | 1              | 22             |  9             | 0              | 1              | 0              | 1              | 0              |  3595.8940     |\n",
       "| Lalonde Sample | 1              | 30             | 12             | 1              | 0              | 0              | 0              | 0              | 24909.4492     |\n",
       "| Lalonde Sample | 1              | 27             | 11             | 1              | 0              | 0              | 1              | 0              |  7506.1460     |\n",
       "| Lalonde Sample | 1              | 33             |  8             | 1              | 0              | 0              | 1              | 0              |   289.7899     |\n",
       "| Lalonde Sample | 1              | 22             |  9             | 1              | 0              | 0              | 1              | 0              |  4056.4939     |\n",
       "\n"
      ],
      "text/plain": [
       "  data_id        treat age education black hispanic married nodegree re75\n",
       "1 Lalonde Sample 1     37  11        1     0        1       1        0   \n",
       "2 Lalonde Sample 1     22   9        0     1        0       1        0   \n",
       "3 Lalonde Sample 1     30  12        1     0        0       0        0   \n",
       "4 Lalonde Sample 1     27  11        1     0        0       1        0   \n",
       "5 Lalonde Sample 1     33   8        1     0        0       1        0   \n",
       "6 Lalonde Sample 1     22   9        1     0        0       1        0   \n",
       "  re78      \n",
       "1  9930.0459\n",
       "2  3595.8940\n",
       "3 24909.4492\n",
       "4  7506.1460\n",
       "5   289.7899\n",
       "6  4056.4939"
      ]
     },
     "metadata": {},
     "output_type": "display_data"
    }
   ],
   "source": [
    "Y <- data$re78\n",
    "W <- data$treat\n",
    "X <- data[,-c(1,2,10)]\n",
    "head(data)"
   ]
  },
  {
   "cell_type": "code",
   "execution_count": 97,
   "id": "e1414ab0",
   "metadata": {},
   "outputs": [],
   "source": [
    "set.seed(123)"
   ]
  },
  {
   "cell_type": "code",
   "execution_count": 126,
   "id": "6be8a709",
   "metadata": {},
   "outputs": [
    {
     "name": "stdout",
     "output_type": "stream",
     "text": [
      "The most important Variables are 1 2 5 7 \n"
     ]
    }
   ],
   "source": [
    "### Untrainted CF\n",
    "cf_pilot <- causal_forest(X, Y, W , num.trees = 10000)\n",
    "var_imp <- variable_importance(cf_pilot) \n",
    "select_index <- which(var_imp >= median(var_imp))\n",
    "cat(\"The most important Variables are\", select_index, \"\\n\")\n",
    "\n",
    "### Trained CF\n",
    "cf <- causal_forest(X[, select_index], Y, W,num.trees = 10000)\n",
    "tau_hat <- predict(cf)$predictions\n",
    "data[\"t_hat\"] = tau_hat"
   ]
  },
  {
   "cell_type": "markdown",
   "id": "ba6702e8",
   "metadata": {},
   "source": [
    "The Average Treatment Effect estimated by the Causal Forest using 10000 causal trees per forest is 775.5\\$. Therefore, participants of the jobmarket training program earn on average 775.5\\$ than people in the control group."
   ]
  },
  {
   "cell_type": "code",
   "execution_count": 127,
   "id": "26af1788",
   "metadata": {},
   "outputs": [
    {
     "data": {
      "text/html": [
       "<dl class=dl-horizontal>\n",
       "\t<dt>estimate</dt>\n",
       "\t\t<dd>775.488465088984</dd>\n",
       "\t<dt>std.err</dt>\n",
       "\t\t<dd>492.335739579753</dd>\n",
       "</dl>\n"
      ],
      "text/latex": [
       "\\begin{description*}\n",
       "\\item[estimate] 775.488465088984\n",
       "\\item[std.err] 492.335739579753\n",
       "\\end{description*}\n"
      ],
      "text/markdown": [
       "estimate\n",
       ":   775.488465088984std.err\n",
       ":   492.335739579753\n",
       "\n"
      ],
      "text/plain": [
       "estimate  std.err \n",
       "775.4885 492.3357 "
      ]
     },
     "metadata": {},
     "output_type": "display_data"
    }
   ],
   "source": [
    "#### Average Treatment Effect\n",
    "\n",
    "average_treatment_effect(cf)"
   ]
  },
  {
   "cell_type": "markdown",
   "id": "ca0b6de6",
   "metadata": {},
   "source": [
    "### Check for Heterogeneity (1)"
   ]
  },
  {
   "cell_type": "markdown",
   "id": "374511e2",
   "metadata": {},
   "source": [
    "The analysis of treatment effect heterogeneity in observational data follows the Athey & Wager (2019) paper.\n",
    "A first check for heterogeneity involves the frequencies of the estimated Conditional Average Treatment Effects. The Histogram below shows that there's a very wide span of CATEs, ranging from -1000 to 3000, indicating that Treatment Effects might differ across individuals or some covariates. But this first glance can be flawed and Athey et al. (2020) warn, that \"if the histogram is spread out, it may be that the forests are simply overfitting and producing very noisy estimates\"."
   ]
  },
  {
   "cell_type": "code",
   "execution_count": 128,
   "id": "862fae5f",
   "metadata": {},
   "outputs": [
    {
     "data": {
      "image/png": "[encoded data removed]",
      "text/plain": [
       "Plot with title \"Histogram of Conditional Treatment Effects\""
      ]
     },
     "metadata": {},
     "output_type": "display_data"
    }
   ],
   "source": [
    "hist(data$t_hat\n",
    "     ,main = \"Histogram of Conditional Treatment Effects\"\n",
    "     ,xlab = \"CATE\")"
   ]
  },
  {
   "cell_type": "markdown",
   "id": "26d28b10",
   "metadata": {},
   "source": [
    "### Check for Heterogeneity (2)"
   ]
  },
  {
   "cell_type": "code",
   "execution_count": 120,
   "id": "39ad6bbb",
   "metadata": {},
   "outputs": [],
   "source": [
    "#data$ntile <- factor(ntile(data$t_hat, n=4))\n",
    "#head(data)"
   ]
  },
  {
   "cell_type": "code",
   "execution_count": 121,
   "id": "ddba3650",
   "metadata": {},
   "outputs": [],
   "source": [
    "#boxplot(data$t_hat ~ data$ntile)"
   ]
  },
  {
   "cell_type": "markdown",
   "id": "3a7522e6",
   "metadata": {},
   "source": [
    "### Check for Heterogeneity (3)\n",
    "\n",
    "A second analysis is to check for heterogeneity across some covariates. In order to obtain variables that have been used quite often to make splits by the causal tree, one can check the variable importance function of the grf package. Here, the variables \"age\", \"education\", \"married\" and \"re75\" have been used the most by the trees. Therefore, it seems plausible to check for differences in CATE on different levels within these covariates. \n",
    "\n",
    "Indeed, the boxplots below show some heterogeneity \"when we change a single covariate, while keeping all the other covariates at a some fixed value\" (Athey et al. 2020). Especially people above 30 years old and people with a higher degree of education seem to have particular large treatment effects. Furthermore, the treatment effect seems to be negatively correlated with the pretreatment earnings. **This finding seems to have the implication that the jobmarket program seems to effect \"the right group of people\", those having earned relatively less than other participants. Evaluated at this measure, the program seems to be effective for the right people. (Das ist ja im Grunde interessant: Haben Leute, die es am meisten brauchen, von der Maßnahme profitiert?)** On the other hand, there's only a slight difference between married and unmarried participants. "
   ]
  },
  {
   "cell_type": "code",
   "execution_count": 108,
   "id": "4f3b62eb",
   "metadata": {},
   "outputs": [
    {
     "data": {
      "text/html": [
       "<ol class=list-inline>\n",
       "\t<li>'age'</li>\n",
       "\t<li>'education'</li>\n",
       "\t<li>'married'</li>\n",
       "\t<li>'re75'</li>\n",
       "</ol>\n"
      ],
      "text/latex": [
       "\\begin{enumerate*}\n",
       "\\item 'age'\n",
       "\\item 'education'\n",
       "\\item 'married'\n",
       "\\item 're75'\n",
       "\\end{enumerate*}\n"
      ],
      "text/markdown": [
       "1. 'age'\n",
       "2. 'education'\n",
       "3. 'married'\n",
       "4. 're75'\n",
       "\n",
       "\n"
      ],
      "text/plain": [
       "[1] \"age\"       \"education\" \"married\"   \"re75\"     "
      ]
     },
     "metadata": {},
     "output_type": "display_data"
    },
    {
     "data": {
      "text/html": [
       "<ol class=list-inline>\n",
       "\t<li>1</li>\n",
       "\t<li>2</li>\n",
       "\t<li>5</li>\n",
       "\t<li>7</li>\n",
       "</ol>\n"
      ],
      "text/latex": [
       "\\begin{enumerate*}\n",
       "\\item 1\n",
       "\\item 2\n",
       "\\item 5\n",
       "\\item 7\n",
       "\\end{enumerate*}\n"
      ],
      "text/markdown": [
       "1. 1\n",
       "2. 2\n",
       "3. 5\n",
       "4. 7\n",
       "\n",
       "\n"
      ],
      "text/plain": [
       "[1] 1 2 5 7"
      ]
     },
     "metadata": {},
     "output_type": "display_data"
    }
   ],
   "source": [
    "#### Variable Importance\n",
    "\n",
    "colnames(X[,select_index])\n",
    "select_index"
   ]
  },
  {
   "cell_type": "code",
   "execution_count": 105,
   "id": "7f2dd215",
   "metadata": {
    "scrolled": false
   },
   "outputs": [
    {
     "data": {
      "image/png": "[encoded data removed]",
      "text/plain": [
       "plot without title"
      ]
     },
     "metadata": {},
     "output_type": "display_data"
    }
   ],
   "source": [
    "boxplot(data$t_hat ~ X[,1], ylab = \"Estimated CATE\", xlab = \"Age\")\n",
    "lines(smooth.spline(-17 +X[,1], data$t_hat, df = 5), lwd = 2, col = 4)"
   ]
  },
  {
   "cell_type": "code",
   "execution_count": 131,
   "id": "0601e069",
   "metadata": {},
   "outputs": [
    {
     "data": {
      "image/png": "[encoded data removed]",
      "text/plain": [
       "plot without title"
      ]
     },
     "metadata": {},
     "output_type": "display_data"
    }
   ],
   "source": [
    "boxplot(data$t_hat ~ X[,2], ylab = \"Estimated CATE\", xlab = \"Education\")\n",
    "lines(smooth.spline(-2 +X[,2], data$t_hat, df = 5), lwd = 2, col = 4)"
   ]
  },
  {
   "cell_type": "code",
   "execution_count": 109,
   "id": "999ea582",
   "metadata": {
    "scrolled": false
   },
   "outputs": [
    {
     "data": {
      "image/png": "[encoded data removed]",
      "text/plain": [
       "plot without title"
      ]
     },
     "metadata": {},
     "output_type": "display_data"
    }
   ],
   "source": [
    "boxplot(data$t_hat ~ X[,5], ylab = \"Estimated CATE\", xlab = \"Married\")"
   ]
  },
  {
   "cell_type": "code",
   "execution_count": 111,
   "id": "48ba7515",
   "metadata": {},
   "outputs": [],
   "source": [
    "data$re75fac <- factor(ntile(data$re75, n=10))"
   ]
  },
  {
   "cell_type": "code",
   "execution_count": 117,
   "id": "d4560313",
   "metadata": {},
   "outputs": [
    {
     "data": {
      "image/png": "[encoded data removed]",
      "text/plain": [
       "plot without title"
      ]
     },
     "metadata": {},
     "output_type": "display_data"
    }
   ],
   "source": [
    "boxplot(data$t_hat ~ data$re75fac, ylab = \"Estimated CATE\", xlab = \"Pre-Treatment Earnings \")\n",
    "lines(smooth.spline(data$re75fac, data$t_hat, df = 5), lwd = 2, col = 4)"
   ]
  }
 ],
 "metadata": {
  "kernelspec": {
   "display_name": "R",
   "language": "R",
   "name": "ir"
  },
  "language_info": {
   "codemirror_mode": "r",
   "file_extension": ".r",
   "mimetype": "text/x-r-source",
   "name": "R",
   "pygments_lexer": "r",
   "version": "3.6.1"
  }
 },
 "nbformat": 4,
 "nbformat_minor": 5
}
