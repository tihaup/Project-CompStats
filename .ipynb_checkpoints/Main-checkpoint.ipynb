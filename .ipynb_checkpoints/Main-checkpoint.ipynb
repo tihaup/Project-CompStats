{
 "cells": [
  {
   "cell_type": "markdown",
   "id": "46e16727",
   "metadata": {},
   "source": [
    "# Final Project CompStats | Timo Haupt | SoSe 2021\n",
    "\n",
    "---\n",
    "\n",
    "# Comparison of Causal Forests and K-Nearest-Neighbor Matching in Identifying Heterogeneous Treatment Effects\n",
    "\n",
    "---"
   ]
  },
  {
   "cell_type": "markdown",
   "id": "59bb2ddf",
   "metadata": {},
   "source": [
    "**Importing Packages:**"
   ]
  },
  {
   "cell_type": "code",
   "execution_count": 3,
   "id": "89a0afae",
   "metadata": {},
   "outputs": [],
   "source": [
    "suppressMessages(library(grf))\n",
    "suppressMessages(library(FNN))\n",
    "suppressMessages(library(MASS))"
   ]
  },
  {
   "cell_type": "markdown",
   "id": "93360557",
   "metadata": {},
   "source": [
    "**Importing Functions:**"
   ]
  },
  {
   "cell_type": "code",
   "execution_count": 4,
   "id": "ad0ba9a7",
   "metadata": {},
   "outputs": [],
   "source": [
    "source(\"auxiliary.R\")"
   ]
  },
  {
   "cell_type": "markdown",
   "id": "e42c2b22",
   "metadata": {},
   "source": [
    "## Structure\n",
    "\n",
    "[**1. Theoretical Discussion**](#theory)\n",
    "   * [Causal Forests](#cf)\n",
    "   * [K-Nearest-Neighbour Matching](#knn)\n",
    "    \n",
    "[**2. Simulation Study**](#simulation)\n",
    "   * [Data Generating Process (Treatment Effect Heterogeneity)](#dgp)\n",
    "   * [Performance Measure](#performance)\n",
    "   * [Variations](#simstudy)\n",
    "\n",
    "**3. Application**\n",
    "   * Data: Farbmacher\n",
    "   * Replication of Paper\n",
    "   * Extension with Causal KNN and Comparison\n",
    "\n",
    "**4. Conclusion**\n",
    "\n",
    "[**5. References**](#references)"
   ]
  },
  {
   "cell_type": "markdown",
   "id": "f454cb94",
   "metadata": {},
   "source": [
    "## 1.) Theoretical Discussion<a id=\"theory\"></a>\n",
    "\n",
    "This first section introduces the two analyzed estimation methods, Causal Forest and Causal KNN, and describes how treatment estimation is conducted. The main problem in settings dealing with causality and inference is the missing counterfactual. Particularly in estimating treatment effects it's only possible to observe an individual with treatment, $Y_i^{(1)}$, or without treatment, $Y_i^{(0)}$, but never both. Therefore, we are in the Potential Outcome Framework where we \"posit the existence of potential outcomes $Y_i^{(1)}$ and $Y_i^{(0)}$ corresponding respectively to\n",
    "the response the $i$-th subject would have experienced with and without the treatment\" (Athey/Wager, 2015).\n",
    "\n",
    "Both introduced methods, Causal Forest and Causal KNN, try to find these potential outcomes by some sort of matching algorithm in order to estimate the treatment effect \n",
    "$$\\tau(x) = \\mathbb{E}\\left[Y_i^{(1)} - Y_i^{(0)} \\mid X_i = x\\right] $$\n",
    "\n",
    "One essential assumption we need to impose in order to theoretically justify both methods is unconfoundedness, i.e. \"treatment assignment $W_i$ is independent of the potential outcomes for $Y_i$ conditional on $X_i$\" (Athey & Wager 2015).\n",
    "\n",
    "$$\\left \\{Y_i^{(1)}, Y_i^{(0)} \\right \\} \\perp\\!\\!\\!\\perp W_i \\mid X_i $$\n",
    "\n",
    "The idea is that, if unconfoundedness holds, \"we can treat nearby observations in x-space as having come from a\n",
    "randomized experiment; thus, nearest-neighbor matching and other local methods will in general be consistent for $\\tau(x)$\" (Athey & Wager 2015)."
   ]
  },
  {
   "cell_type": "markdown",
   "id": "8ec4f3e6",
   "metadata": {},
   "source": [
    "### Causal Forests\n",
    "\n",
    "**Causal Trees**\n",
    "\n",
    "* Causal Trees are very similiar to Random Trees. \n",
    "\n",
    "* Difference: rather than predicting outcome $Y$, they predict treatment effects\n",
    "\n",
    "* \"splitting rule that maximizes i2Rk ^\u001c",
    " (Xi)2, which maximizes the variance of the predicted treatment effects ^\u001c",
    " (Xi) across the observations in the two new leaves. This splitting rule is feasible given the data and mimics the approach that would be used if the treatment effect was observed.\" (Hitsch Misra)\n",
    "\n",
    "* \"the algorithm seeks to maximize the treatment effect heterogeneity across partitions at every tree-splitting step\" (Farbmacher)\n",
    "\n",
    "*\n",
    "\n",
    "**Treatment Effect Estimation with CF**\n",
    "\n",
    "\n",
    "Let's take some $x \\in R_k$ where $R_k$ is some leaf of the Causal Forest and define $N_k(w)$ as the number of observations in the leaf $R_k$ with treatment status $w \\in \\{0,1\\}$. The Conditional Average Treatment Effect is then estimated \"based on the mean difference between the outcome levels of the treated and untreated units\" which are in the same leaf $R_k$ by \n",
    "\n",
    "$$ \\hat{\\tau}(x) = \\hat{\\tau}_{R_k} = \\frac{1}{N_k(1)} \\sum_{i \\in R_k(1)} Y_i-\\frac{1}{N_k(0)} \\sum_{i \\in R_k(0)} Y_i  $$\n",
    "So, the Causal Forest does some sort of matching by recursively partitioning the predictor space and then matching treated and untreated observations that have fallen in the same leaf (see e.g. Hitsch & Misra 2018 and Athey & Wager 2015).\n",
    "\n",
    "* Basically, we have for each individual $i$ with characteristics $x$ some specific treatment effect. \n",
    "\n",
    "**Causal Forest**\n",
    "\n",
    "* \"Finally, given a procedure for generating a single causal tree, a causal forest generates an ensemble of B such trees, each of which outputs an estimate $\\hat{\\tau}_b(x)$. The forest then aggregates their predictions by averaging them: $\\hat{\\tau}(x) = \\frac{1}{B} \\sum_{b=1}^B \\hat{\\tau}_b(x)$\" (Athey Wager 2015)\n",
    "\n",
    "* I will go with the default of $B=2000$ causal trees per causal forest.\n",
    "\n",
    "* Advantage of Causal Forest: \"In practice, this aggregation scheme helps reduce variance and smooths sharp decision boundaries\" (Athey Wager 2015)\n",
    "\n",
    "**Honest Splitting Rule**\n",
    "\n",
    "* \"Double-sample trees split the available training data into two parts: one half for estimating the desired response inside each leaf, and another half for placing splits.\"\n",
    "\n",
    "* \"Double-sample causal trees are defined similarly, except that for prediction we estimate ^\u001c",
    " (x) using (5) on the I sample. Following Athey and Imbens [2015], the splits of the tree are chosen by maximizing the variance of $\\tau(Xi)$\"\n",
    "\n",
    "* \"Then, it uses the J -sample to place the splits, while holding out the I-sample to do within-leaf estimation\"\n",
    "\n",
    "Athey & Wager (2015) Chapter 2.4\n",
    "\n",
    "**Advantage of CF**\n",
    "\n",
    "\"At a high level, trees and forests can be thought of as nearest neighbor methods with an\n",
    "adaptive neighborhood metric. Given a test point x, classical methods such as k-nearest\n",
    "neighbors seek the k closest points to x according to some pre-speci\f",
    "ed distance measure,\n",
    "e.g., Euclidean distance. In contrast, tree-based methods also seek to \f",
    "nd training examples\n",
    "that are close to x, but now closeness is de\f",
    "ned with respect to a decision tree, and the\n",
    "closest points to x are those that fall in the same leaf as it. The advantage of trees is that\n",
    "their leaves can be narrower along the directions where the signal is changing fast and wider\n",
    "along the other directions, potentially leading a to a substantial increase in power when the\n",
    "dimension of the feature space is even moderately large.\" \n",
    "\n",
    "\"Our causal forest estimator can be thought of as an adaptive nearest\n",
    "neighbor method, where the data determines which dimensions are most important to consider\n",
    "in selecting nearest neighbors. Such adaptivity seems essential for modern large-scale\n",
    "applications with many features.\"(Athey & Wager 2015)\n",
    "\n",
    "\"When estimating a random forest, we provide the algorithm with the set of features and the\n",
    "treatment indicator, Wi. Specifying the interactions between Xi and Wi is not be necessary\n",
    "because random forests, a non-parametric estimation method, in principle should be able to\n",
    "automatically detect any relevant interactions.\" (Farbmacher et al.)\n",
    "\n",
    "#### GRF package\n",
    "\n",
    "**Plot example Causal Tree**"
   ]
  },
  {
   "cell_type": "code",
   "execution_count": null,
   "id": "9336f2e7",
   "metadata": {},
   "outputs": [],
   "source": []
  },
  {
   "cell_type": "markdown",
   "id": "ce5e3a05",
   "metadata": {},
   "source": [
    "### Causal KNN\n",
    "\n",
    "* How does Matching with KNN works\n",
    "\n",
    "* Why I compare Causal Forests with KNN (siehe Zitat unten)\n",
    "\n",
    "* Treatment Effect Estimation\n",
    "\n",
    "* 5-fold CV explanation\n",
    "\n",
    "\n",
    "\n",
    "\n",
    "**Siehe Hitsch, Misra!**\n",
    "\n",
    "\"Since causal forests are adaptive nearest neighbor estimators, it is natural to use a nonadaptive\n",
    "nearest neighborhood method as our baseline. We compare our method to the standard k nearest neighbors (k-NN) matching procedure, which estimates the treatment\n",
    "effect as ^\u001c",
    "KNN(x) =(...) , where S1 and S0 are the k nearest neighbors to x in the treatment (W = 1) and control\n",
    "(W = 0) samples respectively.\" (Athey Wager 2015)\n",
    "\n",
    "\"We measure the distance between two feature vectors using the Euclidean metric after standardizing the\n",
    "features.\" (hitsch misra)"
   ]
  },
  {
   "cell_type": "code",
   "execution_count": null,
   "id": "043a3d87",
   "metadata": {},
   "outputs": [],
   "source": []
  },
  {
   "cell_type": "markdown",
   "id": "fb4c88d1",
   "metadata": {},
   "source": [
    "## 2.) Simulation Study<a id=\"simulation\"></a>"
   ]
  },
  {
   "cell_type": "markdown",
   "id": "33145bab",
   "metadata": {},
   "source": [
    "### Data Generating Process<a id=\"dgp\"></a>\n",
    "\n",
    "**Description?**\n",
    "\n",
    "In order to better follow the changes that have been made in all the variations, I listed the data generating process function below rather than exporting it to the auxiliary file. All changes and additions will be explained in greater detail as a description before each Case Study."
   ]
  },
  {
   "cell_type": "code",
   "execution_count": 5,
   "id": "5f08f94f",
   "metadata": {},
   "outputs": [],
   "source": [
    "dgp <- function(p,N,treatment,regressors) { \n",
    "    \n",
    "    if (regressors == \"nocorr\"){\n",
    "        X <- matrix(rnorm(n=N*p,0,1), N, p)\n",
    "    }\n",
    "    \n",
    "    if (regressors == \"poly1\"){\n",
    "        X <- matrix(rnorm(n=N*p,0,1), N, p)\n",
    "        X[,p-1] <- X[,1]^2\n",
    "        X[,p] <- X[,2]^2\n",
    "    }\n",
    "    \n",
    "    if (regressors == \"poly2\"){\n",
    "        X <- matrix(rnorm(n=N*p,0,1), N, p)\n",
    "        X[,2] <- X[,1]^2\n",
    "    }    \n",
    "    \n",
    "    if (regressors == \"interaction\"){\n",
    "        X <- matrix(rnorm(n=N*p,0,1), N, p)\n",
    "        X[,p] <- X[,1]*X[,2]\n",
    "    }\n",
    "\n",
    "    if (regressors == \"corr1\"){\n",
    "        mu <- rep(0,p)\n",
    "        Sigma <- 1\n",
    "        sigma <- matrix(rep(0.5),p,p)\n",
    "        for (i in 1:p){\n",
    "            sigma[i,i] <- Sigma\n",
    "        }\n",
    "        X <- mvrnorm(N, mu, sigma)\n",
    "    }\n",
    "    \n",
    "    if (regressors == \"corr2\"){\n",
    "        mu <- rep(0,p)\n",
    "        Sigma <- 1\n",
    "        sigma <- diag(Sigma, p, p)\n",
    "        sigma[1,2] <- 0.9\n",
    "        sigma[2,1] <- 0.9\n",
    "        X <- mvrnorm(N, mu, sigma)\n",
    "    }\n",
    "    \n",
    "    #### Treatment Probability\n",
    "    \n",
    "    W <- sample(c(0,1), N, replace = TRUE, prob = c(0.5, 0.5))\n",
    "    \n",
    "    if (regressors == \"selectionbias\"){\n",
    "        X <- matrix(rnorm(n=N*p,0,1), N, p)\n",
    "        W <- ifelse(X[,1] > 0, sample(c(0,1), N, replace = TRUE, prob = c(0.25, 0.75))\n",
    "                ,sample(c(0,1), N, replace = TRUE, prob = c(0.75, 0.25)))\n",
    "    }\n",
    "    #### Beta Vector\n",
    "    \n",
    "    b_vec <- seq(0.5,1,length.out = p)\n",
    "    \n",
    "    if (regressors == \"beta12\"){\n",
    "        X <- matrix(rnorm(n=N*p,0,1), N, p)\n",
    "        b_vec[1:2] <- 0\n",
    "    }\n",
    "    \n",
    "    #### true treatment effects \n",
    "    \n",
    "    if (treatment == \"treat1\"){\n",
    "        t <- 0.2\n",
    "    }\n",
    "    \n",
    "    if (treatment == \"treat2\"){ \n",
    "        t <- 0.1 + 0.1*ifelse(X[,1] > 0, 1, 0) +  0.1*ifelse(X[,2] > 0, 1, 0)\n",
    "    }\n",
    "    \n",
    "    if (treatment == \"treat3\"){ \n",
    "        t <- 0.1 + X[,1]*ifelse(X[,1] > 0, 1, 0) +  X[,2]*ifelse(X[,2] > 0, 1, 0)\n",
    "    }\n",
    "    \n",
    "    if (treatment == \"treat4\"){ \n",
    "        t <- 0.1 + X[,1]*ifelse(X[,1] > 0, 1, 0) +  X[,2]*ifelse(X[,2] > 0, 1, 0) + X[,3]*ifelse(X[,3] > 0, 1, 0) + X[,4]*ifelse(X[,4] > 0, 1, 0)\n",
    "    }\n",
    "    \n",
    "    if (treatment == \"treat5\"){\n",
    "        t <- 0.2 + X[,1]*X[,2]\n",
    "    }\n",
    "    \n",
    "    \n",
    "    Y <- X %*% b_vec + t*W + rnorm(N,0,0.1)\n",
    "    df <- data.frame(Y,W,t,X)\n",
    "    \n",
    "    return(df)\n",
    "}"
   ]
  },
  {
   "cell_type": "markdown",
   "id": "de094601",
   "metadata": {},
   "source": [
    "### Performance Measure<a id=\"performance\"></a>\n",
    "\n",
    "Eventhough the counterfactuals are never observed in real life data, we can take advantage of the data generating process in simulation studies where we explicitely calculate the true treatment effect for each observation. Therefore, as Athey & Wager (2015) proposed we can use the $MSE_{\\tau}$ as a performance measure in this simulation study in order to compare between methods and different treatment settings. I calculated the Mean Squared Error of the treatment effect as follows\n",
    "$$MSE_{\\tau}^{CF} = \\frac{1}{N} \\sum_{i=1}^N{\\left( \\tau_{i}-\\hat{\\tau}_{R_k}(X_i) \\right)^{2}} $$\n",
    "\n",
    "$$MSE_{\\tau}^{KNN} = \\frac{1}{N} \\sum_{i=1}^N{\\left( \\tau_{i}-\\hat{\\tau}_K(X_i) \\right)^{2}} $$\n",
    "\n",
    ", where $\\hat{\\tau}_{R_k}(X_i)$ and $\\hat{\\tau}_K(X_i)$ are the estimated treatment effects for individuals in leaf $R_k$ and for the $K$ nearest neighbors respectively.\n",
    "\n",
    "Note that the $MSE_{\\tau}$ used in my simulation study differs slightly from the one in the Athey and Imbens (2015) paper. They subtract $\\mathbb{E}[\\tau_i^2]$, but as they noted \"it does not affect how the criterion ranks estimators\", since $\\tau_i$ is not a Random Variable. "
   ]
  },
  {
   "cell_type": "markdown",
   "id": "2661b0bd",
   "metadata": {},
   "source": [
    "### Monte Carlo Simulation Study - Variations<a id=\"simstudy\"></a>"
   ]
  },
  {
   "cell_type": "markdown",
   "id": "559f2112",
   "metadata": {},
   "source": [
    "### Case 1 - Basic Set Up\n",
    "\n",
    "\n",
    "$$X_{i,1}, ..., X_{i,10} \\sim \\mathcal{N}(0,1)$$\n",
    "\n",
    "$$\\beta \\in [0.5,1]^{10}$$\n",
    "\n",
    "$$Prob(W_i=1) =0.5$$\n",
    "\n",
    "$$\\tau = 0.2 $$\n",
    "\n",
    "$$Y_i = X \\beta + \\tau* W_i + \\epsilon_i $$\n",
    "\n",
    "$$\\epsilon_i \\sim \\mathcal{N}(0,\\,0.1)$$\n",
    "\n",
    "**Description & Result**\n",
    "\n",
    "In the Basic Set Up 10 regressors, drawn from a Standard Normal Distrubtion, are considered where all $\\beta$ are evenly divided between 0.5 and 1. Furthermore, the probability of being assigned to treatment is fixed at 50% for all observations and there is only one treatment effect $\\tau$ independent of individuals' characteristics.\n",
    "\n",
    "It can be observed that the higher the number of observations, the smaller the Mean Squared Error. This holds true for all successive applications. Even in the basic set up the Causal Forest performs way better than 10- and 20-Nearest-Neighbors. This holds also true for almost all applications and that's why I focus more on the comparison between the different settings. Furthermore, considering more matched neighbors always decreases $MSE_{\\tau}$ which is consistent with the results of Athey and Wager (2015). "
   ]
  },
  {
   "cell_type": "code",
   "execution_count": 7,
   "id": "0bc9b2ba",
   "metadata": {},
   "outputs": [
    {
     "data": {
      "text/html": [
       "<table>\n",
       "<thead><tr><th scope=col>Method</th><th scope=col>N = 100</th><th scope=col>N = 150</th><th scope=col>N = 250</th><th scope=col>N = 500</th></tr></thead>\n",
       "<tbody>\n",
       "\t<tr><td>Causal Forest</td><td>0.180        </td><td>0.137        </td><td>0.109        </td><td>0.067        </td></tr>\n",
       "\t<tr><td>KNN-10       </td><td>0.736        </td><td>0.681        </td><td>0.622        </td><td>0.535        </td></tr>\n",
       "\t<tr><td>KNN-20       </td><td>0.413        </td><td>0.411        </td><td>0.363        </td><td>0.308        </td></tr>\n",
       "</tbody>\n",
       "</table>\n"
      ],
      "text/latex": [
       "\\begin{tabular}{r|lllll}\n",
       " Method & N = 100 & N = 150 & N = 250 & N = 500\\\\\n",
       "\\hline\n",
       "\t Causal Forest & 0.180         & 0.137         & 0.109         & 0.067        \\\\\n",
       "\t KNN-10        & 0.736         & 0.681         & 0.622         & 0.535        \\\\\n",
       "\t KNN-20        & 0.413         & 0.411         & 0.363         & 0.308        \\\\\n",
       "\\end{tabular}\n"
      ],
      "text/markdown": [
       "\n",
       "| Method | N = 100 | N = 150 | N = 250 | N = 500 |\n",
       "|---|---|---|---|---|\n",
       "| Causal Forest | 0.180         | 0.137         | 0.109         | 0.067         |\n",
       "| KNN-10        | 0.736         | 0.681         | 0.622         | 0.535         |\n",
       "| KNN-20        | 0.413         | 0.411         | 0.363         | 0.308         |\n",
       "\n"
      ],
      "text/plain": [
       "  Method        N = 100 N = 150 N = 250 N = 500\n",
       "1 Causal Forest 0.180   0.137   0.109   0.067  \n",
       "2 KNN-10        0.736   0.681   0.622   0.535  \n",
       "3 KNN-20        0.413   0.411   0.363   0.308  "
      ]
     },
     "metadata": {},
     "output_type": "display_data"
    }
   ],
   "source": [
    "simstudy(p=10,numsim=100,treatment=\"treat1\",regressors=\"nocorr\")"
   ]
  },
  {
   "cell_type": "markdown",
   "id": "41a5784e",
   "metadata": {},
   "source": [
    "### Case 2 - Introducing Simple Treatment Heterogeneity\n",
    "\n",
    "$$\\tau(x) = 0.1 + 0.1*\\mathbb{1}(x_1 > 0) + 0.1*\\mathbb{1}(x_2 > 0)$$\n",
    "\n",
    "\n",
    "**Description & Result**\n",
    "\n",
    "The second simulation introduces some simple treatment effect heterogeneity, that is treatment effect increases if an individual has positive values in its' $X_1$ and $X_2$ characteristics respectively. Each positive value increases the magnitude by the mean treatment effect of 0.1. \n",
    "\n",
    "As can be seen in the table below, the Mean Squared Errors almost don't differ from the previous case with homogeneous treatment effects. This result is quite remarkable and shows that both methods are quite good in matching observations with a simple heterogeneity structure. It should be noted that Powers et al. (2017) find some striking differences between Scenarios 1 and 2 in their paper which come closest to my simulations 1 and 2. One reason might be that Powers et al. (2017) draw their regressors mixed from Standard Normal and Bernoulli distributions. "
   ]
  },
  {
   "cell_type": "code",
   "execution_count": 8,
   "id": "6fec0ccb",
   "metadata": {},
   "outputs": [
    {
     "data": {
      "text/html": [
       "<table>\n",
       "<thead><tr><th scope=col>Method</th><th scope=col>N = 100</th><th scope=col>N = 150</th><th scope=col>N = 250</th><th scope=col>N = 500</th></tr></thead>\n",
       "<tbody>\n",
       "\t<tr><td>Causal Forest</td><td>0.227        </td><td>0.168        </td><td>0.117        </td><td>0.076        </td></tr>\n",
       "\t<tr><td>KNN-10       </td><td>0.774        </td><td>0.710        </td><td>0.598        </td><td>0.532        </td></tr>\n",
       "\t<tr><td>KNN-20       </td><td>0.471        </td><td>0.424        </td><td>0.349        </td><td>0.311        </td></tr>\n",
       "</tbody>\n",
       "</table>\n"
      ],
      "text/latex": [
       "\\begin{tabular}{r|lllll}\n",
       " Method & N = 100 & N = 150 & N = 250 & N = 500\\\\\n",
       "\\hline\n",
       "\t Causal Forest & 0.227         & 0.168         & 0.117         & 0.076        \\\\\n",
       "\t KNN-10        & 0.774         & 0.710         & 0.598         & 0.532        \\\\\n",
       "\t KNN-20        & 0.471         & 0.424         & 0.349         & 0.311        \\\\\n",
       "\\end{tabular}\n"
      ],
      "text/markdown": [
       "\n",
       "| Method | N = 100 | N = 150 | N = 250 | N = 500 |\n",
       "|---|---|---|---|---|\n",
       "| Causal Forest | 0.227         | 0.168         | 0.117         | 0.076         |\n",
       "| KNN-10        | 0.774         | 0.710         | 0.598         | 0.532         |\n",
       "| KNN-20        | 0.471         | 0.424         | 0.349         | 0.311         |\n",
       "\n"
      ],
      "text/plain": [
       "  Method        N = 100 N = 150 N = 250 N = 500\n",
       "1 Causal Forest 0.227   0.168   0.117   0.076  \n",
       "2 KNN-10        0.774   0.710   0.598   0.532  \n",
       "3 KNN-20        0.471   0.424   0.349   0.311  "
      ]
     },
     "metadata": {},
     "output_type": "display_data"
    }
   ],
   "source": [
    "simstudy(p=10,numsim=100,treatment=\"treat2\",regressors=\"nocorr\")"
   ]
  },
  {
   "cell_type": "code",
   "execution_count": 11,
   "id": "7f37cbe0",
   "metadata": {
    "scrolled": false
   },
   "outputs": [
    {
     "data": {
      "image/png": "[encoded data removed]",
      "text/plain": [
       "Plot with title \"Causal Forest - Monte Carlo Results\""
      ]
     },
     "metadata": {},
     "output_type": "display_data"
    }
   ],
   "source": [
    "CF_simstudy(p=10,N=500,numsim=50,dgp2)"
   ]
  },
  {
   "cell_type": "markdown",
   "id": "a8ab2ea2",
   "metadata": {},
   "source": [
    "### Case 3 - Treatment Heterogeneity \n",
    "\n",
    "\n",
    "$$\\tau(x) = 0.1 + \\mathbb{1}(x_1 > 0)*x_1 + \\mathbb{1}(x_2 > 0)*x_2$$\n",
    "\n",
    "**Description & Result**\n",
    "\n",
    "In this scenario magnitude of treatment depends on the values of $X_1$ and $X_2$. So, treatment effect is even heterogeneous within $X_1$ and $X_2$. Higher positive values of these variables imply a higher treatment effect.\n",
    "\n",
    "Since this specification implies a higher degree of variation in individual treatment effects, it is obvious that the Mean Squared Errors are much higher compared to the previous scenario. Even for a large sample the estimated $MSE_{\\tau}$ is significantly higher than in the previous two cases. "
   ]
  },
  {
   "cell_type": "code",
   "execution_count": 9,
   "id": "07b10c2e",
   "metadata": {},
   "outputs": [
    {
     "data": {
      "text/html": [
       "<table>\n",
       "<thead><tr><th scope=col>Method</th><th scope=col>N = 100</th><th scope=col>N = 150</th><th scope=col>N = 250</th><th scope=col>N = 500</th></tr></thead>\n",
       "<tbody>\n",
       "\t<tr><td>Causal Forest</td><td>0.881        </td><td>0.684        </td><td>0.558        </td><td>0.377        </td></tr>\n",
       "\t<tr><td>KNN-10       </td><td>1.232        </td><td>1.094        </td><td>0.951        </td><td>0.838        </td></tr>\n",
       "\t<tr><td>KNN-20       </td><td>1.016        </td><td>0.839        </td><td>0.729        </td><td>0.639        </td></tr>\n",
       "</tbody>\n",
       "</table>\n"
      ],
      "text/latex": [
       "\\begin{tabular}{r|lllll}\n",
       " Method & N = 100 & N = 150 & N = 250 & N = 500\\\\\n",
       "\\hline\n",
       "\t Causal Forest & 0.881         & 0.684         & 0.558         & 0.377        \\\\\n",
       "\t KNN-10        & 1.232         & 1.094         & 0.951         & 0.838        \\\\\n",
       "\t KNN-20        & 1.016         & 0.839         & 0.729         & 0.639        \\\\\n",
       "\\end{tabular}\n"
      ],
      "text/markdown": [
       "\n",
       "| Method | N = 100 | N = 150 | N = 250 | N = 500 |\n",
       "|---|---|---|---|---|\n",
       "| Causal Forest | 0.881         | 0.684         | 0.558         | 0.377         |\n",
       "| KNN-10        | 1.232         | 1.094         | 0.951         | 0.838         |\n",
       "| KNN-20        | 1.016         | 0.839         | 0.729         | 0.639         |\n",
       "\n"
      ],
      "text/plain": [
       "  Method        N = 100 N = 150 N = 250 N = 500\n",
       "1 Causal Forest 0.881   0.684   0.558   0.377  \n",
       "2 KNN-10        1.232   1.094   0.951   0.838  \n",
       "3 KNN-20        1.016   0.839   0.729   0.639  "
      ]
     },
     "metadata": {},
     "output_type": "display_data"
    }
   ],
   "source": [
    "simstudy(p=10,numsim=100,treatment=\"treat3\",regressors=\"nocorr\")"
   ]
  },
  {
   "cell_type": "code",
   "execution_count": 8,
   "id": "97810c98",
   "metadata": {},
   "outputs": [
    {
     "data": {
      "image/png": "[encoded data removed]",
      "text/plain": [
       "Plot with title \"Causal Forest - Monte Carlo Results\""
      ]
     },
     "metadata": {},
     "output_type": "display_data"
    }
   ],
   "source": [
    "CF_simstudy(p=10,N=500,numsim=10,dgp3)"
   ]
  },
  {
   "cell_type": "markdown",
   "id": "8ea4b4c0",
   "metadata": {},
   "source": [
    "### Case 4 - Treatment Heterogeneity depends on more regressors\n",
    "\n",
    "$$\\tau(x) = 0.1 + \\sum_{i=1}^{4} \\mathbb{1}(x_i > 0)*x_i $$\n",
    "\n",
    "**Description & Result**\n",
    "\n",
    "Here the individual treatment effect depends on a larger amount of regressors, that is on four rather than on only two regressors. Also, the magnitude of the effect depends on the values of the $X_i$ characteristics. \n",
    "\n",
    "Adding two more regressors to the treatment effect implies another decrease in performance. These results are consistent with the ones from Table S1 (Appendix) in Athey and Imbens (2015), where Design 2 and 3 are similiar to the scenarios considered here in Case 3 and 4. \n",
    "Interesting is that now KNN with 20 matched neighbors performs pretty well relative to the Causal Forest."
   ]
  },
  {
   "cell_type": "code",
   "execution_count": 10,
   "id": "e0c1f7d5",
   "metadata": {},
   "outputs": [
    {
     "data": {
      "text/html": [
       "<table>\n",
       "<thead><tr><th scope=col>Method</th><th scope=col>N = 100</th><th scope=col>N = 150</th><th scope=col>N = 250</th><th scope=col>N = 500</th></tr></thead>\n",
       "<tbody>\n",
       "\t<tr><td>Causal Forest</td><td>1.451        </td><td>1.332        </td><td>1.061        </td><td>0.786        </td></tr>\n",
       "\t<tr><td>KNN-10       </td><td>1.697        </td><td>1.563        </td><td>1.324        </td><td>1.165        </td></tr>\n",
       "\t<tr><td>KNN-20       </td><td>1.479        </td><td>1.350        </td><td>1.123        </td><td>0.970        </td></tr>\n",
       "</tbody>\n",
       "</table>\n"
      ],
      "text/latex": [
       "\\begin{tabular}{r|lllll}\n",
       " Method & N = 100 & N = 150 & N = 250 & N = 500\\\\\n",
       "\\hline\n",
       "\t Causal Forest & 1.451         & 1.332         & 1.061         & 0.786        \\\\\n",
       "\t KNN-10        & 1.697         & 1.563         & 1.324         & 1.165        \\\\\n",
       "\t KNN-20        & 1.479         & 1.350         & 1.123         & 0.970        \\\\\n",
       "\\end{tabular}\n"
      ],
      "text/markdown": [
       "\n",
       "| Method | N = 100 | N = 150 | N = 250 | N = 500 |\n",
       "|---|---|---|---|---|\n",
       "| Causal Forest | 1.451         | 1.332         | 1.061         | 0.786         |\n",
       "| KNN-10        | 1.697         | 1.563         | 1.324         | 1.165         |\n",
       "| KNN-20        | 1.479         | 1.350         | 1.123         | 0.970         |\n",
       "\n"
      ],
      "text/plain": [
       "  Method        N = 100 N = 150 N = 250 N = 500\n",
       "1 Causal Forest 1.451   1.332   1.061   0.786  \n",
       "2 KNN-10        1.697   1.563   1.324   1.165  \n",
       "3 KNN-20        1.479   1.350   1.123   0.970  "
      ]
     },
     "metadata": {},
     "output_type": "display_data"
    }
   ],
   "source": [
    "simstudy(p=10,numsim=100,treatment=\"treat4\",regressors=\"nocorr\")"
   ]
  },
  {
   "cell_type": "code",
   "execution_count": 35,
   "id": "594d9fed",
   "metadata": {},
   "outputs": [
    {
     "data": {
      "image/png": "[encoded data removed]",
      "text/plain": [
       "Plot with title \"Causal Forest - Monte Carlo Results\""
      ]
     },
     "metadata": {},
     "output_type": "display_data"
    }
   ],
   "source": [
    "CF_simstudy(p=10,N=500,numsim=10,dgp4)"
   ]
  },
  {
   "cell_type": "markdown",
   "id": "cf675910",
   "metadata": {},
   "source": [
    "### Case 5.1 - Treatment Heterogeneity depends on interactions of covariates\n",
    "\n",
    "$$\\tau(x) = 0.2 + x_1*x_2 $$\n",
    "\n",
    "In Case 5.1 a simple interaction term is introduced in $\\tau(x)$. \n",
    "Since $X$ are standard normal distributed, around half of the draws from $X_1$ and $X_2$ are negative. Therefore, we encounter a lot of variation in the treatment effect, which doesn't lead to an improved performance compared to Case 2 and 3. "
   ]
  },
  {
   "cell_type": "code",
   "execution_count": 11,
   "id": "4d0d8d3d",
   "metadata": {},
   "outputs": [
    {
     "data": {
      "text/html": [
       "<table>\n",
       "<thead><tr><th scope=col>Method</th><th scope=col>N = 100</th><th scope=col>N = 150</th><th scope=col>N = 250</th><th scope=col>N = 500</th></tr></thead>\n",
       "<tbody>\n",
       "\t<tr><td>Causal Forest</td><td>1.277        </td><td>1.152        </td><td>1.091        </td><td>0.978        </td></tr>\n",
       "\t<tr><td>KNN-10       </td><td>1.567        </td><td>1.421        </td><td>1.291        </td><td>1.127        </td></tr>\n",
       "\t<tr><td>KNN-20       </td><td>1.389        </td><td>1.251        </td><td>1.147        </td><td>1.003        </td></tr>\n",
       "</tbody>\n",
       "</table>\n"
      ],
      "text/latex": [
       "\\begin{tabular}{r|lllll}\n",
       " Method & N = 100 & N = 150 & N = 250 & N = 500\\\\\n",
       "\\hline\n",
       "\t Causal Forest & 1.277         & 1.152         & 1.091         & 0.978        \\\\\n",
       "\t KNN-10        & 1.567         & 1.421         & 1.291         & 1.127        \\\\\n",
       "\t KNN-20        & 1.389         & 1.251         & 1.147         & 1.003        \\\\\n",
       "\\end{tabular}\n"
      ],
      "text/markdown": [
       "\n",
       "| Method | N = 100 | N = 150 | N = 250 | N = 500 |\n",
       "|---|---|---|---|---|\n",
       "| Causal Forest | 1.277         | 1.152         | 1.091         | 0.978         |\n",
       "| KNN-10        | 1.567         | 1.421         | 1.291         | 1.127         |\n",
       "| KNN-20        | 1.389         | 1.251         | 1.147         | 1.003         |\n",
       "\n"
      ],
      "text/plain": [
       "  Method        N = 100 N = 150 N = 250 N = 500\n",
       "1 Causal Forest 1.277   1.152   1.091   0.978  \n",
       "2 KNN-10        1.567   1.421   1.291   1.127  \n",
       "3 KNN-20        1.389   1.251   1.147   1.003  "
      ]
     },
     "metadata": {},
     "output_type": "display_data"
    }
   ],
   "source": [
    "simstudy(p=10,numsim=100,treatment=\"treat5\",regressors=\"nocorr\")"
   ]
  },
  {
   "cell_type": "markdown",
   "id": "07f42ef6",
   "metadata": {},
   "source": [
    "### Case 5.2 - Polynomials added to DGP\n",
    "\n",
    "$$\\tau(x) = 0.1 + 0.1*\\mathbb{1}(x_1 > 0) + 0.1*\\mathbb{1}(x_2 > 0)$$\n",
    "\n",
    "$$X_{i,1}, ..., X_{i,8} \\sim \\mathcal{N}(0,1)$$\n",
    "\n",
    "$$ X_{i,9} = X_{i,1}^2$$\n",
    "\n",
    "$$ X_{i,10} = X_{i,2}^2$$\n",
    "\n",
    "The next few scenarios apply to the Data Generating Process itself. In order to check the performance non-linear changes in $X_1$ and $X_2$ have been made. Case 5.2 depicts the scenario where quadratic versions of $X_1$ and $X_2$ have been added in the dgp function.\n",
    "\n",
    "Causal Forest and KNN seem to be fit pretty good treatment predictions compared to Case 2. Since both methods are non-parametric and therefore don't make explicit assumptions about the underlying functional form, this result seems to be consistent with the theoretical properties."
   ]
  },
  {
   "cell_type": "code",
   "execution_count": 12,
   "id": "740e7431",
   "metadata": {},
   "outputs": [
    {
     "data": {
      "text/html": [
       "<table>\n",
       "<thead><tr><th scope=col>Method</th><th scope=col>N = 100</th><th scope=col>N = 150</th><th scope=col>N = 250</th><th scope=col>N = 500</th></tr></thead>\n",
       "<tbody>\n",
       "\t<tr><td>Causal Forest</td><td>0.214        </td><td>0.182        </td><td>0.121        </td><td>0.073        </td></tr>\n",
       "\t<tr><td>KNN-10       </td><td>0.735        </td><td>0.738        </td><td>0.627        </td><td>0.547        </td></tr>\n",
       "\t<tr><td>KNN-20       </td><td>0.410        </td><td>0.429        </td><td>0.354        </td><td>0.324        </td></tr>\n",
       "</tbody>\n",
       "</table>\n"
      ],
      "text/latex": [
       "\\begin{tabular}{r|lllll}\n",
       " Method & N = 100 & N = 150 & N = 250 & N = 500\\\\\n",
       "\\hline\n",
       "\t Causal Forest & 0.214         & 0.182         & 0.121         & 0.073        \\\\\n",
       "\t KNN-10        & 0.735         & 0.738         & 0.627         & 0.547        \\\\\n",
       "\t KNN-20        & 0.410         & 0.429         & 0.354         & 0.324        \\\\\n",
       "\\end{tabular}\n"
      ],
      "text/markdown": [
       "\n",
       "| Method | N = 100 | N = 150 | N = 250 | N = 500 |\n",
       "|---|---|---|---|---|\n",
       "| Causal Forest | 0.214         | 0.182         | 0.121         | 0.073         |\n",
       "| KNN-10        | 0.735         | 0.738         | 0.627         | 0.547         |\n",
       "| KNN-20        | 0.410         | 0.429         | 0.354         | 0.324         |\n",
       "\n"
      ],
      "text/plain": [
       "  Method        N = 100 N = 150 N = 250 N = 500\n",
       "1 Causal Forest 0.214   0.182   0.121   0.073  \n",
       "2 KNN-10        0.735   0.738   0.627   0.547  \n",
       "3 KNN-20        0.410   0.429   0.354   0.324  "
      ]
     },
     "metadata": {},
     "output_type": "display_data"
    }
   ],
   "source": [
    "simstudy(p=10,numsim=100,treatment=\"treat2\",regressors=\"poly1\")"
   ]
  },
  {
   "cell_type": "markdown",
   "id": "aac90d36",
   "metadata": {},
   "source": [
    "### Case 5.3 - Polynomials added to GDP\n",
    "\n",
    "$$\\tau(x) = 0.1 + 0.1*\\mathbb{1}(x_1 > 0) + 0.1*\\mathbb{1}(x_2 > 0)$$\n",
    "\n",
    "$$X_{i,1}, X_{i,3}, ..., X_{i,10} \\sim \\mathcal{N}(0,1)$$\n",
    "\n",
    "$$ X_{i,2} = X_{i,1}^2$$\n",
    "\n",
    "In this scenario treatment heterogeneity depends also on the second degree polynomial of the $X_1$ characteristic. \n",
    "\n",
    "Here, Causal Forest seems to work really well again. "
   ]
  },
  {
   "cell_type": "code",
   "execution_count": 13,
   "id": "de73372e",
   "metadata": {},
   "outputs": [
    {
     "data": {
      "text/html": [
       "<table>\n",
       "<thead><tr><th scope=col>Method</th><th scope=col>N = 100</th><th scope=col>N = 150</th><th scope=col>N = 250</th><th scope=col>N = 500</th></tr></thead>\n",
       "<tbody>\n",
       "\t<tr><td>Causal Forest</td><td>0.213        </td><td>0.144        </td><td>0.106        </td><td>0.070        </td></tr>\n",
       "\t<tr><td>KNN-10       </td><td>0.788        </td><td>0.648        </td><td>0.624        </td><td>0.535        </td></tr>\n",
       "\t<tr><td>KNN-20       </td><td>0.480        </td><td>0.368        </td><td>0.367        </td><td>0.311        </td></tr>\n",
       "</tbody>\n",
       "</table>\n"
      ],
      "text/latex": [
       "\\begin{tabular}{r|lllll}\n",
       " Method & N = 100 & N = 150 & N = 250 & N = 500\\\\\n",
       "\\hline\n",
       "\t Causal Forest & 0.213         & 0.144         & 0.106         & 0.070        \\\\\n",
       "\t KNN-10        & 0.788         & 0.648         & 0.624         & 0.535        \\\\\n",
       "\t KNN-20        & 0.480         & 0.368         & 0.367         & 0.311        \\\\\n",
       "\\end{tabular}\n"
      ],
      "text/markdown": [
       "\n",
       "| Method | N = 100 | N = 150 | N = 250 | N = 500 |\n",
       "|---|---|---|---|---|\n",
       "| Causal Forest | 0.213         | 0.144         | 0.106         | 0.070         |\n",
       "| KNN-10        | 0.788         | 0.648         | 0.624         | 0.535         |\n",
       "| KNN-20        | 0.480         | 0.368         | 0.367         | 0.311         |\n",
       "\n"
      ],
      "text/plain": [
       "  Method        N = 100 N = 150 N = 250 N = 500\n",
       "1 Causal Forest 0.213   0.144   0.106   0.070  \n",
       "2 KNN-10        0.788   0.648   0.624   0.535  \n",
       "3 KNN-20        0.480   0.368   0.367   0.311  "
      ]
     },
     "metadata": {},
     "output_type": "display_data"
    }
   ],
   "source": [
    "simstudy(p=10,numsim=100,treatment=\"treat2\",regressors=\"poly2\")"
   ]
  },
  {
   "cell_type": "markdown",
   "id": "2425534c",
   "metadata": {},
   "source": [
    "### Case 5.4 - Interactions added to GDP\n",
    "\n",
    "$$\\tau(x) = 0.1 + 0.1*\\mathbb{1}(x_1 > 0) + 0.1*\\mathbb{1}(x_2 > 0)$$\n",
    "\n",
    "$$X_{i,1}, X_{i,2}, ..., X_{i,9} \\sim \\mathcal{N}(0,1)$$\n",
    "\n",
    "$$ X_{i,10} = X_{i,1}*X_{i,2}$$\n",
    "\n",
    "Adding the interaction term between $X_1$ and $X_2$ into the DGP makes the Causal Forest perform the best within all scenarios where polynomials and/or interactions have been considered. \n",
    "As Hitsch and Misra (2018) state it, this makes sense, since Causal Forest is \"a non-parametric estimation method, [and] in principle should be able to automatically detect any relevant interactions\".\n",
    "The great performance compared to Case 2 could also be explained by the fewer number of total regressors, since either one or two regressors basically include the same information as $X_1$ and/or $X_2$. The relatively better performance with fewer regressors will also be discussed in Case 9."
   ]
  },
  {
   "cell_type": "code",
   "execution_count": 14,
   "id": "cc376fef",
   "metadata": {},
   "outputs": [
    {
     "data": {
      "text/html": [
       "<table>\n",
       "<thead><tr><th scope=col>Method</th><th scope=col>N = 100</th><th scope=col>N = 150</th><th scope=col>N = 250</th><th scope=col>N = 500</th></tr></thead>\n",
       "<tbody>\n",
       "\t<tr><td>Causal Forest</td><td>0.211        </td><td>0.149        </td><td>0.117        </td><td>0.068        </td></tr>\n",
       "\t<tr><td>KNN-10       </td><td>0.693        </td><td>0.615        </td><td>0.558        </td><td>0.495        </td></tr>\n",
       "\t<tr><td>KNN-20       </td><td>0.403        </td><td>0.358        </td><td>0.317        </td><td>0.279        </td></tr>\n",
       "</tbody>\n",
       "</table>\n"
      ],
      "text/latex": [
       "\\begin{tabular}{r|lllll}\n",
       " Method & N = 100 & N = 150 & N = 250 & N = 500\\\\\n",
       "\\hline\n",
       "\t Causal Forest & 0.211         & 0.149         & 0.117         & 0.068        \\\\\n",
       "\t KNN-10        & 0.693         & 0.615         & 0.558         & 0.495        \\\\\n",
       "\t KNN-20        & 0.403         & 0.358         & 0.317         & 0.279        \\\\\n",
       "\\end{tabular}\n"
      ],
      "text/markdown": [
       "\n",
       "| Method | N = 100 | N = 150 | N = 250 | N = 500 |\n",
       "|---|---|---|---|---|\n",
       "| Causal Forest | 0.211         | 0.149         | 0.117         | 0.068         |\n",
       "| KNN-10        | 0.693         | 0.615         | 0.558         | 0.495         |\n",
       "| KNN-20        | 0.403         | 0.358         | 0.317         | 0.279         |\n",
       "\n"
      ],
      "text/plain": [
       "  Method        N = 100 N = 150 N = 250 N = 500\n",
       "1 Causal Forest 0.211   0.149   0.117   0.068  \n",
       "2 KNN-10        0.693   0.615   0.558   0.495  \n",
       "3 KNN-20        0.403   0.358   0.317   0.279  "
      ]
     },
     "metadata": {},
     "output_type": "display_data"
    }
   ],
   "source": [
    "simstudy(p=10,numsim=100,treatment=\"treat2\",regressors=\"interaction\")"
   ]
  },
  {
   "cell_type": "markdown",
   "id": "8d396650",
   "metadata": {},
   "source": [
    "### Case 6.1 - Treatment Heterogeneity and Correlation between some regressors\n",
    "\n",
    "$$ \\sigma_j^2 = 1 \\qquad \\forall j = \\{1,...,10\\}$$\n",
    "\n",
    "$$ \\rho_{j,k} = 0.5 \\qquad \\forall j,k = \\{1,...,10\\} \\quad s.t. \\quad j \\ne k  $$\n",
    "\n",
    "$$\\tau(x) = 0.1 + 0.1*\\mathbb{1}(x_1 > 0) + 0.1*\\mathbb{1}(x_2 > 0) \\qquad (1)$$\n",
    "\n",
    "$$\\tau(x) = 0.1 + \\mathbb{1}(x_1 > 0)*x_1 + \\mathbb{1}(x_2 > 0)*x_2 \\qquad (2)$$\n",
    "\n",
    "**Description & Result**\n",
    "\n",
    "In the upcoming scenarios of Case 6 correlation between some of the regressors will be introduced and the results will be compared to the baseline scenarios in Case 2 and 3. \n",
    "In the first setting we encounter a situation with a moderate correlation of 0.5 between all of the regressors. \n",
    "\n",
    "Causal Forest performs slightly worse compared to the scenario without correlation, but the performance with a large number of observations comes very close in both cases. "
   ]
  },
  {
   "cell_type": "code",
   "execution_count": 15,
   "id": "b298e66c",
   "metadata": {},
   "outputs": [
    {
     "data": {
      "text/html": [
       "<table>\n",
       "<thead><tr><th scope=col>Method</th><th scope=col>N = 100</th><th scope=col>N = 150</th><th scope=col>N = 250</th><th scope=col>N = 500</th></tr></thead>\n",
       "<tbody>\n",
       "\t<tr><td>Causal Forest</td><td>0.350        </td><td>0.193        </td><td>0.093        </td><td>0.060        </td></tr>\n",
       "\t<tr><td>KNN-10       </td><td>1.334        </td><td>1.068        </td><td>0.794        </td><td>0.619        </td></tr>\n",
       "\t<tr><td>KNN-20       </td><td>1.070        </td><td>0.830        </td><td>0.563        </td><td>0.410        </td></tr>\n",
       "</tbody>\n",
       "</table>\n"
      ],
      "text/latex": [
       "\\begin{tabular}{r|lllll}\n",
       " Method & N = 100 & N = 150 & N = 250 & N = 500\\\\\n",
       "\\hline\n",
       "\t Causal Forest & 0.350         & 0.193         & 0.093         & 0.060        \\\\\n",
       "\t KNN-10        & 1.334         & 1.068         & 0.794         & 0.619        \\\\\n",
       "\t KNN-20        & 1.070         & 0.830         & 0.563         & 0.410        \\\\\n",
       "\\end{tabular}\n"
      ],
      "text/markdown": [
       "\n",
       "| Method | N = 100 | N = 150 | N = 250 | N = 500 |\n",
       "|---|---|---|---|---|\n",
       "| Causal Forest | 0.350         | 0.193         | 0.093         | 0.060         |\n",
       "| KNN-10        | 1.334         | 1.068         | 0.794         | 0.619         |\n",
       "| KNN-20        | 1.070         | 0.830         | 0.563         | 0.410         |\n",
       "\n"
      ],
      "text/plain": [
       "  Method        N = 100 N = 150 N = 250 N = 500\n",
       "1 Causal Forest 0.350   0.193   0.093   0.060  \n",
       "2 KNN-10        1.334   1.068   0.794   0.619  \n",
       "3 KNN-20        1.070   0.830   0.563   0.410  "
      ]
     },
     "metadata": {},
     "output_type": "display_data"
    }
   ],
   "source": [
    "simstudy(p=10,numsim=100,treatment=\"treat2\",regressors=\"corr1\")"
   ]
  },
  {
   "cell_type": "code",
   "execution_count": 16,
   "id": "47a01d90",
   "metadata": {},
   "outputs": [
    {
     "data": {
      "text/html": [
       "<table>\n",
       "<thead><tr><th scope=col>Method</th><th scope=col>N = 100</th><th scope=col>N = 150</th><th scope=col>N = 250</th><th scope=col>N = 500</th></tr></thead>\n",
       "<tbody>\n",
       "\t<tr><td>Causal Forest</td><td>1.109        </td><td>0.810        </td><td>0.564        </td><td>0.370        </td></tr>\n",
       "\t<tr><td>KNN-10       </td><td>1.906        </td><td>1.400        </td><td>1.127        </td><td>0.845        </td></tr>\n",
       "\t<tr><td>KNN-20       </td><td>1.849        </td><td>1.249        </td><td>0.911        </td><td>0.654        </td></tr>\n",
       "</tbody>\n",
       "</table>\n"
      ],
      "text/latex": [
       "\\begin{tabular}{r|lllll}\n",
       " Method & N = 100 & N = 150 & N = 250 & N = 500\\\\\n",
       "\\hline\n",
       "\t Causal Forest & 1.109         & 0.810         & 0.564         & 0.370        \\\\\n",
       "\t KNN-10        & 1.906         & 1.400         & 1.127         & 0.845        \\\\\n",
       "\t KNN-20        & 1.849         & 1.249         & 0.911         & 0.654        \\\\\n",
       "\\end{tabular}\n"
      ],
      "text/markdown": [
       "\n",
       "| Method | N = 100 | N = 150 | N = 250 | N = 500 |\n",
       "|---|---|---|---|---|\n",
       "| Causal Forest | 1.109         | 0.810         | 0.564         | 0.370         |\n",
       "| KNN-10        | 1.906         | 1.400         | 1.127         | 0.845         |\n",
       "| KNN-20        | 1.849         | 1.249         | 0.911         | 0.654         |\n",
       "\n"
      ],
      "text/plain": [
       "  Method        N = 100 N = 150 N = 250 N = 500\n",
       "1 Causal Forest 1.109   0.810   0.564   0.370  \n",
       "2 KNN-10        1.906   1.400   1.127   0.845  \n",
       "3 KNN-20        1.849   1.249   0.911   0.654  "
      ]
     },
     "metadata": {},
     "output_type": "display_data"
    }
   ],
   "source": [
    "simstudy(p=10,numsim=100,treatment=\"treat3\",regressors=\"corr1\")"
   ]
  },
  {
   "cell_type": "markdown",
   "id": "277c41cb",
   "metadata": {},
   "source": [
    "### Case 6.2 - Treatment Heterogeneity and Correlation between some regressors\n",
    "\n",
    "$$ \\sigma_j^2 = 1 \\qquad \\forall j = \\{1,...,10\\}$$\n",
    "\n",
    "$$ \\rho_{1,2} = 0.9$$\n",
    "\n",
    "$$ \\rho_{j,k} = 0 \\qquad \\forall j,k = \\{3,4,...,10\\} \\quad s.t. \\quad j \\ne k  $$\n",
    "\n",
    "$$\\tau(x) = 0.1 + 0.1*\\mathbb{1}(x_1 > 0) + 0.1*\\mathbb{1}(x_2 > 0) \\qquad (1)$$\n",
    "\n",
    "$$\\tau(x) = 0.1 + \\mathbb{1}(x_1 > 0)*x_1 + \\mathbb{1}(x_2 > 0)*x_2 \\qquad (2)$$\n",
    "\n",
    "**Description & Result**\n",
    "\n",
    "Having high correlation between the regressors that influence treatment heterogeneity, $X_1$ and $X_2$, in the first treatment case $(1)$ Causal Forest even performs better with small samples than in Case 6.1 and reaches almost equal performance for large samples compared to the no-correlation Case 2. In the second treatment case $(2)$ performance is worse in small samples, but improves a lot for large samples. \n",
    "\n",
    "**These findings are interesting in that Matching Estimators, Causal Forest in particular, seem to handle the problem of correlation between regressors very well, especially in large samples!**"
   ]
  },
  {
   "cell_type": "code",
   "execution_count": 17,
   "id": "fd6ce63e",
   "metadata": {},
   "outputs": [
    {
     "data": {
      "text/html": [
       "<table>\n",
       "<thead><tr><th scope=col>Method</th><th scope=col>N = 100</th><th scope=col>N = 150</th><th scope=col>N = 250</th><th scope=col>N = 500</th></tr></thead>\n",
       "<tbody>\n",
       "\t<tr><td>Causal Forest</td><td>0.167        </td><td>0.164        </td><td>0.104        </td><td>0.073        </td></tr>\n",
       "\t<tr><td>KNN-10       </td><td>0.831        </td><td>0.733        </td><td>0.630        </td><td>0.554        </td></tr>\n",
       "\t<tr><td>KNN-20       </td><td>0.485        </td><td>0.451        </td><td>0.365        </td><td>0.324        </td></tr>\n",
       "</tbody>\n",
       "</table>\n"
      ],
      "text/latex": [
       "\\begin{tabular}{r|lllll}\n",
       " Method & N = 100 & N = 150 & N = 250 & N = 500\\\\\n",
       "\\hline\n",
       "\t Causal Forest & 0.167         & 0.164         & 0.104         & 0.073        \\\\\n",
       "\t KNN-10        & 0.831         & 0.733         & 0.630         & 0.554        \\\\\n",
       "\t KNN-20        & 0.485         & 0.451         & 0.365         & 0.324        \\\\\n",
       "\\end{tabular}\n"
      ],
      "text/markdown": [
       "\n",
       "| Method | N = 100 | N = 150 | N = 250 | N = 500 |\n",
       "|---|---|---|---|---|\n",
       "| Causal Forest | 0.167         | 0.164         | 0.104         | 0.073         |\n",
       "| KNN-10        | 0.831         | 0.733         | 0.630         | 0.554         |\n",
       "| KNN-20        | 0.485         | 0.451         | 0.365         | 0.324         |\n",
       "\n"
      ],
      "text/plain": [
       "  Method        N = 100 N = 150 N = 250 N = 500\n",
       "1 Causal Forest 0.167   0.164   0.104   0.073  \n",
       "2 KNN-10        0.831   0.733   0.630   0.554  \n",
       "3 KNN-20        0.485   0.451   0.365   0.324  "
      ]
     },
     "metadata": {},
     "output_type": "display_data"
    }
   ],
   "source": [
    "simstudy(p=10,numsim=100,treatment=\"treat2\",regressors=\"corr2\")"
   ]
  },
  {
   "cell_type": "code",
   "execution_count": 18,
   "id": "bc3d51f6",
   "metadata": {},
   "outputs": [
    {
     "data": {
      "text/html": [
       "<table>\n",
       "<thead><tr><th scope=col>Method</th><th scope=col>N = 100</th><th scope=col>N = 150</th><th scope=col>N = 250</th><th scope=col>N = 500</th></tr></thead>\n",
       "<tbody>\n",
       "\t<tr><td>Causal Forest</td><td>1.204        </td><td>0.928        </td><td>0.569        </td><td>0.295        </td></tr>\n",
       "\t<tr><td>KNN-10       </td><td>1.329        </td><td>1.240        </td><td>0.987        </td><td>0.839        </td></tr>\n",
       "\t<tr><td>KNN-20       </td><td>1.174        </td><td>1.088        </td><td>0.814        </td><td>0.664        </td></tr>\n",
       "</tbody>\n",
       "</table>\n"
      ],
      "text/latex": [
       "\\begin{tabular}{r|lllll}\n",
       " Method & N = 100 & N = 150 & N = 250 & N = 500\\\\\n",
       "\\hline\n",
       "\t Causal Forest & 1.204         & 0.928         & 0.569         & 0.295        \\\\\n",
       "\t KNN-10        & 1.329         & 1.240         & 0.987         & 0.839        \\\\\n",
       "\t KNN-20        & 1.174         & 1.088         & 0.814         & 0.664        \\\\\n",
       "\\end{tabular}\n"
      ],
      "text/markdown": [
       "\n",
       "| Method | N = 100 | N = 150 | N = 250 | N = 500 |\n",
       "|---|---|---|---|---|\n",
       "| Causal Forest | 1.204         | 0.928         | 0.569         | 0.295         |\n",
       "| KNN-10        | 1.329         | 1.240         | 0.987         | 0.839         |\n",
       "| KNN-20        | 1.174         | 1.088         | 0.814         | 0.664         |\n",
       "\n"
      ],
      "text/plain": [
       "  Method        N = 100 N = 150 N = 250 N = 500\n",
       "1 Causal Forest 1.204   0.928   0.569   0.295  \n",
       "2 KNN-10        1.329   1.240   0.987   0.839  \n",
       "3 KNN-20        1.174   1.088   0.814   0.664  "
      ]
     },
     "metadata": {},
     "output_type": "display_data"
    }
   ],
   "source": [
    "simstudy(p=10,numsim=100,treatment=\"treat3\",regressors=\"corr2\")"
   ]
  },
  {
   "cell_type": "markdown",
   "id": "ffc675ca",
   "metadata": {},
   "source": [
    "### Case 7 - Simple Treatment Heterogeneity and only a few regressors influence $Y$\n",
    "\n",
    "$$\\tau(x) = 0.1 + 0.1*\\mathbb{1}(x_1 > 0) + 0.1*\\mathbb{1}(x_2 > 0)$$\n",
    "\n",
    "$$\\beta_1, \\beta_2 = 0$$\n",
    "\n",
    "**Description & Result**\n",
    "\n",
    "In Case 7 both $X_1$ and $X_2$ influence treatment heterogeneity as can be seen in $\\tau(x)$, but don't have any influence on the output variable $Y$. Since the number of regressors has an impact of how well both methods perform, I conduct this analysis with 12 regressors (minus the two regressors with $\\beta = 0$) in order to assure comparability to Case 2 with 10 regressors in total. \n",
    "\n",
    "Both methods perform very similiar to the scenario where $\\beta_1, \\beta_2 \\neq 0$, indicating that they are able to detect heterogeneity based on variables that don't influence $Y$. This makes sense from a theoretical point of view, since the Causal Forest for example splits the trees as to have some high level of treatment variation between the split directions. Therefore, detection of treatment heterogeneity works as long as these variables are included in the dataset, eventhough they don't influence $Y$ directly. "
   ]
  },
  {
   "cell_type": "code",
   "execution_count": 21,
   "id": "a89b1582",
   "metadata": {},
   "outputs": [
    {
     "data": {
      "text/html": [
       "<table>\n",
       "<thead><tr><th scope=col>Method</th><th scope=col>N = 100</th><th scope=col>N = 150</th><th scope=col>N = 250</th><th scope=col>N = 500</th></tr></thead>\n",
       "<tbody>\n",
       "\t<tr><td>Causal Forest</td><td>0.224        </td><td>0.167        </td><td>0.132        </td><td>0.075        </td></tr>\n",
       "\t<tr><td>KNN-10       </td><td>0.831        </td><td>0.778        </td><td>0.743        </td><td>0.658        </td></tr>\n",
       "\t<tr><td>KNN-20       </td><td>0.464        </td><td>0.442        </td><td>0.415        </td><td>0.376        </td></tr>\n",
       "</tbody>\n",
       "</table>\n"
      ],
      "text/latex": [
       "\\begin{tabular}{r|lllll}\n",
       " Method & N = 100 & N = 150 & N = 250 & N = 500\\\\\n",
       "\\hline\n",
       "\t Causal Forest & 0.224         & 0.167         & 0.132         & 0.075        \\\\\n",
       "\t KNN-10        & 0.831         & 0.778         & 0.743         & 0.658        \\\\\n",
       "\t KNN-20        & 0.464         & 0.442         & 0.415         & 0.376        \\\\\n",
       "\\end{tabular}\n"
      ],
      "text/markdown": [
       "\n",
       "| Method | N = 100 | N = 150 | N = 250 | N = 500 |\n",
       "|---|---|---|---|---|\n",
       "| Causal Forest | 0.224         | 0.167         | 0.132         | 0.075         |\n",
       "| KNN-10        | 0.831         | 0.778         | 0.743         | 0.658         |\n",
       "| KNN-20        | 0.464         | 0.442         | 0.415         | 0.376         |\n",
       "\n"
      ],
      "text/plain": [
       "  Method        N = 100 N = 150 N = 250 N = 500\n",
       "1 Causal Forest 0.224   0.167   0.132   0.075  \n",
       "2 KNN-10        0.831   0.778   0.743   0.658  \n",
       "3 KNN-20        0.464   0.442   0.415   0.376  "
      ]
     },
     "metadata": {},
     "output_type": "display_data"
    }
   ],
   "source": [
    "simstudy(p=12,numsim=100,treatment=\"treat2\",regressors=\"beta12\")"
   ]
  },
  {
   "cell_type": "markdown",
   "id": "d0366b6f",
   "metadata": {},
   "source": [
    "### Case 8 - Treatment Probability depends on $X$\n",
    "\n",
    "$$Prob(W_i = 1 \\mid X_1>0) = 0.75 $$\n",
    "\n",
    "$$Prob(W_i = 1 \\mid X_1<0) = 0.25 $$\n",
    "\n",
    "$$\\tau(x) = 0.1 + 0.1*\\mathbb{1}(x_1 > 0) + 0.1*\\mathbb{1}(x_2 > 0)$$\n",
    "\n",
    "**Description & Result**\n",
    "\n",
    "Before Marginal Treatment Probability has been fixed at 0.5 for all individuals. In this scenario Selection Bias will be introduced. Those individuals profiting more from Treatment, i.e. individuals with positive values in the $X_1$ characteristic, are more likely to be assigned to Treatment. Treatment Probability for $X_1 > 0$ is 0.75, whereas Treatment Probability for $X_1 < 0$ is only 0.25. \n",
    "\n",
    "We see a slight increase in $MSE_{\\tau}$ compared to Case 2 for 100 and 150 observations, but both methods perform relatively worse for 500 observations, indicating that the performance with selection bias cannot quite keep up in large scale samples, where both methods have usually their largest improvements."
   ]
  },
  {
   "cell_type": "code",
   "execution_count": 20,
   "id": "09e7e4df",
   "metadata": {},
   "outputs": [
    {
     "data": {
      "text/html": [
       "<table>\n",
       "<thead><tr><th scope=col>Method</th><th scope=col>N = 100</th><th scope=col>N = 150</th><th scope=col>N = 250</th><th scope=col>N = 500</th></tr></thead>\n",
       "<tbody>\n",
       "\t<tr><td>Causal Forest</td><td>0.417        </td><td>0.255        </td><td>0.252        </td><td>0.254        </td></tr>\n",
       "\t<tr><td>KNN-10       </td><td>0.846        </td><td>0.760        </td><td>0.707        </td><td>0.618        </td></tr>\n",
       "\t<tr><td>KNN-20       </td><td>0.575        </td><td>0.479        </td><td>0.450        </td><td>0.403        </td></tr>\n",
       "</tbody>\n",
       "</table>\n"
      ],
      "text/latex": [
       "\\begin{tabular}{r|lllll}\n",
       " Method & N = 100 & N = 150 & N = 250 & N = 500\\\\\n",
       "\\hline\n",
       "\t Causal Forest & 0.417         & 0.255         & 0.252         & 0.254        \\\\\n",
       "\t KNN-10        & 0.846         & 0.760         & 0.707         & 0.618        \\\\\n",
       "\t KNN-20        & 0.575         & 0.479         & 0.450         & 0.403        \\\\\n",
       "\\end{tabular}\n"
      ],
      "text/markdown": [
       "\n",
       "| Method | N = 100 | N = 150 | N = 250 | N = 500 |\n",
       "|---|---|---|---|---|\n",
       "| Causal Forest | 0.417         | 0.255         | 0.252         | 0.254         |\n",
       "| KNN-10        | 0.846         | 0.760         | 0.707         | 0.618         |\n",
       "| KNN-20        | 0.575         | 0.479         | 0.450         | 0.403         |\n",
       "\n"
      ],
      "text/plain": [
       "  Method        N = 100 N = 150 N = 250 N = 500\n",
       "1 Causal Forest 0.417   0.255   0.252   0.254  \n",
       "2 KNN-10        0.846   0.760   0.707   0.618  \n",
       "3 KNN-20        0.575   0.479   0.450   0.403  "
      ]
     },
     "metadata": {},
     "output_type": "display_data"
    }
   ],
   "source": [
    "simstudy(p=10,numsim=100,treatment=\"treat2\",regressors=\"selectionbias\")"
   ]
  },
  {
   "cell_type": "markdown",
   "id": "05944f2d",
   "metadata": {},
   "source": [
    "### Case 9 - Simple Treatment Heterogeneity and number of regressors\n",
    "\n",
    "$$\\tau(x) = 0.1 + 0.1*\\mathbb{1}(x_1 > 0) + 0.1*\\mathbb{1}(x_2 > 0)$$\n",
    "\n",
    "\n",
    "$$ p \\in \\{4,10,20,50,100\\}$$\n",
    "\n",
    "**Description & Result**\n",
    "\n",
    "In this final scenario performance with a different number of regressors is compared. Number of regressors is varied between 4 and 100. This comparison is interesting in applications where the researcher might have a dataset containing a lot of different characteristics. \n",
    "\n",
    "I find that the overall performance decreases if more regressors are added. An interesting finding is that the KNN methods can't really improve their performance over the number of observations, whereas Causal Forest signficantly decreases $MSE_{\\tau}$ going from 100 to 500 observations. So, even if one has a high dimensional data set, this simulation study shows that if the number of observations is quite large the Causal Forest will perform quite well. THe relatively well performance of the Causal Forest in high dimensional space can be explained theoretically by it's variable selection feature. By training the trees with only the most \"important\" variables, only a couple variables will be selected by the Causal Tree overall. On the other hand, KNN tries to find the closest neighbors in the Euclidean Space and is therefore not reducing dimensionality. \n",
    "\n",
    "* Economic Setting: Higher Dimensional Datasets, Purpose?\n",
    "\n",
    "* **Warum wird die Treatment Vorhersage schlechter je mehr Regressoren verwendet werden???**\n",
    "\n",
    "* **Intuition**\n",
    "\n",
    "* CF auch im high dimensional space better, since it performs a kind of variable selection, by training the trees with only the most important variables!\n",
    "\n",
    "* no big increase in MSE going from 50 to 100 regressors. Good sign for Application purposes!"
   ]
  },
  {
   "cell_type": "code",
   "execution_count": 22,
   "id": "d36fe2db",
   "metadata": {},
   "outputs": [
    {
     "data": {
      "text/html": [
       "<table>\n",
       "<thead><tr><th scope=col>Method</th><th scope=col>N = 100</th><th scope=col>N = 150</th><th scope=col>N = 250</th><th scope=col>N = 500</th></tr></thead>\n",
       "<tbody>\n",
       "\t<tr><td>Causal Forest</td><td>0.089        </td><td>0.062        </td><td>0.052        </td><td>0.039        </td></tr>\n",
       "\t<tr><td>KNN-10       </td><td>0.219        </td><td>0.176        </td><td>0.146        </td><td>0.105        </td></tr>\n",
       "\t<tr><td>KNN-20       </td><td>0.154        </td><td>0.118        </td><td>0.100        </td><td>0.071        </td></tr>\n",
       "</tbody>\n",
       "</table>\n"
      ],
      "text/latex": [
       "\\begin{tabular}{r|lllll}\n",
       " Method & N = 100 & N = 150 & N = 250 & N = 500\\\\\n",
       "\\hline\n",
       "\t Causal Forest & 0.089         & 0.062         & 0.052         & 0.039        \\\\\n",
       "\t KNN-10        & 0.219         & 0.176         & 0.146         & 0.105        \\\\\n",
       "\t KNN-20        & 0.154         & 0.118         & 0.100         & 0.071        \\\\\n",
       "\\end{tabular}\n"
      ],
      "text/markdown": [
       "\n",
       "| Method | N = 100 | N = 150 | N = 250 | N = 500 |\n",
       "|---|---|---|---|---|\n",
       "| Causal Forest | 0.089         | 0.062         | 0.052         | 0.039         |\n",
       "| KNN-10        | 0.219         | 0.176         | 0.146         | 0.105         |\n",
       "| KNN-20        | 0.154         | 0.118         | 0.100         | 0.071         |\n",
       "\n"
      ],
      "text/plain": [
       "  Method        N = 100 N = 150 N = 250 N = 500\n",
       "1 Causal Forest 0.089   0.062   0.052   0.039  \n",
       "2 KNN-10        0.219   0.176   0.146   0.105  \n",
       "3 KNN-20        0.154   0.118   0.100   0.071  "
      ]
     },
     "metadata": {},
     "output_type": "display_data"
    }
   ],
   "source": [
    "simstudy(p=4,numsim=100,treatment=\"treat2\",regressors=\"nocorr\")"
   ]
  },
  {
   "cell_type": "code",
   "execution_count": 23,
   "id": "14ca6465",
   "metadata": {},
   "outputs": [
    {
     "data": {
      "text/html": [
       "<table>\n",
       "<thead><tr><th scope=col>Method</th><th scope=col>N = 100</th><th scope=col>N = 150</th><th scope=col>N = 250</th><th scope=col>N = 500</th></tr></thead>\n",
       "<tbody>\n",
       "\t<tr><td>Causal Forest</td><td>0.217        </td><td>0.168        </td><td>0.108        </td><td>0.072        </td></tr>\n",
       "\t<tr><td>KNN-10       </td><td>0.799        </td><td>0.667        </td><td>0.630        </td><td>0.542        </td></tr>\n",
       "\t<tr><td>KNN-20       </td><td>0.477        </td><td>0.392        </td><td>0.368        </td><td>0.313        </td></tr>\n",
       "</tbody>\n",
       "</table>\n"
      ],
      "text/latex": [
       "\\begin{tabular}{r|lllll}\n",
       " Method & N = 100 & N = 150 & N = 250 & N = 500\\\\\n",
       "\\hline\n",
       "\t Causal Forest & 0.217         & 0.168         & 0.108         & 0.072        \\\\\n",
       "\t KNN-10        & 0.799         & 0.667         & 0.630         & 0.542        \\\\\n",
       "\t KNN-20        & 0.477         & 0.392         & 0.368         & 0.313        \\\\\n",
       "\\end{tabular}\n"
      ],
      "text/markdown": [
       "\n",
       "| Method | N = 100 | N = 150 | N = 250 | N = 500 |\n",
       "|---|---|---|---|---|\n",
       "| Causal Forest | 0.217         | 0.168         | 0.108         | 0.072         |\n",
       "| KNN-10        | 0.799         | 0.667         | 0.630         | 0.542         |\n",
       "| KNN-20        | 0.477         | 0.392         | 0.368         | 0.313         |\n",
       "\n"
      ],
      "text/plain": [
       "  Method        N = 100 N = 150 N = 250 N = 500\n",
       "1 Causal Forest 0.217   0.168   0.108   0.072  \n",
       "2 KNN-10        0.799   0.667   0.630   0.542  \n",
       "3 KNN-20        0.477   0.392   0.368   0.313  "
      ]
     },
     "metadata": {},
     "output_type": "display_data"
    }
   ],
   "source": [
    "simstudy(p=10,numsim=100,treatment=\"treat2\",regressors=\"nocorr\")"
   ]
  },
  {
   "cell_type": "code",
   "execution_count": 24,
   "id": "28735b0a",
   "metadata": {},
   "outputs": [
    {
     "data": {
      "text/html": [
       "<table>\n",
       "<thead><tr><th scope=col>Method</th><th scope=col>N = 100</th><th scope=col>N = 150</th><th scope=col>N = 250</th><th scope=col>N = 500</th></tr></thead>\n",
       "<tbody>\n",
       "\t<tr><td>Causal Forest</td><td>0.490        </td><td>0.327        </td><td>0.185        </td><td>0.131        </td></tr>\n",
       "\t<tr><td>KNN-10       </td><td>1.811        </td><td>1.717        </td><td>1.515        </td><td>1.435        </td></tr>\n",
       "\t<tr><td>KNN-20       </td><td>1.034        </td><td>0.942        </td><td>0.818        </td><td>0.787        </td></tr>\n",
       "</tbody>\n",
       "</table>\n"
      ],
      "text/latex": [
       "\\begin{tabular}{r|lllll}\n",
       " Method & N = 100 & N = 150 & N = 250 & N = 500\\\\\n",
       "\\hline\n",
       "\t Causal Forest & 0.490         & 0.327         & 0.185         & 0.131        \\\\\n",
       "\t KNN-10        & 1.811         & 1.717         & 1.515         & 1.435        \\\\\n",
       "\t KNN-20        & 1.034         & 0.942         & 0.818         & 0.787        \\\\\n",
       "\\end{tabular}\n"
      ],
      "text/markdown": [
       "\n",
       "| Method | N = 100 | N = 150 | N = 250 | N = 500 |\n",
       "|---|---|---|---|---|\n",
       "| Causal Forest | 0.490         | 0.327         | 0.185         | 0.131         |\n",
       "| KNN-10        | 1.811         | 1.717         | 1.515         | 1.435         |\n",
       "| KNN-20        | 1.034         | 0.942         | 0.818         | 0.787         |\n",
       "\n"
      ],
      "text/plain": [
       "  Method        N = 100 N = 150 N = 250 N = 500\n",
       "1 Causal Forest 0.490   0.327   0.185   0.131  \n",
       "2 KNN-10        1.811   1.717   1.515   1.435  \n",
       "3 KNN-20        1.034   0.942   0.818   0.787  "
      ]
     },
     "metadata": {},
     "output_type": "display_data"
    }
   ],
   "source": [
    "simstudy(p=20,numsim=100,treatment=\"treat2\",regressors=\"nocorr\")"
   ]
  },
  {
   "cell_type": "code",
   "execution_count": 25,
   "id": "3ccf62ec",
   "metadata": {},
   "outputs": [
    {
     "data": {
      "text/html": [
       "<table>\n",
       "<thead><tr><th scope=col>Method</th><th scope=col>N = 100</th><th scope=col>N = 150</th><th scope=col>N = 250</th><th scope=col>N = 500</th></tr></thead>\n",
       "<tbody>\n",
       "\t<tr><td>Causal Forest</td><td>1.137        </td><td>0.789        </td><td>0.493        </td><td>0.291        </td></tr>\n",
       "\t<tr><td>KNN-10       </td><td>4.844        </td><td>4.493        </td><td>4.647        </td><td>4.387        </td></tr>\n",
       "\t<tr><td>KNN-20       </td><td>2.553        </td><td>2.363        </td><td>2.435        </td><td>2.349        </td></tr>\n",
       "</tbody>\n",
       "</table>\n"
      ],
      "text/latex": [
       "\\begin{tabular}{r|lllll}\n",
       " Method & N = 100 & N = 150 & N = 250 & N = 500\\\\\n",
       "\\hline\n",
       "\t Causal Forest & 1.137         & 0.789         & 0.493         & 0.291        \\\\\n",
       "\t KNN-10        & 4.844         & 4.493         & 4.647         & 4.387        \\\\\n",
       "\t KNN-20        & 2.553         & 2.363         & 2.435         & 2.349        \\\\\n",
       "\\end{tabular}\n"
      ],
      "text/markdown": [
       "\n",
       "| Method | N = 100 | N = 150 | N = 250 | N = 500 |\n",
       "|---|---|---|---|---|\n",
       "| Causal Forest | 1.137         | 0.789         | 0.493         | 0.291         |\n",
       "| KNN-10        | 4.844         | 4.493         | 4.647         | 4.387         |\n",
       "| KNN-20        | 2.553         | 2.363         | 2.435         | 2.349         |\n",
       "\n"
      ],
      "text/plain": [
       "  Method        N = 100 N = 150 N = 250 N = 500\n",
       "1 Causal Forest 1.137   0.789   0.493   0.291  \n",
       "2 KNN-10        4.844   4.493   4.647   4.387  \n",
       "3 KNN-20        2.553   2.363   2.435   2.349  "
      ]
     },
     "metadata": {},
     "output_type": "display_data"
    }
   ],
   "source": [
    "simstudy(p=50,numsim=100,treatment=\"treat2\",regressors=\"nocorr\")"
   ]
  },
  {
   "cell_type": "code",
   "execution_count": 26,
   "id": "878a0e21",
   "metadata": {},
   "outputs": [
    {
     "data": {
      "text/html": [
       "<table>\n",
       "<thead><tr><th scope=col>Method</th><th scope=col>N = 100</th><th scope=col>N = 150</th><th scope=col>N = 250</th><th scope=col>N = 500</th></tr></thead>\n",
       "<tbody>\n",
       "\t<tr><td>Causal Forest</td><td> 2.513       </td><td> 1.585       </td><td> 1.087       </td><td>0.552        </td></tr>\n",
       "\t<tr><td>KNN-10       </td><td>10.206       </td><td>10.207       </td><td>10.031       </td><td>9.763        </td></tr>\n",
       "\t<tr><td>KNN-20       </td><td> 5.507       </td><td> 5.357       </td><td> 5.102       </td><td>5.112        </td></tr>\n",
       "</tbody>\n",
       "</table>\n"
      ],
      "text/latex": [
       "\\begin{tabular}{r|lllll}\n",
       " Method & N = 100 & N = 150 & N = 250 & N = 500\\\\\n",
       "\\hline\n",
       "\t Causal Forest &  2.513        &  1.585        &  1.087        & 0.552        \\\\\n",
       "\t KNN-10        & 10.206        & 10.207        & 10.031        & 9.763        \\\\\n",
       "\t KNN-20        &  5.507        &  5.357        &  5.102        & 5.112        \\\\\n",
       "\\end{tabular}\n"
      ],
      "text/markdown": [
       "\n",
       "| Method | N = 100 | N = 150 | N = 250 | N = 500 |\n",
       "|---|---|---|---|---|\n",
       "| Causal Forest |  2.513        |  1.585        |  1.087        | 0.552         |\n",
       "| KNN-10        | 10.206        | 10.207        | 10.031        | 9.763         |\n",
       "| KNN-20        |  5.507        |  5.357        |  5.102        | 5.112         |\n",
       "\n"
      ],
      "text/plain": [
       "  Method        N = 100 N = 150 N = 250 N = 500\n",
       "1 Causal Forest  2.513   1.585   1.087  0.552  \n",
       "2 KNN-10        10.206  10.207  10.031  9.763  \n",
       "3 KNN-20         5.507   5.357   5.102  5.112  "
      ]
     },
     "metadata": {},
     "output_type": "display_data"
    }
   ],
   "source": [
    "simstudy(p=100,numsim=100,treatment=\"treat2\",regressors=\"nocorr\")"
   ]
  },
  {
   "cell_type": "markdown",
   "id": "e662a159",
   "metadata": {},
   "source": [
    "## References <a id=\"references\"></a>\n",
    "\n",
    "* **Athey & Imbens (2015).** [Recursive partitioning for heterogeneous causal effects](https://www.pnas.org/content/113/27/7353). Colloquium Paper.\n",
    "\n",
    "\n",
    "* **Athey & Wager (2019a).** [Estimating Treatment Effects with Causal Forests: An Application](https://www.gsb.stanford.edu/faculty-research/working-papers/estimating-treatment-effects-causal-forests-application). Working Paper No. 3786. \n",
    "\n",
    "\n",
    "* **Athey & Wager (2015).** [Estimation and Inference of Heterogeneous Treatment Effects using Random Forests](https://arxiv.org/abs/1510.04342). \n",
    "\n",
    "\n",
    "* **Farbmacher, Kögel & Spindler (2019).** [Heterogeneous Effects of Poverty on Cognition](https://www.mpisoc.mpg.de/en/social-policy-mea/publications/detail/publication/heterogeneous-effects-of-poverty-on-cognition/). MEA Discussion Paper (06-2019).\n",
    "\n",
    "\n",
    "* **Hitsch & Misra (2018).** [Heterogeneous Treatment Effects and Optimal Targeting Policy Evaluation](https://papers.ssrn.com/sol3/papers.cfm?abstract_id=3111957). Randomized Social Experiments eJournal (2018).\n",
    "\n",
    "\n",
    "* **Powers, Qian, Jung, Schuler, Shah, Hastie & Tibshirani (2017).** [Some methods for heterogeneous treatment effect estimation in high-dimensions](https://web.stanford.edu/~hastie/Papers/PM_Powers_SIM.pdf).Stat Med. 2018 May 20;37(11):1767-1787. "
   ]
  }
 ],
 "metadata": {
  "kernelspec": {
   "display_name": "R",
   "language": "R",
   "name": "ir"
  },
  "language_info": {
   "codemirror_mode": "r",
   "file_extension": ".r",
   "mimetype": "text/x-r-source",
   "name": "R",
   "pygments_lexer": "r",
   "version": "3.6.1"
  }
 },
 "nbformat": 4,
 "nbformat_minor": 5
}
