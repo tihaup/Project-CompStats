{
 "cells": [
  {
   "cell_type": "markdown",
   "id": "46e16727",
   "metadata": {},
   "source": [
    "# Final Project CompStats | Timo Haupt | SoSe 2021\n",
    "\n",
    "---\n",
    "\n",
    "# Comparison of Causal Forests and K-Nearest-Neighbour Matching in Identifying Heterogeneous Treatment Effects\n",
    "\n",
    "---"
   ]
  },
  {
   "cell_type": "markdown",
   "id": "e42c2b22",
   "metadata": {},
   "source": [
    "## Structure\n",
    "\n",
    "**1.) Theoretical Discussion**\n",
    "   * Causal Forests\n",
    "   * K-Nearest-Neighbour Matching\n",
    "   * Treatment Estimation using Matching Methods\n",
    "    \n",
    "**2.) Simulation Study**\n",
    "   * Data Generating Process (Treatment Effect Heterogeneity)\n",
    "   * Variations\n",
    "\n",
    "**3.) Application**\n",
    "   * LaLonde: Job Training Program \n",
    "\n",
    "**4.) Conclusion**\n",
    "\n",
    "**5.) References**"
   ]
  },
  {
   "cell_type": "markdown",
   "id": "f454cb94",
   "metadata": {},
   "source": [
    "## 1.) Theoretical Discussion\n",
    "\n",
    "### Causal Forests"
   ]
  },
  {
   "cell_type": "code",
   "execution_count": null,
   "id": "9336f2e7",
   "metadata": {},
   "outputs": [],
   "source": []
  }
 ],
 "metadata": {
  "kernelspec": {
   "display_name": "R",
   "language": "R",
   "name": "ir"
  },
  "language_info": {
   "codemirror_mode": "r",
   "file_extension": ".r",
   "mimetype": "text/x-r-source",
   "name": "R",
   "pygments_lexer": "r",
   "version": "3.6.1"
  }
 },
 "nbformat": 4,
 "nbformat_minor": 5
}
