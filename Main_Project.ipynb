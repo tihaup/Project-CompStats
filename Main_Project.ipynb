{
 "cells": [
  {
   "cell_type": "markdown",
   "id": "46e16727",
   "metadata": {},
   "source": [
    "# Final Project CompStats | Timo Haupt | SoSe 2021\n",
    "\n",
    "---\n",
    "\n",
    "# Performance of Causal Forests in Identifying Heterogeneous Treatment Effects\n",
    "\n",
    "---"
   ]
  },
  {
   "cell_type": "markdown",
   "id": "59bb2ddf",
   "metadata": {},
   "source": [
    "**Importing Packages:**"
   ]
  },
  {
   "cell_type": "code",
   "execution_count": 2,
   "id": "89a0afae",
   "metadata": {},
   "outputs": [],
   "source": [
    "suppressMessages(library(grf))\n",
    "suppressMessages(library(FNN))\n",
    "suppressMessages(library(MASS))\n",
    "suppressMessages(library(foreign))\n",
    "suppressMessages(library(dplyr))"
   ]
  },
  {
   "cell_type": "markdown",
   "id": "93360557",
   "metadata": {},
   "source": [
    "**Importing Functions:**"
   ]
  },
  {
   "cell_type": "code",
   "execution_count": 3,
   "id": "ad0ba9a7",
   "metadata": {},
   "outputs": [],
   "source": [
    "source(\"material/auxiliary.R\")"
   ]
  },
  {
   "cell_type": "markdown",
   "id": "e42c2b22",
   "metadata": {},
   "source": [
    "## Structure\n",
    "\n",
    "[**1. Theoretical Discussion**](#theory)\n",
    "   * [Causal Tree](#tree)\n",
    "   * [Causal Forest](#forest)\n",
    "    \n",
    "[**2. Simulation Study**](#simulation)\n",
    "   * [Data Generating Process](#dgp)\n",
    "   * [Performance Measure](#performance)\n",
    "   * [Variations](#simstudy)\n",
    "\n",
    "[**3. Application**](#application)\n",
    "   * [Lalonde Data Set](#lalonde)\n",
    "   * [Causal Forest Estimations](#causalforest)\n",
    "\n",
    "[**4. Conclusion**](#conclusion)\n",
    "\n",
    "[**5. References**](#references)"
   ]
  },
  {
   "cell_type": "markdown",
   "id": "f454cb94",
   "metadata": {},
   "source": [
    "## 1.) Theoretical Discussion<a id=\"theory\"></a>\n",
    "\n",
    "This first section introduces how causal tree and causal forest estimation methods work, and describes how treatment estimation is conducted. The main problem in settings dealing with causality and inference is the missing counterfactual. Particularly in estimating treatment effects it's only possible to observe an individual with treatment, $Y_i^{(1)}$, or without treatment, $Y_i^{(0)}$, but never both. Therefore, we are in the Potential Outcome Framework where we \"posit the existence of potential outcomes $Y_i^{(1)}$ and $Y_i^{(0)}$ corresponding respectively to\n",
    "the response the $i$-th subject would have experienced with and without the treatment\" (Athey & Wager 2015).\n",
    "\n",
    "The causal forest estimation method tries to find these potential outcomes by some sort of matching in order to estimate the treatment effect \n",
    "$$\\tau(x) = \\mathbb{E}\\left[Y_i^{(1)} - Y_i^{(0)} \\mid X_i = x\\right]. $$\n",
    "\n",
    "One essential assumption we need to impose in order to theoretically justify the estimation method is unconfoundedness, i.e. \"treatment assignment $W_i$ is independent of the potential outcomes for $Y_i$ conditional on $X_i$\" (Athey & Wager 2015):\n",
    "\n",
    "$$\\left \\{Y_i^{(1)}, Y_i^{(0)} \\right \\} \\perp\\!\\!\\!\\perp W_i \\mid X_i $$\n",
    "\n",
    "The idea is that, if unconfoundedness holds, \"we can treat nearby observations in x-space as having come from a\n",
    "randomized experiment; thus, nearest-neighbor matching and other local methods will in general be consistent for $\\tau(x)$\" (Athey & Wager 2015)."
   ]
  },
  {
   "cell_type": "markdown",
   "id": "8ec4f3e6",
   "metadata": {},
   "source": [
    "### Causal Tree<a id=\"tree\"></a>\n",
    "\n",
    "Before explaining how causal forests work, it is essential to describe a single causal tree, since the forest is made up of several thousand trees. Causal trees predict individual treatment effects rather than some output variable $Y$ in the setting of random trees. The estimation method is actually pretty similiar to the K-Nearest-Neighbor method, where based on some distance measure the K nearest observations are chosen and based on these neighbors a potential outcome is constructed. The causal tree also tries to find the most similiar observations, \"but now closeness is defined with respect to a decision tree, and the closest points to x are those that fall in the same leaf as it\" (Athey & Wager 2015). Therefore, one can check for every individual what are the predictions of observations that are in the same leaf and calculate a value for the potential outcome. \n",
    "\n",
    "**Treatment Effect Estimation**\n",
    "\n",
    "If we take some $x \\in R_k$ where $R_k$ is some leaf of the causal tree and define $N_k(w)$ as the number of observations in leaf $R_k$ with treatment status $w \\in \\{0,1\\}$, the Conditional Average Treatment Effect is then estimated \"based on the mean difference between the outcome levels of the treated and untreated units\" which are in the same leaf $R_k$ by \n",
    "\n",
    "$$ \\hat{\\tau}(x) = \\hat{\\tau}_{R_k} = \\frac{1}{N_k(1)} \\sum_{i \\in R_k(1)} Y_i-\\frac{1}{N_k(0)} \\sum_{i \\in R_k(0)} Y_i  . $$\n",
    "So, the causal forest does some sort of matching by recursively partitioning the predictor space and then matching treated and untreated observations that have fallen in the same leaf (see e.g. Hitsch & Misra 2018 and Athey & Wager 2015). Therefore, we can estimate for each observation some specific treatment effect based on it's characteristics $X_i$.\n",
    "\n",
    "**Splitting Rule & Honest Splitting**\n",
    "\n",
    "In the setting of causal trees \"the algorithm seeks to maximize the treatment effect heterogeneity across partitions at every tree-splitting step\" (Farbmacher et al. 2019). Therefore, it uses a splitting rule that maximizes \"the variance of the predicted treatment effects $\\hat{\\tau}(X_i)$ across the observations in the two new leaves\" (Hitsch & Misra 2018). In order to assure properties like consistency and asymptotic normality, Athey and Wager (2015) propose the necesity of the so called \"Honest Splitting Rule\". One way of achieving \"Honesty\" is the \"Double-Sample Tree\" which has been applied in all of the estimations in this project. \"Double-sample trees split the available training data into two parts: one half for estimating the desired response inside each leaf, and another half for placing splits\" (Athey & Wager 2015).\n"
   ]
  },
  {
   "cell_type": "markdown",
   "id": "8780b85d",
   "metadata": {},
   "source": [
    "### Causal Forest<a id=\"forest\"></a>\n",
    "\n",
    "As noted the causal forest consists of multiple thousand single trees, where each tree estimates individual treatment effects for all observations in the sample. \"The forest then aggregates their predictions by averaging them: $\\hat{\\tau}(x) = \\frac{1}{B} \\sum_{b=1}^B \\hat{\\tau}_b(x)$\", where the default value is $B = 2000$. In the upcoming simulation study the default value has been chosen. \n",
    "\n",
    "\n",
    "\n",
    "\n",
    "**Advantages of Causal Forests**\n",
    "\n",
    "Similiar to random forests, the advantage of causal gorests over single causal trees is that \"a random sample of\n",
    "$m$ predictors is chosen as split candidates from the full set of $p$ predictors. The split is allowed to use only one of those m predictors\". Hence, this works as \"decorrelating the trees, thereby making the average of the resulting trees less variable and hence more reliable\" (Hastie et al. 2013). Furthermore, by aggregating $B$ single causal trees and therefore drawing $B$ random training and test samples (see section \"Honest Splitting\") it also \"helps to reduce variance and smooths sharp decision boundaries\" (Athey & Wager 2015).\n",
    "\n",
    "Compared to other matching estimation methods, \"the advantage of trees is that their leaves can be narrower along the directions where the signal is changing fast and wider along the other directions\" (Athey & Wager 2015). For this reason I will compare the performance of causal forests in settings where correlation between some regressors occurs (simulation study - Case 3) and where the number of regressors varies (Case 6), since Athey and Wager (2015) suppose \"a substantial increase in power when the dimension of the feature space is even moderately large\". I find a very good performance with correlation, but can't find an improvement in higher dimensions. To be fair, I have not compared the results to another matching estimation method, like KNN or Propensity Score Matching. Since we consider a trained causal forest, where only the most important variables from a first \"pilot run\" are considered, it seems plausible that the forest would outperform the other two methods by some kind of variable selection.    \n",
    "\n",
    "Since causal trees don't impose a structural functional form of the regressors, causal forests are \"a nonparametric estimation method, [and] in principle should be able to automatically detect any relevant interactions\" (Farbmacher et al. 2019). The performance of causal forests dealing with higher degree polynomials and interactions in the data generating process will be analyzed in Case 2 of the simulation study. It turns out that causal forests indeed seem to handle nonlinear interactions well, especially if treatment heterogeneity is not too complex. "
   ]
  },
  {
   "cell_type": "markdown",
   "id": "fb4c88d1",
   "metadata": {},
   "source": [
    "# 2.) Simulation Study<a id=\"simulation\"></a>"
   ]
  },
  {
   "cell_type": "markdown",
   "id": "33145bab",
   "metadata": {},
   "source": [
    "## Data Generating Process<a id=\"dgp\"></a>\n",
    "\n",
    "Note that the codes for the data generating process and the Monte Carlo simulation study can be found in the auxiliary-file. The variations in the treatment effect function $\\tau(x)$ and the DGP function are inspired by Athey & Wager (2015), Athey & Imbens (2015) and Powers et al. (2017). \n",
    "\n",
    "\n",
    "$$X_{i,1}, ..., X_{i,10} \\sim \\mathcal{N}(0,1)$$\n",
    "\n",
    "$$\\beta \\in [0.5,1]^{10}$$\n",
    "\n",
    "$$Prob(W_i=1) =0.5$$\n",
    "\n",
    "$$Y_i = X \\beta + \\tau(x_i)* W_i + \\epsilon_i $$\n",
    "\n",
    "$$\\epsilon_i \\sim \\mathcal{N}(0,\\,0.1)$$\n",
    "\n",
    "**Description**\n",
    "\n",
    "The specification above displays the basic setup of the data generating process. \n",
    "10 regressors are drawn from a standard normal distrubtion and all $\\beta$ are evenly divided between 0.5 and 1. \n",
    "The probability of being assigned to treatment is fixed at 50% for all observations. The individual error term is also drawn from a normal distribution with mean zero and standard deviation of 0.1.\n",
    "All changes and additions that have been made in the simulation study will be explained in greater detail as a description before each scenario."
   ]
  },
  {
   "cell_type": "markdown",
   "id": "de094601",
   "metadata": {},
   "source": [
    "## Performance Measure<a id=\"performance\"></a>\n",
    "\n",
    "Eventhough the counterfactuals are never observed in real life data, we can take advantage of the data generating process in simulation studies where we explicitely calculate the true treatment effect for each observation. Therefore, as Athey & Wager (2015) proposed we can use the $MSE_{\\tau}$ as a measure in order to compare the performance of the causal forest in different settings. I calculated the Mean Squared Error of the treatment effect as follows\n",
    "$$MSE_{\\tau} = \\frac{1}{N} \\sum_{i=1}^N{\\left( \\tau_{i}-\\hat{\\tau}_{R_k}(X_i) \\right)^{2}} ,$$\n",
    "\n",
    "where $\\hat{\\tau}_{R_k}(X_i)$ are the estimated treatment effects for individuals in leaf $R_k$.\n",
    "Note that the $MSE_{\\tau}$ used in this Simulation Study differs slightly from the one proposed in the Athey and Imbens (2015) paper. They subtract $\\mathbb{E}[\\tau_i^2]$, but as they noted \"it does not affect how the criterion ranks estimators\", since $\\tau_i$ is explicitely calculated here and hence is not a random variable  "
   ]
  },
  {
   "cell_type": "markdown",
   "id": "2661b0bd",
   "metadata": {},
   "source": [
    "## Monte Carlo Simulation Study - Variations<a id=\"simstudy\"></a>"
   ]
  },
  {
   "cell_type": "markdown",
   "id": "559f2112",
   "metadata": {},
   "source": [
    "### Case 1 - Introduction of Treatment Effect Functions\n",
    "\n",
    "$(1)\\quad \\tau(x) = 0.2 $\n",
    "\n",
    "$(2)\\quad \\tau(x) = 0.1 + 0.1*\\mathbb{1}(x_1 > 0) + 0.1*\\mathbb{1}(x_2 > 0)$\n",
    "\n",
    "$(3)\\quad \\tau(x) = 0.1 + x_1*\\mathbb{1}(x_1 > 0) + x_2*\\mathbb{1}(x_2 > 0)$  \n",
    "\n",
    "$(4)\\quad \\tau(x) = 0.1 + \\sum_{i=1}^{4} x_i*\\mathbb{1}(x_i > 0) $\n",
    "\n",
    "$(5)\\quad \\tau(x) = 0.2 + x_1*x_2 $\n",
    "\n",
    "\n",
    "**Description & Result**\n",
    "\n",
    "Case 1 will be used as a benchmark where the basic setup is considered. The different treatment scenarios are depicted above. \n",
    "In the first treatment scenario $(1)$ there is only a single treatment effect independent of individuals' characteristics. Treatment scenario $(2)$ introduces some simple treatment effect heterogeneity, that is treatment effect increases if an individual has positive values in its' $X_1$ and $X_2$ characteristics respectively. Each positive value increases the magnitude of the treatment effect by the constant treatment effect of 0.1. \n",
    "In treatment scenario $(3)$ complexity of heterogeneity has been increased, such that the magnitude of treatment depends on the values of $X_1$ and $X_2$. So, treatment effect is even heterogeneous within $X_1$ and $X_2$. Higher positive values of these variables imply a higher treatment effect. \n",
    "Scenario $(4)$ adds two more regressors in the treatment effect function. \n",
    "Treatment scenario $(5)$ introduces an interaction term in $\\tau(x)$. Since $X$ are standard normally distributed, around half of the draws from $X_1$ and $X_2$ are negative, implying an even higher degree of treatment variation.\n",
    "\n",
    "It can be observed that the higher the number of observations, the smaller the Mean Squared Error. This holds true for all successive applications. This is theoretically justified, since with a higher number of observations the trees can perform more splits per tree without reaching the boundary of minimal observations per leaf. \n",
    "Interesting is that the $MSE_{\\tau}$ almost doesn't differ between homogeneous and a very simple heterogeneous treatment effect, $(1)$ and $(2)$. This result is quite remarkable and shows that Causal Forests seem to be quite good at matching observations with a simple heterogeneity structure. It should be noted that Powers et al. (2017) find some striking differences between scenarios 1 and 2 in their paper which come closest to my treatment scenarios $(1)$ and $(2)$. One reason might be that Powers et al. (2017) draw their regressors mixed from standard normal and bernoulli distributions.\n",
    "Since treatment scenarios $(3)$ to $(5)$ impose a higher degree of variation in individual treatment effects, it is obvious that the $MSE_{\\tau}$ are much higher compared to the previous scenarios. Even for a large sample the estimated $MSE_{\\tau}$ can't keep up. These results are consistent though with the ones from Table S1 (Appendix) in Athey and Imbens (2015)."
   ]
  },
  {
   "cell_type": "code",
   "execution_count": 4,
   "id": "22d3e10e",
   "metadata": {},
   "outputs": [],
   "source": [
    "set.seed(123)"
   ]
  },
  {
   "cell_type": "code",
   "execution_count": 5,
   "id": "c15c6671",
   "metadata": {},
   "outputs": [
    {
     "data": {
      "text/html": [
       "<table>\n",
       "<thead><tr><th scope=col>Application</th><th scope=col>N = 100</th><th scope=col>N = 150</th><th scope=col>N = 250</th><th scope=col>N = 500</th></tr></thead>\n",
       "<tbody>\n",
       "\t<tr><td>Treatment 1</td><td>0.270      </td><td>0.140      </td><td>0.098      </td><td>0.059      </td></tr>\n",
       "\t<tr><td>Treatment 2</td><td>0.203      </td><td>0.152      </td><td>0.109      </td><td>0.081      </td></tr>\n",
       "\t<tr><td>Treatment 3</td><td>0.833      </td><td>0.698      </td><td>0.565      </td><td>0.382      </td></tr>\n",
       "\t<tr><td>Treatment 4</td><td>1.423      </td><td>1.271      </td><td>1.061      </td><td>0.784      </td></tr>\n",
       "\t<tr><td>Treatment 5</td><td>1.188      </td><td>1.167      </td><td>1.061      </td><td>0.996      </td></tr>\n",
       "</tbody>\n",
       "</table>\n"
      ],
      "text/latex": [
       "\\begin{tabular}{r|lllll}\n",
       " Application & N = 100 & N = 150 & N = 250 & N = 500\\\\\n",
       "\\hline\n",
       "\t Treatment 1 & 0.270       & 0.140       & 0.098       & 0.059      \\\\\n",
       "\t Treatment 2 & 0.203       & 0.152       & 0.109       & 0.081      \\\\\n",
       "\t Treatment 3 & 0.833       & 0.698       & 0.565       & 0.382      \\\\\n",
       "\t Treatment 4 & 1.423       & 1.271       & 1.061       & 0.784      \\\\\n",
       "\t Treatment 5 & 1.188       & 1.167       & 1.061       & 0.996      \\\\\n",
       "\\end{tabular}\n"
      ],
      "text/markdown": [
       "\n",
       "| Application | N = 100 | N = 150 | N = 250 | N = 500 |\n",
       "|---|---|---|---|---|\n",
       "| Treatment 1 | 0.270       | 0.140       | 0.098       | 0.059       |\n",
       "| Treatment 2 | 0.203       | 0.152       | 0.109       | 0.081       |\n",
       "| Treatment 3 | 0.833       | 0.698       | 0.565       | 0.382       |\n",
       "| Treatment 4 | 1.423       | 1.271       | 1.061       | 0.784       |\n",
       "| Treatment 5 | 1.188       | 1.167       | 1.061       | 0.996       |\n",
       "\n"
      ],
      "text/plain": [
       "  Application N = 100 N = 150 N = 250 N = 500\n",
       "1 Treatment 1 0.270   0.140   0.098   0.059  \n",
       "2 Treatment 2 0.203   0.152   0.109   0.081  \n",
       "3 Treatment 3 0.833   0.698   0.565   0.382  \n",
       "4 Treatment 4 1.423   1.271   1.061   0.784  \n",
       "5 Treatment 5 1.188   1.167   1.061   0.996  "
      ]
     },
     "metadata": {},
     "output_type": "display_data"
    }
   ],
   "source": [
    "simulation(p=10,numsim=100,regressors=\"nocorr\")"
   ]
  },
  {
   "cell_type": "markdown",
   "id": "6f7a38e2",
   "metadata": {},
   "source": [
    "### Case 2 - Polynomials and Interactions added to DGP\n",
    "\n",
    "$(1) \\quad X_{i,9} = X_{i,1}^2 \\quad $ and $\\quad X_{i,10} = X_{i,2}^2$\n",
    "\n",
    "$(2) \\quad X_{i,2} = X_{i,1}^2$\n",
    "\n",
    "$(3) \\quad X_{i,10} = X_{i,1}*X_{i,2}$\n",
    "\n",
    "**Description & Result**\n",
    "\n",
    "In Case 2 different changes in the data generating process have been made. In scenario $(1)$ quadratic transformations of $X_1$ and $X_2$ have been added in the DGP function. Scenario $(2)$ differs in that the quadratic transformation of $X_1$ displaces the $X_2$ variable, implying that only $X_1$ and it's second degree polynomial determine treatment heterogeneity. $(3)$ depicts the scenario with an additional interaction term between $X_1$ and $X_2$ in the DGP.\n",
    "\n",
    "\n",
    "\n",
    "Causal forests seem to make pretty good treatment predictions compared to the benchark Case 1, with one exception. Since causal forests are a nonparametric method and therefore don't make explicit assumptions about the underlying functional form, this result seems to be consistent with the theoretical properties explained in part 1 of this paper.\n",
    "Adding the interaction term between $X_1$ and $X_2$ into the DGP makes the causal forest perform the best within all scenarios where polynomials or interactions have been considered. \n",
    "The good performance compared to Case 1 could also be explained by the fewer number of total regressors, since either one or two regressors basically include the same information as $X_1$ and/or $X_2$. The performance with fewer regressors will also be discussed in Case 6.  The one exception to the relative good performance is the inclusion of the interaction term in scenario $(2)$ with more complex treatment heterogeneity. Even with large samples the $MSE_{\\tau}$ values are particular large."
   ]
  },
  {
   "cell_type": "code",
   "execution_count": 6,
   "id": "9105dc6b",
   "metadata": {},
   "outputs": [
    {
     "data": {
      "text/html": [
       "<table>\n",
       "<thead><tr><th scope=col>Application</th><th scope=col>N = 100</th><th scope=col>N = 150</th><th scope=col>N = 250</th><th scope=col>N = 500</th></tr></thead>\n",
       "<tbody>\n",
       "\t<tr><td>Treatment 1</td><td>0.237      </td><td>0.187      </td><td>0.117      </td><td>0.072      </td></tr>\n",
       "\t<tr><td>Treatment 2</td><td>0.194      </td><td>0.178      </td><td>0.103      </td><td>0.072      </td></tr>\n",
       "\t<tr><td>Treatment 3</td><td>0.919      </td><td>0.742      </td><td>0.539      </td><td>0.360      </td></tr>\n",
       "\t<tr><td>Treatment 4</td><td>1.517      </td><td>1.360      </td><td>1.087      </td><td>0.783      </td></tr>\n",
       "\t<tr><td>Treatment 5</td><td>1.307      </td><td>1.208      </td><td>1.104      </td><td>0.988      </td></tr>\n",
       "</tbody>\n",
       "</table>\n"
      ],
      "text/latex": [
       "\\begin{tabular}{r|lllll}\n",
       " Application & N = 100 & N = 150 & N = 250 & N = 500\\\\\n",
       "\\hline\n",
       "\t Treatment 1 & 0.237       & 0.187       & 0.117       & 0.072      \\\\\n",
       "\t Treatment 2 & 0.194       & 0.178       & 0.103       & 0.072      \\\\\n",
       "\t Treatment 3 & 0.919       & 0.742       & 0.539       & 0.360      \\\\\n",
       "\t Treatment 4 & 1.517       & 1.360       & 1.087       & 0.783      \\\\\n",
       "\t Treatment 5 & 1.307       & 1.208       & 1.104       & 0.988      \\\\\n",
       "\\end{tabular}\n"
      ],
      "text/markdown": [
       "\n",
       "| Application | N = 100 | N = 150 | N = 250 | N = 500 |\n",
       "|---|---|---|---|---|\n",
       "| Treatment 1 | 0.237       | 0.187       | 0.117       | 0.072       |\n",
       "| Treatment 2 | 0.194       | 0.178       | 0.103       | 0.072       |\n",
       "| Treatment 3 | 0.919       | 0.742       | 0.539       | 0.360       |\n",
       "| Treatment 4 | 1.517       | 1.360       | 1.087       | 0.783       |\n",
       "| Treatment 5 | 1.307       | 1.208       | 1.104       | 0.988       |\n",
       "\n"
      ],
      "text/plain": [
       "  Application N = 100 N = 150 N = 250 N = 500\n",
       "1 Treatment 1 0.237   0.187   0.117   0.072  \n",
       "2 Treatment 2 0.194   0.178   0.103   0.072  \n",
       "3 Treatment 3 0.919   0.742   0.539   0.360  \n",
       "4 Treatment 4 1.517   1.360   1.087   0.783  \n",
       "5 Treatment 5 1.307   1.208   1.104   0.988  "
      ]
     },
     "metadata": {},
     "output_type": "display_data"
    }
   ],
   "source": [
    "simulation(p=10,numsim=100,regressors=\"poly1\")"
   ]
  },
  {
   "cell_type": "code",
   "execution_count": 7,
   "id": "c020d353",
   "metadata": {},
   "outputs": [
    {
     "data": {
      "text/html": [
       "<table>\n",
       "<thead><tr><th scope=col>Application</th><th scope=col>N = 100</th><th scope=col>N = 150</th><th scope=col>N = 250</th><th scope=col>N = 500</th></tr></thead>\n",
       "<tbody>\n",
       "\t<tr><td>Treatment 1</td><td> 0.233     </td><td> 0.152     </td><td> 0.111     </td><td>0.073      </td></tr>\n",
       "\t<tr><td>Treatment 2</td><td> 0.227     </td><td> 0.150     </td><td> 0.120     </td><td>0.068      </td></tr>\n",
       "\t<tr><td>Treatment 3</td><td> 3.037     </td><td> 2.454     </td><td> 1.534     </td><td>0.850      </td></tr>\n",
       "\t<tr><td>Treatment 4</td><td> 3.614     </td><td> 3.075     </td><td> 2.305     </td><td>1.343      </td></tr>\n",
       "\t<tr><td>Treatment 5</td><td>13.124     </td><td>12.619     </td><td>10.595     </td><td>7.334      </td></tr>\n",
       "</tbody>\n",
       "</table>\n"
      ],
      "text/latex": [
       "\\begin{tabular}{r|lllll}\n",
       " Application & N = 100 & N = 150 & N = 250 & N = 500\\\\\n",
       "\\hline\n",
       "\t Treatment 1 &  0.233      &  0.152      &  0.111      & 0.073      \\\\\n",
       "\t Treatment 2 &  0.227      &  0.150      &  0.120      & 0.068      \\\\\n",
       "\t Treatment 3 &  3.037      &  2.454      &  1.534      & 0.850      \\\\\n",
       "\t Treatment 4 &  3.614      &  3.075      &  2.305      & 1.343      \\\\\n",
       "\t Treatment 5 & 13.124      & 12.619      & 10.595      & 7.334      \\\\\n",
       "\\end{tabular}\n"
      ],
      "text/markdown": [
       "\n",
       "| Application | N = 100 | N = 150 | N = 250 | N = 500 |\n",
       "|---|---|---|---|---|\n",
       "| Treatment 1 |  0.233      |  0.152      |  0.111      | 0.073       |\n",
       "| Treatment 2 |  0.227      |  0.150      |  0.120      | 0.068       |\n",
       "| Treatment 3 |  3.037      |  2.454      |  1.534      | 0.850       |\n",
       "| Treatment 4 |  3.614      |  3.075      |  2.305      | 1.343       |\n",
       "| Treatment 5 | 13.124      | 12.619      | 10.595      | 7.334       |\n",
       "\n"
      ],
      "text/plain": [
       "  Application N = 100 N = 150 N = 250 N = 500\n",
       "1 Treatment 1  0.233   0.152   0.111  0.073  \n",
       "2 Treatment 2  0.227   0.150   0.120  0.068  \n",
       "3 Treatment 3  3.037   2.454   1.534  0.850  \n",
       "4 Treatment 4  3.614   3.075   2.305  1.343  \n",
       "5 Treatment 5 13.124  12.619  10.595  7.334  "
      ]
     },
     "metadata": {},
     "output_type": "display_data"
    }
   ],
   "source": [
    "simulation(p=10,numsim=100,regressors=\"poly2\")"
   ]
  },
  {
   "cell_type": "code",
   "execution_count": 8,
   "id": "1db1ff61",
   "metadata": {},
   "outputs": [
    {
     "data": {
      "text/html": [
       "<table>\n",
       "<thead><tr><th scope=col>Application</th><th scope=col>N = 100</th><th scope=col>N = 150</th><th scope=col>N = 250</th><th scope=col>N = 500</th></tr></thead>\n",
       "<tbody>\n",
       "\t<tr><td>Treatment 1</td><td>0.206      </td><td>0.157      </td><td>0.099      </td><td>0.076      </td></tr>\n",
       "\t<tr><td>Treatment 2</td><td>0.294      </td><td>0.194      </td><td>0.118      </td><td>0.073      </td></tr>\n",
       "\t<tr><td>Treatment 3</td><td>0.835      </td><td>0.683      </td><td>0.512      </td><td>0.348      </td></tr>\n",
       "\t<tr><td>Treatment 4</td><td>1.517      </td><td>1.321      </td><td>1.025      </td><td>0.750      </td></tr>\n",
       "\t<tr><td>Treatment 5</td><td>1.031      </td><td>0.926      </td><td>0.715      </td><td>0.481      </td></tr>\n",
       "</tbody>\n",
       "</table>\n"
      ],
      "text/latex": [
       "\\begin{tabular}{r|lllll}\n",
       " Application & N = 100 & N = 150 & N = 250 & N = 500\\\\\n",
       "\\hline\n",
       "\t Treatment 1 & 0.206       & 0.157       & 0.099       & 0.076      \\\\\n",
       "\t Treatment 2 & 0.294       & 0.194       & 0.118       & 0.073      \\\\\n",
       "\t Treatment 3 & 0.835       & 0.683       & 0.512       & 0.348      \\\\\n",
       "\t Treatment 4 & 1.517       & 1.321       & 1.025       & 0.750      \\\\\n",
       "\t Treatment 5 & 1.031       & 0.926       & 0.715       & 0.481      \\\\\n",
       "\\end{tabular}\n"
      ],
      "text/markdown": [
       "\n",
       "| Application | N = 100 | N = 150 | N = 250 | N = 500 |\n",
       "|---|---|---|---|---|\n",
       "| Treatment 1 | 0.206       | 0.157       | 0.099       | 0.076       |\n",
       "| Treatment 2 | 0.294       | 0.194       | 0.118       | 0.073       |\n",
       "| Treatment 3 | 0.835       | 0.683       | 0.512       | 0.348       |\n",
       "| Treatment 4 | 1.517       | 1.321       | 1.025       | 0.750       |\n",
       "| Treatment 5 | 1.031       | 0.926       | 0.715       | 0.481       |\n",
       "\n"
      ],
      "text/plain": [
       "  Application N = 100 N = 150 N = 250 N = 500\n",
       "1 Treatment 1 0.206   0.157   0.099   0.076  \n",
       "2 Treatment 2 0.294   0.194   0.118   0.073  \n",
       "3 Treatment 3 0.835   0.683   0.512   0.348  \n",
       "4 Treatment 4 1.517   1.321   1.025   0.750  \n",
       "5 Treatment 5 1.031   0.926   0.715   0.481  "
      ]
     },
     "metadata": {},
     "output_type": "display_data"
    }
   ],
   "source": [
    "simulation(p=10,numsim=100,regressors=\"interaction\")"
   ]
  },
  {
   "cell_type": "markdown",
   "id": "252390b4",
   "metadata": {},
   "source": [
    "### Case 3 - Correlation between Regressors\n",
    "\n",
    "$(1) \\quad \\rho_{j,k} = 0.5 \\qquad \\forall j,k = \\{1,...,10\\} \\quad s.t. \\quad j \\ne k  $\n",
    "\n",
    "$(2) \\quad \\rho_{1,2} = 0.9$\n",
    "\n",
    "**Description & Result**\n",
    "\n",
    "Case 3 deals with correlation between regressors. In scenario $(1)$ all regressors are moderately correlated with each other with $\\rho = 0.5$ and in $(2)$ only the two regressors that influence treatment heterogeneity are highly correlated with $\\rho = 0.9$. This exploration might be interesting for observational studies where individual characteristics might impact each other and treatment effects.\n",
    "\n",
    "In both scenarios causal forests with large sample sizes produce similiar results to Case 1, even with complex treatment heterogeneity. These findings are interesting in that causal forests seem to handle the problem of correlation between regressors very well, and should therefore be considered as a valid estimation method where other methods might fail. One reason might be that causal trees are splitting by maximizing the variance of $\\hat{\\tau}$ which will be larger if the variables affecting $\\hat{\\tau}$ are either moderately $(1)$ or even strongly $(2)$ correlated."
   ]
  },
  {
   "cell_type": "code",
   "execution_count": 9,
   "id": "2b07d3b5",
   "metadata": {},
   "outputs": [
    {
     "data": {
      "text/html": [
       "<table>\n",
       "<thead><tr><th scope=col>Application</th><th scope=col>N = 100</th><th scope=col>N = 150</th><th scope=col>N = 250</th><th scope=col>N = 500</th></tr></thead>\n",
       "<tbody>\n",
       "\t<tr><td>Treatment 1</td><td>0.294      </td><td>0.204      </td><td>0.091      </td><td>0.060      </td></tr>\n",
       "\t<tr><td>Treatment 2</td><td>0.297      </td><td>0.160      </td><td>0.114      </td><td>0.068      </td></tr>\n",
       "\t<tr><td>Treatment 3</td><td>1.114      </td><td>0.794      </td><td>0.594      </td><td>0.367      </td></tr>\n",
       "\t<tr><td>Treatment 4</td><td>2.583      </td><td>1.866      </td><td>1.350      </td><td>0.785      </td></tr>\n",
       "\t<tr><td>Treatment 5</td><td>1.510      </td><td>1.381      </td><td>1.134      </td><td>0.898      </td></tr>\n",
       "</tbody>\n",
       "</table>\n"
      ],
      "text/latex": [
       "\\begin{tabular}{r|lllll}\n",
       " Application & N = 100 & N = 150 & N = 250 & N = 500\\\\\n",
       "\\hline\n",
       "\t Treatment 1 & 0.294       & 0.204       & 0.091       & 0.060      \\\\\n",
       "\t Treatment 2 & 0.297       & 0.160       & 0.114       & 0.068      \\\\\n",
       "\t Treatment 3 & 1.114       & 0.794       & 0.594       & 0.367      \\\\\n",
       "\t Treatment 4 & 2.583       & 1.866       & 1.350       & 0.785      \\\\\n",
       "\t Treatment 5 & 1.510       & 1.381       & 1.134       & 0.898      \\\\\n",
       "\\end{tabular}\n"
      ],
      "text/markdown": [
       "\n",
       "| Application | N = 100 | N = 150 | N = 250 | N = 500 |\n",
       "|---|---|---|---|---|\n",
       "| Treatment 1 | 0.294       | 0.204       | 0.091       | 0.060       |\n",
       "| Treatment 2 | 0.297       | 0.160       | 0.114       | 0.068       |\n",
       "| Treatment 3 | 1.114       | 0.794       | 0.594       | 0.367       |\n",
       "| Treatment 4 | 2.583       | 1.866       | 1.350       | 0.785       |\n",
       "| Treatment 5 | 1.510       | 1.381       | 1.134       | 0.898       |\n",
       "\n"
      ],
      "text/plain": [
       "  Application N = 100 N = 150 N = 250 N = 500\n",
       "1 Treatment 1 0.294   0.204   0.091   0.060  \n",
       "2 Treatment 2 0.297   0.160   0.114   0.068  \n",
       "3 Treatment 3 1.114   0.794   0.594   0.367  \n",
       "4 Treatment 4 2.583   1.866   1.350   0.785  \n",
       "5 Treatment 5 1.510   1.381   1.134   0.898  "
      ]
     },
     "metadata": {},
     "output_type": "display_data"
    }
   ],
   "source": [
    "simulation(p=10,numsim=100,regressors=\"corr1\")"
   ]
  },
  {
   "cell_type": "code",
   "execution_count": 10,
   "id": "cf9db01b",
   "metadata": {},
   "outputs": [
    {
     "data": {
      "text/html": [
       "<table>\n",
       "<thead><tr><th scope=col>Application</th><th scope=col>N = 100</th><th scope=col>N = 150</th><th scope=col>N = 250</th><th scope=col>N = 500</th></tr></thead>\n",
       "<tbody>\n",
       "\t<tr><td>Treatment 1</td><td>0.238      </td><td>0.128      </td><td>0.105      </td><td>0.065      </td></tr>\n",
       "\t<tr><td>Treatment 2</td><td>0.231      </td><td>0.148      </td><td>0.112      </td><td>0.079      </td></tr>\n",
       "\t<tr><td>Treatment 3</td><td>1.179      </td><td>0.928      </td><td>0.594      </td><td>0.305      </td></tr>\n",
       "\t<tr><td>Treatment 4</td><td>1.947      </td><td>1.525      </td><td>1.136      </td><td>0.709      </td></tr>\n",
       "\t<tr><td>Treatment 5</td><td>1.935      </td><td>1.960      </td><td>1.552      </td><td>0.960      </td></tr>\n",
       "</tbody>\n",
       "</table>\n"
      ],
      "text/latex": [
       "\\begin{tabular}{r|lllll}\n",
       " Application & N = 100 & N = 150 & N = 250 & N = 500\\\\\n",
       "\\hline\n",
       "\t Treatment 1 & 0.238       & 0.128       & 0.105       & 0.065      \\\\\n",
       "\t Treatment 2 & 0.231       & 0.148       & 0.112       & 0.079      \\\\\n",
       "\t Treatment 3 & 1.179       & 0.928       & 0.594       & 0.305      \\\\\n",
       "\t Treatment 4 & 1.947       & 1.525       & 1.136       & 0.709      \\\\\n",
       "\t Treatment 5 & 1.935       & 1.960       & 1.552       & 0.960      \\\\\n",
       "\\end{tabular}\n"
      ],
      "text/markdown": [
       "\n",
       "| Application | N = 100 | N = 150 | N = 250 | N = 500 |\n",
       "|---|---|---|---|---|\n",
       "| Treatment 1 | 0.238       | 0.128       | 0.105       | 0.065       |\n",
       "| Treatment 2 | 0.231       | 0.148       | 0.112       | 0.079       |\n",
       "| Treatment 3 | 1.179       | 0.928       | 0.594       | 0.305       |\n",
       "| Treatment 4 | 1.947       | 1.525       | 1.136       | 0.709       |\n",
       "| Treatment 5 | 1.935       | 1.960       | 1.552       | 0.960       |\n",
       "\n"
      ],
      "text/plain": [
       "  Application N = 100 N = 150 N = 250 N = 500\n",
       "1 Treatment 1 0.238   0.128   0.105   0.065  \n",
       "2 Treatment 2 0.231   0.148   0.112   0.079  \n",
       "3 Treatment 3 1.179   0.928   0.594   0.305  \n",
       "4 Treatment 4 1.947   1.525   1.136   0.709  \n",
       "5 Treatment 5 1.935   1.960   1.552   0.960  "
      ]
     },
     "metadata": {},
     "output_type": "display_data"
    }
   ],
   "source": [
    "simulation(p=10,numsim=100,regressors=\"corr2\")"
   ]
  },
  {
   "cell_type": "markdown",
   "id": "7e0c9504",
   "metadata": {},
   "source": [
    "### Case 4 - Treatment variables don't influence Y\n",
    "\n",
    "$(1) \\quad \\beta_1, \\beta_2 = 0$\n",
    "\n",
    "**Description & Result**\n",
    "\n",
    "In Case 4 both $X_1$ and $X_2$ influence treatment effect heterogeneity, but don't have any influence on the output variable $Y$. Since the number of regressors has an impact of how well the estimation method performs, I conduct this analysis with 12 regressors (minus the two regressors with $\\beta = 0$) in order to assure comparability to Case 1 with 10 regressors in total. \n",
    "\n",
    "Causal forests perform very similiar to the scenario where $\\beta_1, \\beta_2 \\neq 0$, indicating that they are able to detect heterogeneity based on variables that don't influence $Y$. This makes sense from a theoretical point of view, since the splits of the tree are being made as to generate some high level of treatment variation between the split directions. Therefore, detection of treatment heterogeneity works as long as these variables are included in the dataset, eventhough they don't influence $Y$ directly. "
   ]
  },
  {
   "cell_type": "code",
   "execution_count": 11,
   "id": "22ec76e2",
   "metadata": {},
   "outputs": [
    {
     "data": {
      "text/html": [
       "<table>\n",
       "<thead><tr><th scope=col>Application</th><th scope=col>N = 100</th><th scope=col>N = 150</th><th scope=col>N = 250</th><th scope=col>N = 500</th></tr></thead>\n",
       "<tbody>\n",
       "\t<tr><td>Treatment 1</td><td>0.151      </td><td>0.138      </td><td>0.104      </td><td>0.062      </td></tr>\n",
       "\t<tr><td>Treatment 2</td><td>0.188      </td><td>0.149      </td><td>0.090      </td><td>0.057      </td></tr>\n",
       "\t<tr><td>Treatment 3</td><td>0.798      </td><td>0.685      </td><td>0.530      </td><td>0.352      </td></tr>\n",
       "\t<tr><td>Treatment 4</td><td>1.418      </td><td>1.305      </td><td>1.026      </td><td>0.738      </td></tr>\n",
       "\t<tr><td>Treatment 5</td><td>1.220      </td><td>1.132      </td><td>1.088      </td><td>0.981      </td></tr>\n",
       "</tbody>\n",
       "</table>\n"
      ],
      "text/latex": [
       "\\begin{tabular}{r|lllll}\n",
       " Application & N = 100 & N = 150 & N = 250 & N = 500\\\\\n",
       "\\hline\n",
       "\t Treatment 1 & 0.151       & 0.138       & 0.104       & 0.062      \\\\\n",
       "\t Treatment 2 & 0.188       & 0.149       & 0.090       & 0.057      \\\\\n",
       "\t Treatment 3 & 0.798       & 0.685       & 0.530       & 0.352      \\\\\n",
       "\t Treatment 4 & 1.418       & 1.305       & 1.026       & 0.738      \\\\\n",
       "\t Treatment 5 & 1.220       & 1.132       & 1.088       & 0.981      \\\\\n",
       "\\end{tabular}\n"
      ],
      "text/markdown": [
       "\n",
       "| Application | N = 100 | N = 150 | N = 250 | N = 500 |\n",
       "|---|---|---|---|---|\n",
       "| Treatment 1 | 0.151       | 0.138       | 0.104       | 0.062       |\n",
       "| Treatment 2 | 0.188       | 0.149       | 0.090       | 0.057       |\n",
       "| Treatment 3 | 0.798       | 0.685       | 0.530       | 0.352       |\n",
       "| Treatment 4 | 1.418       | 1.305       | 1.026       | 0.738       |\n",
       "| Treatment 5 | 1.220       | 1.132       | 1.088       | 0.981       |\n",
       "\n"
      ],
      "text/plain": [
       "  Application N = 100 N = 150 N = 250 N = 500\n",
       "1 Treatment 1 0.151   0.138   0.104   0.062  \n",
       "2 Treatment 2 0.188   0.149   0.090   0.057  \n",
       "3 Treatment 3 0.798   0.685   0.530   0.352  \n",
       "4 Treatment 4 1.418   1.305   1.026   0.738  \n",
       "5 Treatment 5 1.220   1.132   1.088   0.981  "
      ]
     },
     "metadata": {},
     "output_type": "display_data"
    }
   ],
   "source": [
    "simulation(p=10,numsim=100,regressors=\"beta12\")"
   ]
  },
  {
   "cell_type": "markdown",
   "id": "d5be37d6",
   "metadata": {},
   "source": [
    "### Case 5 - Treatment Probability depends on $X$\n",
    "\n",
    "$(1) \\quad Prob(W_i = 1 \\mid x_1>0) = 0.75 \\quad $ and $\\quad Prob(W_i = 1 \\mid x_1<0) = 0.25 $\n",
    "\n",
    "**Description & Result**\n",
    "\n",
    "Before marginal treatment probability has been fixed at 0.5 for all individuals. In this scenario selection bias will be introduced. Those individuals profiting more from treatment, i.e. individuals with positive values in the $X_1$ characteristic, are more likely to be assigned to treatment. Treatment probability for $X_1 > 0$ is 0.75, whereas treatment probability for $X_1 < 0$ is only 0.25. The analysis of this case has importance in observational studies where randomization in treatment assignment can often not be assured.  \n",
    "\n",
    "We see a slight increase in $MSE_{\\tau}$ compared to Case 1 for 100 and 150 observations, but causal forests perform relatively worse for 500 observations, indicating that the performance with selection bias cannot quite keep up in large scale samples, where this method usually has its largest improvements, as seen in previous cases."
   ]
  },
  {
   "cell_type": "code",
   "execution_count": 12,
   "id": "c8ff4322",
   "metadata": {},
   "outputs": [
    {
     "data": {
      "text/html": [
       "<table>\n",
       "<thead><tr><th scope=col>Application</th><th scope=col>N = 100</th><th scope=col>N = 150</th><th scope=col>N = 250</th><th scope=col>N = 500</th></tr></thead>\n",
       "<tbody>\n",
       "\t<tr><td>Treatment 1</td><td>0.297      </td><td>0.335      </td><td>0.235      </td><td>0.224      </td></tr>\n",
       "\t<tr><td>Treatment 2</td><td>0.352      </td><td>0.317      </td><td>0.275      </td><td>0.228      </td></tr>\n",
       "\t<tr><td>Treatment 3</td><td>1.204      </td><td>1.077      </td><td>0.879      </td><td>0.485      </td></tr>\n",
       "\t<tr><td>Treatment 4</td><td>1.919      </td><td>1.686      </td><td>1.442      </td><td>0.925      </td></tr>\n",
       "\t<tr><td>Treatment 5</td><td>1.325      </td><td>1.345      </td><td>1.310      </td><td>1.201      </td></tr>\n",
       "</tbody>\n",
       "</table>\n"
      ],
      "text/latex": [
       "\\begin{tabular}{r|lllll}\n",
       " Application & N = 100 & N = 150 & N = 250 & N = 500\\\\\n",
       "\\hline\n",
       "\t Treatment 1 & 0.297       & 0.335       & 0.235       & 0.224      \\\\\n",
       "\t Treatment 2 & 0.352       & 0.317       & 0.275       & 0.228      \\\\\n",
       "\t Treatment 3 & 1.204       & 1.077       & 0.879       & 0.485      \\\\\n",
       "\t Treatment 4 & 1.919       & 1.686       & 1.442       & 0.925      \\\\\n",
       "\t Treatment 5 & 1.325       & 1.345       & 1.310       & 1.201      \\\\\n",
       "\\end{tabular}\n"
      ],
      "text/markdown": [
       "\n",
       "| Application | N = 100 | N = 150 | N = 250 | N = 500 |\n",
       "|---|---|---|---|---|\n",
       "| Treatment 1 | 0.297       | 0.335       | 0.235       | 0.224       |\n",
       "| Treatment 2 | 0.352       | 0.317       | 0.275       | 0.228       |\n",
       "| Treatment 3 | 1.204       | 1.077       | 0.879       | 0.485       |\n",
       "| Treatment 4 | 1.919       | 1.686       | 1.442       | 0.925       |\n",
       "| Treatment 5 | 1.325       | 1.345       | 1.310       | 1.201       |\n",
       "\n"
      ],
      "text/plain": [
       "  Application N = 100 N = 150 N = 250 N = 500\n",
       "1 Treatment 1 0.297   0.335   0.235   0.224  \n",
       "2 Treatment 2 0.352   0.317   0.275   0.228  \n",
       "3 Treatment 3 1.204   1.077   0.879   0.485  \n",
       "4 Treatment 4 1.919   1.686   1.442   0.925  \n",
       "5 Treatment 5 1.325   1.345   1.310   1.201  "
      ]
     },
     "metadata": {},
     "output_type": "display_data"
    }
   ],
   "source": [
    "simulation(p=10,numsim=100,regressors=\"selectionbias\")"
   ]
  },
  {
   "cell_type": "markdown",
   "id": "f902ac2a",
   "metadata": {},
   "source": [
    "### Case 6 - Number of Regressors\n",
    "\n",
    "$(1) \\quad p \\in \\{4,20,50,100\\}$\n",
    "\n",
    "**Description & Result**\n",
    "\n",
    "In Case 6 performance with a different number of regressors is compared where the number of regressors is varied between 4 and 100. This comparison might be interesting in applications where the researcher has a data set containing a lot of different characteristics. \n",
    "\n",
    "I find that the overall performance decreases if more regressors are added, whereas causal forest signficantly decreases $MSE_{\\tau}$ going from 100 to 500 observations. So, even if one has a high dimensional data set, this simulation study shows that if the number of observations is large enough the causal forest will perform quite well. The relatively good performance in high dimensional space can be explained theoretically by it's variable selection feature. By training the trees with only the most \"important\" variables, only a couple of them will be selected by the causal tree overall. \n"
   ]
  },
  {
   "cell_type": "code",
   "execution_count": 13,
   "id": "0cf6b729",
   "metadata": {},
   "outputs": [
    {
     "data": {
      "text/html": [
       "<table>\n",
       "<thead><tr><th scope=col>Application</th><th scope=col>N = 100</th><th scope=col>N = 150</th><th scope=col>N = 250</th><th scope=col>N = 500</th></tr></thead>\n",
       "<tbody>\n",
       "\t<tr><td>Treatment 1</td><td>0.090      </td><td>0.061      </td><td>0.048      </td><td>0.034      </td></tr>\n",
       "\t<tr><td>Treatment 2</td><td>0.081      </td><td>0.071      </td><td>0.058      </td><td>0.039      </td></tr>\n",
       "\t<tr><td>Treatment 3</td><td>0.614      </td><td>0.484      </td><td>0.308      </td><td>0.189      </td></tr>\n",
       "\t<tr><td>Treatment 4</td><td>1.310      </td><td>1.096      </td><td>0.930      </td><td>0.844      </td></tr>\n",
       "\t<tr><td>Treatment 5</td><td>1.051      </td><td>1.142      </td><td>0.960      </td><td>0.615      </td></tr>\n",
       "</tbody>\n",
       "</table>\n"
      ],
      "text/latex": [
       "\\begin{tabular}{r|lllll}\n",
       " Application & N = 100 & N = 150 & N = 250 & N = 500\\\\\n",
       "\\hline\n",
       "\t Treatment 1 & 0.090       & 0.061       & 0.048       & 0.034      \\\\\n",
       "\t Treatment 2 & 0.081       & 0.071       & 0.058       & 0.039      \\\\\n",
       "\t Treatment 3 & 0.614       & 0.484       & 0.308       & 0.189      \\\\\n",
       "\t Treatment 4 & 1.310       & 1.096       & 0.930       & 0.844      \\\\\n",
       "\t Treatment 5 & 1.051       & 1.142       & 0.960       & 0.615      \\\\\n",
       "\\end{tabular}\n"
      ],
      "text/markdown": [
       "\n",
       "| Application | N = 100 | N = 150 | N = 250 | N = 500 |\n",
       "|---|---|---|---|---|\n",
       "| Treatment 1 | 0.090       | 0.061       | 0.048       | 0.034       |\n",
       "| Treatment 2 | 0.081       | 0.071       | 0.058       | 0.039       |\n",
       "| Treatment 3 | 0.614       | 0.484       | 0.308       | 0.189       |\n",
       "| Treatment 4 | 1.310       | 1.096       | 0.930       | 0.844       |\n",
       "| Treatment 5 | 1.051       | 1.142       | 0.960       | 0.615       |\n",
       "\n"
      ],
      "text/plain": [
       "  Application N = 100 N = 150 N = 250 N = 500\n",
       "1 Treatment 1 0.090   0.061   0.048   0.034  \n",
       "2 Treatment 2 0.081   0.071   0.058   0.039  \n",
       "3 Treatment 3 0.614   0.484   0.308   0.189  \n",
       "4 Treatment 4 1.310   1.096   0.930   0.844  \n",
       "5 Treatment 5 1.051   1.142   0.960   0.615  "
      ]
     },
     "metadata": {},
     "output_type": "display_data"
    }
   ],
   "source": [
    "simulation(p=4,numsim=100,regressors=\"nocorr\")"
   ]
  },
  {
   "cell_type": "code",
   "execution_count": 14,
   "id": "7b20ba5f",
   "metadata": {},
   "outputs": [
    {
     "data": {
      "text/html": [
       "<table>\n",
       "<thead><tr><th scope=col>Application</th><th scope=col>N = 100</th><th scope=col>N = 150</th><th scope=col>N = 250</th><th scope=col>N = 500</th></tr></thead>\n",
       "<tbody>\n",
       "\t<tr><td>Treatment 1</td><td>0.446      </td><td>0.289      </td><td>0.216      </td><td>0.153      </td></tr>\n",
       "\t<tr><td>Treatment 2</td><td>0.456      </td><td>0.318      </td><td>0.193      </td><td>0.133      </td></tr>\n",
       "\t<tr><td>Treatment 3</td><td>1.057      </td><td>0.970      </td><td>0.748      </td><td>0.583      </td></tr>\n",
       "\t<tr><td>Treatment 4</td><td>1.786      </td><td>1.583      </td><td>1.372      </td><td>1.084      </td></tr>\n",
       "\t<tr><td>Treatment 5</td><td>1.355      </td><td>1.411      </td><td>1.235      </td><td>1.132      </td></tr>\n",
       "</tbody>\n",
       "</table>\n"
      ],
      "text/latex": [
       "\\begin{tabular}{r|lllll}\n",
       " Application & N = 100 & N = 150 & N = 250 & N = 500\\\\\n",
       "\\hline\n",
       "\t Treatment 1 & 0.446       & 0.289       & 0.216       & 0.153      \\\\\n",
       "\t Treatment 2 & 0.456       & 0.318       & 0.193       & 0.133      \\\\\n",
       "\t Treatment 3 & 1.057       & 0.970       & 0.748       & 0.583      \\\\\n",
       "\t Treatment 4 & 1.786       & 1.583       & 1.372       & 1.084      \\\\\n",
       "\t Treatment 5 & 1.355       & 1.411       & 1.235       & 1.132      \\\\\n",
       "\\end{tabular}\n"
      ],
      "text/markdown": [
       "\n",
       "| Application | N = 100 | N = 150 | N = 250 | N = 500 |\n",
       "|---|---|---|---|---|\n",
       "| Treatment 1 | 0.446       | 0.289       | 0.216       | 0.153       |\n",
       "| Treatment 2 | 0.456       | 0.318       | 0.193       | 0.133       |\n",
       "| Treatment 3 | 1.057       | 0.970       | 0.748       | 0.583       |\n",
       "| Treatment 4 | 1.786       | 1.583       | 1.372       | 1.084       |\n",
       "| Treatment 5 | 1.355       | 1.411       | 1.235       | 1.132       |\n",
       "\n"
      ],
      "text/plain": [
       "  Application N = 100 N = 150 N = 250 N = 500\n",
       "1 Treatment 1 0.446   0.289   0.216   0.153  \n",
       "2 Treatment 2 0.456   0.318   0.193   0.133  \n",
       "3 Treatment 3 1.057   0.970   0.748   0.583  \n",
       "4 Treatment 4 1.786   1.583   1.372   1.084  \n",
       "5 Treatment 5 1.355   1.411   1.235   1.132  "
      ]
     },
     "metadata": {},
     "output_type": "display_data"
    }
   ],
   "source": [
    "simulation(p=20,numsim=100,regressors=\"nocorr\")"
   ]
  },
  {
   "cell_type": "code",
   "execution_count": 15,
   "id": "f1689117",
   "metadata": {},
   "outputs": [
    {
     "data": {
      "text/html": [
       "<table>\n",
       "<thead><tr><th scope=col>Application</th><th scope=col>N = 100</th><th scope=col>N = 150</th><th scope=col>N = 250</th><th scope=col>N = 500</th></tr></thead>\n",
       "<tbody>\n",
       "\t<tr><td>Treatment 1</td><td>1.305      </td><td>0.656      </td><td>0.444      </td><td>0.259      </td></tr>\n",
       "\t<tr><td>Treatment 2</td><td>1.152      </td><td>1.047      </td><td>0.461      </td><td>0.267      </td></tr>\n",
       "\t<tr><td>Treatment 3</td><td>2.095      </td><td>1.633      </td><td>1.127      </td><td>0.944      </td></tr>\n",
       "\t<tr><td>Treatment 4</td><td>2.637      </td><td>2.124      </td><td>1.759      </td><td>1.536      </td></tr>\n",
       "\t<tr><td>Treatment 5</td><td>2.581      </td><td>1.638      </td><td>1.383      </td><td>1.244      </td></tr>\n",
       "</tbody>\n",
       "</table>\n"
      ],
      "text/latex": [
       "\\begin{tabular}{r|lllll}\n",
       " Application & N = 100 & N = 150 & N = 250 & N = 500\\\\\n",
       "\\hline\n",
       "\t Treatment 1 & 1.305       & 0.656       & 0.444       & 0.259      \\\\\n",
       "\t Treatment 2 & 1.152       & 1.047       & 0.461       & 0.267      \\\\\n",
       "\t Treatment 3 & 2.095       & 1.633       & 1.127       & 0.944      \\\\\n",
       "\t Treatment 4 & 2.637       & 2.124       & 1.759       & 1.536      \\\\\n",
       "\t Treatment 5 & 2.581       & 1.638       & 1.383       & 1.244      \\\\\n",
       "\\end{tabular}\n"
      ],
      "text/markdown": [
       "\n",
       "| Application | N = 100 | N = 150 | N = 250 | N = 500 |\n",
       "|---|---|---|---|---|\n",
       "| Treatment 1 | 1.305       | 0.656       | 0.444       | 0.259       |\n",
       "| Treatment 2 | 1.152       | 1.047       | 0.461       | 0.267       |\n",
       "| Treatment 3 | 2.095       | 1.633       | 1.127       | 0.944       |\n",
       "| Treatment 4 | 2.637       | 2.124       | 1.759       | 1.536       |\n",
       "| Treatment 5 | 2.581       | 1.638       | 1.383       | 1.244       |\n",
       "\n"
      ],
      "text/plain": [
       "  Application N = 100 N = 150 N = 250 N = 500\n",
       "1 Treatment 1 1.305   0.656   0.444   0.259  \n",
       "2 Treatment 2 1.152   1.047   0.461   0.267  \n",
       "3 Treatment 3 2.095   1.633   1.127   0.944  \n",
       "4 Treatment 4 2.637   2.124   1.759   1.536  \n",
       "5 Treatment 5 2.581   1.638   1.383   1.244  "
      ]
     },
     "metadata": {},
     "output_type": "display_data"
    }
   ],
   "source": [
    "simulation(p=50,numsim=100,regressors=\"nocorr\")"
   ]
  },
  {
   "cell_type": "code",
   "execution_count": 16,
   "id": "7f3b05d5",
   "metadata": {},
   "outputs": [
    {
     "data": {
      "text/html": [
       "<table>\n",
       "<thead><tr><th scope=col>Application</th><th scope=col>N = 100</th><th scope=col>N = 150</th><th scope=col>N = 250</th><th scope=col>N = 500</th></tr></thead>\n",
       "<tbody>\n",
       "\t<tr><td>Treatment 1</td><td>2.487      </td><td>1.668      </td><td>1.064      </td><td>0.573      </td></tr>\n",
       "\t<tr><td>Treatment 2</td><td>2.327      </td><td>1.665      </td><td>0.903      </td><td>0.436      </td></tr>\n",
       "\t<tr><td>Treatment 3</td><td>3.419      </td><td>2.258      </td><td>1.605      </td><td>1.133      </td></tr>\n",
       "\t<tr><td>Treatment 4</td><td>4.198      </td><td>2.867      </td><td>2.192      </td><td>1.895      </td></tr>\n",
       "\t<tr><td>Treatment 5</td><td>4.019      </td><td>2.636      </td><td>1.874      </td><td>1.481      </td></tr>\n",
       "</tbody>\n",
       "</table>\n"
      ],
      "text/latex": [
       "\\begin{tabular}{r|lllll}\n",
       " Application & N = 100 & N = 150 & N = 250 & N = 500\\\\\n",
       "\\hline\n",
       "\t Treatment 1 & 2.487       & 1.668       & 1.064       & 0.573      \\\\\n",
       "\t Treatment 2 & 2.327       & 1.665       & 0.903       & 0.436      \\\\\n",
       "\t Treatment 3 & 3.419       & 2.258       & 1.605       & 1.133      \\\\\n",
       "\t Treatment 4 & 4.198       & 2.867       & 2.192       & 1.895      \\\\\n",
       "\t Treatment 5 & 4.019       & 2.636       & 1.874       & 1.481      \\\\\n",
       "\\end{tabular}\n"
      ],
      "text/markdown": [
       "\n",
       "| Application | N = 100 | N = 150 | N = 250 | N = 500 |\n",
       "|---|---|---|---|---|\n",
       "| Treatment 1 | 2.487       | 1.668       | 1.064       | 0.573       |\n",
       "| Treatment 2 | 2.327       | 1.665       | 0.903       | 0.436       |\n",
       "| Treatment 3 | 3.419       | 2.258       | 1.605       | 1.133       |\n",
       "| Treatment 4 | 4.198       | 2.867       | 2.192       | 1.895       |\n",
       "| Treatment 5 | 4.019       | 2.636       | 1.874       | 1.481       |\n",
       "\n"
      ],
      "text/plain": [
       "  Application N = 100 N = 150 N = 250 N = 500\n",
       "1 Treatment 1 2.487   1.668   1.064   0.573  \n",
       "2 Treatment 2 2.327   1.665   0.903   0.436  \n",
       "3 Treatment 3 3.419   2.258   1.605   1.133  \n",
       "4 Treatment 4 4.198   2.867   2.192   1.895  \n",
       "5 Treatment 5 4.019   2.636   1.874   1.481  "
      ]
     },
     "metadata": {},
     "output_type": "display_data"
    }
   ],
   "source": [
    "simulation(p=100,numsim=100,regressors=\"nocorr\")"
   ]
  },
  {
   "cell_type": "markdown",
   "id": "44cc94b7",
   "metadata": {},
   "source": [
    "# 3.) Application<a id=\"application\"></a>\n",
    "\n",
    "## Lalonde Data Set<a id=\"lalonde\"></a>\n",
    "\n",
    "The estimation of treatment effects has always been a prominent and important topic especially in the area of labor economics. I hereby refer to the discussions of the Lalonde (1986) and Dehejia & Wahba (1998) papers, which have been described in Cunningham (2021). To be in line with the topic of this final project, I reconsider the Lalonde data set, which can be downloaded [here](https://users.nber.org/~rdehejia/nswdata.html), and apply the causal forest estimation method in order to check for heterogeneity in treatment effects.\n",
    "\n",
    "Both papers deal with the effectiveness of the NSW program which \"was a temporary employment program designed to help disadvantaged workers lacking basic job skills move into the labor market\" where applicants were assigned \"to training positions randomly\" (LaLonde 1986). However, they only distinguish between female and male treatment effects. That's why I wanted to extent this analysis by evaluating the heterogeneity in treatment effects in greater detail."
   ]
  },
  {
   "cell_type": "code",
   "execution_count": 17,
   "id": "78625b82",
   "metadata": {},
   "outputs": [
    {
     "data": {
      "text/html": [
       "<table>\n",
       "<thead><tr><th scope=col>data_id</th><th scope=col>treat</th><th scope=col>age</th><th scope=col>education</th><th scope=col>black</th><th scope=col>hispanic</th><th scope=col>married</th><th scope=col>nodegree</th><th scope=col>re75</th><th scope=col>re78</th></tr></thead>\n",
       "<tbody>\n",
       "\t<tr><td>Lalonde Sample</td><td>1             </td><td>37            </td><td>11            </td><td>1             </td><td>0             </td><td>1             </td><td>1             </td><td>0             </td><td> 9930.0459    </td></tr>\n",
       "\t<tr><td>Lalonde Sample</td><td>1             </td><td>22            </td><td> 9            </td><td>0             </td><td>1             </td><td>0             </td><td>1             </td><td>0             </td><td> 3595.8940    </td></tr>\n",
       "\t<tr><td>Lalonde Sample</td><td>1             </td><td>30            </td><td>12            </td><td>1             </td><td>0             </td><td>0             </td><td>0             </td><td>0             </td><td>24909.4492    </td></tr>\n",
       "\t<tr><td>Lalonde Sample</td><td>1             </td><td>27            </td><td>11            </td><td>1             </td><td>0             </td><td>0             </td><td>1             </td><td>0             </td><td> 7506.1460    </td></tr>\n",
       "\t<tr><td>Lalonde Sample</td><td>1             </td><td>33            </td><td> 8            </td><td>1             </td><td>0             </td><td>0             </td><td>1             </td><td>0             </td><td>  289.7899    </td></tr>\n",
       "\t<tr><td>Lalonde Sample</td><td>1             </td><td>22            </td><td> 9            </td><td>1             </td><td>0             </td><td>0             </td><td>1             </td><td>0             </td><td> 4056.4939    </td></tr>\n",
       "</tbody>\n",
       "</table>\n"
      ],
      "text/latex": [
       "\\begin{tabular}{r|llllllllll}\n",
       " data\\_id & treat & age & education & black & hispanic & married & nodegree & re75 & re78\\\\\n",
       "\\hline\n",
       "\t Lalonde Sample & 1              & 37             & 11             & 1              & 0              & 1              & 1              & 0              &  9930.0459    \\\\\n",
       "\t Lalonde Sample & 1              & 22             &  9             & 0              & 1              & 0              & 1              & 0              &  3595.8940    \\\\\n",
       "\t Lalonde Sample & 1              & 30             & 12             & 1              & 0              & 0              & 0              & 0              & 24909.4492    \\\\\n",
       "\t Lalonde Sample & 1              & 27             & 11             & 1              & 0              & 0              & 1              & 0              &  7506.1460    \\\\\n",
       "\t Lalonde Sample & 1              & 33             &  8             & 1              & 0              & 0              & 1              & 0              &   289.7899    \\\\\n",
       "\t Lalonde Sample & 1              & 22             &  9             & 1              & 0              & 0              & 1              & 0              &  4056.4939    \\\\\n",
       "\\end{tabular}\n"
      ],
      "text/markdown": [
       "\n",
       "| data_id | treat | age | education | black | hispanic | married | nodegree | re75 | re78 |\n",
       "|---|---|---|---|---|---|---|---|---|---|\n",
       "| Lalonde Sample | 1              | 37             | 11             | 1              | 0              | 1              | 1              | 0              |  9930.0459     |\n",
       "| Lalonde Sample | 1              | 22             |  9             | 0              | 1              | 0              | 1              | 0              |  3595.8940     |\n",
       "| Lalonde Sample | 1              | 30             | 12             | 1              | 0              | 0              | 0              | 0              | 24909.4492     |\n",
       "| Lalonde Sample | 1              | 27             | 11             | 1              | 0              | 0              | 1              | 0              |  7506.1460     |\n",
       "| Lalonde Sample | 1              | 33             |  8             | 1              | 0              | 0              | 1              | 0              |   289.7899     |\n",
       "| Lalonde Sample | 1              | 22             |  9             | 1              | 0              | 0              | 1              | 0              |  4056.4939     |\n",
       "\n"
      ],
      "text/plain": [
       "  data_id        treat age education black hispanic married nodegree re75\n",
       "1 Lalonde Sample 1     37  11        1     0        1       1        0   \n",
       "2 Lalonde Sample 1     22   9        0     1        0       1        0   \n",
       "3 Lalonde Sample 1     30  12        1     0        0       0        0   \n",
       "4 Lalonde Sample 1     27  11        1     0        0       1        0   \n",
       "5 Lalonde Sample 1     33   8        1     0        0       1        0   \n",
       "6 Lalonde Sample 1     22   9        1     0        0       1        0   \n",
       "  re78      \n",
       "1  9930.0459\n",
       "2  3595.8940\n",
       "3 24909.4492\n",
       "4  7506.1460\n",
       "5   289.7899\n",
       "6  4056.4939"
      ]
     },
     "metadata": {},
     "output_type": "display_data"
    }
   ],
   "source": [
    "data_nsw <- read.dta(\"material/nsw.dta\")\n",
    "head(data_nsw)"
   ]
  },
  {
   "cell_type": "markdown",
   "id": "e14dc737",
   "metadata": {},
   "source": [
    "## Causal Forest Estimations<a id=\"causalforest\"></a>"
   ]
  },
  {
   "cell_type": "code",
   "execution_count": 18,
   "id": "5972d431",
   "metadata": {},
   "outputs": [],
   "source": [
    "set.seed(123)"
   ]
  },
  {
   "cell_type": "code",
   "execution_count": 19,
   "id": "887b318b",
   "metadata": {},
   "outputs": [],
   "source": [
    "Y <- data_nsw$re78\n",
    "W <- data_nsw$treat\n",
    "X <- data_nsw[,-c(1,2,10)]\n",
    "\n",
    "#### Untrainted CF\n",
    "cf_nsw_pilot <- causal_forest(X, Y, W , num.trees = 10000)\n",
    "var_imp <- variable_importance(cf_nsw_pilot) \n",
    "select_index <- which(var_imp >= mean(var_imp))\n",
    "\n",
    "#### Trained CF\n",
    "cf_nsw <- causal_forest(X[, select_index], Y, W,num.trees = 10000)\n",
    "tau_hat <- predict(cf_nsw)$predictions\n",
    "data_nsw[\"t_hat\"] = tau_hat"
   ]
  },
  {
   "cell_type": "markdown",
   "id": "8cdd28a8",
   "metadata": {},
   "source": [
    "### Average Treatment Effect\n",
    "\n",
    "The Average Treatment Effect estimated by the causal forest, now using $B =10000$ causal trees per forest, is 819.4 \\\\$. Therefore, participants of the jobmarket training program earn on average 819.4 \\\\$ more than people in the control group.\n",
    "This estimate is close to the results in Lalonde (1986) where the treatment effects are around 890 \\\\$ (Table 6), depending on the control group."
   ]
  },
  {
   "cell_type": "code",
   "execution_count": 20,
   "id": "4dc250b7",
   "metadata": {},
   "outputs": [
    {
     "data": {
      "text/html": [
       "<dl class=dl-horizontal>\n",
       "\t<dt>estimate</dt>\n",
       "\t\t<dd>819.355868022342</dd>\n",
       "\t<dt>std.err</dt>\n",
       "\t\t<dd>490.374654904794</dd>\n",
       "</dl>\n"
      ],
      "text/latex": [
       "\\begin{description*}\n",
       "\\item[estimate] 819.355868022342\n",
       "\\item[std.err] 490.374654904794\n",
       "\\end{description*}\n"
      ],
      "text/markdown": [
       "estimate\n",
       ":   819.355868022342std.err\n",
       ":   490.374654904794\n",
       "\n"
      ],
      "text/plain": [
       "estimate  std.err \n",
       "819.3559 490.3747 "
      ]
     },
     "metadata": {},
     "output_type": "display_data"
    }
   ],
   "source": [
    "#### Average Treatment Effect\n",
    "\n",
    "average_treatment_effect(cf_nsw)"
   ]
  },
  {
   "cell_type": "markdown",
   "id": "df909743",
   "metadata": {},
   "source": [
    "### Check for Heterogeneity (1)\n",
    "\n",
    "The analysis of treatment effect heterogeneity in observational data follows the Athey & Wager (2019) paper.\n",
    "A first check for heterogeneity involves the frequencies of the estimated Conditional Average Treatment Effects. The Histogram below shows that there's a very wide span of CATEs, ranging from -1000 \\\\$ to +3000 \\\\$, indicating that treatment effects might differ across individuals or some covariates. But this first glance can be flawed and Athey et al. (2020) warn, that \"if the histogram is spread out, it may be that the forests are simply overfitting and producing very noisy estimates\"."
   ]
  },
  {
   "cell_type": "code",
   "execution_count": 21,
   "id": "ceeea064",
   "metadata": {},
   "outputs": [
    {
     "data": {
      "image/png": "[encoded data removed]",
      "text/plain": [
       "Plot with title \"Histogram of Conditional Treatment Effects\""
      ]
     },
     "metadata": {},
     "output_type": "display_data"
    }
   ],
   "source": [
    "hist(data_nsw$t_hat, main = \"Histogram of Conditional Treatment Effects\", xlab = \"CATE\")"
   ]
  },
  {
   "cell_type": "markdown",
   "id": "1e0a2e46",
   "metadata": {},
   "source": [
    "### Check for Heterogeneity (2)\n",
    "\n",
    "A second analysis is to check for heterogeneity across some covariates. Since the trees produce splits such that treatment variation is maximized for the two next produced leafs as explained in the first section, one can check which variables have been used quite often to make splits by the trees. In order to obtain these variables the \"variable importance\" function of the [grf](https://grf-labs.github.io/grf/reference/index.html) package can be used.\n",
    "Here, the variables \"age\", \"education\" and \"re75\" have been used the most by the trees. Therefore, it seems plausible to check for differences in CATE between different levels within these covariates.\n",
    "\n",
    "Indeed, the boxplots below show some heterogeneity \"when we change a single covariate, while keeping all the other covariates at some fixed value\" (Athey et al. 2020). Especially people around 30 years old and people with a higher degree of education seem to have particular large treatment effects. Furthermore, the treatment effect seems to be negatively correlated with the pretreatment earnings, that is people being on the lower side of income before treatment benefit more from the jobmarket training. This finding implicates that the program addresses the people who should in the end benefit the most from it. On the other hand, it also implicates that people earning more before treatment should be addressed by some other kind of jobmarket program, which might also have a positive effect on the higher income group."
   ]
  },
  {
   "cell_type": "code",
   "execution_count": 22,
   "id": "2efcf221",
   "metadata": {},
   "outputs": [
    {
     "data": {
      "text/html": [
       "<ol class=list-inline>\n",
       "\t<li>1</li>\n",
       "\t<li>2</li>\n",
       "\t<li>7</li>\n",
       "</ol>\n"
      ],
      "text/latex": [
       "\\begin{enumerate*}\n",
       "\\item 1\n",
       "\\item 2\n",
       "\\item 7\n",
       "\\end{enumerate*}\n"
      ],
      "text/markdown": [
       "1. 1\n",
       "2. 2\n",
       "3. 7\n",
       "\n",
       "\n"
      ],
      "text/plain": [
       "[1] 1 2 7"
      ]
     },
     "metadata": {},
     "output_type": "display_data"
    },
    {
     "data": {
      "text/html": [
       "<ol class=list-inline>\n",
       "\t<li>'age'</li>\n",
       "\t<li>'education'</li>\n",
       "\t<li>'re75'</li>\n",
       "</ol>\n"
      ],
      "text/latex": [
       "\\begin{enumerate*}\n",
       "\\item 'age'\n",
       "\\item 'education'\n",
       "\\item 're75'\n",
       "\\end{enumerate*}\n"
      ],
      "text/markdown": [
       "1. 'age'\n",
       "2. 'education'\n",
       "3. 're75'\n",
       "\n",
       "\n"
      ],
      "text/plain": [
       "[1] \"age\"       \"education\" \"re75\"     "
      ]
     },
     "metadata": {},
     "output_type": "display_data"
    }
   ],
   "source": [
    "#### Variable Importance\n",
    "select_index\n",
    "colnames(X[,select_index])"
   ]
  },
  {
   "cell_type": "code",
   "execution_count": 23,
   "id": "c0e0ebf6",
   "metadata": {},
   "outputs": [
    {
     "data": {
      "image/png": "[encoded data removed]",
      "text/plain": [
       "plot without title"
      ]
     },
     "metadata": {},
     "output_type": "display_data"
    }
   ],
   "source": [
    "boxplot(data_nsw$t_hat ~ X[,1], ylab = \"Estimated CATE\", xlab = \"Age\")\n",
    "lines(smooth.spline(-17 +X[,1], data_nsw$t_hat, df = 5), lwd = 2, col = 4)"
   ]
  },
  {
   "cell_type": "code",
   "execution_count": 24,
   "id": "62d8e68e",
   "metadata": {},
   "outputs": [
    {
     "data": {
      "image/png": "[encoded data removed]",
      "text/plain": [
       "plot without title"
      ]
     },
     "metadata": {},
     "output_type": "display_data"
    }
   ],
   "source": [
    "boxplot(data_nsw$t_hat ~ X[,2], ylab = \"Estimated CATE\", xlab = \"Education\")\n",
    "lines(smooth.spline(-2 +X[,2], data_nsw$t_hat, df = 5), lwd = 2, col = 4)"
   ]
  },
  {
   "cell_type": "code",
   "execution_count": 25,
   "id": "6bafaf80",
   "metadata": {
    "scrolled": false
   },
   "outputs": [
    {
     "data": {
      "image/png": "[encoded data removed]",
      "text/plain": [
       "plot without title"
      ]
     },
     "metadata": {},
     "output_type": "display_data"
    }
   ],
   "source": [
    "data_nsw$re75fac <- factor(ntile(data_nsw$re75, n=10))\n",
    "boxplot(data_nsw$t_hat ~ data_nsw$re75fac, ylab = \"Estimated CATE\", xlab = \"Pre-Treatment Earnings \")\n",
    "lines(smooth.spline(data_nsw$re75fac, data_nsw$t_hat, df = 5), lwd = 2, col = 4)"
   ]
  },
  {
   "cell_type": "markdown",
   "id": "a9703631",
   "metadata": {},
   "source": [
    "## 4.) Conclusion<a id=\"conclusion\"></a>\n",
    "\n",
    "In this project I compared the performance of causal forests in identifying heterogeneous treatment effects. Causal forests can be thought of as a matching estimatation  method, choosing the closest neighbors in order to construct a counterfactual, i.e. matching observations that have fallen in the same leaf. Of all the considered cases causal forests perform exceptionally well when some of the regressors are correlated or some higher degree polynomials and interactions have been added to the data generating process respectively. They also performed decently when selection bias is present, which might be interesting for observational studies where treatment randomization can't always be assured. In terms of dimensionality, performance decreases in the number of regressors, but keeps up fairly well in large samples. As an application the Lalonde (1986) data set was reconsidered in identifying treatment effects within different subgroups. Workers around 30 years old having a higher degree of eduction seem to profit the most from the NSW jobmarket program. Furthermore, workers on the lower side of income before treatment experienced higher treatment effects from the jobmarket training. Because of the good performance in identifying heterogeneity, causal forests seem to be a good tool in evaluating the effectiveness of programs for different subgroups. After all causal forests allow for a more precise evaluation, i.e. if some desired target group has been addressed, rather than only estimating the Average Treatment Effect of the whole sample.    "
   ]
  },
  {
   "cell_type": "markdown",
   "id": "e662a159",
   "metadata": {},
   "source": [
    "## References <a id=\"references\"></a>\n",
    "\n",
    "* **Athey & Imbens (2015).** [Recursive partitioning for heterogeneous causal effects](https://www.pnas.org/content/113/27/7353). Colloquium Paper.\n",
    "\n",
    "\n",
    "* **Athey & Wager (2015).** [Estimation and Inference of Heterogeneous Treatment Effects using Random Forests](https://arxiv.org/abs/1510.04342). \n",
    "\n",
    "\n",
    "* **Athey & Wager (2019).** [Estimating Treatment Effects with Causal Forests: An Application](https://www.gsb.stanford.edu/faculty-research/working-papers/estimating-treatment-effects-causal-forests-application). Working Paper No. 3786. \n",
    "\n",
    "\n",
    "* **Athey, Wager, Hadad, Klosin, Muhelbach, Nie & Schaelling (2020).** [Tutorial: Estimation of Heterogeneous Treatment Effects](https://gsbdbi.github.io/ml_tutorial/hte_tutorial/hte_tutorial.html). Tutorial for “Machine Learning and Causal Inference” class.\n",
    "\n",
    "\n",
    "* **Cunningham (2021).** [Causal Inference: The Mixtape](https://mixtape.scunning.com). Yale University Press.\n",
    "\n",
    "\n",
    "* **Dehejia & Wahba (1998).** [Propensity Score Matching Methods for Non-experimental Causal Studies](https://www.nber.org/papers/w6829). NBER Working Paper 6829.\n",
    "\n",
    "\n",
    "* **Farbmacher, Kögel & Spindler (2019).** [Heterogeneous Effects of Poverty on Cognition](https://www.mpisoc.mpg.de/en/social-policy-mea/publications/detail/publication/heterogeneous-effects-of-poverty-on-cognition/). MEA Discussion Paper (06-2019).\n",
    "\n",
    "\n",
    "* **Hastie, James, Witten & Tibshirani (2013).** An Introduction to Statistical Learning: with Applications in R. Springer Texts in Statistics.\n",
    "\n",
    "\n",
    "\n",
    "* **Hitsch & Misra (2018).** [Heterogeneous Treatment Effects and Optimal Targeting Policy Evaluation](https://papers.ssrn.com/sol3/papers.cfm?abstract_id=3111957). Randomized Social Experiments eJournal (2018).\n",
    "\n",
    "\n",
    "* **Lalonde (1986).** [Evaluating the Econometric Evaluations of Training Programs with Experimental Data](https://www.jstor.org/stable/1806062). American Economic Review 76 (4): 604–20.\n",
    "\n",
    "\n",
    "* **Powers, Qian, Jung, Schuler, Shah, Hastie & Tibshirani (2017).** [Some methods for heterogeneous treatment effect estimation in high-dimensions](https://web.stanford.edu/~hastie/Papers/PM_Powers_SIM.pdf).Stat Med. 2018 May 20;37(11):1767-1787. \n",
    "\n",
    "\n",
    "* **Reference: Generalized Random Forest.** [grf package description](https://grf-labs.github.io/grf/reference/index.html). Github."
   ]
  }
 ],
 "metadata": {
  "kernelspec": {
   "display_name": "R",
   "language": "R",
   "name": "ir"
  },
  "language_info": {
   "codemirror_mode": "r",
   "file_extension": ".r",
   "mimetype": "text/x-r-source",
   "name": "R",
   "pygments_lexer": "r",
   "version": "3.6.1"
  }
 },
 "nbformat": 4,
 "nbformat_minor": 5
}
