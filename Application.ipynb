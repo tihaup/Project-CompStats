{
 "cells": [
  {
   "cell_type": "code",
   "execution_count": 2,
   "id": "27a02197",
   "metadata": {},
   "outputs": [],
   "source": [
    "library(foreign)\n",
    "library(grf)\n",
    "library(dplyr)"
   ]
  },
  {
   "cell_type": "markdown",
   "id": "e50973cd",
   "metadata": {},
   "source": [
    "**Description Data & Jobmarket Program**\n",
    "\n",
    "The estimation of Treatment Effects **has been a long lasting topic ever after(?)** especially in the area of labor economics. I hereby refer to the discussions of the Lalonde (1986) and Dehejia & Wahba (1998) papers, which have been described in Cunningham (2021). To be in line with the topic of this final project, I reconsider the LaLonde Data Set, which can be downloaded [here](https://users.nber.org/~rdehejia/nswdata.html), and apply the Causal Forest Estimation method in order to check for heterogeneity in treatment effects.\n",
    "\n",
    "Both papers deal with the effectiveness of the NSW program which \"was a temporary employment program designed to help disadvantaged workers lacking basic job skills move into the labor market\" where applicants were assigned \"to training positions randomly\" (LaLonde 1986). However, they only distinguish between female and male treatment effects. That's why I will evaluate the heterogeneity in treatment effects in greater detail.     \n",
    "\n",
    "**Description of findings by LaLonde and Deijihba**\n",
    "\n",
    "**Problem (Selection Bias) with previously used methods**\n",
    "\n",
    "**Advantage of this Matching method compared to Propensity Score Matching**\n"
   ]
  },
  {
   "cell_type": "code",
   "execution_count": 168,
   "id": "951dc4cd",
   "metadata": {},
   "outputs": [
    {
     "data": {
      "text/html": [
       "<table>\n",
       "<thead><tr><th scope=col>data_id</th><th scope=col>treat</th><th scope=col>age</th><th scope=col>education</th><th scope=col>black</th><th scope=col>hispanic</th><th scope=col>married</th><th scope=col>nodegree</th><th scope=col>re75</th><th scope=col>re78</th></tr></thead>\n",
       "<tbody>\n",
       "\t<tr><td>Lalonde Sample</td><td>1             </td><td>37            </td><td>11            </td><td>1             </td><td>0             </td><td>1             </td><td>1             </td><td>0             </td><td> 9930.0459    </td></tr>\n",
       "\t<tr><td>Lalonde Sample</td><td>1             </td><td>22            </td><td> 9            </td><td>0             </td><td>1             </td><td>0             </td><td>1             </td><td>0             </td><td> 3595.8940    </td></tr>\n",
       "\t<tr><td>Lalonde Sample</td><td>1             </td><td>30            </td><td>12            </td><td>1             </td><td>0             </td><td>0             </td><td>0             </td><td>0             </td><td>24909.4492    </td></tr>\n",
       "\t<tr><td>Lalonde Sample</td><td>1             </td><td>27            </td><td>11            </td><td>1             </td><td>0             </td><td>0             </td><td>1             </td><td>0             </td><td> 7506.1460    </td></tr>\n",
       "\t<tr><td>Lalonde Sample</td><td>1             </td><td>33            </td><td> 8            </td><td>1             </td><td>0             </td><td>0             </td><td>1             </td><td>0             </td><td>  289.7899    </td></tr>\n",
       "\t<tr><td>Lalonde Sample</td><td>1             </td><td>22            </td><td> 9            </td><td>1             </td><td>0             </td><td>0             </td><td>1             </td><td>0             </td><td> 4056.4939    </td></tr>\n",
       "</tbody>\n",
       "</table>\n"
      ],
      "text/latex": [
       "\\begin{tabular}{r|llllllllll}\n",
       " data\\_id & treat & age & education & black & hispanic & married & nodegree & re75 & re78\\\\\n",
       "\\hline\n",
       "\t Lalonde Sample & 1              & 37             & 11             & 1              & 0              & 1              & 1              & 0              &  9930.0459    \\\\\n",
       "\t Lalonde Sample & 1              & 22             &  9             & 0              & 1              & 0              & 1              & 0              &  3595.8940    \\\\\n",
       "\t Lalonde Sample & 1              & 30             & 12             & 1              & 0              & 0              & 0              & 0              & 24909.4492    \\\\\n",
       "\t Lalonde Sample & 1              & 27             & 11             & 1              & 0              & 0              & 1              & 0              &  7506.1460    \\\\\n",
       "\t Lalonde Sample & 1              & 33             &  8             & 1              & 0              & 0              & 1              & 0              &   289.7899    \\\\\n",
       "\t Lalonde Sample & 1              & 22             &  9             & 1              & 0              & 0              & 1              & 0              &  4056.4939    \\\\\n",
       "\\end{tabular}\n"
      ],
      "text/markdown": [
       "\n",
       "| data_id | treat | age | education | black | hispanic | married | nodegree | re75 | re78 |\n",
       "|---|---|---|---|---|---|---|---|---|---|\n",
       "| Lalonde Sample | 1              | 37             | 11             | 1              | 0              | 1              | 1              | 0              |  9930.0459     |\n",
       "| Lalonde Sample | 1              | 22             |  9             | 0              | 1              | 0              | 1              | 0              |  3595.8940     |\n",
       "| Lalonde Sample | 1              | 30             | 12             | 1              | 0              | 0              | 0              | 0              | 24909.4492     |\n",
       "| Lalonde Sample | 1              | 27             | 11             | 1              | 0              | 0              | 1              | 0              |  7506.1460     |\n",
       "| Lalonde Sample | 1              | 33             |  8             | 1              | 0              | 0              | 1              | 0              |   289.7899     |\n",
       "| Lalonde Sample | 1              | 22             |  9             | 1              | 0              | 0              | 1              | 0              |  4056.4939     |\n",
       "\n"
      ],
      "text/plain": [
       "  data_id        treat age education black hispanic married nodegree re75\n",
       "1 Lalonde Sample 1     37  11        1     0        1       1        0   \n",
       "2 Lalonde Sample 1     22   9        0     1        0       1        0   \n",
       "3 Lalonde Sample 1     30  12        1     0        0       0        0   \n",
       "4 Lalonde Sample 1     27  11        1     0        0       1        0   \n",
       "5 Lalonde Sample 1     33   8        1     0        0       1        0   \n",
       "6 Lalonde Sample 1     22   9        1     0        0       1        0   \n",
       "  re78      \n",
       "1  9930.0459\n",
       "2  3595.8940\n",
       "3 24909.4492\n",
       "4  7506.1460\n",
       "5   289.7899\n",
       "6  4056.4939"
      ]
     },
     "metadata": {},
     "output_type": "display_data"
    }
   ],
   "source": [
    "data <- read.dta(\"nsw.dta\")\n",
    "head(data)"
   ]
  },
  {
   "cell_type": "markdown",
   "id": "cc9168da",
   "metadata": {},
   "source": [
    "## Causal Forest Estimations"
   ]
  },
  {
   "cell_type": "code",
   "execution_count": 169,
   "id": "ebfb03ff",
   "metadata": {},
   "outputs": [],
   "source": [
    "Y <- data$re78\n",
    "W <- data$treat\n",
    "X <- data[,-c(1,2,10)]"
   ]
  },
  {
   "cell_type": "code",
   "execution_count": 174,
   "id": "f7f41819",
   "metadata": {},
   "outputs": [],
   "source": [
    "set.seed(123)"
   ]
  },
  {
   "cell_type": "code",
   "execution_count": 175,
   "id": "6be8a709",
   "metadata": {},
   "outputs": [],
   "source": [
    "### Untrainted CF\n",
    "cf_pilot <- causal_forest(X, Y, W , num.trees = 10000)\n",
    "var_imp <- variable_importance(cf_pilot) \n",
    "select_index <- which(var_imp >= median(var_imp))\n",
    "#cat(\"The most important Variables are\", select_index, \"\\n\")\n",
    "\n",
    "### Trained CF\n",
    "cf <- causal_forest(X[, select_index], Y, W,num.trees = 10000)\n",
    "tau_hat <- predict(cf)$predictions\n",
    "data[\"t_hat\"] = tau_hat"
   ]
  },
  {
   "cell_type": "markdown",
   "id": "caf08cbd",
   "metadata": {},
   "source": [
    "The Average Treatment Effect estimated by the Causal Forest using 10000 causal trees per forest is 812.7 \\\\$. Therefore, participants of the jobmarket training program earn on average 812.7 \\\\$ than people in the control group.\n",
    "\n",
    "**Comparison to Lalonde** around 880\\\\$"
   ]
  },
  {
   "cell_type": "code",
   "execution_count": 176,
   "id": "26af1788",
   "metadata": {},
   "outputs": [
    {
     "data": {
      "text/html": [
       "<dl class=dl-horizontal>\n",
       "\t<dt>estimate</dt>\n",
       "\t\t<dd>812.738040678836</dd>\n",
       "\t<dt>std.err</dt>\n",
       "\t\t<dd>495.617248834206</dd>\n",
       "</dl>\n"
      ],
      "text/latex": [
       "\\begin{description*}\n",
       "\\item[estimate] 812.738040678836\n",
       "\\item[std.err] 495.617248834206\n",
       "\\end{description*}\n"
      ],
      "text/markdown": [
       "estimate\n",
       ":   812.738040678836std.err\n",
       ":   495.617248834206\n",
       "\n"
      ],
      "text/plain": [
       "estimate  std.err \n",
       "812.7380 495.6172 "
      ]
     },
     "metadata": {},
     "output_type": "display_data"
    }
   ],
   "source": [
    "#### Average Treatment Effect\n",
    "\n",
    "average_treatment_effect(cf)"
   ]
  },
  {
   "cell_type": "markdown",
   "id": "ca0b6de6",
   "metadata": {},
   "source": [
    "### Check for Heterogeneity (1)"
   ]
  },
  {
   "cell_type": "markdown",
   "id": "dfc85b17",
   "metadata": {},
   "source": [
    "The analysis of treatment effect heterogeneity in observational data follows the Athey & Wager (2019) paper.\n",
    "A first check for heterogeneity involves the frequencies of the estimated Conditional Average Treatment Effects. The Histogram below shows that there's a very wide span of CATEs, ranging from -1000 \\\\$ to 3000 \\\\$, indicating that Treatment Effects might differ across individuals or some covariates. But this first glance can be flawed and Athey et al. (2020) warn, that \"if the histogram is spread out, it may be that the forests are simply overfitting and producing very noisy estimates\"."
   ]
  },
  {
   "cell_type": "code",
   "execution_count": 146,
   "id": "862fae5f",
   "metadata": {},
   "outputs": [
    {
     "data": {
      "image/png": "[encoded data removed]",
      "text/plain": [
       "Plot with title \"Histogram of Conditional Treatment Effects\""
      ]
     },
     "metadata": {},
     "output_type": "display_data"
    }
   ],
   "source": [
    "hist(data$t_hat\n",
    "     ,main = \"Histogram of Conditional Treatment Effects\"\n",
    "     ,xlab = \"CATE\")"
   ]
  },
  {
   "cell_type": "markdown",
   "id": "3a7522e6",
   "metadata": {},
   "source": [
    "### Check for Heterogeneity (2)\n",
    "\n",
    "A second analysis is to check for heterogeneity across some covariates. In order to obtain variables that have been used quite often to make splits by the causal tree, one can check the variable importance function of the grf package. Here, the variables \"age\", \"education\", \"married\" and \"re75\" have been used the most by the trees. Therefore, it seems plausible to check for differences in CATE on different levels within these covariates. \n",
    "\n",
    "Indeed, the boxplots below show some heterogeneity \"when we change a single covariate, while keeping all the other covariates at a some fixed value\" (Athey et al. 2020). Especially people above 30 years old and people with a higher degree of education seem to have particular large treatment effects. Furthermore, the treatment effect seems to be negatively correlated with the pretreatment earnings. **This finding seems to have the implication that the jobmarket program seems to effect \"the right group of people\", those having earned relatively less than other participants. Evaluated at this measure, the program seems to be effective for the right people. (Das ist ja im Grunde interessant: Haben Leute, die es am meisten brauchen, von der Maßnahme profitiert?)** On the other hand, there's only a slight difference between married and unmarried participants. "
   ]
  },
  {
   "cell_type": "code",
   "execution_count": 148,
   "id": "4f3b62eb",
   "metadata": {},
   "outputs": [
    {
     "data": {
      "text/html": [
       "<ol class=list-inline>\n",
       "\t<li>'age'</li>\n",
       "\t<li>'education'</li>\n",
       "\t<li>'re74'</li>\n",
       "\t<li>'re75'</li>\n",
       "\t<li>'t_hat'</li>\n",
       "</ol>\n"
      ],
      "text/latex": [
       "\\begin{enumerate*}\n",
       "\\item 'age'\n",
       "\\item 'education'\n",
       "\\item 're74'\n",
       "\\item 're75'\n",
       "\\item 't\\_hat'\n",
       "\\end{enumerate*}\n"
      ],
      "text/markdown": [
       "1. 'age'\n",
       "2. 'education'\n",
       "3. 're74'\n",
       "4. 're75'\n",
       "5. 't_hat'\n",
       "\n",
       "\n"
      ],
      "text/plain": [
       "[1] \"age\"       \"education\" \"re74\"      \"re75\"      \"t_hat\"    "
      ]
     },
     "metadata": {},
     "output_type": "display_data"
    },
    {
     "data": {
      "text/html": [
       "<ol class=list-inline>\n",
       "\t<li>1</li>\n",
       "\t<li>2</li>\n",
       "\t<li>7</li>\n",
       "\t<li>8</li>\n",
       "\t<li>9</li>\n",
       "</ol>\n"
      ],
      "text/latex": [
       "\\begin{enumerate*}\n",
       "\\item 1\n",
       "\\item 2\n",
       "\\item 7\n",
       "\\item 8\n",
       "\\item 9\n",
       "\\end{enumerate*}\n"
      ],
      "text/markdown": [
       "1. 1\n",
       "2. 2\n",
       "3. 7\n",
       "4. 8\n",
       "5. 9\n",
       "\n",
       "\n"
      ],
      "text/plain": [
       "[1] 1 2 7 8 9"
      ]
     },
     "metadata": {},
     "output_type": "display_data"
    }
   ],
   "source": [
    "#### Variable Importance\n",
    "\n",
    "colnames(X[,select_index])\n",
    "select_index"
   ]
  },
  {
   "cell_type": "code",
   "execution_count": 149,
   "id": "7f2dd215",
   "metadata": {
    "scrolled": false
   },
   "outputs": [
    {
     "data": {
      "image/png": "[encoded data removed]",
      "text/plain": [
       "plot without title"
      ]
     },
     "metadata": {},
     "output_type": "display_data"
    }
   ],
   "source": [
    "boxplot(data$t_hat ~ X[,1], ylab = \"Estimated CATE\", xlab = \"Age\")\n",
    "lines(smooth.spline(-17 +X[,1], data$t_hat, df = 5), lwd = 2, col = 4)"
   ]
  },
  {
   "cell_type": "code",
   "execution_count": 150,
   "id": "0601e069",
   "metadata": {},
   "outputs": [
    {
     "data": {
      "image/png": "[encoded data removed]",
      "text/plain": [
       "plot without title"
      ]
     },
     "metadata": {},
     "output_type": "display_data"
    }
   ],
   "source": [
    "boxplot(data$t_hat ~ X[,2], ylab = \"Estimated CATE\", xlab = \"Education\")\n",
    "lines(smooth.spline(-2 +X[,2], data$t_hat, df = 5), lwd = 2, col = 4)"
   ]
  },
  {
   "cell_type": "code",
   "execution_count": 156,
   "id": "999ea582",
   "metadata": {
    "scrolled": false
   },
   "outputs": [
    {
     "data": {
      "image/png": "[encoded data removed]",
      "text/plain": [
       "plot without title"
      ]
     },
     "metadata": {},
     "output_type": "display_data"
    }
   ],
   "source": [
    "boxplot(data$t_hat ~ X[,5], ylab = \"Estimated CATE\", xlab = \"Married\")"
   ]
  },
  {
   "cell_type": "code",
   "execution_count": 154,
   "id": "3dc474e3",
   "metadata": {},
   "outputs": [],
   "source": [
    "data$re75fac <- factor(ntile(data$re75, n=10))"
   ]
  },
  {
   "cell_type": "code",
   "execution_count": 155,
   "id": "90e6e2d1",
   "metadata": {},
   "outputs": [
    {
     "data": {
      "image/png": "[encoded data removed]",
      "text/plain": [
       "plot without title"
      ]
     },
     "metadata": {},
     "output_type": "display_data"
    }
   ],
   "source": [
    "boxplot(data$t_hat ~ data$re75fac, ylab = \"Estimated CATE\", xlab = \"Pre-Treatment Earnings \")\n",
    "lines(smooth.spline(data$re75fac, data$t_hat, df = 5), lwd = 2, col = 4)"
   ]
  },
  {
   "cell_type": "code",
   "execution_count": null,
   "id": "f7b431fd",
   "metadata": {},
   "outputs": [],
   "source": []
  }
 ],
 "metadata": {
  "kernelspec": {
   "display_name": "R",
   "language": "R",
   "name": "ir"
  },
  "language_info": {
   "codemirror_mode": "r",
   "file_extension": ".r",
   "mimetype": "text/x-r-source",
   "name": "R",
   "pygments_lexer": "r",
   "version": "3.6.1"
  }
 },
 "nbformat": 4,
 "nbformat_minor": 5
}
