{
 "cells": [
  {
   "cell_type": "code",
   "execution_count": 73,
   "id": "27a02197",
   "metadata": {},
   "outputs": [],
   "source": [
    "library(foreign)\n",
    "library(grf)\n",
    "library(dplyr)"
   ]
  },
  {
   "cell_type": "code",
   "execution_count": 10,
   "id": "951dc4cd",
   "metadata": {},
   "outputs": [
    {
     "data": {
      "text/html": [
       "<ol class=list-inline>\n",
       "\t<li>722</li>\n",
       "\t<li>10</li>\n",
       "</ol>\n"
      ],
      "text/latex": [
       "\\begin{enumerate*}\n",
       "\\item 722\n",
       "\\item 10\n",
       "\\end{enumerate*}\n"
      ],
      "text/markdown": [
       "1. 722\n",
       "2. 10\n",
       "\n",
       "\n"
      ],
      "text/plain": [
       "[1] 722  10"
      ]
     },
     "metadata": {},
     "output_type": "display_data"
    }
   ],
   "source": [
    "data <- read.dta(\"nsw.dta\")\n",
    "dim(data)"
   ]
  },
  {
   "cell_type": "code",
   "execution_count": 13,
   "id": "6b9205bb",
   "metadata": {},
   "outputs": [
    {
     "data": {
      "text/html": [
       "<table>\n",
       "<thead><tr><th scope=col>data_id</th><th scope=col>treat</th><th scope=col>age</th><th scope=col>education</th><th scope=col>black</th><th scope=col>hispanic</th><th scope=col>married</th><th scope=col>nodegree</th><th scope=col>re75</th><th scope=col>re78</th></tr></thead>\n",
       "<tbody>\n",
       "\t<tr><td>Lalonde Sample</td><td>1             </td><td>37            </td><td>11            </td><td>1             </td><td>0             </td><td>1             </td><td>1             </td><td>0             </td><td> 9930.0459    </td></tr>\n",
       "\t<tr><td>Lalonde Sample</td><td>1             </td><td>22            </td><td> 9            </td><td>0             </td><td>1             </td><td>0             </td><td>1             </td><td>0             </td><td> 3595.8940    </td></tr>\n",
       "\t<tr><td>Lalonde Sample</td><td>1             </td><td>30            </td><td>12            </td><td>1             </td><td>0             </td><td>0             </td><td>0             </td><td>0             </td><td>24909.4492    </td></tr>\n",
       "\t<tr><td>Lalonde Sample</td><td>1             </td><td>27            </td><td>11            </td><td>1             </td><td>0             </td><td>0             </td><td>1             </td><td>0             </td><td> 7506.1460    </td></tr>\n",
       "\t<tr><td>Lalonde Sample</td><td>1             </td><td>33            </td><td> 8            </td><td>1             </td><td>0             </td><td>0             </td><td>1             </td><td>0             </td><td>  289.7899    </td></tr>\n",
       "\t<tr><td>Lalonde Sample</td><td>1             </td><td>22            </td><td> 9            </td><td>1             </td><td>0             </td><td>0             </td><td>1             </td><td>0             </td><td> 4056.4939    </td></tr>\n",
       "</tbody>\n",
       "</table>\n"
      ],
      "text/latex": [
       "\\begin{tabular}{r|llllllllll}\n",
       " data\\_id & treat & age & education & black & hispanic & married & nodegree & re75 & re78\\\\\n",
       "\\hline\n",
       "\t Lalonde Sample & 1              & 37             & 11             & 1              & 0              & 1              & 1              & 0              &  9930.0459    \\\\\n",
       "\t Lalonde Sample & 1              & 22             &  9             & 0              & 1              & 0              & 1              & 0              &  3595.8940    \\\\\n",
       "\t Lalonde Sample & 1              & 30             & 12             & 1              & 0              & 0              & 0              & 0              & 24909.4492    \\\\\n",
       "\t Lalonde Sample & 1              & 27             & 11             & 1              & 0              & 0              & 1              & 0              &  7506.1460    \\\\\n",
       "\t Lalonde Sample & 1              & 33             &  8             & 1              & 0              & 0              & 1              & 0              &   289.7899    \\\\\n",
       "\t Lalonde Sample & 1              & 22             &  9             & 1              & 0              & 0              & 1              & 0              &  4056.4939    \\\\\n",
       "\\end{tabular}\n"
      ],
      "text/markdown": [
       "\n",
       "| data_id | treat | age | education | black | hispanic | married | nodegree | re75 | re78 |\n",
       "|---|---|---|---|---|---|---|---|---|---|\n",
       "| Lalonde Sample | 1              | 37             | 11             | 1              | 0              | 1              | 1              | 0              |  9930.0459     |\n",
       "| Lalonde Sample | 1              | 22             |  9             | 0              | 1              | 0              | 1              | 0              |  3595.8940     |\n",
       "| Lalonde Sample | 1              | 30             | 12             | 1              | 0              | 0              | 0              | 0              | 24909.4492     |\n",
       "| Lalonde Sample | 1              | 27             | 11             | 1              | 0              | 0              | 1              | 0              |  7506.1460     |\n",
       "| Lalonde Sample | 1              | 33             |  8             | 1              | 0              | 0              | 1              | 0              |   289.7899     |\n",
       "| Lalonde Sample | 1              | 22             |  9             | 1              | 0              | 0              | 1              | 0              |  4056.4939     |\n",
       "\n"
      ],
      "text/plain": [
       "  data_id        treat age education black hispanic married nodegree re75\n",
       "1 Lalonde Sample 1     37  11        1     0        1       1        0   \n",
       "2 Lalonde Sample 1     22   9        0     1        0       1        0   \n",
       "3 Lalonde Sample 1     30  12        1     0        0       0        0   \n",
       "4 Lalonde Sample 1     27  11        1     0        0       1        0   \n",
       "5 Lalonde Sample 1     33   8        1     0        0       1        0   \n",
       "6 Lalonde Sample 1     22   9        1     0        0       1        0   \n",
       "  re78      \n",
       "1  9930.0459\n",
       "2  3595.8940\n",
       "3 24909.4492\n",
       "4  7506.1460\n",
       "5   289.7899\n",
       "6  4056.4939"
      ]
     },
     "metadata": {},
     "output_type": "display_data"
    }
   ],
   "source": [
    "head(data)"
   ]
  },
  {
   "cell_type": "code",
   "execution_count": 14,
   "id": "b65e96b8",
   "metadata": {},
   "outputs": [
    {
     "data": {
      "text/plain": [
       "   data_id              treat             age          education    \n",
       " Length:722         Min.   :0.0000   Min.   :17.00   Min.   : 3.00  \n",
       " Class :character   1st Qu.:0.0000   1st Qu.:19.00   1st Qu.: 9.00  \n",
       " Mode  :character   Median :0.0000   Median :23.00   Median :10.00  \n",
       "                    Mean   :0.4114   Mean   :24.52   Mean   :10.27  \n",
       "                    3rd Qu.:1.0000   3rd Qu.:27.00   3rd Qu.:11.00  \n",
       "                    Max.   :1.0000   Max.   :55.00   Max.   :16.00  \n",
       "     black           hispanic         married         nodegree     \n",
       " Min.   :0.0000   Min.   :0.0000   Min.   :0.000   Min.   :0.0000  \n",
       " 1st Qu.:1.0000   1st Qu.:0.0000   1st Qu.:0.000   1st Qu.:1.0000  \n",
       " Median :1.0000   Median :0.0000   Median :0.000   Median :1.0000  \n",
       " Mean   :0.8006   Mean   :0.1053   Mean   :0.162   Mean   :0.7798  \n",
       " 3rd Qu.:1.0000   3rd Qu.:0.0000   3rd Qu.:0.000   3rd Qu.:1.0000  \n",
       " Max.   :1.0000   Max.   :1.0000   Max.   :1.000   Max.   :1.0000  \n",
       "      re75              re78      \n",
       " Min.   :    0.0   Min.   :    0  \n",
       " 1st Qu.:    0.0   1st Qu.:    0  \n",
       " Median :  936.3   Median : 3952  \n",
       " Mean   : 3042.9   Mean   : 5455  \n",
       " 3rd Qu.: 3993.2   3rd Qu.: 8772  \n",
       " Max.   :37431.7   Max.   :60308  "
      ]
     },
     "metadata": {},
     "output_type": "display_data"
    }
   ],
   "source": [
    "summary(data)"
   ]
  },
  {
   "cell_type": "code",
   "execution_count": null,
   "id": "ff999564",
   "metadata": {},
   "outputs": [],
   "source": []
  },
  {
   "cell_type": "markdown",
   "id": "cc9168da",
   "metadata": {},
   "source": [
    "## Causal Forest Estimations"
   ]
  },
  {
   "cell_type": "code",
   "execution_count": 22,
   "id": "ebfb03ff",
   "metadata": {},
   "outputs": [
    {
     "data": {
      "text/html": [
       "<table>\n",
       "<thead><tr><th scope=col>data_id</th><th scope=col>treat</th><th scope=col>age</th><th scope=col>education</th><th scope=col>black</th><th scope=col>hispanic</th><th scope=col>married</th><th scope=col>nodegree</th><th scope=col>re75</th><th scope=col>re78</th></tr></thead>\n",
       "<tbody>\n",
       "\t<tr><td>Lalonde Sample</td><td>1             </td><td>37            </td><td>11            </td><td>1             </td><td>0             </td><td>1             </td><td>1             </td><td>0             </td><td> 9930.0459    </td></tr>\n",
       "\t<tr><td>Lalonde Sample</td><td>1             </td><td>22            </td><td> 9            </td><td>0             </td><td>1             </td><td>0             </td><td>1             </td><td>0             </td><td> 3595.8940    </td></tr>\n",
       "\t<tr><td>Lalonde Sample</td><td>1             </td><td>30            </td><td>12            </td><td>1             </td><td>0             </td><td>0             </td><td>0             </td><td>0             </td><td>24909.4492    </td></tr>\n",
       "\t<tr><td>Lalonde Sample</td><td>1             </td><td>27            </td><td>11            </td><td>1             </td><td>0             </td><td>0             </td><td>1             </td><td>0             </td><td> 7506.1460    </td></tr>\n",
       "\t<tr><td>Lalonde Sample</td><td>1             </td><td>33            </td><td> 8            </td><td>1             </td><td>0             </td><td>0             </td><td>1             </td><td>0             </td><td>  289.7899    </td></tr>\n",
       "\t<tr><td>Lalonde Sample</td><td>1             </td><td>22            </td><td> 9            </td><td>1             </td><td>0             </td><td>0             </td><td>1             </td><td>0             </td><td> 4056.4939    </td></tr>\n",
       "</tbody>\n",
       "</table>\n"
      ],
      "text/latex": [
       "\\begin{tabular}{r|llllllllll}\n",
       " data\\_id & treat & age & education & black & hispanic & married & nodegree & re75 & re78\\\\\n",
       "\\hline\n",
       "\t Lalonde Sample & 1              & 37             & 11             & 1              & 0              & 1              & 1              & 0              &  9930.0459    \\\\\n",
       "\t Lalonde Sample & 1              & 22             &  9             & 0              & 1              & 0              & 1              & 0              &  3595.8940    \\\\\n",
       "\t Lalonde Sample & 1              & 30             & 12             & 1              & 0              & 0              & 0              & 0              & 24909.4492    \\\\\n",
       "\t Lalonde Sample & 1              & 27             & 11             & 1              & 0              & 0              & 1              & 0              &  7506.1460    \\\\\n",
       "\t Lalonde Sample & 1              & 33             &  8             & 1              & 0              & 0              & 1              & 0              &   289.7899    \\\\\n",
       "\t Lalonde Sample & 1              & 22             &  9             & 1              & 0              & 0              & 1              & 0              &  4056.4939    \\\\\n",
       "\\end{tabular}\n"
      ],
      "text/markdown": [
       "\n",
       "| data_id | treat | age | education | black | hispanic | married | nodegree | re75 | re78 |\n",
       "|---|---|---|---|---|---|---|---|---|---|\n",
       "| Lalonde Sample | 1              | 37             | 11             | 1              | 0              | 1              | 1              | 0              |  9930.0459     |\n",
       "| Lalonde Sample | 1              | 22             |  9             | 0              | 1              | 0              | 1              | 0              |  3595.8940     |\n",
       "| Lalonde Sample | 1              | 30             | 12             | 1              | 0              | 0              | 0              | 0              | 24909.4492     |\n",
       "| Lalonde Sample | 1              | 27             | 11             | 1              | 0              | 0              | 1              | 0              |  7506.1460     |\n",
       "| Lalonde Sample | 1              | 33             |  8             | 1              | 0              | 0              | 1              | 0              |   289.7899     |\n",
       "| Lalonde Sample | 1              | 22             |  9             | 1              | 0              | 0              | 1              | 0              |  4056.4939     |\n",
       "\n"
      ],
      "text/plain": [
       "  data_id        treat age education black hispanic married nodegree re75\n",
       "1 Lalonde Sample 1     37  11        1     0        1       1        0   \n",
       "2 Lalonde Sample 1     22   9        0     1        0       1        0   \n",
       "3 Lalonde Sample 1     30  12        1     0        0       0        0   \n",
       "4 Lalonde Sample 1     27  11        1     0        0       1        0   \n",
       "5 Lalonde Sample 1     33   8        1     0        0       1        0   \n",
       "6 Lalonde Sample 1     22   9        1     0        0       1        0   \n",
       "  re78      \n",
       "1  9930.0459\n",
       "2  3595.8940\n",
       "3 24909.4492\n",
       "4  7506.1460\n",
       "5   289.7899\n",
       "6  4056.4939"
      ]
     },
     "metadata": {},
     "output_type": "display_data"
    }
   ],
   "source": [
    "Y1 <- data$re78\n",
    "Y2 <- data$re75\n",
    "W <- data$treat\n",
    "X <- data[,-c(1,2,9,10)]\n",
    "head(data)"
   ]
  },
  {
   "cell_type": "code",
   "execution_count": 29,
   "id": "6be8a709",
   "metadata": {},
   "outputs": [
    {
     "name": "stdout",
     "output_type": "stream",
     "text": [
      "The most important Variables are 1 2 5 \n"
     ]
    }
   ],
   "source": [
    "### Untrainted CF\n",
    "cf_pilot <- causal_forest(X, Y1, W)   #, num.trees = 5000)\n",
    "var_imp <- variable_importance(cf_pilot) \n",
    "select_index <- which(var_imp >= median(var_imp))\n",
    "cat(\"The most important Variables are\", select_index, \"\\n\")\n",
    "\n",
    "### Trained CF\n",
    "cf <- causal_forest(X[, select_index], Y1, W)\n",
    "tau_hat <- predict(cf)$predictions\n",
    "data[\"t_hat\"] = tau_hat"
   ]
  },
  {
   "cell_type": "code",
   "execution_count": 45,
   "id": "26af1788",
   "metadata": {},
   "outputs": [
    {
     "data": {
      "text/html": [
       "<dl class=dl-horizontal>\n",
       "\t<dt>estimate</dt>\n",
       "\t\t<dd>874.014776854181</dd>\n",
       "\t<dt>std.err</dt>\n",
       "\t\t<dd>506.693721675653</dd>\n",
       "</dl>\n"
      ],
      "text/latex": [
       "\\begin{description*}\n",
       "\\item[estimate] 874.014776854181\n",
       "\\item[std.err] 506.693721675653\n",
       "\\end{description*}\n"
      ],
      "text/markdown": [
       "estimate\n",
       ":   874.014776854181std.err\n",
       ":   506.693721675653\n",
       "\n"
      ],
      "text/plain": [
       "estimate  std.err \n",
       "874.0148 506.6937 "
      ]
     },
     "metadata": {},
     "output_type": "display_data"
    }
   ],
   "source": [
    "#### Average Treatment Effect\n",
    "\n",
    "average_treatment_effect(cf)"
   ]
  },
  {
   "cell_type": "markdown",
   "id": "ca0b6de6",
   "metadata": {},
   "source": [
    "### Check for Heterogeneity (1)"
   ]
  },
  {
   "cell_type": "code",
   "execution_count": 38,
   "id": "862fae5f",
   "metadata": {},
   "outputs": [
    {
     "data": {
      "image/png": "[encoded data removed]",
      "text/plain": [
       "Plot with title \"Histogram of data$t_hat\""
      ]
     },
     "metadata": {},
     "output_type": "display_data"
    }
   ],
   "source": [
    "hist(data$t_hat)"
   ]
  },
  {
   "cell_type": "markdown",
   "id": "26d28b10",
   "metadata": {},
   "source": [
    "### Check for Heterogeneity (2)"
   ]
  },
  {
   "cell_type": "code",
   "execution_count": 85,
   "id": "39ad6bbb",
   "metadata": {},
   "outputs": [
    {
     "data": {
      "text/html": [
       "<table>\n",
       "<thead><tr><th scope=col>data_id</th><th scope=col>treat</th><th scope=col>age</th><th scope=col>education</th><th scope=col>black</th><th scope=col>hispanic</th><th scope=col>married</th><th scope=col>nodegree</th><th scope=col>re75</th><th scope=col>re78</th><th scope=col>t_hat</th><th scope=col>ntile</th></tr></thead>\n",
       "<tbody>\n",
       "\t<tr><td>Lalonde Sample</td><td>1             </td><td>37            </td><td>11            </td><td>1             </td><td>0             </td><td>1             </td><td>1             </td><td>0             </td><td> 9930.0459    </td><td>2303.9019     </td><td>4             </td></tr>\n",
       "\t<tr><td>Lalonde Sample</td><td>1             </td><td>22            </td><td> 9            </td><td>0             </td><td>1             </td><td>0             </td><td>1             </td><td>0             </td><td> 3595.8940    </td><td> 430.2579     </td><td>2             </td></tr>\n",
       "\t<tr><td>Lalonde Sample</td><td>1             </td><td>30            </td><td>12            </td><td>1             </td><td>0             </td><td>0             </td><td>0             </td><td>0             </td><td>24909.4492    </td><td>1994.2739     </td><td>4             </td></tr>\n",
       "\t<tr><td>Lalonde Sample</td><td>1             </td><td>27            </td><td>11            </td><td>1             </td><td>0             </td><td>0             </td><td>1             </td><td>0             </td><td> 7506.1460    </td><td>2250.5081     </td><td>4             </td></tr>\n",
       "\t<tr><td>Lalonde Sample</td><td>1             </td><td>33            </td><td> 8            </td><td>1             </td><td>0             </td><td>0             </td><td>1             </td><td>0             </td><td>  289.7899    </td><td> 573.7159     </td><td>2             </td></tr>\n",
       "\t<tr><td>Lalonde Sample</td><td>1             </td><td>22            </td><td> 9            </td><td>1             </td><td>0             </td><td>0             </td><td>1             </td><td>0             </td><td> 4056.4939    </td><td> 530.0867     </td><td>2             </td></tr>\n",
       "</tbody>\n",
       "</table>\n"
      ],
      "text/latex": [
       "\\begin{tabular}{r|llllllllllll}\n",
       " data\\_id & treat & age & education & black & hispanic & married & nodegree & re75 & re78 & t\\_hat & ntile\\\\\n",
       "\\hline\n",
       "\t Lalonde Sample & 1              & 37             & 11             & 1              & 0              & 1              & 1              & 0              &  9930.0459     & 2303.9019      & 4             \\\\\n",
       "\t Lalonde Sample & 1              & 22             &  9             & 0              & 1              & 0              & 1              & 0              &  3595.8940     &  430.2579      & 2             \\\\\n",
       "\t Lalonde Sample & 1              & 30             & 12             & 1              & 0              & 0              & 0              & 0              & 24909.4492     & 1994.2739      & 4             \\\\\n",
       "\t Lalonde Sample & 1              & 27             & 11             & 1              & 0              & 0              & 1              & 0              &  7506.1460     & 2250.5081      & 4             \\\\\n",
       "\t Lalonde Sample & 1              & 33             &  8             & 1              & 0              & 0              & 1              & 0              &   289.7899     &  573.7159      & 2             \\\\\n",
       "\t Lalonde Sample & 1              & 22             &  9             & 1              & 0              & 0              & 1              & 0              &  4056.4939     &  530.0867      & 2             \\\\\n",
       "\\end{tabular}\n"
      ],
      "text/markdown": [
       "\n",
       "| data_id | treat | age | education | black | hispanic | married | nodegree | re75 | re78 | t_hat | ntile |\n",
       "|---|---|---|---|---|---|---|---|---|---|---|---|\n",
       "| Lalonde Sample | 1              | 37             | 11             | 1              | 0              | 1              | 1              | 0              |  9930.0459     | 2303.9019      | 4              |\n",
       "| Lalonde Sample | 1              | 22             |  9             | 0              | 1              | 0              | 1              | 0              |  3595.8940     |  430.2579      | 2              |\n",
       "| Lalonde Sample | 1              | 30             | 12             | 1              | 0              | 0              | 0              | 0              | 24909.4492     | 1994.2739      | 4              |\n",
       "| Lalonde Sample | 1              | 27             | 11             | 1              | 0              | 0              | 1              | 0              |  7506.1460     | 2250.5081      | 4              |\n",
       "| Lalonde Sample | 1              | 33             |  8             | 1              | 0              | 0              | 1              | 0              |   289.7899     |  573.7159      | 2              |\n",
       "| Lalonde Sample | 1              | 22             |  9             | 1              | 0              | 0              | 1              | 0              |  4056.4939     |  530.0867      | 2              |\n",
       "\n"
      ],
      "text/plain": [
       "  data_id        treat age education black hispanic married nodegree re75\n",
       "1 Lalonde Sample 1     37  11        1     0        1       1        0   \n",
       "2 Lalonde Sample 1     22   9        0     1        0       1        0   \n",
       "3 Lalonde Sample 1     30  12        1     0        0       0        0   \n",
       "4 Lalonde Sample 1     27  11        1     0        0       1        0   \n",
       "5 Lalonde Sample 1     33   8        1     0        0       1        0   \n",
       "6 Lalonde Sample 1     22   9        1     0        0       1        0   \n",
       "  re78       t_hat     ntile\n",
       "1  9930.0459 2303.9019 4    \n",
       "2  3595.8940  430.2579 2    \n",
       "3 24909.4492 1994.2739 4    \n",
       "4  7506.1460 2250.5081 4    \n",
       "5   289.7899  573.7159 2    \n",
       "6  4056.4939  530.0867 2    "
      ]
     },
     "metadata": {},
     "output_type": "display_data"
    }
   ],
   "source": [
    "data$ntile <- factor(ntile(data$t_hat, n=4))\n",
    "head(data)"
   ]
  },
  {
   "cell_type": "code",
   "execution_count": 87,
   "id": "ddba3650",
   "metadata": {},
   "outputs": [
    {
     "data": {
      "image/png": "[encoded data removed]",
      "text/plain": [
       "plot without title"
      ]
     },
     "metadata": {},
     "output_type": "display_data"
    }
   ],
   "source": [
    "boxplot(data$t_hat ~ data$ntile)"
   ]
  },
  {
   "cell_type": "markdown",
   "id": "3a7522e6",
   "metadata": {},
   "source": [
    "### Check for Heterogeneity (3)"
   ]
  },
  {
   "cell_type": "code",
   "execution_count": 47,
   "id": "4f3b62eb",
   "metadata": {},
   "outputs": [
    {
     "data": {
      "text/html": [
       "<ol class=list-inline>\n",
       "\t<li>'age'</li>\n",
       "\t<li>'education'</li>\n",
       "\t<li>'married'</li>\n",
       "</ol>\n"
      ],
      "text/latex": [
       "\\begin{enumerate*}\n",
       "\\item 'age'\n",
       "\\item 'education'\n",
       "\\item 'married'\n",
       "\\end{enumerate*}\n"
      ],
      "text/markdown": [
       "1. 'age'\n",
       "2. 'education'\n",
       "3. 'married'\n",
       "\n",
       "\n"
      ],
      "text/plain": [
       "[1] \"age\"       \"education\" \"married\"  "
      ]
     },
     "metadata": {},
     "output_type": "display_data"
    }
   ],
   "source": [
    "#### Variable Importance\n",
    "\n",
    "colnames(X[,select_index])"
   ]
  },
  {
   "cell_type": "code",
   "execution_count": 43,
   "id": "7f2dd215",
   "metadata": {
    "scrolled": false
   },
   "outputs": [
    {
     "data": {
      "image/png": "[encoded data removed]",
      "text/plain": [
       "plot without title"
      ]
     },
     "metadata": {},
     "output_type": "display_data"
    }
   ],
   "source": [
    "boxplot(data$t_hat ~ X[,1])\n",
    "            \n",
    "#            ,names = c(\"X1 < 0\",\"X1 > 0\",\"X2 < 0\",\"X2 > 0\")\n",
    " #           , ylab = \"Estimated CATE\"\n",
    "  #          , main = \"Causal Forest - Monte Carlo Results\")"
   ]
  },
  {
   "cell_type": "code",
   "execution_count": 39,
   "id": "0601e069",
   "metadata": {},
   "outputs": [
    {
     "data": {
      "image/png": "[encoded data removed]",
      "text/plain": [
       "plot without title"
      ]
     },
     "metadata": {},
     "output_type": "display_data"
    }
   ],
   "source": [
    "boxplot(data$t_hat ~ X[,2])"
   ]
  },
  {
   "cell_type": "code",
   "execution_count": 40,
   "id": "999ea582",
   "metadata": {},
   "outputs": [
    {
     "data": {
      "image/png": "[encoded data removed]",
      "text/plain": [
       "plot without title"
      ]
     },
     "metadata": {},
     "output_type": "display_data"
    }
   ],
   "source": [
    "boxplot(data$t_hat ~ X[,5])"
   ]
  }
 ],
 "metadata": {
  "kernelspec": {
   "display_name": "R",
   "language": "R",
   "name": "ir"
  },
  "language_info": {
   "codemirror_mode": "r",
   "file_extension": ".r",
   "mimetype": "text/x-r-source",
   "name": "R",
   "pygments_lexer": "r",
   "version": "3.6.1"
  }
 },
 "nbformat": 4,
 "nbformat_minor": 5
}
